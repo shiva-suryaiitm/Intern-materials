{
 "cells": [
  {
   "cell_type": "code",
   "execution_count": 4,
   "id": "dd6abe4b",
   "metadata": {},
   "outputs": [],
   "source": [
    "import numpy as np\n",
    "import time\n",
    "from tqdm import tqdm\n",
    "\n",
    "import torch.nn as nn\n",
    "import torch\n",
    "import os\n",
    "\n",
    "import torchvision\n",
    "from torchvision.utils import save_image\n",
    "import torchvision.transforms as transforms\n",
    "from torchvision.models import vgg19,VGG19_Weights"
   ]
  },
  {
   "cell_type": "code",
   "execution_count": 5,
   "id": "9a904d30",
   "metadata": {},
   "outputs": [],
   "source": [
    "import cv2 as cv\n",
    "import matplotlib.pyplot as plt\n",
    "\n",
    "from PIL import Image\n",
    "device = torch.device('cuda' if torch.cuda.is_available() else 'cpu' )\n",
    "\n",
    "from torch.utils.data import Dataset, TensorDataset, dataloader, RandomSampler, DataLoader"
   ]
  },
  {
   "cell_type": "code",
   "execution_count": 6,
   "id": "ec719899",
   "metadata": {},
   "outputs": [
    {
     "name": "stdout",
     "output_type": "stream",
     "text": [
      "Fri Jun 30 18:55:33 2023       \n",
      "+---------------------------------------------------------------------------------------+\n",
      "| NVIDIA-SMI 535.98                 Driver Version: 535.98       CUDA Version: 12.2     |\n",
      "|-----------------------------------------+----------------------+----------------------+\n",
      "| GPU  Name                     TCC/WDDM  | Bus-Id        Disp.A | Volatile Uncorr. ECC |\n",
      "| Fan  Temp   Perf          Pwr:Usage/Cap |         Memory-Usage | GPU-Util  Compute M. |\n",
      "|                                         |                      |               MIG M. |\n",
      "|=========================================+======================+======================|\n",
      "|   0  NVIDIA GeForce RTX 3050 ...  WDDM  | 00000000:01:00.0  On |                  N/A |\n",
      "| N/A   50C    P8               9W /  30W |    472MiB /  4096MiB |     23%      Default |\n",
      "|                                         |                      |                  N/A |\n",
      "+-----------------------------------------+----------------------+----------------------+\n",
      "                                                                                         \n",
      "+---------------------------------------------------------------------------------------+\n",
      "| Processes:                                                                            |\n",
      "|  GPU   GI   CI        PID   Type   Process name                            GPU Memory |\n",
      "|        ID   ID                                                             Usage      |\n",
      "|=======================================================================================|\n",
      "|    0   N/A  N/A     10056    C+G   C:\\Windows\\explorer.exe                   N/A      |\n",
      "|    0   N/A  N/A     13064    C+G   ...x64__8wekyb3d8bbwe\\ScreenSketch.exe    N/A      |\n",
      "|    0   N/A  N/A     14384    C+G   ...GeForce Experience\\NVIDIA Share.exe    N/A      |\n",
      "|    0   N/A  N/A     15960    C+G   ...CBS_cw5n1h2txyewy\\TextInputHost.exe    N/A      |\n",
      "|    0   N/A  N/A     22768    C+G   ...YourPhoneServer\\YourPhoneServer.exe    N/A      |\n",
      "|    0   N/A  N/A     23320    C+G   ...5n1h2txyewy\\ShellExperienceHost.exe    N/A      |\n",
      "|    0   N/A  N/A     27012    C+G   ...Brave-Browser\\Application\\brave.exe    N/A      |\n",
      "|    0   N/A  N/A     28056    C+G   ...siveControlPanel\\SystemSettings.exe    N/A      |\n",
      "+---------------------------------------------------------------------------------------+\n"
     ]
    }
   ],
   "source": [
    "!nvidia-smi"
   ]
  },
  {
   "cell_type": "code",
   "execution_count": 8,
   "id": "7a5d9ee5",
   "metadata": {},
   "outputs": [],
   "source": [
    "# getting the images :\n",
    "\n",
    "def load_image(path='some path',style_no = None, size = (224,224)):\n",
    "    \n",
    "    # basic transforms required to pass the image to vgg19 model\n",
    "    image_transforms = transforms.Compose([\n",
    "        transforms.Resize(size),\n",
    "        transforms.ToTensor(),\n",
    "        # transforms.Normalize(mean=[0, 0, 0],std=[255, 255, 255]),\n",
    "        transforms.Normalize(mean=[0.485, 0.456, 0.406],std=[0.229, 0.224, 0.225]),\n",
    "    ])\n",
    "\n",
    "    if style_no != None :\n",
    "        style_path = f\"style images/style{style_no}.jpg\"\n",
    "        image = Image.open(style_path).convert('RGB') \n",
    "        style_image = image_transforms(image).to(device)\n",
    "        return style_image\n",
    "\n",
    "    else :\n",
    "        content_path = path\n",
    "        image = Image.open(content_path).convert('RGB') \n",
    "        # print(np.array(image.convert('RGB')).max())\n",
    "        content_image = image_transforms(image).to(device)\n",
    "        return content_image\n"
   ]
  },
  {
   "attachments": {},
   "cell_type": "markdown",
   "id": "65ad99d2",
   "metadata": {},
   "source": [
    "### Segmentation model"
   ]
  },
  {
   "cell_type": "code",
   "execution_count": 1,
   "id": "f553708a",
   "metadata": {},
   "outputs": [
    {
     "name": "stderr",
     "output_type": "stream",
     "text": [
      "C:\\Users\\pcdpm\\AppData\\Roaming\\Python\\Python310\\site-packages\\transformers\\models\\segformer\\feature_extraction_segformer.py:28: FutureWarning: The class SegformerFeatureExtractor is deprecated and will be removed in version 5 of Transformers. Please use SegformerImageProcessor instead.\n",
      "  warnings.warn(\n",
      "C:\\Users\\pcdpm\\AppData\\Roaming\\Python\\Python310\\site-packages\\transformers\\models\\segformer\\image_processing_segformer.py:102: FutureWarning: The `reduce_labels` parameter is deprecated and will be removed in a future version. Please use `do_reduce_labels` instead.\n",
      "  warnings.warn(\n"
     ]
    },
    {
     "data": {
      "application/vnd.jupyter.widget-view+json": {
       "model_id": "adb6ad85f34845eb8315c4960864f0a8",
       "version_major": 2,
       "version_minor": 0
      },
      "text/plain": [
       "Downloading:   0%|          | 0.00/110M [00:00<?, ?B/s]"
      ]
     },
     "metadata": {},
     "output_type": "display_data"
    },
    {
     "name": "stderr",
     "output_type": "stream",
     "text": [
      "c:\\Python310\\lib\\site-packages\\huggingface_hub\\file_download.py:123: UserWarning: `huggingface_hub` cache-system uses symlinks by default to efficiently store duplicated files but your machine does not support them in C:\\Users\\pcdpm\\.cache\\huggingface\\hub. Caching files will still work but in a degraded version that might require more space on your disk. This warning can be disabled by setting the `HF_HUB_DISABLE_SYMLINKS_WARNING` environment variable. For more details, see https://huggingface.co/docs/huggingface_hub/how-to-cache#limitations.\n",
      "To support symlinks on Windows, you either need to activate Developer Mode or to run Python as an administrator. In order to see activate developer mode, see this article: https://docs.microsoft.com/en-us/windows/apps/get-started/enable-your-device-for-development\n",
      "  warnings.warn(message)\n"
     ]
    }
   ],
   "source": [
    "from transformers import AutoFeatureExtractor, SegformerForSemanticSegmentation\n",
    "\n",
    "extractor = AutoFeatureExtractor.from_pretrained(\"mattmdjaga/segformer_b2_clothes\")\n",
    "model = SegformerForSemanticSegmentation.from_pretrained(\"mattmdjaga/segformer_b2_clothes\")\n"
   ]
  },
  {
   "cell_type": "code",
   "execution_count": 10,
   "id": "654b7c1a",
   "metadata": {},
   "outputs": [],
   "source": [
    "image = Image.open(f'Celeb-images\\wednesday-thinking.jfif').convert('RGB') "
   ]
  },
  {
   "cell_type": "code",
   "execution_count": 11,
   "id": "28541c6e",
   "metadata": {},
   "outputs": [
    {
     "data": {
      "text/plain": [
       "<matplotlib.image.AxesImage at 0x1fe15596ce0>"
      ]
     },
     "execution_count": 11,
     "metadata": {},
     "output_type": "execute_result"
    },
    {
     "data": {
      "image/png": "[encoded data removed]",
      "text/plain": [
       "<Figure size 432x288 with 1 Axes>"
      ]
     },
     "metadata": {
      "needs_background": "light"
     },
     "output_type": "display_data"
    }
   ],
   "source": [
    "image = Image.open(f'Celeb-images\\wednesday-thinking.jfif').convert('RGB') \n",
    "inputs = extractor(images=image, return_tensors=\"pt\")\n",
    "\n",
    "outputs = model(**inputs)\n",
    "logits = outputs.logits.cpu()\n",
    "\n",
    "upsampled_logits = nn.functional.interpolate(\n",
    "    logits,\n",
    "    size=image.size[::-1],\n",
    "    mode=\"bilinear\",\n",
    "    align_corners=False,\n",
    ")\n",
    "\n",
    "pred_seg = upsampled_logits.argmax(dim=1)[0]\n",
    "plt.imshow(pred_seg)"
   ]
  },
  {
   "cell_type": "code",
   "execution_count": 12,
   "id": "6ff78c4f",
   "metadata": {},
   "outputs": [],
   "source": [
    "seg_config = SegformerForSemanticSegmentation.from_pretrained(\"mattmdjaga/segformer_b2_clothes\").config"
   ]
  },
  {
   "cell_type": "code",
   "execution_count": 13,
   "id": "49c2cb3e",
   "metadata": {},
   "outputs": [
    {
     "data": {
      "text/plain": [
       "{'Background': 0,\n",
       " 'Bag': 16,\n",
       " 'Belt': 8,\n",
       " 'Dress': 7,\n",
       " 'Face': 11,\n",
       " 'Hair': 2,\n",
       " 'Hat': 1,\n",
       " 'Left-arm': 14,\n",
       " 'Left-leg': 12,\n",
       " 'Left-shoe': 9,\n",
       " 'Pants': 6,\n",
       " 'Right-arm': 15,\n",
       " 'Right-leg': 13,\n",
       " 'Right-shoe': 10,\n",
       " 'Scarf': 17,\n",
       " 'Skirt': 5,\n",
       " 'Sunglasses': 3,\n",
       " 'Upper-clothes': 4}"
      ]
     },
     "execution_count": 13,
     "metadata": {},
     "output_type": "execute_result"
    }
   ],
   "source": [
    "seg_config.label2id"
   ]
  },
  {
   "cell_type": "code",
   "execution_count": 14,
   "id": "dc94b839",
   "metadata": {},
   "outputs": [
    {
     "data": {
      "text/plain": [
       "torch.Size([1, 18, 128, 128])"
      ]
     },
     "execution_count": 14,
     "metadata": {},
     "output_type": "execute_result"
    }
   ],
   "source": [
    "logits.shape"
   ]
  },
  {
   "cell_type": "code",
   "execution_count": 16,
   "id": "3dfa6da9",
   "metadata": {},
   "outputs": [
    {
     "data": {
      "text/plain": [
       "torch.Size([1, 18, 225, 225])"
      ]
     },
     "execution_count": 16,
     "metadata": {},
     "output_type": "execute_result"
    }
   ],
   "source": [
    "upsampled_logits.shape"
   ]
  },
  {
   "cell_type": "code",
   "execution_count": 17,
   "id": "4adac6e8",
   "metadata": {},
   "outputs": [],
   "source": [
    "def image_imposition(original, styled_image, part = ['Hair'], size = (512,512), device = device, show = False, reverse_trans = True):\n",
    "\n",
    "    # getting the index from the label to index\n",
    "    indexes = [seg_config.label2id[f\"{p}\"] for p in part]\n",
    "\n",
    "    # extracted inputs\n",
    "    extracted_inputs = extractor(images=original, return_tensors=\"pt\").to(device)\n",
    "\n",
    "    # getting the outputs\n",
    "    outputs = model.to(device)(**extracted_inputs)\n",
    "\n",
    "    # getting the logits\n",
    "    logits = outputs.logits\n",
    "\n",
    "    # up-sampling the logits\n",
    "    upsampled_logits = nn.functional.interpolate(\n",
    "        logits,\n",
    "        size=size,\n",
    "        mode=\"bilinear\",\n",
    "        align_corners=False,\n",
    "    )\n",
    "\n",
    "    # getting the required mask\n",
    "    # mask = torch.where( torch.sigmoid(upsampled_logits[:,index,:,:].to(device)) > 0.3, 1.0, 0.0)\n",
    "    mask = torch.clip(torch.sum(torch.concat([upsampled_logits[:,index,:,:].to(device) for index in indexes]), dim = 0),0,1)\n",
    "    print(mask.shape)\n",
    "\n",
    "    # style transforms to get back to normal image from vgg19 transformed image\n",
    "    reverse_transforms = transforms.Compose([\n",
    "        transforms.Normalize(mean=[0,0,0],std=[1/0.229, 1/0.224, 1/0.225]),\n",
    "        transforms.Normalize(mean=[-0.485, -0.456, -0.406],std=[1,1,1])\n",
    "    ])\n",
    "    if reverse_trans : styled_image = reverse_transforms(styled_image)\n",
    "\n",
    "    # now applying the hadamard product\n",
    "    # so converting the original image to tensor\n",
    "    original_image = transforms.Resize(size)(original)\n",
    "    original_image = transforms.ToTensor()(original_image).to(device)\n",
    "\n",
    "    print(original_image.shape, styled_image[0].shape, mask.shape)\n",
    "    \n",
    "    # getting the final image\n",
    "    final_image = styled_image[0].to(device) * (mask)  +  original_image * (1-mask)\n",
    "\n",
    "    # showing the image\n",
    "    if show:\n",
    "        print(final_image.shape)\n",
    "        img = transforms.ToPILImage()(final_image).convert('RGB')\n",
    "        plt.imshow(img)\n",
    "        plt.plot()\n",
    "    \n",
    "    return final_image"
   ]
  },
  {
   "attachments": {},
   "cell_type": "markdown",
   "id": "321669c6",
   "metadata": {},
   "source": [
    "### Style Transfer"
   ]
  },
  {
   "cell_type": "code",
   "execution_count": 18,
   "id": "2a01054e",
   "metadata": {},
   "outputs": [],
   "source": [
    "content_image = load_image(path=\"Celeb-images\\wednesday-thinking.jfif\") \n",
    "# style_image = load_image('style images\\style24.jfif')\n",
    "style_image = load_image(path = 'style images\\style33.jpg')\n",
    "# generated_img = torch.rand(content_image.shape , device = device , requires_grad=True )\n",
    "generated_img = content_image.clone().requires_grad_(True)"
   ]
  },
  {
   "cell_type": "code",
   "execution_count": 19,
   "id": "e723ed26",
   "metadata": {},
   "outputs": [
    {
     "data": {
      "text/plain": [
       "torch.Size([3, 224, 224])"
      ]
     },
     "execution_count": 19,
     "metadata": {},
     "output_type": "execute_result"
    }
   ],
   "source": [
    "content_image.shape"
   ]
  },
  {
   "cell_type": "code",
   "execution_count": 20,
   "id": "5d74a4a2",
   "metadata": {},
   "outputs": [
    {
     "name": "stderr",
     "output_type": "stream",
     "text": [
      "Clipping input data to the valid range for imshow with RGB data ([0..1] for floats or [0..255] for integers).\n"
     ]
    },
    {
     "data": {
      "image/png": "[encoded data removed]",
      "text/plain": [
       "<Figure size 432x288 with 1 Axes>"
      ]
     },
     "metadata": {
      "needs_background": "light"
     },
     "output_type": "display_data"
    },
    {
     "name": "stderr",
     "output_type": "stream",
     "text": [
      "Clipping input data to the valid range for imshow with RGB data ([0..1] for floats or [0..255] for integers).\n"
     ]
    },
    {
     "data": {
      "image/png": "[encoded data removed]",
      "text/plain": [
       "<Figure size 432x288 with 1 Axes>"
      ]
     },
     "metadata": {
      "needs_background": "light"
     },
     "output_type": "display_data"
    }
   ],
   "source": [
    "plt.imshow( torch.swapaxes( torch.swapaxes(content_image,0,2), 0, 1).detach().cpu().numpy() )\n",
    "plt.show()\n",
    "plt.imshow( torch.swapaxes( torch.swapaxes(style_image,0,2), 0, 1).detach().cpu().numpy() )\n",
    "plt.show()\n",
    "\n",
    "# Verification"
   ]
  },
  {
   "cell_type": "code",
   "execution_count": 21,
   "id": "69ba546c",
   "metadata": {},
   "outputs": [],
   "source": [
    "# our vgg model , from which we will extract features\n",
    "\n",
    "class Style_Trans(nn.Module):\n",
    "\n",
    "    def __init__(self, model):\n",
    "        \n",
    "        super(Style_Trans, self).__init__()\n",
    "\n",
    "        self.model = model # we need only upto 28 layers according to the research paper\n",
    "        self.req_layers = [0, 5, 10, 19, 28, 34] \n",
    "        ''' Hyper params '''\n",
    "        self.features = []\n",
    "    \n",
    "    def forward(self,x) :\n",
    "\n",
    "        self.features = [] # whenever we do a forward pass , we need a empty list to store features\n",
    "\n",
    "        for layer_num,layer in enumerate(self.model) : \n",
    "            x = layer(x)\n",
    "            if layer_num in self.req_layers :\n",
    "                self.features.append(x)\n",
    "\n",
    "        return self.features # returning the features"
   ]
  },
  {
   "cell_type": "code",
   "execution_count": 22,
   "id": "74884804",
   "metadata": {},
   "outputs": [],
   "source": [
    "# we are defining content loss here\n",
    "\n",
    "def content_loss(gen , original):\n",
    "\n",
    "    if len(gen) != len(original):\n",
    "        print(f'something is wrong length does not match {len(original)} and {len(gen)}')\n",
    "        return None\n",
    "\n",
    "    content_loss = 0\n",
    "\n",
    "    for i in range( len(gen) ):\n",
    "        # print( (( original[i].detach() - gen[i] )**2).flatten(1,-1).mean(1).mean().shape ) # -> passed\n",
    "        # ll\n",
    "        # content_loss += torch.mean( ( original[i].detach() - gen[i] )**2 )\n",
    "        content_loss += ( ( original[i].detach() - gen[i] )**2 ).flatten(1,-1).mean(1).mean() \n",
    "\n",
    "    return content_loss"
   ]
  },
  {
   "cell_type": "code",
   "execution_count": 23,
   "id": "98e21a9b",
   "metadata": {},
   "outputs": [],
   "source": [
    "# we are defining style loss here :\n",
    "\n",
    "def style_loss(gen_feat , style_feat, is_features = False ):\n",
    "\n",
    "    if len(gen_feat) != len(style_feat) :\n",
    "        print(f'something is wrong length does not match {len(style_feat)} and {len(gen_feat)}')\n",
    "        return None\n",
    "    \n",
    "    style_loss = 0\n",
    "    for i in range( len(gen_feat) ):\n",
    "        \n",
    "        g_feat = gen_feat[i]\n",
    "        g_feat = torch.flatten(g_feat ,  start_dim = -2 , end_dim = -1 )\n",
    "\n",
    "        s_feat = style_feat[i]\n",
    "        # #channel , height , width = s_feat.shape\n",
    "        # s_feat = torch.flatten(s_feat , start_dim = -2 , end_dim = -1 )\n",
    "\n",
    "        #print( torch.equal(s_feat,style_feat[i].view(channel,height*width)) )\n",
    "        # raise Exception(f'test - 1 @ style loss function {s_feat.shape} ')\n",
    "        if is_features :\n",
    "            s_gram = torch.matmul( style_feat[i] , torch.transpose(style_feat[i], -2, -1) )\n",
    "\n",
    "        else: s_gram =  style_feat[i]\n",
    "\n",
    "        gen_gram = torch.matmul( g_feat , torch.transpose(g_feat, -2, -1) )\n",
    "\n",
    "        # raise Exception(f'test - 1 @ style loss function {s_gram.shape} and {torch.equal(gen_gram.squeeze(0), g_feat.squeeze(0).mm(g_feat.squeeze(0).t()) )} ') -> passed\n",
    "\n",
    "        # style_loss += torch.mean( ( s_gram.detach() - gen_gram )**2 )\n",
    "        style_loss += ( ( s_gram.detach() - gen_gram )**2 ).flatten(-2,-1).mean(1).sum()\n",
    "\n",
    "        #print( ( ( s_gram.detach() - gen_gram )**2 ).flatten(-2,-1).mean(1).sum().shape )  # ''' -> passed '''\n",
    "        # ll\n",
    "\n",
    "    return style_loss\n"
   ]
  },
  {
   "cell_type": "code",
   "execution_count": 24,
   "id": "fedf08da",
   "metadata": {},
   "outputs": [],
   "source": [
    "# ('c'x'b'x'h') -> (c x bh)"
   ]
  },
  {
   "cell_type": "code",
   "execution_count": 26,
   "id": "84172040",
   "metadata": {},
   "outputs": [],
   "source": [
    "# hyper parameters initialization :\n",
    "# you can change all hyper parameters here :\n",
    "n_steps = 1600\n",
    "learning_rate = 5e-2\n",
    "alpha = 3 # alpha for more structure\n",
    "beta = 1.5 # more beta for more style\n",
    "optimizer = torch.optim.Adam( [generated_img] , lr = learning_rate )"
   ]
  },
  {
   "cell_type": "code",
   "execution_count": 27,
   "id": "900eff49",
   "metadata": {},
   "outputs": [],
   "source": [
    "vgg_19 = vgg19(weights=VGG19_Weights.DEFAULT).features[:35]\n",
    "\n",
    "for params in vgg_19.parameters():\n",
    "    params.requires_grad = False\n",
    "\n",
    "vgg_model = Style_Trans(vgg_19).eval()#.to(device)\n",
    "\n",
    "for params in vgg_model.parameters():\n",
    "    params.requires_grad = False"
   ]
  },
  {
   "cell_type": "code",
   "execution_count": 28,
   "id": "5b317967",
   "metadata": {},
   "outputs": [
    {
     "data": {
      "text/plain": [
       "VGG(\n",
       "  (features): Sequential(\n",
       "    (0): Conv2d(3, 64, kernel_size=(3, 3), stride=(1, 1), padding=(1, 1))\n",
       "    (1): ReLU(inplace=True)\n",
       "    (2): Conv2d(64, 64, kernel_size=(3, 3), stride=(1, 1), padding=(1, 1))\n",
       "    (3): ReLU(inplace=True)\n",
       "    (4): MaxPool2d(kernel_size=2, stride=2, padding=0, dilation=1, ceil_mode=False)\n",
       "    (5): Conv2d(64, 128, kernel_size=(3, 3), stride=(1, 1), padding=(1, 1))\n",
       "    (6): ReLU(inplace=True)\n",
       "    (7): Conv2d(128, 128, kernel_size=(3, 3), stride=(1, 1), padding=(1, 1))\n",
       "    (8): ReLU(inplace=True)\n",
       "    (9): MaxPool2d(kernel_size=2, stride=2, padding=0, dilation=1, ceil_mode=False)\n",
       "    (10): Conv2d(128, 256, kernel_size=(3, 3), stride=(1, 1), padding=(1, 1))\n",
       "    (11): ReLU(inplace=True)\n",
       "    (12): Conv2d(256, 256, kernel_size=(3, 3), stride=(1, 1), padding=(1, 1))\n",
       "    (13): ReLU(inplace=True)\n",
       "    (14): Conv2d(256, 256, kernel_size=(3, 3), stride=(1, 1), padding=(1, 1))\n",
       "    (15): ReLU(inplace=True)\n",
       "    (16): Conv2d(256, 256, kernel_size=(3, 3), stride=(1, 1), padding=(1, 1))\n",
       "    (17): ReLU(inplace=True)\n",
       "    (18): MaxPool2d(kernel_size=2, stride=2, padding=0, dilation=1, ceil_mode=False)\n",
       "    (19): Conv2d(256, 512, kernel_size=(3, 3), stride=(1, 1), padding=(1, 1))\n",
       "    (20): ReLU(inplace=True)\n",
       "    (21): Conv2d(512, 512, kernel_size=(3, 3), stride=(1, 1), padding=(1, 1))\n",
       "    (22): ReLU(inplace=True)\n",
       "    (23): Conv2d(512, 512, kernel_size=(3, 3), stride=(1, 1), padding=(1, 1))\n",
       "    (24): ReLU(inplace=True)\n",
       "    (25): Conv2d(512, 512, kernel_size=(3, 3), stride=(1, 1), padding=(1, 1))\n",
       "    (26): ReLU(inplace=True)\n",
       "    (27): MaxPool2d(kernel_size=2, stride=2, padding=0, dilation=1, ceil_mode=False)\n",
       "    (28): Conv2d(512, 512, kernel_size=(3, 3), stride=(1, 1), padding=(1, 1))\n",
       "    (29): ReLU(inplace=True)\n",
       "    (30): Conv2d(512, 512, kernel_size=(3, 3), stride=(1, 1), padding=(1, 1))\n",
       "    (31): ReLU(inplace=True)\n",
       "    (32): Conv2d(512, 512, kernel_size=(3, 3), stride=(1, 1), padding=(1, 1))\n",
       "    (33): ReLU(inplace=True)\n",
       "    (34): Conv2d(512, 512, kernel_size=(3, 3), stride=(1, 1), padding=(1, 1))\n",
       "    (35): ReLU(inplace=True)\n",
       "    (36): MaxPool2d(kernel_size=2, stride=2, padding=0, dilation=1, ceil_mode=False)\n",
       "  )\n",
       "  (avgpool): AdaptiveAvgPool2d(output_size=(7, 7))\n",
       "  (classifier): Sequential(\n",
       "    (0): Linear(in_features=25088, out_features=4096, bias=True)\n",
       "    (1): ReLU(inplace=True)\n",
       "    (2): Dropout(p=0.5, inplace=False)\n",
       "    (3): Linear(in_features=4096, out_features=4096, bias=True)\n",
       "    (4): ReLU(inplace=True)\n",
       "    (5): Dropout(p=0.5, inplace=False)\n",
       "    (6): Linear(in_features=4096, out_features=1000, bias=True)\n",
       "  )\n",
       ")"
      ]
     },
     "execution_count": 28,
     "metadata": {},
     "output_type": "execute_result"
    }
   ],
   "source": [
    "vgg19(weights=VGG19_Weights.DEFAULT)"
   ]
  },
  {
   "cell_type": "code",
   "execution_count": 29,
   "id": "9af18288",
   "metadata": {},
   "outputs": [
    {
     "name": "stdout",
     "output_type": "stream",
     "text": [
      " Number of trainable params in the model is : 0\n"
     ]
    }
   ],
   "source": [
    "print(f\" Number of trainable params in the model is : {sum([p.numel() for p in vgg_model.parameters() if p.requires_grad ])}\")"
   ]
  },
  {
   "cell_type": "code",
   "execution_count": 30,
   "id": "f5c5ff04",
   "metadata": {},
   "outputs": [],
   "source": [
    "def save_vgg19_img(img,path='style_transferred_img.png'):\n",
    "    reverse_transforms = transforms.Compose([\n",
    "        transforms.Normalize(mean=[0,0,0],std=[1/0.229, 1/0.224, 1/0.225]),\n",
    "        transforms.Normalize(mean=[-0.485, -0.456, -0.406],std=[1,1,1])\n",
    "    ])\n",
    "    transformed_img = reverse_transforms(img)\n",
    "    save_image(transformed_img,path)"
   ]
  },
  {
   "cell_type": "code",
   "execution_count": 31,
   "id": "8a6d0529",
   "metadata": {},
   "outputs": [],
   "source": [
    "\n",
    "def transfer_style():\n",
    "\n",
    "    content_feat = [ i.detach() for i in vgg_model(content_image)[:-2] ]\n",
    "    style_feat = [ torch.flatten(s_feat,  start_dim = -2 , end_dim = -1 ).detach() for s_feat in vgg_model(style_image)[3:] ]\n",
    "    style_feat = [ s_feat.mm( s_feat.t() ) for s_feat in style_feat ]\n",
    "\n",
    "    # print( style_feat[0].shape )\n",
    "    # ll\n",
    "\n",
    "    for step in tqdm(range(n_steps)) :\n",
    "\n",
    "        optimizer.zero_grad()\n",
    "        \n",
    "        #t1 = time.time()\n",
    "        generator_feat = vgg_model( generated_img.unsqueeze(0) )\n",
    "        #t2 = time.time()\n",
    "        \n",
    "        # computing loss\n",
    "        c_loss = content_loss(generator_feat[:-2], content_feat)\n",
    "        #t3 = time.time()\n",
    "        s_loss = style_loss(generator_feat[3:], style_feat)\n",
    "\n",
    "        #t4 = time.time()\n",
    "        total_loss = beta*s_loss + alpha*c_loss\n",
    "        #print(f' time taken in order (ms) : {(t2-t1)*1e3:.4f} and {(t3-t2)*1e3:.4f} and {(t4-t3)*1e3:.4f} and total time : {(t4-t1)*1e3:.4f} and'\n",
    "\n",
    "        # updating image\n",
    "        optimizer.zero_grad()\n",
    "        total_loss.backward()\n",
    "        #t5 = time.time()\n",
    "        optimizer.step()\n",
    "\n",
    "        #print(f' time taken in order (ms) : {(t2-t1)*1e3:.4f} and {(t3-t2)*1e3:.4f} and {(t4-t3)*1e3:.4f} and {(t5-t4)*1e3:.4f} and total time : {(t4-t1)*1e3:.4f} and')\n",
    "        if (step+1) % 200 == 0 :\n",
    "            print(f\" Image got saved \\n \")\n",
    "            print(f' total loss : {total_loss} , {type(total_loss)} ')\n",
    "            save_vgg19_img(generated_img.squeeze(0),'style_transfer_2.png')"
   ]
  },
  {
   "cell_type": "code",
   "execution_count": 32,
   "id": "df493c6e",
   "metadata": {},
   "outputs": [],
   "source": [
    "# transfer_style()"
   ]
  },
  {
   "cell_type": "code",
   "execution_count": 33,
   "id": "39d7c795",
   "metadata": {},
   "outputs": [],
   "source": [
    "# save_vgg19_img(generated_img,'sample.png')"
   ]
  },
  {
   "cell_type": "code",
   "execution_count": 34,
   "id": "b659bdda",
   "metadata": {},
   "outputs": [],
   "source": [
    "'''directory = 'Style Transfered Images\\celeb-1\\\\'\n",
    "\n",
    "for index,filename in enumerate(os.listdir(directory)):\n",
    "    f = os.path.join(directory, filename)\n",
    "    img = transforms.ToTensor()(Image.open(f))\n",
    "    save_vgg19_img(img,f'corrected-{index}.png') '''\n",
    "    \n",
    "torch.cuda.empty_cache()"
   ]
  },
  {
   "attachments": {},
   "cell_type": "markdown",
   "id": "611b2e1c",
   "metadata": {},
   "source": [
    "### A model for NST"
   ]
  },
  {
   "attachments": {},
   "cell_type": "markdown",
   "id": "8a4e8095",
   "metadata": {},
   "source": [
    "### Model"
   ]
  },
  {
   "cell_type": "code",
   "execution_count": 36,
   "id": "e62e8cd0",
   "metadata": {},
   "outputs": [],
   "source": [
    "class ResBlock(nn.Module):\n",
    "    # This will output image with same conv h and w\n",
    "    def __init__(self, input_channels, hidden_channels, output_channels, Normalizer =  nn.BatchNorm2d , nonlinearity = nn.ReLU ):\n",
    "\n",
    "        super(ResBlock, self).__init__()\n",
    "\n",
    "        self.input_channels = input_channels\n",
    "        self.output_channels = output_channels\n",
    "        self.hidden_channels = hidden_channels\n",
    "        self.nonlinearity = nonlinearity if nonlinearity is not None else nn.ReLU\n",
    "        self.normalizer = Normalizer if Normalizer is not None else nn.BatchNorm2d\n",
    "        self.pad = nn.ReflectionPad2d(1)\n",
    "\n",
    "        self.conv_layer = nn.Sequential(\n",
    "\n",
    "            nn.Conv2d(self.input_channels, self.hidden_channels, kernel_size = 3, padding = 1, stride = 1, bias = False),\n",
    "            self.normalizer(self.hidden_channels),\n",
    "            self.nonlinearity(),\n",
    "\n",
    "            # nn.ReflectionPad2d(1),\n",
    "\n",
    "            nn.Conv2d(self.hidden_channels, self.hidden_channels, kernel_size = 3, padding = 1, stride = 1, bias = False),\n",
    "            self.normalizer(self.hidden_channels),\n",
    "            self.nonlinearity(),\n",
    "\n",
    "            # nn.ReflectionPad2d(1),\n",
    "\n",
    "            nn.Conv2d(self.hidden_channels, self.output_channels, kernel_size = 3, padding = 1, stride = 1, bias = True),\n",
    "            # self.normalizer(self.hidden_channels),\n",
    "            self.nonlinearity(),\n",
    "\n",
    "            # nn.ReflectionPad2d(1),\n",
    "\n",
    "            # nn.Conv2d(self.hidden_channels, self.output_channels, kernel_size = 3, padding = 1, stride = 1, bias = False),\n",
    "            # self.normalizer(self.hidden_channels),\n",
    "            # self.nonlinearity(),\n",
    "\n",
    "        )\n",
    "\n",
    "        if self.input_channels != self.output_channels :\n",
    "            self.conv_1 = nn.Conv2d(self.input_channels, self.output_channels, kernel_size = 1, padding = 0, stride = 1)\n",
    "\n",
    "    def forward(self,x):\n",
    "\n",
    "        Residual = x\n",
    "        y = self.conv_layer(x)\n",
    "\n",
    "        if self.input_channels != self.output_channels : Residual = self.conv_1(Residual)\n",
    "\n",
    "        # raise Exception(f\" inside condition of the res Block : {( x.shape, y.shape , torch.cat([y,Residual], 1).shape ) } Test - 1 in ResBlock \")\n",
    "\n",
    "        return y + Residual # Residual got added here"
   ]
  },
  {
   "cell_type": "code",
   "execution_count": 37,
   "id": "71aa1c31",
   "metadata": {},
   "outputs": [],
   "source": [
    "class up_sample(nn.Module):\n",
    "    \n",
    "    def __init__(self, input_channels, output_channels, norm ):\n",
    "\n",
    "        super(up_sample, self).__init__()\n",
    "        self.norm = norm\n",
    "        self.input_channels = input_channels\n",
    "        self.output_channels = output_channels\n",
    "        # self.hidden_channels = hidden_channels\n",
    "\n",
    "        self.up_sampling_layer = nn.Sequential(\n",
    "\n",
    "            nn.ConvTranspose2d(self.input_channels, self.output_channels, kernel_size = 2, stride = 2),\n",
    "            nn.BatchNorm2d(self.output_channels),\n",
    "            nn.ReLU(),\n",
    "        )\n",
    "\n",
    "        self.res_layer = ResBlock( self.output_channels*2 , self.output_channels, self.output_channels, Normalizer = self.norm )\n",
    "\n",
    "    \n",
    "    def forward(self, input, skip_connection):\n",
    "        \n",
    "        x = self.up_sampling_layer(input)\n",
    "        # x = input\n",
    "        # raise Exception(f\" inside the up_sampling Block : {( x.shape , input.shape,  self.output_channels*2 ) } Test - 1 in up sampling block \") # 3 -> Passed\n",
    "\n",
    "        if skip_connection is not None:\n",
    "            # We need to concatenate only if skip connection is not None\n",
    "            # changing image size of it is not same size as skip connection\n",
    "            if x.shape[-2:] != skip_connection.shape[-2:] : \n",
    "                print(f\" \\n shape has been changed from {x.shape[-2:]} to this {skip_connection.shape[-2:]}\") # -> test passed\n",
    "                x = transforms.functional.resize(x, size = skip_connection.shape[-2:])\n",
    "\n",
    "            y = torch.concat( [x,skip_connection] , dim = 1)\n",
    "            \n",
    "        else:\n",
    "            y = x\n",
    "        \n",
    "        # raise Exception(f\" inside the up_sampling Block : {( y.shape , x.shape,  self.output_channels*2 ) } Test - 1 in up sampling block \") 3 -> Passed\n",
    "        '''print(f\" inside the up_sampling Block (input.shape, x.shape, skip_connection.shape) : { ( input.shape , x.shape,  skip_connection.shape ) } print in up sampling block \")''' # -> test passed\n",
    "\n",
    "        y = self.res_layer(y)\n",
    "        return y\n"
   ]
  },
  {
   "cell_type": "code",
   "execution_count": 38,
   "id": "78d38278",
   "metadata": {},
   "outputs": [],
   "source": [
    "class style_transformer(nn.Module):\n",
    "\n",
    "    def __init__(self,  arch = [16,32],  output_channels = 3, input_channels = 3, increase_channels = 16, norm = nn.BatchNorm2d):\n",
    "\n",
    "        super(style_transformer, self).__init__()\n",
    "\n",
    "        self.increase_channels = increase_channels\n",
    "        self.norm = norm\n",
    "        self.arch = [self.increase_channels] + arch\n",
    "        self.output_channels = output_channels\n",
    "        self.input_channels = input_channels\n",
    "\n",
    "        # pooler \n",
    "        self.pooler = nn.MaxPool2d(kernel_size = 2, stride = 2)\n",
    "\n",
    "        # Up_sampling and down_sampling module list\n",
    "        self.down_sampler = nn.ModuleList()\n",
    "        self.up_sampler = nn.ModuleList()\n",
    "\n",
    "        # Input conv_layer\n",
    "        self.input_conv_layer = nn.Sequential(\n",
    "            \n",
    "            # nn.ReflectionPad2d(1),\n",
    "            # nn.Conv2d(self.input_channels, self.increase_channels, kernel_size = 3, padding = 1, stride = 1, ),\n",
    "            # nn.BatchNorm2d(self.increase_channels),\n",
    "            # # nn.MaxPool2d(kernel_size = 2, stride = 2),\n",
    "            # nn.ReLU(),\n",
    "\n",
    "            nn.Conv2d(self.input_channels, self.increase_channels, kernel_size = 3, padding = 1, stride = 1, ),\n",
    "            nn.BatchNorm2d(self.increase_channels),\n",
    "            # nn.MaxPool2d(kernel_size = 2, stride = 2),\n",
    "            nn.ReLU(),\n",
    "\n",
    "        )\n",
    "\n",
    "        self.output_conv_layer = nn.Sequential(\n",
    "\n",
    "            # nn.ConvTranspose2d(16, 32, kernel_size = 2,  stride = 2 ),\n",
    "            # nn.BatchNorm2d(32),\n",
    "            # nn.ReLU(),\n",
    "            # nn.ReflectionPad2d(1),\n",
    "            nn.Conv2d(self.increase_channels, 3, kernel_size = 3,  stride = 1, padding = 1 ),\n",
    "            nn.BatchNorm2d(3),\n",
    "            nn.ReLU(),\n",
    "\n",
    "            # nn.ReflectionPad2d(1),\n",
    "            nn.Conv2d(3, 3, kernel_size = 3,  stride = 1, padding = 1 ),\n",
    "            # nn.ReflectionPad2d(1),\n",
    "            nn.Conv2d(3, 3, kernel_size = 3,  stride = 1, padding = 1 ),\n",
    "        )\n",
    "\n",
    "        if len(self.arch) < 2 : raise Exception(' Need at-least a 2 layer arch ')\n",
    "\n",
    "\n",
    "        # down_sampling portion:\n",
    "        for i in range(0, len(self.arch) - 1 ):\n",
    "\n",
    "            res_layers = self.arch[i: i+2]\n",
    "            res_layers += [res_layers[-1]]\n",
    "            \n",
    "            # raise Exception(f\" inside condition of the Down_sampler : {res_layers} Test - 1 \") # -> doubt\n",
    "            ''' print( res_layers ) ''' # -> test passed\n",
    "\n",
    "            self.down_sampler.append( ResBlock(*res_layers, Normalizer =  self.norm) )\n",
    "        \n",
    "        # Up_Sampling Portion\n",
    "        for i,v in enumerate( reversed( range(1, len(self.arch)) )) :\n",
    "            '''print( self.arch[v], self.arch[v-1] , v)''' # -> test passed\n",
    "            self.up_sampler.append( up_sample(self.arch[v], self.arch[v-1], norm = self.norm) ) \n",
    "    \n",
    "    def forward(self, x):\n",
    "        \n",
    "        x = self.input_conv_layer(x)\n",
    "        ''' print(f\" \\n The shape after input conv layer is : {x.shape} \") ''' # -> test passed\n",
    "\n",
    "        # storing as a skip connection\n",
    "        self.skip_connections = [x]\n",
    "\n",
    "        # pooling after input_conv\n",
    "        x = self.pooler(x)\n",
    "\n",
    "        for i,v in enumerate(self.down_sampler):\n",
    "            x = v(x)\n",
    "            \n",
    "            if i != len(self.down_sampler) - 1 : \n",
    "                self.skip_connections.append(x)\n",
    "                x = self.pooler(x)\n",
    "            \"\"\"print(f\" shape after each down-sampling and pooling in iteration {i} : {x.shape} \")\"\"\" # -> test passed\n",
    "        \n",
    "        self.skip_connections = self.skip_connections[::-1]\n",
    "\n",
    "        # checking skip connections shape\n",
    "        '''for i in self.skip_connections : print(f\" shape of the skip connections : {i.shape} \") ''' # -> test passed\n",
    "        # ll\n",
    "\n",
    "        for i,v in enumerate(self.up_sampler):\n",
    "            '''print(x.shape)''' # -> test passed\n",
    "            x = v( x, self.skip_connections[i] )\n",
    "            '''print(f\" shape after each up-sampling {i} : {x.shape} \")''' # -> test passed\n",
    "    \n",
    "\n",
    "        # final conv output\n",
    "        x = self.output_conv_layer(x)\n",
    "        ''' print(f\" shape after final conv layer : {x.shape} \")  ''' # -> test passed\n",
    "\n",
    "        return x"
   ]
  },
  {
   "cell_type": "code",
   "execution_count": 39,
   "id": "fe512cde",
   "metadata": {},
   "outputs": [
    {
     "name": "stdout",
     "output_type": "stream",
     "text": [
      "  Number of trainable params in the model is : 0.595 M\n"
     ]
    }
   ],
   "source": [
    "Style_Transformer_1 = style_transformer(arch = [16,32,48,64,45] )\n",
    "print(f\"  Number of trainable params in the model is : {sum([p.numel() for p in Style_Transformer_1.parameters() if p.requires_grad ])*1e-6:.3f} M\")"
   ]
  },
  {
   "cell_type": "code",
   "execution_count": 40,
   "id": "0c2ff96b",
   "metadata": {},
   "outputs": [
    {
     "data": {
      "text/plain": [
       "torch.Size([1, 3, 224, 224])"
      ]
     },
     "execution_count": 40,
     "metadata": {},
     "output_type": "execute_result"
    }
   ],
   "source": [
    "content_image.detach().cpu().unsqueeze(0).shape"
   ]
  },
  {
   "cell_type": "code",
   "execution_count": 41,
   "id": "c4c39aea",
   "metadata": {},
   "outputs": [
    {
     "data": {
      "text/plain": [
       "torch.Size([1, 3, 224, 224])"
      ]
     },
     "execution_count": 41,
     "metadata": {},
     "output_type": "execute_result"
    }
   ],
   "source": [
    "Style_Transformer_1( content_image.detach().cpu().unsqueeze(0) ).shape"
   ]
  },
  {
   "attachments": {},
   "cell_type": "markdown",
   "id": "f16293a9",
   "metadata": {},
   "source": [
    "### loss fn"
   ]
  },
  {
   "cell_type": "code",
   "execution_count": 42,
   "id": "4a1c0e1e",
   "metadata": {},
   "outputs": [],
   "source": [
    "def style_content_loss(g_image_features, content_features, style_gram, alpha = 1, beta = 0.02, content_layers = -3, style_layers = 3):\n",
    "        \n",
    "    g_image_feat = g_image_features\n",
    "    \n",
    "    # computing loss\n",
    "    c_loss = content_loss(g_image_feat[:content_layers], content_features)\n",
    "    s_loss = style_loss(g_image_feat[style_layers:], style_gram)\n",
    "\n",
    "    #t4 = time.time()\n",
    "    total_loss = beta*s_loss + alpha*c_loss\n",
    "\n",
    "    return total_loss, (beta*s_loss).item(), (alpha*c_loss).item()"
   ]
  },
  {
   "attachments": {},
   "cell_type": "markdown",
   "id": "60138907",
   "metadata": {},
   "source": [
    "### DataLoader"
   ]
  },
  {
   "cell_type": "code",
   "execution_count": 43,
   "id": "9cd23a0d",
   "metadata": {},
   "outputs": [],
   "source": [
    "content_image_transforms = transforms.Compose([\n",
    "    \n",
    "        transforms.Resize( (224,224) ),\n",
    "        # transforms.RandomCrop(size = (12,12) ),\n",
    "        transforms.RandomAffine(5),\n",
    "        transforms.RandomHorizontalFlip(),\n",
    "        transforms.RandomRotation(30),\n",
    "        transforms.ToTensor(),\n",
    "        transforms.Normalize(mean=[0.485, 0.456, 0.406],std=[0.229, 0.224, 0.225]),\n",
    "    ])"
   ]
  },
  {
   "cell_type": "code",
   "execution_count": 44,
   "id": "39e4f4c5",
   "metadata": {},
   "outputs": [],
   "source": [
    "class content_image_loader(Dataset):\n",
    "\n",
    "    def __init__(self, path = 'All Content Image\\collected_images\\\\' , transformations = content_image_transforms ):\n",
    "\n",
    "        self.root = path\n",
    "        self.image_list = os.listdir(path)\n",
    "        self.transformations = transformations\n",
    "    \n",
    "    def __len__(self):\n",
    "        return int( len(self.image_list) )\n",
    "    \n",
    "    def __getitem__(self,index):\n",
    "\n",
    "        img_path =  self.image_list[index]\n",
    "\n",
    "        # getting the paths \n",
    "        total_img_path = os.path.join( self.root, img_path )\n",
    "\n",
    "        # getting the image\n",
    "        image = Image.open( total_img_path ).convert('RGB')\n",
    "\n",
    "        # doing transformations if any of them is there\n",
    "        if self.transformations:\n",
    "            image = self.transformations(image)\n",
    "\n",
    "        # print(f' image shape : {image.shape} and mask shape : {mask.shape} ')\n",
    "        return image\n"
   ]
  },
  {
   "cell_type": "code",
   "execution_count": 45,
   "id": "e76c163c",
   "metadata": {},
   "outputs": [],
   "source": [
    "content_dataset =  content_image_loader()\n",
    "# content_dataloader = DataLoader(content_dataset, batch_size = batch_size, shuffle = True, drop_last = False)"
   ]
  },
  {
   "attachments": {},
   "cell_type": "markdown",
   "id": "c6a801c9",
   "metadata": {},
   "source": [
    "### Trainer"
   ]
  },
  {
   "cell_type": "code",
   "execution_count": 46,
   "id": "ae7d78dc",
   "metadata": {},
   "outputs": [],
   "source": [
    "class Style_Trainer():\n",
    "\n",
    "    def __init__(self, name, model, optimizer, train_dataloader, optimizer_params, style_img, feature_model ):\n",
    "\n",
    "        # initializing models\n",
    "        self.name = name\n",
    "        self.model = model.to(device)\n",
    "\n",
    "        print(self.model)\n",
    "\n",
    "        # training data\n",
    "        self.train_dataloader = train_dataloader\n",
    "\n",
    "        # optimizers and loss fn\n",
    "        self.optimizer_1 = optimizer(self.model.parameters(), **optimizer_params)\n",
    "        # self.optimizer = StepLR(self.optimizer_1, step_size=5, gamma=5e-3)\n",
    "        self.loss = style_content_loss\n",
    "\n",
    "        # style image gram matrix\n",
    "        self.style_img = style_img.to(device)\n",
    "        self.feature_model = feature_model.to(device)\n",
    "\n",
    "        # feature_maps of style image and style gram\n",
    "        self.style_feature = self.feature_model(self.style_img)\n",
    "        self.style_feat = [ torch.flatten(s_feat,  start_dim = -2 , end_dim = -1 ).detach() for s_feat in self.style_feature[3:] ]\n",
    "        self.style_gram = [ s_feat.mm( s_feat.t() ).unsqueeze(0) for s_feat in self.style_feat ]\n",
    "        # print(self.style_gram[0].shape)\n",
    "        # jj\n",
    "    \n",
    "    def train_model(self, epochs = 10, print_freq = 1, save_freq = 1, alpha = 1, beta = 0.02):\n",
    "\n",
    "        style_loss = []\n",
    "        content_loss = []\n",
    "\n",
    "        # val_loss = []\n",
    "        # val_metric = []\n",
    "\n",
    "        # with torch.cuda.amp.autocast():\n",
    "\n",
    "        if epochs > 0:\n",
    "\n",
    "            for e in range(epochs):\n",
    "\n",
    "                epoch_s_loss = 0\n",
    "                epoch_c_loss = 0\n",
    "                total_images = 0\n",
    "\n",
    "                loop_obj = tqdm( enumerate(self.train_dataloader), total = len(self.train_dataloader), desc = 'train epoch progress' )\n",
    "\n",
    "                for index,batch in loop_obj:\n",
    "\n",
    "                    image = batch\n",
    "\n",
    "                    # zero_grad optimizer to erase previous gradients\n",
    "                    self.optimizer_1.zero_grad()\n",
    "\n",
    "                    # changing type and data type of the image to ensure computability\n",
    "                    image = image.to(device).type(torch.float32)\n",
    "\n",
    "                    # getting the prediction from the model\n",
    "                    generated = self.model(image)\n",
    "\n",
    "                    # getting the feature maps of the generated and content img\n",
    "                    generated_features = self.feature_model(generated)\n",
    "                    content_features = self.feature_model(image)[:-3]\n",
    "\n",
    "                    # calculating loss:\n",
    "                    total_loss, s_loss, c_loss = self.loss(generated_features, content_features, self.style_gram, alpha = alpha, beta = beta)\n",
    "\n",
    "                    # raise Exception(f\" Checking the size of the loss : {Loss} \")\n",
    "                    loop_obj.set_description(f\" s_loss : {s_loss} ; c_loss : {c_loss}\", refresh = True)\n",
    "\n",
    "                    # print(total_loss)\n",
    "                    # ll\n",
    "\n",
    "                    # updating weights\n",
    "                    total_loss.backward()\n",
    "                    self.optimizer_1.step()\n",
    "                    # self.optimizer.step()\n",
    "\n",
    "                    # calculating loss\n",
    "                    epoch_s_loss += s_loss*len(image)\n",
    "                    epoch_c_loss += c_loss*len(image)\n",
    "\n",
    "                    # total_images_count\n",
    "                    total_images += len(image)\n",
    "                \n",
    "                # Now storing the Loss and metric of every epoch\n",
    "                style_loss.append( epoch_s_loss/total_images )\n",
    "                content_loss.append( epoch_c_loss/total_images )\n",
    "\n",
    "                # # Now storing the value of val loss and val metric\n",
    "                # validation_data = self.eval()\n",
    "\n",
    "                # # Now storing them in the validation history\n",
    "                # val_loss.append(validation_data[0])\n",
    "                # val_metric.append(validation_data[1])\n",
    "\n",
    "                if (e+1) % print_freq == 0  :\n",
    "\n",
    "                    print(f\"\\n=====================================================\")\n",
    "                    print(f\" The current epoch is : {e+1}\")\n",
    "                    print(f\" Style Loss is : {style_loss[-1]:.3f}\")\n",
    "                    print(f\" Content Loss is : {content_loss[-1]:.3f}\")\n",
    "                    print(f\"=====================================================\\n\")\n",
    "                    \n",
    "                    if not os.path.exists(f'img\\model_images\\\\{self.name}\\\\') : os.mkdir(f'img\\model_images\\\\{self.name}\\\\')\n",
    "                    # img_path = np.random.choice( os.listdir(f'All Content Image\\collected_images'), size = 1)\n",
    "                    example_content_image = load_image(path=f\"Celeb-images\\wednesday-thinking.jfif\", size = (512,512) ).to(device)\n",
    "                    generated_style_img = self.model( example_content_image.unsqueeze(0) ).detach().cpu()\n",
    "                    save_vgg19_img(generated_style_img.squeeze(0),f'img\\model_images\\\\{self.name}\\\\{e}.png')\n",
    "                    \n",
    "                \n",
    "                if (e+1) % save_freq == 0  :\n",
    "                    path = f'models/saved_models/{self.name}/'\n",
    "\n",
    "                    if os.path.exists(path) : torch.save(self.model.state_dict(), f'models/saved_models/{self.name}/epoch_{e}.pt')\n",
    "                    \n",
    "                    else:\n",
    "                        os.mkdir(path)\n",
    "                        torch.save(self.model.state_dict(), f'models/saved_models/{self.name}/epoch_{e}.pt')\n",
    "             \n",
    "        return [style_loss, content_loss]"
   ]
  },
  {
   "attachments": {},
   "cell_type": "markdown",
   "id": "b39f4bdc",
   "metadata": {},
   "source": [
    "### Training model"
   ]
  },
  {
   "attachments": {},
   "cell_type": "markdown",
   "id": "7f9ab102",
   "metadata": {},
   "source": [
    "#### Hyper params"
   ]
  },
  {
   "cell_type": "code",
   "execution_count": 47,
   "id": "72e77490",
   "metadata": {},
   "outputs": [],
   "source": [
    "from torch.optim.lr_scheduler import StepLR"
   ]
  },
  {
   "cell_type": "code",
   "execution_count": 48,
   "id": "e2a64ca2",
   "metadata": {},
   "outputs": [],
   "source": [
    "# Hyper params \n",
    "\n",
    "lr = 5e-4\n",
    "epochs = 6\n",
    "device = torch.device('cuda' if torch.cuda.is_available() else 'cpu')\n",
    "\n",
    "batch_size = 2\n",
    "\n",
    "optimizer = torch.optim.Adam\n",
    "optimizer_params = {'lr' : lr,}\n",
    "\n",
    "alpha = 5\n",
    "beta = 5*1e-6"
   ]
  },
  {
   "cell_type": "code",
   "execution_count": 49,
   "id": "b1fe0054",
   "metadata": {},
   "outputs": [],
   "source": [
    "content_dataloader = DataLoader(content_dataset, batch_size = batch_size, shuffle = True, drop_last = False)"
   ]
  },
  {
   "cell_type": "code",
   "execution_count": 50,
   "id": "26bef25f",
   "metadata": {},
   "outputs": [
    {
     "name": "stdout",
     "output_type": "stream",
     "text": [
      "  Number of trainable params in the model is : 4.159 M\n"
     ]
    },
    {
     "data": {
      "text/plain": [
       "<All keys matched successfully>"
      ]
     },
     "execution_count": 50,
     "metadata": {},
     "output_type": "execute_result"
    }
   ],
   "source": [
    "arch1 = [16,32,64,128,128,256]\n",
    "arch2 = [64,128,256,512]\n",
    "arch3 = [16,32,64,128,256]\n",
    "arch4 = [16,64,128,256,512]\n",
    "\n",
    "Style_Model_1 = style_transformer(arch = arch1, norm = nn.BatchNorm2d ).to(device)\n",
    "print(f\"  Number of trainable params in the model is : {sum([p.numel() for p in Style_Model_1.parameters() if p.requires_grad ])*1e-6:.3f} M\")\n",
    "\n",
    "Style_Model_1.load_state_dict( torch.load('models\\saved_models\\style_30\\epoch_59.pt', map_location=device), strict = True )"
   ]
  },
  {
   "cell_type": "code",
   "execution_count": null,
   "id": "49e8341e",
   "metadata": {},
   "outputs": [],
   "source": [
    "# print(*list(Style_Model_1.state_dict().keys()), sep='\\n')"
   ]
  },
  {
   "cell_type": "code",
   "execution_count": 214,
   "id": "ea61680c",
   "metadata": {},
   "outputs": [],
   "source": [
    "# k = torch.load('models\\saved_models\\style_20\\epoch_59.pt', map_location=device)\n",
    "# # print(*list(k.keys()),sep='\\n')\n",
    "\n",
    "# for v in k:\n",
    "#     print(v,'\\t',k[v].shape)"
   ]
  },
  {
   "cell_type": "code",
   "execution_count": 51,
   "id": "9c23e6bb",
   "metadata": {},
   "outputs": [],
   "source": [
    "# style img\n",
    "style_img_9 = load_image( path = 'style images\\style38.png', size = (224,224) )\n",
    "\n",
    "# vgg based feature extractor\n",
    "for params in vgg_19.parameters():\n",
    "    params.requires_grad = False\n",
    "\n",
    "feature_extractor_model = Style_Trans(vgg_19).to(device).eval()\n",
    "\n",
    "for params in feature_extractor_model.parameters():\n",
    "    params.requires_grad = False"
   ]
  },
  {
   "attachments": {},
   "cell_type": "markdown",
   "id": "fdeaf1b1",
   "metadata": {},
   "source": [
    "#### Training"
   ]
  },
  {
   "cell_type": "code",
   "execution_count": 52,
   "id": "62f85588",
   "metadata": {},
   "outputs": [
    {
     "name": "stdout",
     "output_type": "stream",
     "text": [
      "style_transformer(\n",
      "  (pooler): MaxPool2d(kernel_size=2, stride=2, padding=0, dilation=1, ceil_mode=False)\n",
      "  (down_sampler): ModuleList(\n",
      "    (0): ResBlock(\n",
      "      (pad): ReflectionPad2d((1, 1, 1, 1))\n",
      "      (conv_layer): Sequential(\n",
      "        (0): Conv2d(16, 16, kernel_size=(3, 3), stride=(1, 1), padding=(1, 1), bias=False)\n",
      "        (1): BatchNorm2d(16, eps=1e-05, momentum=0.1, affine=True, track_running_stats=True)\n",
      "        (2): ReLU()\n",
      "        (3): Conv2d(16, 16, kernel_size=(3, 3), stride=(1, 1), padding=(1, 1), bias=False)\n",
      "        (4): BatchNorm2d(16, eps=1e-05, momentum=0.1, affine=True, track_running_stats=True)\n",
      "        (5): ReLU()\n",
      "        (6): Conv2d(16, 16, kernel_size=(3, 3), stride=(1, 1), padding=(1, 1))\n",
      "        (7): ReLU()\n",
      "      )\n",
      "    )\n",
      "    (1): ResBlock(\n",
      "      (pad): ReflectionPad2d((1, 1, 1, 1))\n",
      "      (conv_layer): Sequential(\n",
      "        (0): Conv2d(16, 32, kernel_size=(3, 3), stride=(1, 1), padding=(1, 1), bias=False)\n",
      "        (1): BatchNorm2d(32, eps=1e-05, momentum=0.1, affine=True, track_running_stats=True)\n",
      "        (2): ReLU()\n",
      "        (3): Conv2d(32, 32, kernel_size=(3, 3), stride=(1, 1), padding=(1, 1), bias=False)\n",
      "        (4): BatchNorm2d(32, eps=1e-05, momentum=0.1, affine=True, track_running_stats=True)\n",
      "        (5): ReLU()\n",
      "        (6): Conv2d(32, 32, kernel_size=(3, 3), stride=(1, 1), padding=(1, 1))\n",
      "        (7): ReLU()\n",
      "      )\n",
      "      (conv_1): Conv2d(16, 32, kernel_size=(1, 1), stride=(1, 1))\n",
      "    )\n",
      "    (2): ResBlock(\n",
      "      (pad): ReflectionPad2d((1, 1, 1, 1))\n",
      "      (conv_layer): Sequential(\n",
      "        (0): Conv2d(32, 64, kernel_size=(3, 3), stride=(1, 1), padding=(1, 1), bias=False)\n",
      "        (1): BatchNorm2d(64, eps=1e-05, momentum=0.1, affine=True, track_running_stats=True)\n",
      "        (2): ReLU()\n",
      "        (3): Conv2d(64, 64, kernel_size=(3, 3), stride=(1, 1), padding=(1, 1), bias=False)\n",
      "        (4): BatchNorm2d(64, eps=1e-05, momentum=0.1, affine=True, track_running_stats=True)\n",
      "        (5): ReLU()\n",
      "        (6): Conv2d(64, 64, kernel_size=(3, 3), stride=(1, 1), padding=(1, 1))\n",
      "        (7): ReLU()\n",
      "      )\n",
      "      (conv_1): Conv2d(32, 64, kernel_size=(1, 1), stride=(1, 1))\n",
      "    )\n",
      "    (3): ResBlock(\n",
      "      (pad): ReflectionPad2d((1, 1, 1, 1))\n",
      "      (conv_layer): Sequential(\n",
      "        (0): Conv2d(64, 128, kernel_size=(3, 3), stride=(1, 1), padding=(1, 1), bias=False)\n",
      "        (1): BatchNorm2d(128, eps=1e-05, momentum=0.1, affine=True, track_running_stats=True)\n",
      "        (2): ReLU()\n",
      "        (3): Conv2d(128, 128, kernel_size=(3, 3), stride=(1, 1), padding=(1, 1), bias=False)\n",
      "        (4): BatchNorm2d(128, eps=1e-05, momentum=0.1, affine=True, track_running_stats=True)\n",
      "        (5): ReLU()\n",
      "        (6): Conv2d(128, 128, kernel_size=(3, 3), stride=(1, 1), padding=(1, 1))\n",
      "        (7): ReLU()\n",
      "      )\n",
      "      (conv_1): Conv2d(64, 128, kernel_size=(1, 1), stride=(1, 1))\n",
      "    )\n",
      "    (4): ResBlock(\n",
      "      (pad): ReflectionPad2d((1, 1, 1, 1))\n",
      "      (conv_layer): Sequential(\n",
      "        (0): Conv2d(128, 128, kernel_size=(3, 3), stride=(1, 1), padding=(1, 1), bias=False)\n",
      "        (1): BatchNorm2d(128, eps=1e-05, momentum=0.1, affine=True, track_running_stats=True)\n",
      "        (2): ReLU()\n",
      "        (3): Conv2d(128, 128, kernel_size=(3, 3), stride=(1, 1), padding=(1, 1), bias=False)\n",
      "        (4): BatchNorm2d(128, eps=1e-05, momentum=0.1, affine=True, track_running_stats=True)\n",
      "        (5): ReLU()\n",
      "        (6): Conv2d(128, 128, kernel_size=(3, 3), stride=(1, 1), padding=(1, 1))\n",
      "        (7): ReLU()\n",
      "      )\n",
      "    )\n",
      "    (5): ResBlock(\n",
      "      (pad): ReflectionPad2d((1, 1, 1, 1))\n",
      "      (conv_layer): Sequential(\n",
      "        (0): Conv2d(128, 256, kernel_size=(3, 3), stride=(1, 1), padding=(1, 1), bias=False)\n",
      "        (1): BatchNorm2d(256, eps=1e-05, momentum=0.1, affine=True, track_running_stats=True)\n",
      "        (2): ReLU()\n",
      "        (3): Conv2d(256, 256, kernel_size=(3, 3), stride=(1, 1), padding=(1, 1), bias=False)\n",
      "        (4): BatchNorm2d(256, eps=1e-05, momentum=0.1, affine=True, track_running_stats=True)\n",
      "        (5): ReLU()\n",
      "        (6): Conv2d(256, 256, kernel_size=(3, 3), stride=(1, 1), padding=(1, 1))\n",
      "        (7): ReLU()\n",
      "      )\n",
      "      (conv_1): Conv2d(128, 256, kernel_size=(1, 1), stride=(1, 1))\n",
      "    )\n",
      "  )\n",
      "  (up_sampler): ModuleList(\n",
      "    (0): up_sample(\n",
      "      (up_sampling_layer): Sequential(\n",
      "        (0): ConvTranspose2d(256, 128, kernel_size=(2, 2), stride=(2, 2))\n",
      "        (1): BatchNorm2d(128, eps=1e-05, momentum=0.1, affine=True, track_running_stats=True)\n",
      "        (2): ReLU()\n",
      "      )\n",
      "      (res_layer): ResBlock(\n",
      "        (pad): ReflectionPad2d((1, 1, 1, 1))\n",
      "        (conv_layer): Sequential(\n",
      "          (0): Conv2d(256, 128, kernel_size=(3, 3), stride=(1, 1), padding=(1, 1), bias=False)\n",
      "          (1): BatchNorm2d(128, eps=1e-05, momentum=0.1, affine=True, track_running_stats=True)\n",
      "          (2): ReLU()\n",
      "          (3): Conv2d(128, 128, kernel_size=(3, 3), stride=(1, 1), padding=(1, 1), bias=False)\n",
      "          (4): BatchNorm2d(128, eps=1e-05, momentum=0.1, affine=True, track_running_stats=True)\n",
      "          (5): ReLU()\n",
      "          (6): Conv2d(128, 128, kernel_size=(3, 3), stride=(1, 1), padding=(1, 1))\n",
      "          (7): ReLU()\n",
      "        )\n",
      "        (conv_1): Conv2d(256, 128, kernel_size=(1, 1), stride=(1, 1))\n",
      "      )\n",
      "    )\n",
      "    (1): up_sample(\n",
      "      (up_sampling_layer): Sequential(\n",
      "        (0): ConvTranspose2d(128, 128, kernel_size=(2, 2), stride=(2, 2))\n",
      "        (1): BatchNorm2d(128, eps=1e-05, momentum=0.1, affine=True, track_running_stats=True)\n",
      "        (2): ReLU()\n",
      "      )\n",
      "      (res_layer): ResBlock(\n",
      "        (pad): ReflectionPad2d((1, 1, 1, 1))\n",
      "        (conv_layer): Sequential(\n",
      "          (0): Conv2d(256, 128, kernel_size=(3, 3), stride=(1, 1), padding=(1, 1), bias=False)\n",
      "          (1): BatchNorm2d(128, eps=1e-05, momentum=0.1, affine=True, track_running_stats=True)\n",
      "          (2): ReLU()\n",
      "          (3): Conv2d(128, 128, kernel_size=(3, 3), stride=(1, 1), padding=(1, 1), bias=False)\n",
      "          (4): BatchNorm2d(128, eps=1e-05, momentum=0.1, affine=True, track_running_stats=True)\n",
      "          (5): ReLU()\n",
      "          (6): Conv2d(128, 128, kernel_size=(3, 3), stride=(1, 1), padding=(1, 1))\n",
      "          (7): ReLU()\n",
      "        )\n",
      "        (conv_1): Conv2d(256, 128, kernel_size=(1, 1), stride=(1, 1))\n",
      "      )\n",
      "    )\n",
      "    (2): up_sample(\n",
      "      (up_sampling_layer): Sequential(\n",
      "        (0): ConvTranspose2d(128, 64, kernel_size=(2, 2), stride=(2, 2))\n",
      "        (1): BatchNorm2d(64, eps=1e-05, momentum=0.1, affine=True, track_running_stats=True)\n",
      "        (2): ReLU()\n",
      "      )\n",
      "      (res_layer): ResBlock(\n",
      "        (pad): ReflectionPad2d((1, 1, 1, 1))\n",
      "        (conv_layer): Sequential(\n",
      "          (0): Conv2d(128, 64, kernel_size=(3, 3), stride=(1, 1), padding=(1, 1), bias=False)\n",
      "          (1): BatchNorm2d(64, eps=1e-05, momentum=0.1, affine=True, track_running_stats=True)\n",
      "          (2): ReLU()\n",
      "          (3): Conv2d(64, 64, kernel_size=(3, 3), stride=(1, 1), padding=(1, 1), bias=False)\n",
      "          (4): BatchNorm2d(64, eps=1e-05, momentum=0.1, affine=True, track_running_stats=True)\n",
      "          (5): ReLU()\n",
      "          (6): Conv2d(64, 64, kernel_size=(3, 3), stride=(1, 1), padding=(1, 1))\n",
      "          (7): ReLU()\n",
      "        )\n",
      "        (conv_1): Conv2d(128, 64, kernel_size=(1, 1), stride=(1, 1))\n",
      "      )\n",
      "    )\n",
      "    (3): up_sample(\n",
      "      (up_sampling_layer): Sequential(\n",
      "        (0): ConvTranspose2d(64, 32, kernel_size=(2, 2), stride=(2, 2))\n",
      "        (1): BatchNorm2d(32, eps=1e-05, momentum=0.1, affine=True, track_running_stats=True)\n",
      "        (2): ReLU()\n",
      "      )\n",
      "      (res_layer): ResBlock(\n",
      "        (pad): ReflectionPad2d((1, 1, 1, 1))\n",
      "        (conv_layer): Sequential(\n",
      "          (0): Conv2d(64, 32, kernel_size=(3, 3), stride=(1, 1), padding=(1, 1), bias=False)\n",
      "          (1): BatchNorm2d(32, eps=1e-05, momentum=0.1, affine=True, track_running_stats=True)\n",
      "          (2): ReLU()\n",
      "          (3): Conv2d(32, 32, kernel_size=(3, 3), stride=(1, 1), padding=(1, 1), bias=False)\n",
      "          (4): BatchNorm2d(32, eps=1e-05, momentum=0.1, affine=True, track_running_stats=True)\n",
      "          (5): ReLU()\n",
      "          (6): Conv2d(32, 32, kernel_size=(3, 3), stride=(1, 1), padding=(1, 1))\n",
      "          (7): ReLU()\n",
      "        )\n",
      "        (conv_1): Conv2d(64, 32, kernel_size=(1, 1), stride=(1, 1))\n",
      "      )\n",
      "    )\n",
      "    (4): up_sample(\n",
      "      (up_sampling_layer): Sequential(\n",
      "        (0): ConvTranspose2d(32, 16, kernel_size=(2, 2), stride=(2, 2))\n",
      "        (1): BatchNorm2d(16, eps=1e-05, momentum=0.1, affine=True, track_running_stats=True)\n",
      "        (2): ReLU()\n",
      "      )\n",
      "      (res_layer): ResBlock(\n",
      "        (pad): ReflectionPad2d((1, 1, 1, 1))\n",
      "        (conv_layer): Sequential(\n",
      "          (0): Conv2d(32, 16, kernel_size=(3, 3), stride=(1, 1), padding=(1, 1), bias=False)\n",
      "          (1): BatchNorm2d(16, eps=1e-05, momentum=0.1, affine=True, track_running_stats=True)\n",
      "          (2): ReLU()\n",
      "          (3): Conv2d(16, 16, kernel_size=(3, 3), stride=(1, 1), padding=(1, 1), bias=False)\n",
      "          (4): BatchNorm2d(16, eps=1e-05, momentum=0.1, affine=True, track_running_stats=True)\n",
      "          (5): ReLU()\n",
      "          (6): Conv2d(16, 16, kernel_size=(3, 3), stride=(1, 1), padding=(1, 1))\n",
      "          (7): ReLU()\n",
      "        )\n",
      "        (conv_1): Conv2d(32, 16, kernel_size=(1, 1), stride=(1, 1))\n",
      "      )\n",
      "    )\n",
      "    (5): up_sample(\n",
      "      (up_sampling_layer): Sequential(\n",
      "        (0): ConvTranspose2d(16, 16, kernel_size=(2, 2), stride=(2, 2))\n",
      "        (1): BatchNorm2d(16, eps=1e-05, momentum=0.1, affine=True, track_running_stats=True)\n",
      "        (2): ReLU()\n",
      "      )\n",
      "      (res_layer): ResBlock(\n",
      "        (pad): ReflectionPad2d((1, 1, 1, 1))\n",
      "        (conv_layer): Sequential(\n",
      "          (0): Conv2d(32, 16, kernel_size=(3, 3), stride=(1, 1), padding=(1, 1), bias=False)\n",
      "          (1): BatchNorm2d(16, eps=1e-05, momentum=0.1, affine=True, track_running_stats=True)\n",
      "          (2): ReLU()\n",
      "          (3): Conv2d(16, 16, kernel_size=(3, 3), stride=(1, 1), padding=(1, 1), bias=False)\n",
      "          (4): BatchNorm2d(16, eps=1e-05, momentum=0.1, affine=True, track_running_stats=True)\n",
      "          (5): ReLU()\n",
      "          (6): Conv2d(16, 16, kernel_size=(3, 3), stride=(1, 1), padding=(1, 1))\n",
      "          (7): ReLU()\n",
      "        )\n",
      "        (conv_1): Conv2d(32, 16, kernel_size=(1, 1), stride=(1, 1))\n",
      "      )\n",
      "    )\n",
      "  )\n",
      "  (input_conv_layer): Sequential(\n",
      "    (0): Conv2d(3, 16, kernel_size=(3, 3), stride=(1, 1), padding=(1, 1))\n",
      "    (1): BatchNorm2d(16, eps=1e-05, momentum=0.1, affine=True, track_running_stats=True)\n",
      "    (2): ReLU()\n",
      "  )\n",
      "  (output_conv_layer): Sequential(\n",
      "    (0): Conv2d(16, 3, kernel_size=(3, 3), stride=(1, 1), padding=(1, 1))\n",
      "    (1): BatchNorm2d(3, eps=1e-05, momentum=0.1, affine=True, track_running_stats=True)\n",
      "    (2): ReLU()\n",
      "    (3): Conv2d(3, 3, kernel_size=(3, 3), stride=(1, 1), padding=(1, 1))\n",
      "    (4): Conv2d(3, 3, kernel_size=(3, 3), stride=(1, 1), padding=(1, 1))\n",
      "  )\n",
      ")\n"
     ]
    }
   ],
   "source": [
    "Trainer = Style_Trainer(name = 'style_38', model = Style_Model_1, optimizer = optimizer, train_dataloader = content_dataloader, \n",
    "                        optimizer_params = optimizer_params, style_img = style_img_9, feature_model = feature_extractor_model )"
   ]
  },
  {
   "cell_type": "code",
   "execution_count": null,
   "id": "ed6bb99d",
   "metadata": {},
   "outputs": [],
   "source": [
    "loss_history = Trainer.train_model( epochs = 300, print_freq = 10, save_freq = 15, alpha=alpha, beta=beta)"
   ]
  },
  {
   "cell_type": "code",
   "execution_count": 53,
   "id": "cf96c83b",
   "metadata": {},
   "outputs": [],
   "source": [
    "torch.cuda.empty_cache()"
   ]
  },
  {
   "cell_type": "code",
   "execution_count": 63,
   "id": "453f6562",
   "metadata": {},
   "outputs": [
    {
     "name": "stdout",
     "output_type": "stream",
     "text": [
      "torch.Size([512, 512])\n",
      "torch.Size([3, 512, 512]) torch.Size([3, 512, 512]) torch.Size([512, 512])\n",
      "torch.Size([3, 512, 512])\n"
     ]
    },
    {
     "data": {
      "image/png": "[encoded data removed]",
      "text/plain": [
       "<Figure size 432x288 with 1 Axes>"
      ]
     },
     "metadata": {
      "needs_background": "light"
     },
     "output_type": "display_data"
    }
   ],
   "source": [
    "# example content_image\n",
    "selective_style = True\n",
    "\n",
    "for i in os.listdir('All Content Image\\collected_images')[20:21]:\n",
    "\n",
    "    example_content_image = load_image(path=f\"All Content Image\\collected_images\\{i}\", size = (512,512) ).to(device)\n",
    "    generated_style_img = Style_Model_1.eval()( example_content_image.unsqueeze(0) ).detach().cpu()\n",
    "\n",
    "    # applying selective style\n",
    "    if selective_style :\n",
    "        original_image = Image.open(f\"All Content Image\\collected_images\\{i}\").convert('RGB')\n",
    "        selective_style_transferred = image_imposition(original_image,generated_style_img,['Background'],size = (512,512), show = True)\n",
    "\n",
    "    save_vgg19_img(generated_style_img.squeeze(0),f'Style Transfered Images\\collected_images_style_transferred\\{i.split(\".\")[0]}.png')\n",
    "    save_vgg19_img(selective_style_transferred.squeeze(0),f'Style Transfered Images\\selective_style_transfer\\{i.split(\".\")[0]}.png' )"
   ]
  },
  {
   "cell_type": "code",
   "execution_count": null,
   "id": "8809c60e",
   "metadata": {},
   "outputs": [],
   "source": [
    "example_content_image = load_image(path=f\"All Content Image\\collected_images\\indian-dresses-slide.jpg\", size = (720,720) ).to(device)\n",
    "generated_style_img = Style_Model_1( example_content_image.unsqueeze(0) ).detach().cpu()\n",
    "\n",
    "save_vgg19_img(generated_style_img.squeeze(0),f'style_transfer_2.png')"
   ]
  },
  {
   "cell_type": "code",
   "execution_count": null,
   "id": "7daef028",
   "metadata": {},
   "outputs": [],
   "source": [
    "torch.cuda.empty_cache()"
   ]
  },
  {
   "cell_type": "code",
   "execution_count": null,
   "id": "cbb254cc",
   "metadata": {},
   "outputs": [
    {
     "data": {
      "text/plain": [
       "[<matplotlib.lines.Line2D at 0x14a672f62f0>]"
      ]
     },
     "execution_count": 88,
     "metadata": {},
     "output_type": "execute_result"
    },
    {
     "data": {
      "image/png": "[encoded data removed]",
      "text/plain": [
       "<Figure size 432x288 with 1 Axes>"
      ]
     },
     "metadata": {
      "needs_background": "light"
     },
     "output_type": "display_data"
    }
   ],
   "source": [
    "plt.plot( loss_history[0] )"
   ]
  },
  {
   "cell_type": "code",
   "execution_count": null,
   "id": "aa7a0080",
   "metadata": {},
   "outputs": [
    {
     "data": {
      "text/plain": [
       "[<matplotlib.lines.Line2D at 0x14a67342110>]"
      ]
     },
     "execution_count": 89,
     "metadata": {},
     "output_type": "execute_result"
    },
    {
     "data": {
      "image/png": "[encoded data removed]",
      "text/plain": [
       "<Figure size 432x288 with 1 Axes>"
      ]
     },
     "metadata": {
      "needs_background": "light"
     },
     "output_type": "display_data"
    }
   ],
   "source": [
    "plt.plot( loss_history[1] )"
   ]
  },
  {
   "cell_type": "code",
   "execution_count": null,
   "id": "bf3d8daa",
   "metadata": {},
   "outputs": [
    {
     "data": {
      "text/plain": [
       "487"
      ]
     },
     "execution_count": 92,
     "metadata": {},
     "output_type": "execute_result"
    }
   ],
   "source": [
    "loss_history[0].index( min(loss_history[0]) )"
   ]
  },
  {
   "cell_type": "code",
   "execution_count": null,
   "id": "79a4ba91",
   "metadata": {},
   "outputs": [],
   "source": [
    "fire_model = torch.load('models\\saved_models\\style_37\\epoch_359.pt', map_location=device)\n",
    "fire_keys = fire_model.keys()"
   ]
  },
  {
   "cell_type": "code",
   "execution_count": null,
   "id": "50ea62a6",
   "metadata": {},
   "outputs": [
    {
     "name": "stdout",
     "output_type": "stream",
     "text": [
      "down_sampler.0.conv_layer.0.weight  \t  torch.Size([64, 16, 1, 1])\n",
      "down_sampler.0.conv_layer.1.weight  \t  torch.Size([64])\n",
      "down_sampler.0.conv_layer.1.bias  \t  torch.Size([64])\n",
      "down_sampler.0.conv_layer.1.running_mean  \t  torch.Size([64])\n",
      "down_sampler.0.conv_layer.1.running_var  \t  torch.Size([64])\n",
      "down_sampler.0.conv_layer.1.num_batches_tracked  \t  torch.Size([])\n",
      "down_sampler.0.conv_layer.3.weight  \t  torch.Size([64, 64, 3, 3])\n",
      "down_sampler.0.conv_layer.4.weight  \t  torch.Size([64])\n",
      "down_sampler.0.conv_layer.4.bias  \t  torch.Size([64])\n",
      "down_sampler.0.conv_layer.4.running_mean  \t  torch.Size([64])\n",
      "down_sampler.0.conv_layer.4.running_var  \t  torch.Size([64])\n",
      "down_sampler.0.conv_layer.4.num_batches_tracked  \t  torch.Size([])\n",
      "down_sampler.0.conv_layer.6.weight  \t  torch.Size([64, 64, 3, 3])\n",
      "down_sampler.0.conv_layer.7.weight  \t  torch.Size([64])\n",
      "down_sampler.0.conv_layer.7.bias  \t  torch.Size([64])\n",
      "down_sampler.0.conv_layer.7.running_mean  \t  torch.Size([64])\n",
      "down_sampler.0.conv_layer.7.running_var  \t  torch.Size([64])\n",
      "down_sampler.0.conv_layer.7.num_batches_tracked  \t  torch.Size([])\n",
      "down_sampler.0.conv_layer.9.weight  \t  torch.Size([64, 64, 3, 3])\n",
      "down_sampler.0.conv_layer.10.weight  \t  torch.Size([64])\n",
      "down_sampler.0.conv_layer.10.bias  \t  torch.Size([64])\n",
      "down_sampler.0.conv_layer.10.running_mean  \t  torch.Size([64])\n",
      "down_sampler.0.conv_layer.10.running_var  \t  torch.Size([64])\n",
      "down_sampler.0.conv_layer.10.num_batches_tracked  \t  torch.Size([])\n",
      "down_sampler.0.conv_1.weight  \t  torch.Size([64, 16, 1, 1])\n",
      "down_sampler.0.conv_1.bias  \t  torch.Size([64])\n",
      "down_sampler.1.conv_layer.0.weight  \t  torch.Size([128, 64, 1, 1])\n",
      "down_sampler.1.conv_layer.1.weight  \t  torch.Size([128])\n",
      "down_sampler.1.conv_layer.1.bias  \t  torch.Size([128])\n",
      "down_sampler.1.conv_layer.1.running_mean  \t  torch.Size([128])\n",
      "down_sampler.1.conv_layer.1.running_var  \t  torch.Size([128])\n",
      "down_sampler.1.conv_layer.1.num_batches_tracked  \t  torch.Size([])\n",
      "down_sampler.1.conv_layer.3.weight  \t  torch.Size([128, 128, 3, 3])\n",
      "down_sampler.1.conv_layer.4.weight  \t  torch.Size([128])\n",
      "down_sampler.1.conv_layer.4.bias  \t  torch.Size([128])\n",
      "down_sampler.1.conv_layer.4.running_mean  \t  torch.Size([128])\n",
      "down_sampler.1.conv_layer.4.running_var  \t  torch.Size([128])\n",
      "down_sampler.1.conv_layer.4.num_batches_tracked  \t  torch.Size([])\n",
      "down_sampler.1.conv_layer.6.weight  \t  torch.Size([128, 128, 3, 3])\n",
      "down_sampler.1.conv_layer.7.weight  \t  torch.Size([128])\n",
      "down_sampler.1.conv_layer.7.bias  \t  torch.Size([128])\n",
      "down_sampler.1.conv_layer.7.running_mean  \t  torch.Size([128])\n",
      "down_sampler.1.conv_layer.7.running_var  \t  torch.Size([128])\n",
      "down_sampler.1.conv_layer.7.num_batches_tracked  \t  torch.Size([])\n",
      "down_sampler.1.conv_layer.9.weight  \t  torch.Size([128, 128, 3, 3])\n",
      "down_sampler.1.conv_layer.10.weight  \t  torch.Size([128])\n",
      "down_sampler.1.conv_layer.10.bias  \t  torch.Size([128])\n",
      "down_sampler.1.conv_layer.10.running_mean  \t  torch.Size([128])\n",
      "down_sampler.1.conv_layer.10.running_var  \t  torch.Size([128])\n",
      "down_sampler.1.conv_layer.10.num_batches_tracked  \t  torch.Size([])\n",
      "down_sampler.1.conv_1.weight  \t  torch.Size([128, 64, 1, 1])\n",
      "down_sampler.1.conv_1.bias  \t  torch.Size([128])\n",
      "down_sampler.2.conv_layer.0.weight  \t  torch.Size([256, 128, 1, 1])\n",
      "down_sampler.2.conv_layer.1.weight  \t  torch.Size([256])\n",
      "down_sampler.2.conv_layer.1.bias  \t  torch.Size([256])\n",
      "down_sampler.2.conv_layer.1.running_mean  \t  torch.Size([256])\n",
      "down_sampler.2.conv_layer.1.running_var  \t  torch.Size([256])\n",
      "down_sampler.2.conv_layer.1.num_batches_tracked  \t  torch.Size([])\n",
      "down_sampler.2.conv_layer.3.weight  \t  torch.Size([256, 256, 3, 3])\n",
      "down_sampler.2.conv_layer.4.weight  \t  torch.Size([256])\n",
      "down_sampler.2.conv_layer.4.bias  \t  torch.Size([256])\n",
      "down_sampler.2.conv_layer.4.running_mean  \t  torch.Size([256])\n",
      "down_sampler.2.conv_layer.4.running_var  \t  torch.Size([256])\n",
      "down_sampler.2.conv_layer.4.num_batches_tracked  \t  torch.Size([])\n",
      "down_sampler.2.conv_layer.6.weight  \t  torch.Size([256, 256, 3, 3])\n",
      "down_sampler.2.conv_layer.7.weight  \t  torch.Size([256])\n",
      "down_sampler.2.conv_layer.7.bias  \t  torch.Size([256])\n",
      "down_sampler.2.conv_layer.7.running_mean  \t  torch.Size([256])\n",
      "down_sampler.2.conv_layer.7.running_var  \t  torch.Size([256])\n",
      "down_sampler.2.conv_layer.7.num_batches_tracked  \t  torch.Size([])\n",
      "down_sampler.2.conv_layer.9.weight  \t  torch.Size([256, 256, 3, 3])\n",
      "down_sampler.2.conv_layer.10.weight  \t  torch.Size([256])\n",
      "down_sampler.2.conv_layer.10.bias  \t  torch.Size([256])\n",
      "down_sampler.2.conv_layer.10.running_mean  \t  torch.Size([256])\n",
      "down_sampler.2.conv_layer.10.running_var  \t  torch.Size([256])\n",
      "down_sampler.2.conv_layer.10.num_batches_tracked  \t  torch.Size([])\n",
      "down_sampler.2.conv_1.weight  \t  torch.Size([256, 128, 1, 1])\n",
      "down_sampler.2.conv_1.bias  \t  torch.Size([256])\n",
      "down_sampler.3.conv_layer.0.weight  \t  torch.Size([512, 256, 1, 1])\n",
      "down_sampler.3.conv_layer.1.weight  \t  torch.Size([512])\n",
      "down_sampler.3.conv_layer.1.bias  \t  torch.Size([512])\n",
      "down_sampler.3.conv_layer.1.running_mean  \t  torch.Size([512])\n",
      "down_sampler.3.conv_layer.1.running_var  \t  torch.Size([512])\n",
      "down_sampler.3.conv_layer.1.num_batches_tracked  \t  torch.Size([])\n",
      "down_sampler.3.conv_layer.3.weight  \t  torch.Size([512, 512, 3, 3])\n",
      "down_sampler.3.conv_layer.4.weight  \t  torch.Size([512])\n",
      "down_sampler.3.conv_layer.4.bias  \t  torch.Size([512])\n",
      "down_sampler.3.conv_layer.4.running_mean  \t  torch.Size([512])\n",
      "down_sampler.3.conv_layer.4.running_var  \t  torch.Size([512])\n",
      "down_sampler.3.conv_layer.4.num_batches_tracked  \t  torch.Size([])\n",
      "down_sampler.3.conv_layer.6.weight  \t  torch.Size([512, 512, 3, 3])\n",
      "down_sampler.3.conv_layer.7.weight  \t  torch.Size([512])\n",
      "down_sampler.3.conv_layer.7.bias  \t  torch.Size([512])\n",
      "down_sampler.3.conv_layer.7.running_mean  \t  torch.Size([512])\n",
      "down_sampler.3.conv_layer.7.running_var  \t  torch.Size([512])\n",
      "down_sampler.3.conv_layer.7.num_batches_tracked  \t  torch.Size([])\n",
      "down_sampler.3.conv_layer.9.weight  \t  torch.Size([512, 512, 3, 3])\n",
      "down_sampler.3.conv_layer.10.weight  \t  torch.Size([512])\n",
      "down_sampler.3.conv_layer.10.bias  \t  torch.Size([512])\n",
      "down_sampler.3.conv_layer.10.running_mean  \t  torch.Size([512])\n",
      "down_sampler.3.conv_layer.10.running_var  \t  torch.Size([512])\n",
      "down_sampler.3.conv_layer.10.num_batches_tracked  \t  torch.Size([])\n",
      "down_sampler.3.conv_1.weight  \t  torch.Size([512, 256, 1, 1])\n",
      "down_sampler.3.conv_1.bias  \t  torch.Size([512])\n",
      "up_sampler.0.up_sampling_layer.0.weight  \t  torch.Size([512, 256, 2, 2])\n",
      "up_sampler.0.up_sampling_layer.0.bias  \t  torch.Size([256])\n",
      "up_sampler.0.up_sampling_layer.1.weight  \t  torch.Size([256])\n",
      "up_sampler.0.up_sampling_layer.1.bias  \t  torch.Size([256])\n",
      "up_sampler.0.up_sampling_layer.1.running_mean  \t  torch.Size([256])\n",
      "up_sampler.0.up_sampling_layer.1.running_var  \t  torch.Size([256])\n",
      "up_sampler.0.up_sampling_layer.1.num_batches_tracked  \t  torch.Size([])\n",
      "up_sampler.0.res_layer.conv_layer.0.weight  \t  torch.Size([256, 512, 1, 1])\n",
      "up_sampler.0.res_layer.conv_layer.1.weight  \t  torch.Size([256])\n",
      "up_sampler.0.res_layer.conv_layer.1.bias  \t  torch.Size([256])\n",
      "up_sampler.0.res_layer.conv_layer.1.running_mean  \t  torch.Size([256])\n",
      "up_sampler.0.res_layer.conv_layer.1.running_var  \t  torch.Size([256])\n",
      "up_sampler.0.res_layer.conv_layer.1.num_batches_tracked  \t  torch.Size([])\n",
      "up_sampler.0.res_layer.conv_layer.3.weight  \t  torch.Size([256, 256, 3, 3])\n",
      "up_sampler.0.res_layer.conv_layer.4.weight  \t  torch.Size([256])\n",
      "up_sampler.0.res_layer.conv_layer.4.bias  \t  torch.Size([256])\n",
      "up_sampler.0.res_layer.conv_layer.4.running_mean  \t  torch.Size([256])\n",
      "up_sampler.0.res_layer.conv_layer.4.running_var  \t  torch.Size([256])\n",
      "up_sampler.0.res_layer.conv_layer.4.num_batches_tracked  \t  torch.Size([])\n",
      "up_sampler.0.res_layer.conv_layer.6.weight  \t  torch.Size([256, 256, 3, 3])\n",
      "up_sampler.0.res_layer.conv_layer.7.weight  \t  torch.Size([256])\n",
      "up_sampler.0.res_layer.conv_layer.7.bias  \t  torch.Size([256])\n",
      "up_sampler.0.res_layer.conv_layer.7.running_mean  \t  torch.Size([256])\n",
      "up_sampler.0.res_layer.conv_layer.7.running_var  \t  torch.Size([256])\n",
      "up_sampler.0.res_layer.conv_layer.7.num_batches_tracked  \t  torch.Size([])\n",
      "up_sampler.0.res_layer.conv_layer.9.weight  \t  torch.Size([256, 256, 3, 3])\n",
      "up_sampler.0.res_layer.conv_layer.10.weight  \t  torch.Size([256])\n",
      "up_sampler.0.res_layer.conv_layer.10.bias  \t  torch.Size([256])\n",
      "up_sampler.0.res_layer.conv_layer.10.running_mean  \t  torch.Size([256])\n",
      "up_sampler.0.res_layer.conv_layer.10.running_var  \t  torch.Size([256])\n",
      "up_sampler.0.res_layer.conv_layer.10.num_batches_tracked  \t  torch.Size([])\n",
      "up_sampler.0.res_layer.conv_1.weight  \t  torch.Size([256, 512, 1, 1])\n",
      "up_sampler.0.res_layer.conv_1.bias  \t  torch.Size([256])\n",
      "up_sampler.1.up_sampling_layer.0.weight  \t  torch.Size([256, 128, 2, 2])\n",
      "up_sampler.1.up_sampling_layer.0.bias  \t  torch.Size([128])\n",
      "up_sampler.1.up_sampling_layer.1.weight  \t  torch.Size([128])\n",
      "up_sampler.1.up_sampling_layer.1.bias  \t  torch.Size([128])\n",
      "up_sampler.1.up_sampling_layer.1.running_mean  \t  torch.Size([128])\n",
      "up_sampler.1.up_sampling_layer.1.running_var  \t  torch.Size([128])\n",
      "up_sampler.1.up_sampling_layer.1.num_batches_tracked  \t  torch.Size([])\n",
      "up_sampler.1.res_layer.conv_layer.0.weight  \t  torch.Size([128, 256, 1, 1])\n",
      "up_sampler.1.res_layer.conv_layer.1.weight  \t  torch.Size([128])\n",
      "up_sampler.1.res_layer.conv_layer.1.bias  \t  torch.Size([128])\n",
      "up_sampler.1.res_layer.conv_layer.1.running_mean  \t  torch.Size([128])\n",
      "up_sampler.1.res_layer.conv_layer.1.running_var  \t  torch.Size([128])\n",
      "up_sampler.1.res_layer.conv_layer.1.num_batches_tracked  \t  torch.Size([])\n",
      "up_sampler.1.res_layer.conv_layer.3.weight  \t  torch.Size([128, 128, 3, 3])\n",
      "up_sampler.1.res_layer.conv_layer.4.weight  \t  torch.Size([128])\n",
      "up_sampler.1.res_layer.conv_layer.4.bias  \t  torch.Size([128])\n",
      "up_sampler.1.res_layer.conv_layer.4.running_mean  \t  torch.Size([128])\n",
      "up_sampler.1.res_layer.conv_layer.4.running_var  \t  torch.Size([128])\n",
      "up_sampler.1.res_layer.conv_layer.4.num_batches_tracked  \t  torch.Size([])\n",
      "up_sampler.1.res_layer.conv_layer.6.weight  \t  torch.Size([128, 128, 3, 3])\n",
      "up_sampler.1.res_layer.conv_layer.7.weight  \t  torch.Size([128])\n",
      "up_sampler.1.res_layer.conv_layer.7.bias  \t  torch.Size([128])\n",
      "up_sampler.1.res_layer.conv_layer.7.running_mean  \t  torch.Size([128])\n",
      "up_sampler.1.res_layer.conv_layer.7.running_var  \t  torch.Size([128])\n",
      "up_sampler.1.res_layer.conv_layer.7.num_batches_tracked  \t  torch.Size([])\n",
      "up_sampler.1.res_layer.conv_layer.9.weight  \t  torch.Size([128, 128, 3, 3])\n",
      "up_sampler.1.res_layer.conv_layer.10.weight  \t  torch.Size([128])\n",
      "up_sampler.1.res_layer.conv_layer.10.bias  \t  torch.Size([128])\n",
      "up_sampler.1.res_layer.conv_layer.10.running_mean  \t  torch.Size([128])\n",
      "up_sampler.1.res_layer.conv_layer.10.running_var  \t  torch.Size([128])\n",
      "up_sampler.1.res_layer.conv_layer.10.num_batches_tracked  \t  torch.Size([])\n",
      "up_sampler.1.res_layer.conv_1.weight  \t  torch.Size([128, 256, 1, 1])\n",
      "up_sampler.1.res_layer.conv_1.bias  \t  torch.Size([128])\n",
      "up_sampler.2.up_sampling_layer.0.weight  \t  torch.Size([128, 64, 2, 2])\n",
      "up_sampler.2.up_sampling_layer.0.bias  \t  torch.Size([64])\n",
      "up_sampler.2.up_sampling_layer.1.weight  \t  torch.Size([64])\n",
      "up_sampler.2.up_sampling_layer.1.bias  \t  torch.Size([64])\n",
      "up_sampler.2.up_sampling_layer.1.running_mean  \t  torch.Size([64])\n",
      "up_sampler.2.up_sampling_layer.1.running_var  \t  torch.Size([64])\n",
      "up_sampler.2.up_sampling_layer.1.num_batches_tracked  \t  torch.Size([])\n",
      "up_sampler.2.res_layer.conv_layer.0.weight  \t  torch.Size([64, 128, 1, 1])\n",
      "up_sampler.2.res_layer.conv_layer.1.weight  \t  torch.Size([64])\n",
      "up_sampler.2.res_layer.conv_layer.1.bias  \t  torch.Size([64])\n",
      "up_sampler.2.res_layer.conv_layer.1.running_mean  \t  torch.Size([64])\n",
      "up_sampler.2.res_layer.conv_layer.1.running_var  \t  torch.Size([64])\n",
      "up_sampler.2.res_layer.conv_layer.1.num_batches_tracked  \t  torch.Size([])\n",
      "up_sampler.2.res_layer.conv_layer.3.weight  \t  torch.Size([64, 64, 3, 3])\n",
      "up_sampler.2.res_layer.conv_layer.4.weight  \t  torch.Size([64])\n",
      "up_sampler.2.res_layer.conv_layer.4.bias  \t  torch.Size([64])\n",
      "up_sampler.2.res_layer.conv_layer.4.running_mean  \t  torch.Size([64])\n",
      "up_sampler.2.res_layer.conv_layer.4.running_var  \t  torch.Size([64])\n",
      "up_sampler.2.res_layer.conv_layer.4.num_batches_tracked  \t  torch.Size([])\n",
      "up_sampler.2.res_layer.conv_layer.6.weight  \t  torch.Size([64, 64, 3, 3])\n",
      "up_sampler.2.res_layer.conv_layer.7.weight  \t  torch.Size([64])\n",
      "up_sampler.2.res_layer.conv_layer.7.bias  \t  torch.Size([64])\n",
      "up_sampler.2.res_layer.conv_layer.7.running_mean  \t  torch.Size([64])\n",
      "up_sampler.2.res_layer.conv_layer.7.running_var  \t  torch.Size([64])\n",
      "up_sampler.2.res_layer.conv_layer.7.num_batches_tracked  \t  torch.Size([])\n",
      "up_sampler.2.res_layer.conv_layer.9.weight  \t  torch.Size([64, 64, 3, 3])\n",
      "up_sampler.2.res_layer.conv_layer.10.weight  \t  torch.Size([64])\n",
      "up_sampler.2.res_layer.conv_layer.10.bias  \t  torch.Size([64])\n",
      "up_sampler.2.res_layer.conv_layer.10.running_mean  \t  torch.Size([64])\n",
      "up_sampler.2.res_layer.conv_layer.10.running_var  \t  torch.Size([64])\n",
      "up_sampler.2.res_layer.conv_layer.10.num_batches_tracked  \t  torch.Size([])\n",
      "up_sampler.2.res_layer.conv_1.weight  \t  torch.Size([64, 128, 1, 1])\n",
      "up_sampler.2.res_layer.conv_1.bias  \t  torch.Size([64])\n",
      "up_sampler.3.up_sampling_layer.0.weight  \t  torch.Size([64, 16, 2, 2])\n",
      "up_sampler.3.up_sampling_layer.0.bias  \t  torch.Size([16])\n",
      "up_sampler.3.up_sampling_layer.1.weight  \t  torch.Size([16])\n",
      "up_sampler.3.up_sampling_layer.1.bias  \t  torch.Size([16])\n",
      "up_sampler.3.up_sampling_layer.1.running_mean  \t  torch.Size([16])\n",
      "up_sampler.3.up_sampling_layer.1.running_var  \t  torch.Size([16])\n",
      "up_sampler.3.up_sampling_layer.1.num_batches_tracked  \t  torch.Size([])\n",
      "up_sampler.3.res_layer.conv_layer.0.weight  \t  torch.Size([16, 32, 1, 1])\n",
      "up_sampler.3.res_layer.conv_layer.1.weight  \t  torch.Size([16])\n",
      "up_sampler.3.res_layer.conv_layer.1.bias  \t  torch.Size([16])\n",
      "up_sampler.3.res_layer.conv_layer.1.running_mean  \t  torch.Size([16])\n",
      "up_sampler.3.res_layer.conv_layer.1.running_var  \t  torch.Size([16])\n",
      "up_sampler.3.res_layer.conv_layer.1.num_batches_tracked  \t  torch.Size([])\n",
      "up_sampler.3.res_layer.conv_layer.3.weight  \t  torch.Size([16, 16, 3, 3])\n",
      "up_sampler.3.res_layer.conv_layer.4.weight  \t  torch.Size([16])\n",
      "up_sampler.3.res_layer.conv_layer.4.bias  \t  torch.Size([16])\n",
      "up_sampler.3.res_layer.conv_layer.4.running_mean  \t  torch.Size([16])\n",
      "up_sampler.3.res_layer.conv_layer.4.running_var  \t  torch.Size([16])\n",
      "up_sampler.3.res_layer.conv_layer.4.num_batches_tracked  \t  torch.Size([])\n",
      "up_sampler.3.res_layer.conv_layer.6.weight  \t  torch.Size([16, 16, 3, 3])\n",
      "up_sampler.3.res_layer.conv_layer.7.weight  \t  torch.Size([16])\n",
      "up_sampler.3.res_layer.conv_layer.7.bias  \t  torch.Size([16])\n",
      "up_sampler.3.res_layer.conv_layer.7.running_mean  \t  torch.Size([16])\n",
      "up_sampler.3.res_layer.conv_layer.7.running_var  \t  torch.Size([16])\n",
      "up_sampler.3.res_layer.conv_layer.7.num_batches_tracked  \t  torch.Size([])\n",
      "up_sampler.3.res_layer.conv_layer.9.weight  \t  torch.Size([16, 16, 3, 3])\n",
      "up_sampler.3.res_layer.conv_layer.10.weight  \t  torch.Size([16])\n",
      "up_sampler.3.res_layer.conv_layer.10.bias  \t  torch.Size([16])\n",
      "up_sampler.3.res_layer.conv_layer.10.running_mean  \t  torch.Size([16])\n",
      "up_sampler.3.res_layer.conv_layer.10.running_var  \t  torch.Size([16])\n",
      "up_sampler.3.res_layer.conv_layer.10.num_batches_tracked  \t  torch.Size([])\n",
      "up_sampler.3.res_layer.conv_1.weight  \t  torch.Size([16, 32, 1, 1])\n",
      "up_sampler.3.res_layer.conv_1.bias  \t  torch.Size([16])\n",
      "input_conv_layer.0.weight  \t  torch.Size([16, 3, 3, 3])\n",
      "input_conv_layer.0.bias  \t  torch.Size([16])\n",
      "input_conv_layer.1.weight  \t  torch.Size([16])\n",
      "input_conv_layer.1.bias  \t  torch.Size([16])\n",
      "input_conv_layer.1.running_mean  \t  torch.Size([16])\n",
      "input_conv_layer.1.running_var  \t  torch.Size([16])\n",
      "input_conv_layer.1.num_batches_tracked  \t  torch.Size([])\n",
      "output_conv_layer.0.weight  \t  torch.Size([16, 16, 3, 3])\n",
      "output_conv_layer.0.bias  \t  torch.Size([16])\n",
      "output_conv_layer.1.weight  \t  torch.Size([16])\n",
      "output_conv_layer.1.bias  \t  torch.Size([16])\n",
      "output_conv_layer.1.running_mean  \t  torch.Size([16])\n",
      "output_conv_layer.1.running_var  \t  torch.Size([16])\n",
      "output_conv_layer.1.num_batches_tracked  \t  torch.Size([])\n",
      "output_conv_layer.3.weight  \t  torch.Size([16, 16, 3, 3])\n",
      "output_conv_layer.3.bias  \t  torch.Size([16])\n",
      "output_conv_layer.4.weight  \t  torch.Size([3, 16, 3, 3])\n",
      "output_conv_layer.4.bias  \t  torch.Size([3])\n"
     ]
    }
   ],
   "source": [
    "for i,v in zip(fire_model.values(),fire_model.keys()):\n",
    "    print(v,\" \\t \" ,i.shape)"
   ]
  }
 ],
 "metadata": {
  "kernelspec": {
   "display_name": "Python 3",
   "language": "python",
   "name": "python3"
  },
  "language_info": {
   "codemirror_mode": {
    "name": "ipython",
    "version": 3
   },
   "file_extension": ".py",
   "mimetype": "text/x-python",
   "name": "python",
   "nbconvert_exporter": "python",
   "pygments_lexer": "ipython3",
   "version": "3.10.4"
  },
  "vscode": {
   "interpreter": {
    "hash": "369f2c481f4da34e4445cda3fffd2e751bd1c4d706f27375911949ba6bb62e1c"
   }
  }
 },
 "nbformat": 4,
 "nbformat_minor": 5
}
