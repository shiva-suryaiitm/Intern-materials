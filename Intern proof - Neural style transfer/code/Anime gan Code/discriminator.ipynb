{
 "cells": [
  {
   "cell_type": "code",
   "execution_count": 5,
   "metadata": {},
   "outputs": [],
   "source": [
    "import numpy as np\n",
    "import time\n",
    "from tqdm import tqdm\n",
    "\n",
    "import torch.nn as nn\n",
    "import torch\n",
    "import os"
   ]
  },
  {
   "cell_type": "code",
   "execution_count": 6,
   "metadata": {},
   "outputs": [],
   "source": [
    "import cv2 as cv\n",
    "import matplotlib.pyplot as plt\n",
    "\n",
    "from PIL import Image\n",
    "device = torch.device('cuda' if torch.cuda.is_available() else 'cpu' )"
   ]
  },
  {
   "attachments": {},
   "cell_type": "markdown",
   "metadata": {},
   "source": [
    "## Discriminator Block"
   ]
  },
  {
   "cell_type": "code",
   "execution_count": 7,
   "metadata": {},
   "outputs": [],
   "source": [
    "class Discriminator_Conv(nn.Module):\n",
    "\n",
    "    def __init__(self, channels, normalization, kernel = 3, stride = 2, padding = 1, activation = nn.LeakyReLU(0.2, True), is_bias = False):\n",
    "        super(Discriminator_Conv, self).__init__()\n",
    "\n",
    "        # Now initializing all the all variables\n",
    "        self.channel = channels\n",
    "        self.kernel = kernel\n",
    "        self.padding = padding\n",
    "        self.stride = stride\n",
    "        self.is_bias = is_bias\n",
    "        # self.normalization = normalization\n",
    "        # self.activation = activation\n",
    "\n",
    "        # now making the conv block\n",
    "\n",
    "        self.conv_layer = nn.Sequential(\n",
    "            nn.Conv2d(self.channel, self.channel, self.kernel, self.stride, self.padding, bias = is_bias),\n",
    "            activation,\n",
    "            nn.Conv2d(self.channel, self.channel*2, self.kernel, 1, padding = 'same', bias = is_bias),\n",
    "            normalization,\n",
    "            activation,\n",
    "        )\n",
    "    \n",
    "    def forward(self,img):\n",
    "        out_img = self.conv_layer(img)\n",
    "        return out_img"
   ]
  },
  {
   "attachments": {},
   "cell_type": "markdown",
   "metadata": {},
   "source": [
    "## Discriminator Model"
   ]
  },
  {
   "cell_type": "code",
   "execution_count": 9,
   "metadata": {},
   "outputs": [],
   "source": [
    "class Discriminator(nn.Module):\n",
    "\n",
    "    def __init__(self, args = {'name' : 'discriminator1', 'bias' : False, 'n_blocks' : 7, 'initial_channels' : 32, 'size' : (256,256),} ):\n",
    "        super(Discriminator, self).__init__()\n",
    "\n",
    "        # initializing the parameters\n",
    "        self.name = args['name']\n",
    "        self.bias = args['bias']\n",
    "\n",
    "        # n_blocks\n",
    "        self.n_blocks = args['n_blocks']\n",
    "\n",
    "        # initializing the initial channels\n",
    "        self.initial_channels = args['initial_channels']\n",
    "\n",
    "        # initial size\n",
    "        self.h,self.w = args['size']\n",
    "        h,w = self.h,self.w\n",
    "\n",
    "        # now initializing the initial layer\n",
    "        self.initial_conv_layer = nn.Sequential(\n",
    "            nn.Conv2d(3, self.initial_channels, kernel_size=3, stride=1, padding=1, bias=True),\n",
    "            nn.LeakyReLU(0.2, True)\n",
    "        )\n",
    "\n",
    "        print(f\"Warning : Please Try to give image of size as power to two, in-order to avoid any dimensionality errors\")\n",
    "\n",
    "        intermediate_layers = []\n",
    "        channels = self.initial_channels\n",
    "\n",
    "        # defining the conv blocks\n",
    "        for i in range(self.n_blocks):\n",
    "\n",
    "            # getting the image dim\n",
    "            c,h,w = channels*2,h//2,w//2\n",
    "\n",
    "            # just defining a yet another type of normalization to experiment with\n",
    "            # nn.InstanceNorm2d(c)\n",
    "            # nn.LayerNorm([c,h,w])\n",
    "            # nn.GroupNorm(1,c) # -> equivalent to layer Norm without element-wise affine\n",
    "\n",
    "            # defining the block\n",
    "            block = Discriminator_Conv(channels = channels, normalization = nn.GroupNorm(1,c), kernel = 3, stride = 2, padding = 1, activation = nn.LeakyReLU(0.2, True), is_bias = self.bias)\n",
    "\n",
    "            # appending the block\n",
    "            intermediate_layers.append(block)\n",
    "\n",
    "            # updating the channels\n",
    "            channels = channels*2\n",
    "        \n",
    "        self.intermediate_conv_layer = nn.Sequential(*intermediate_layers)\n",
    "\n",
    "        # getting the channels and image size after coming out of the loop\n",
    "        c,h,w = channels,h,w\n",
    "\n",
    "        # Now making the final conv layer to classify the output\n",
    "        self.out_conv_layer = nn.Sequential(\n",
    "            nn.Conv2d(channels, channels, 3, 1, 1, bias = self.bias),\n",
    "            nn.GroupNorm(1,c),\n",
    "            nn.LeakyReLU(0.2,True),\n",
    "            nn.Conv2d(channels, 1, 3, 1, 1, bias = True),\n",
    "        )\n",
    "    \n",
    "    # Now we have defined all layers\n",
    "\n",
    "    def forward(self,img):\n",
    "\n",
    "        out_img = self.initial_conv_layer(img)\n",
    "        out_img = self.intermediate_conv_layer(out_img)\n",
    "        out_img = self.out_conv_layer(out_img)\n",
    "\n",
    "        return out_img"
   ]
  },
  {
   "attachments": {},
   "cell_type": "markdown",
   "metadata": {},
   "source": [
    "## Testing the Discriminator model"
   ]
  },
  {
   "cell_type": "code",
   "execution_count": 10,
   "metadata": {},
   "outputs": [
    {
     "name": "stdout",
     "output_type": "stream",
     "text": [
      "Warning : Please Try to give image of size as power to two, in-order to avoid any dimensionality errors\n"
     ]
    }
   ],
   "source": [
    "# d_args = {'name' : 'discriminator1', 'bias' : False, 'n_blocks' : 3, 'initial_channels' : 32, 'size' : (256,256),}\n",
    "# d_model = Discriminator(args = d_args,).to(device)"
   ]
  },
  {
   "cell_type": "code",
   "execution_count": 11,
   "metadata": {},
   "outputs": [
    {
     "data": {
      "text/plain": [
       "Discriminator(\n",
       "  (initial_conv_layer): Sequential(\n",
       "    (0): Conv2d(3, 32, kernel_size=(3, 3), stride=(1, 1), padding=(1, 1))\n",
       "    (1): LeakyReLU(negative_slope=0.2, inplace=True)\n",
       "  )\n",
       "  (intermediate_conv_layer): Sequential(\n",
       "    (0): Discriminator_Conv(\n",
       "      (conv_layer): Sequential(\n",
       "        (0): Conv2d(32, 32, kernel_size=(3, 3), stride=(2, 2), padding=(1, 1), bias=False)\n",
       "        (1): LeakyReLU(negative_slope=0.2, inplace=True)\n",
       "        (2): Conv2d(32, 64, kernel_size=(3, 3), stride=(1, 1), padding=same, bias=False)\n",
       "        (3): GroupNorm(1, 64, eps=1e-05, affine=True)\n",
       "        (4): LeakyReLU(negative_slope=0.2, inplace=True)\n",
       "      )\n",
       "    )\n",
       "    (1): Discriminator_Conv(\n",
       "      (conv_layer): Sequential(\n",
       "        (0): Conv2d(64, 64, kernel_size=(3, 3), stride=(2, 2), padding=(1, 1), bias=False)\n",
       "        (1): LeakyReLU(negative_slope=0.2, inplace=True)\n",
       "        (2): Conv2d(64, 128, kernel_size=(3, 3), stride=(1, 1), padding=same, bias=False)\n",
       "        (3): GroupNorm(1, 128, eps=1e-05, affine=True)\n",
       "        (4): LeakyReLU(negative_slope=0.2, inplace=True)\n",
       "      )\n",
       "    )\n",
       "    (2): Discriminator_Conv(\n",
       "      (conv_layer): Sequential(\n",
       "        (0): Conv2d(128, 128, kernel_size=(3, 3), stride=(2, 2), padding=(1, 1), bias=False)\n",
       "        (1): LeakyReLU(negative_slope=0.2, inplace=True)\n",
       "        (2): Conv2d(128, 256, kernel_size=(3, 3), stride=(1, 1), padding=same, bias=False)\n",
       "        (3): GroupNorm(1, 256, eps=1e-05, affine=True)\n",
       "        (4): LeakyReLU(negative_slope=0.2, inplace=True)\n",
       "      )\n",
       "    )\n",
       "  )\n",
       "  (out_conv_layer): Sequential(\n",
       "    (0): Conv2d(256, 256, kernel_size=(3, 3), stride=(1, 1), padding=(1, 1), bias=False)\n",
       "    (1): GroupNorm(1, 256, eps=1e-05, affine=True)\n",
       "    (2): LeakyReLU(negative_slope=0.2, inplace=True)\n",
       "    (3): Conv2d(256, 1, kernel_size=(3, 3), stride=(1, 1), padding=(1, 1))\n",
       "  )\n",
       ")"
      ]
     },
     "execution_count": 11,
     "metadata": {},
     "output_type": "execute_result"
    }
   ],
   "source": [
    "# printing the model\n",
    "# d_model"
   ]
  },
  {
   "cell_type": "code",
   "execution_count": 12,
   "metadata": {},
   "outputs": [
    {
     "name": "stdout",
     "output_type": "stream",
     "text": [
      "Total Learnable weights in the model is : 1.175M\n"
     ]
    }
   ],
   "source": [
    "# # printing total learnable weights in the model \n",
    "# print(f\"Total Learnable weights in the model is : {sum([p.numel() for p in d_model.parameters() if p.requires_grad])*1e-6:.3f}M\")"
   ]
  },
  {
   "cell_type": "code",
   "execution_count": 15,
   "metadata": {},
   "outputs": [
    {
     "name": "stdout",
     "output_type": "stream",
     "text": [
      "864  -  torch.Size([32, 3, 3, 3])\n",
      "32  -  torch.Size([32])\n",
      "9216  -  torch.Size([32, 32, 3, 3])\n",
      "18432  -  torch.Size([64, 32, 3, 3])\n",
      "64  -  torch.Size([64])\n",
      "64  -  torch.Size([64])\n",
      "36864  -  torch.Size([64, 64, 3, 3])\n",
      "73728  -  torch.Size([128, 64, 3, 3])\n",
      "128  -  torch.Size([128])\n",
      "128  -  torch.Size([128])\n",
      "147456  -  torch.Size([128, 128, 3, 3])\n",
      "294912  -  torch.Size([256, 128, 3, 3])\n",
      "256  -  torch.Size([256])\n",
      "256  -  torch.Size([256])\n",
      "589824  -  torch.Size([256, 256, 3, 3])\n",
      "256  -  torch.Size([256])\n",
      "256  -  torch.Size([256])\n",
      "2304  -  torch.Size([1, 256, 3, 3])\n",
      "1  -  torch.Size([1])\n"
     ]
    }
   ],
   "source": [
    "# for p in d_model.parameters():\n",
    "#     print(p.numel(),' - ',p.shape)"
   ]
  },
  {
   "cell_type": "code",
   "execution_count": 64,
   "metadata": {},
   "outputs": [
    {
     "name": "stdout",
     "output_type": "stream",
     "text": [
      "Shape of the image is : torch.Size([3, 256, 256])\n",
      "Shape of the output image is : torch.Size([1, 32, 32])\n"
     ]
    },
    {
     "data": {
      "text/plain": [
       "<matplotlib.image.AxesImage at 0x25347bd7070>"
      ]
     },
     "execution_count": 64,
     "metadata": {},
     "output_type": "execute_result"
    },
    {
     "data": {
      "image/png": "[encoded data removed]",
      "text/plain": [
       "<Figure size 432x288 with 1 Axes>"
      ]
     },
     "metadata": {
      "needs_background": "light"
     },
     "output_type": "display_data"
    }
   ],
   "source": [
    "# ### Testing the model by passing a image\n",
    "\n",
    "# transformations = transforms.Compose([\n",
    "#     transforms.Resize((256,256)),\n",
    "#     transforms.ToTensor(),\n",
    "#     ])\n",
    "\n",
    "# img = transformations( Image.open('../../All Content Image/animals/b-1.jpg').convert('RGB') )\n",
    "# print(f\"Shape of the image is : {img.shape}\")\n",
    "# out_img = d_model(img.to(device))\n",
    "# print(f\"Shape of the output image is : {out_img.shape}\")\n",
    "\n",
    "# out_img = transforms.ToPILImage()(out_img)\n",
    "# plt.imshow(out_img)"
   ]
  }
 ],
 "metadata": {
  "kernelspec": {
   "display_name": "Python 3",
   "language": "python",
   "name": "python3"
  },
  "language_info": {
   "codemirror_mode": {
    "name": "ipython",
    "version": 3
   },
   "file_extension": ".py",
   "mimetype": "text/x-python",
   "name": "python",
   "nbconvert_exporter": "python",
   "pygments_lexer": "ipython3",
   "version": "3.10.4"
  },
  "orig_nbformat": 4
 },
 "nbformat": 4,
 "nbformat_minor": 2
}
