{
 "cells": [
  {
   "cell_type": "code",
   "execution_count": 384,
   "metadata": {},
   "outputs": [],
   "source": [
    "# common imports\n",
    "from tqdm import tqdm\n",
    "\n",
    "# pandas import\n",
    "import pandas as pd \n",
    "\n",
    "# numpy import\n",
    "import numpy as np\n",
    "import numpy.linalg  as lg\n",
    "\n",
    "# sklearn imports\n",
    "import sklearn\n",
    "from sklearn.linear_model import LinearRegression\n",
    "\n",
    "# sklearn imports\n",
    "from sklearn.model_selection import train_test_split\n",
    "from sklearn.linear_model import LinearRegression\n",
    "from sklearn.metrics import r2_score\n",
    "\n",
    "# import matplotlib\n",
    "import matplotlib.pyplot as plt"
   ]
  },
  {
   "cell_type": "code",
   "execution_count": 212,
   "metadata": {},
   "outputs": [
    {
     "data": {
      "text/html": [
       "<div>\n",
       "<style scoped>\n",
       "    .dataframe tbody tr th:only-of-type {\n",
       "        vertical-align: middle;\n",
       "    }\n",
       "\n",
       "    .dataframe tbody tr th {\n",
       "        vertical-align: top;\n",
       "    }\n",
       "\n",
       "    .dataframe thead th {\n",
       "        text-align: right;\n",
       "    }\n",
       "</style>\n",
       "<table border=\"1\" class=\"dataframe\">\n",
       "  <thead>\n",
       "    <tr style=\"text-align: right;\">\n",
       "      <th></th>\n",
       "      <th>Cement (component 1)(kg in a m^3 mixture)</th>\n",
       "      <th>Blast Furnace Slag (component 2)(kg in a m^3 mixture)</th>\n",
       "      <th>Fly Ash (component 3)(kg in a m^3 mixture)</th>\n",
       "      <th>Water  (component 4)(kg in a m^3 mixture)</th>\n",
       "      <th>Superplasticizer (component 5)(kg in a m^3 mixture)</th>\n",
       "      <th>Coarse Aggregate  (component 6)(kg in a m^3 mixture)</th>\n",
       "      <th>Fine Aggregate (component 7)(kg in a m^3 mixture)</th>\n",
       "      <th>Age (day)</th>\n",
       "      <th>Concrete compressive strength(MPa, megapascals)</th>\n",
       "    </tr>\n",
       "  </thead>\n",
       "  <tbody>\n",
       "    <tr>\n",
       "      <th>0</th>\n",
       "      <td>540.0</td>\n",
       "      <td>0.0</td>\n",
       "      <td>0.0</td>\n",
       "      <td>162.0</td>\n",
       "      <td>2.5</td>\n",
       "      <td>1040.0</td>\n",
       "      <td>676.0</td>\n",
       "      <td>28</td>\n",
       "      <td>79.986111</td>\n",
       "    </tr>\n",
       "    <tr>\n",
       "      <th>1</th>\n",
       "      <td>540.0</td>\n",
       "      <td>0.0</td>\n",
       "      <td>0.0</td>\n",
       "      <td>162.0</td>\n",
       "      <td>2.5</td>\n",
       "      <td>1055.0</td>\n",
       "      <td>676.0</td>\n",
       "      <td>28</td>\n",
       "      <td>61.887366</td>\n",
       "    </tr>\n",
       "  </tbody>\n",
       "</table>\n",
       "</div>"
      ],
      "text/plain": [
       "   Cement (component 1)(kg in a m^3 mixture)  \\\n",
       "0                                      540.0   \n",
       "1                                      540.0   \n",
       "\n",
       "   Blast Furnace Slag (component 2)(kg in a m^3 mixture)  \\\n",
       "0                                                0.0       \n",
       "1                                                0.0       \n",
       "\n",
       "   Fly Ash (component 3)(kg in a m^3 mixture)  \\\n",
       "0                                         0.0   \n",
       "1                                         0.0   \n",
       "\n",
       "   Water  (component 4)(kg in a m^3 mixture)  \\\n",
       "0                                      162.0   \n",
       "1                                      162.0   \n",
       "\n",
       "   Superplasticizer (component 5)(kg in a m^3 mixture)  \\\n",
       "0                                                2.5     \n",
       "1                                                2.5     \n",
       "\n",
       "   Coarse Aggregate  (component 6)(kg in a m^3 mixture)  \\\n",
       "0                                             1040.0      \n",
       "1                                             1055.0      \n",
       "\n",
       "   Fine Aggregate (component 7)(kg in a m^3 mixture)  Age (day)  \\\n",
       "0                                              676.0         28   \n",
       "1                                              676.0         28   \n",
       "\n",
       "   Concrete compressive strength(MPa, megapascals)   \n",
       "0                                         79.986111  \n",
       "1                                         61.887366  "
      ]
     },
     "execution_count": 212,
     "metadata": {},
     "output_type": "execute_result"
    }
   ],
   "source": [
    "data = pd.read_excel('Concrete_Data.xls')\n",
    "data.head(2)"
   ]
  },
  {
   "cell_type": "code",
   "execution_count": 213,
   "metadata": {},
   "outputs": [
    {
     "name": "stdout",
     "output_type": "stream",
     "text": [
      "<class 'pandas.core.frame.DataFrame'>\n",
      "RangeIndex: 1030 entries, 0 to 1029\n",
      "Data columns (total 9 columns):\n",
      " #   Column                                                 Non-Null Count  Dtype  \n",
      "---  ------                                                 --------------  -----  \n",
      " 0   Cement (component 1)(kg in a m^3 mixture)              1030 non-null   float64\n",
      " 1   Blast Furnace Slag (component 2)(kg in a m^3 mixture)  1030 non-null   float64\n",
      " 2   Fly Ash (component 3)(kg in a m^3 mixture)             1030 non-null   float64\n",
      " 3   Water  (component 4)(kg in a m^3 mixture)              1030 non-null   float64\n",
      " 4   Superplasticizer (component 5)(kg in a m^3 mixture)    1030 non-null   float64\n",
      " 5   Coarse Aggregate  (component 6)(kg in a m^3 mixture)   1030 non-null   float64\n",
      " 6   Fine Aggregate (component 7)(kg in a m^3 mixture)      1030 non-null   float64\n",
      " 7   Age (day)                                              1030 non-null   int64  \n",
      " 8   Concrete compressive strength(MPa, megapascals)        1030 non-null   float64\n",
      "dtypes: float64(8), int64(1)\n",
      "memory usage: 72.5 KB\n"
     ]
    }
   ],
   "source": [
    "data.info()"
   ]
  },
  {
   "cell_type": "code",
   "execution_count": 214,
   "metadata": {},
   "outputs": [
    {
     "data": {
      "text/plain": [
       "Cement (component 1)(kg in a m^3 mixture)                0\n",
       "Blast Furnace Slag (component 2)(kg in a m^3 mixture)    0\n",
       "Fly Ash (component 3)(kg in a m^3 mixture)               0\n",
       "Water  (component 4)(kg in a m^3 mixture)                0\n",
       "Superplasticizer (component 5)(kg in a m^3 mixture)      0\n",
       "Coarse Aggregate  (component 6)(kg in a m^3 mixture)     0\n",
       "Fine Aggregate (component 7)(kg in a m^3 mixture)        0\n",
       "Age (day)                                                0\n",
       "Concrete compressive strength(MPa, megapascals)          0\n",
       "dtype: int64"
      ]
     },
     "metadata": {},
     "output_type": "display_data"
    },
    {
     "name": "stdout",
     "output_type": "stream",
     "text": [
      "\n",
      "\n",
      "product description : \n",
      "  \n"
     ]
    },
    {
     "data": {
      "text/html": [
       "<div>\n",
       "<style scoped>\n",
       "    .dataframe tbody tr th:only-of-type {\n",
       "        vertical-align: middle;\n",
       "    }\n",
       "\n",
       "    .dataframe tbody tr th {\n",
       "        vertical-align: top;\n",
       "    }\n",
       "\n",
       "    .dataframe thead th {\n",
       "        text-align: right;\n",
       "    }\n",
       "</style>\n",
       "<table border=\"1\" class=\"dataframe\">\n",
       "  <thead>\n",
       "    <tr style=\"text-align: right;\">\n",
       "      <th></th>\n",
       "      <th>Cement (component 1)(kg in a m^3 mixture)</th>\n",
       "      <th>Blast Furnace Slag (component 2)(kg in a m^3 mixture)</th>\n",
       "      <th>Fly Ash (component 3)(kg in a m^3 mixture)</th>\n",
       "      <th>Water  (component 4)(kg in a m^3 mixture)</th>\n",
       "      <th>Superplasticizer (component 5)(kg in a m^3 mixture)</th>\n",
       "      <th>Coarse Aggregate  (component 6)(kg in a m^3 mixture)</th>\n",
       "      <th>Fine Aggregate (component 7)(kg in a m^3 mixture)</th>\n",
       "      <th>Age (day)</th>\n",
       "      <th>Concrete compressive strength(MPa, megapascals)</th>\n",
       "    </tr>\n",
       "  </thead>\n",
       "  <tbody>\n",
       "    <tr>\n",
       "      <th>count</th>\n",
       "      <td>1030.000000</td>\n",
       "      <td>1030.000000</td>\n",
       "      <td>1030.000000</td>\n",
       "      <td>1030.000000</td>\n",
       "      <td>1030.000000</td>\n",
       "      <td>1030.000000</td>\n",
       "      <td>1030.000000</td>\n",
       "      <td>1030.000000</td>\n",
       "      <td>1030.000000</td>\n",
       "    </tr>\n",
       "    <tr>\n",
       "      <th>mean</th>\n",
       "      <td>281.165631</td>\n",
       "      <td>73.895485</td>\n",
       "      <td>54.187136</td>\n",
       "      <td>181.566359</td>\n",
       "      <td>6.203112</td>\n",
       "      <td>972.918592</td>\n",
       "      <td>773.578883</td>\n",
       "      <td>45.662136</td>\n",
       "      <td>35.817836</td>\n",
       "    </tr>\n",
       "    <tr>\n",
       "      <th>std</th>\n",
       "      <td>104.507142</td>\n",
       "      <td>86.279104</td>\n",
       "      <td>63.996469</td>\n",
       "      <td>21.355567</td>\n",
       "      <td>5.973492</td>\n",
       "      <td>77.753818</td>\n",
       "      <td>80.175427</td>\n",
       "      <td>63.169912</td>\n",
       "      <td>16.705679</td>\n",
       "    </tr>\n",
       "    <tr>\n",
       "      <th>min</th>\n",
       "      <td>102.000000</td>\n",
       "      <td>0.000000</td>\n",
       "      <td>0.000000</td>\n",
       "      <td>121.750000</td>\n",
       "      <td>0.000000</td>\n",
       "      <td>801.000000</td>\n",
       "      <td>594.000000</td>\n",
       "      <td>1.000000</td>\n",
       "      <td>2.331808</td>\n",
       "    </tr>\n",
       "    <tr>\n",
       "      <th>25%</th>\n",
       "      <td>192.375000</td>\n",
       "      <td>0.000000</td>\n",
       "      <td>0.000000</td>\n",
       "      <td>164.900000</td>\n",
       "      <td>0.000000</td>\n",
       "      <td>932.000000</td>\n",
       "      <td>730.950000</td>\n",
       "      <td>7.000000</td>\n",
       "      <td>23.707115</td>\n",
       "    </tr>\n",
       "    <tr>\n",
       "      <th>50%</th>\n",
       "      <td>272.900000</td>\n",
       "      <td>22.000000</td>\n",
       "      <td>0.000000</td>\n",
       "      <td>185.000000</td>\n",
       "      <td>6.350000</td>\n",
       "      <td>968.000000</td>\n",
       "      <td>779.510000</td>\n",
       "      <td>28.000000</td>\n",
       "      <td>34.442774</td>\n",
       "    </tr>\n",
       "    <tr>\n",
       "      <th>75%</th>\n",
       "      <td>350.000000</td>\n",
       "      <td>142.950000</td>\n",
       "      <td>118.270000</td>\n",
       "      <td>192.000000</td>\n",
       "      <td>10.160000</td>\n",
       "      <td>1029.400000</td>\n",
       "      <td>824.000000</td>\n",
       "      <td>56.000000</td>\n",
       "      <td>46.136287</td>\n",
       "    </tr>\n",
       "    <tr>\n",
       "      <th>max</th>\n",
       "      <td>540.000000</td>\n",
       "      <td>359.400000</td>\n",
       "      <td>200.100000</td>\n",
       "      <td>247.000000</td>\n",
       "      <td>32.200000</td>\n",
       "      <td>1145.000000</td>\n",
       "      <td>992.600000</td>\n",
       "      <td>365.000000</td>\n",
       "      <td>82.599225</td>\n",
       "    </tr>\n",
       "  </tbody>\n",
       "</table>\n",
       "</div>"
      ],
      "text/plain": [
       "       Cement (component 1)(kg in a m^3 mixture)  \\\n",
       "count                                1030.000000   \n",
       "mean                                  281.165631   \n",
       "std                                   104.507142   \n",
       "min                                   102.000000   \n",
       "25%                                   192.375000   \n",
       "50%                                   272.900000   \n",
       "75%                                   350.000000   \n",
       "max                                   540.000000   \n",
       "\n",
       "       Blast Furnace Slag (component 2)(kg in a m^3 mixture)  \\\n",
       "count                                        1030.000000       \n",
       "mean                                           73.895485       \n",
       "std                                            86.279104       \n",
       "min                                             0.000000       \n",
       "25%                                             0.000000       \n",
       "50%                                            22.000000       \n",
       "75%                                           142.950000       \n",
       "max                                           359.400000       \n",
       "\n",
       "       Fly Ash (component 3)(kg in a m^3 mixture)  \\\n",
       "count                                 1030.000000   \n",
       "mean                                    54.187136   \n",
       "std                                     63.996469   \n",
       "min                                      0.000000   \n",
       "25%                                      0.000000   \n",
       "50%                                      0.000000   \n",
       "75%                                    118.270000   \n",
       "max                                    200.100000   \n",
       "\n",
       "       Water  (component 4)(kg in a m^3 mixture)  \\\n",
       "count                                1030.000000   \n",
       "mean                                  181.566359   \n",
       "std                                    21.355567   \n",
       "min                                   121.750000   \n",
       "25%                                   164.900000   \n",
       "50%                                   185.000000   \n",
       "75%                                   192.000000   \n",
       "max                                   247.000000   \n",
       "\n",
       "       Superplasticizer (component 5)(kg in a m^3 mixture)  \\\n",
       "count                                        1030.000000     \n",
       "mean                                            6.203112     \n",
       "std                                             5.973492     \n",
       "min                                             0.000000     \n",
       "25%                                             0.000000     \n",
       "50%                                             6.350000     \n",
       "75%                                            10.160000     \n",
       "max                                            32.200000     \n",
       "\n",
       "       Coarse Aggregate  (component 6)(kg in a m^3 mixture)  \\\n",
       "count                                        1030.000000      \n",
       "mean                                          972.918592      \n",
       "std                                            77.753818      \n",
       "min                                           801.000000      \n",
       "25%                                           932.000000      \n",
       "50%                                           968.000000      \n",
       "75%                                          1029.400000      \n",
       "max                                          1145.000000      \n",
       "\n",
       "       Fine Aggregate (component 7)(kg in a m^3 mixture)    Age (day)  \\\n",
       "count                                        1030.000000  1030.000000   \n",
       "mean                                          773.578883    45.662136   \n",
       "std                                            80.175427    63.169912   \n",
       "min                                           594.000000     1.000000   \n",
       "25%                                           730.950000     7.000000   \n",
       "50%                                           779.510000    28.000000   \n",
       "75%                                           824.000000    56.000000   \n",
       "max                                           992.600000   365.000000   \n",
       "\n",
       "       Concrete compressive strength(MPa, megapascals)   \n",
       "count                                       1030.000000  \n",
       "mean                                          35.817836  \n",
       "std                                           16.705679  \n",
       "min                                            2.331808  \n",
       "25%                                           23.707115  \n",
       "50%                                           34.442774  \n",
       "75%                                           46.136287  \n",
       "max                                           82.599225  "
      ]
     },
     "execution_count": 214,
     "metadata": {},
     "output_type": "execute_result"
    }
   ],
   "source": [
    "display(data.isna().sum() ); print('\\n')\n",
    "# Null values checking\n",
    "\n",
    "print('product description : \\n  ')\n",
    "data.describe()"
   ]
  },
  {
   "attachments": {},
   "cell_type": "markdown",
   "metadata": {},
   "source": [
    "# Question - 1 : Analytical vs Sklearn "
   ]
  },
  {
   "attachments": {},
   "cell_type": "markdown",
   "metadata": {},
   "source": [
    "### LinearRegression using Sklearn Model"
   ]
  },
  {
   "cell_type": "code",
   "execution_count": 215,
   "metadata": {},
   "outputs": [
    {
     "name": "stdout",
     "output_type": "stream",
     "text": [
      " R2 score of model in train set is : 62.092 \n",
      " R2 score of model in validation set is : 59.502 \n",
      "\n",
      " MSE in train data is : 107.153 \n",
      " MSE in validation data is : 108.592 \n"
     ]
    }
   ],
   "source": [
    "# using Linear Regression\n",
    "\n",
    "train, val, y_train, y_val = train_test_split( data.drop( ['Concrete compressive strength(MPa, megapascals) '], axis=1 ),\n",
    "                                               data['Concrete compressive strength(MPa, megapascals) '], \n",
    "                                               test_size = 0.3,\n",
    "                                               shuffle = True, # We can change here as 'Fasle' to not shuffle the data \n",
    "                                               random_state= 193,\n",
    "                                               )\n",
    "# Now training our Model\n",
    "model = LinearRegression()\n",
    "model.fit(train,y_train)\n",
    "\n",
    "# getting out prediction for train and val set\n",
    "prediction_val = model.predict(val)\n",
    "prediction_train = model.predict(train)\n",
    "\n",
    "# printing the R2 scores\n",
    "print(f\" R2 score of model in train set is : {r2_score(y_train,prediction_train)*100:.3f} \")\n",
    "print(f\" R2 score of model in validation set is : {r2_score(y_val,prediction_val)*100:.3f} \\n\")\n",
    "\n",
    "# Printing the MSE values\n",
    "print(f\" MSE in train data is : {np.mean((y_train-prediction_train)**2):.3f} \")\n",
    "print(f\" MSE in validation data is : {np.mean((y_val-prediction_val)**2):.3f} \")"
   ]
  },
  {
   "cell_type": "code",
   "execution_count": 216,
   "metadata": {},
   "outputs": [],
   "source": [
    "coeff, bias = model.coef_, model.intercept_"
   ]
  },
  {
   "attachments": {},
   "cell_type": "markdown",
   "metadata": {},
   "source": [
    "## Using Analytical solutions"
   ]
  },
  {
   "attachments": {},
   "cell_type": "markdown",
   "metadata": {},
   "source": [
    "Formula used : $ W = (X^TX + \\alpha I) $<sup>-1</sup> $X^T Y$\n",
    "\n",
    "$\\alpha$ = 0 , as there is no regularization, (Generalized formula with regularization)"
   ]
  },
  {
   "attachments": {},
   "cell_type": "markdown",
   "metadata": {},
   "source": [
    "$ W = (X^TX) $<sup>-1</sup> $X^T Y$"
   ]
  },
  {
   "cell_type": "code",
   "execution_count": 217,
   "metadata": {},
   "outputs": [
    {
     "data": {
      "text/html": [
       "<div>\n",
       "<style scoped>\n",
       "    .dataframe tbody tr th:only-of-type {\n",
       "        vertical-align: middle;\n",
       "    }\n",
       "\n",
       "    .dataframe tbody tr th {\n",
       "        vertical-align: top;\n",
       "    }\n",
       "\n",
       "    .dataframe thead th {\n",
       "        text-align: right;\n",
       "    }\n",
       "</style>\n",
       "<table border=\"1\" class=\"dataframe\">\n",
       "  <thead>\n",
       "    <tr style=\"text-align: right;\">\n",
       "      <th></th>\n",
       "      <th>Cement (component 1)(kg in a m^3 mixture)</th>\n",
       "      <th>Blast Furnace Slag (component 2)(kg in a m^3 mixture)</th>\n",
       "      <th>Fly Ash (component 3)(kg in a m^3 mixture)</th>\n",
       "      <th>Water  (component 4)(kg in a m^3 mixture)</th>\n",
       "      <th>Superplasticizer (component 5)(kg in a m^3 mixture)</th>\n",
       "      <th>Coarse Aggregate  (component 6)(kg in a m^3 mixture)</th>\n",
       "      <th>Fine Aggregate (component 7)(kg in a m^3 mixture)</th>\n",
       "      <th>Age (day)</th>\n",
       "      <th>bias</th>\n",
       "    </tr>\n",
       "  </thead>\n",
       "  <tbody>\n",
       "    <tr>\n",
       "      <th>382</th>\n",
       "      <td>505.0</td>\n",
       "      <td>0.0</td>\n",
       "      <td>60.0</td>\n",
       "      <td>195.0</td>\n",
       "      <td>0.0</td>\n",
       "      <td>1030.0</td>\n",
       "      <td>630.0</td>\n",
       "      <td>28</td>\n",
       "      <td>1</td>\n",
       "    </tr>\n",
       "    <tr>\n",
       "      <th>34</th>\n",
       "      <td>190.0</td>\n",
       "      <td>190.0</td>\n",
       "      <td>0.0</td>\n",
       "      <td>228.0</td>\n",
       "      <td>0.0</td>\n",
       "      <td>932.0</td>\n",
       "      <td>670.0</td>\n",
       "      <td>365</td>\n",
       "      <td>1</td>\n",
       "    </tr>\n",
       "    <tr>\n",
       "      <th>913</th>\n",
       "      <td>298.0</td>\n",
       "      <td>0.0</td>\n",
       "      <td>107.0</td>\n",
       "      <td>164.0</td>\n",
       "      <td>13.0</td>\n",
       "      <td>953.0</td>\n",
       "      <td>784.0</td>\n",
       "      <td>28</td>\n",
       "      <td>1</td>\n",
       "    </tr>\n",
       "  </tbody>\n",
       "</table>\n",
       "</div>"
      ],
      "text/plain": [
       "     Cement (component 1)(kg in a m^3 mixture)  \\\n",
       "382                                      505.0   \n",
       "34                                       190.0   \n",
       "913                                      298.0   \n",
       "\n",
       "     Blast Furnace Slag (component 2)(kg in a m^3 mixture)  \\\n",
       "382                                                0.0       \n",
       "34                                               190.0       \n",
       "913                                                0.0       \n",
       "\n",
       "     Fly Ash (component 3)(kg in a m^3 mixture)  \\\n",
       "382                                        60.0   \n",
       "34                                          0.0   \n",
       "913                                       107.0   \n",
       "\n",
       "     Water  (component 4)(kg in a m^3 mixture)  \\\n",
       "382                                      195.0   \n",
       "34                                       228.0   \n",
       "913                                      164.0   \n",
       "\n",
       "     Superplasticizer (component 5)(kg in a m^3 mixture)  \\\n",
       "382                                                0.0     \n",
       "34                                                 0.0     \n",
       "913                                               13.0     \n",
       "\n",
       "     Coarse Aggregate  (component 6)(kg in a m^3 mixture)  \\\n",
       "382                                             1030.0      \n",
       "34                                               932.0      \n",
       "913                                              953.0      \n",
       "\n",
       "     Fine Aggregate (component 7)(kg in a m^3 mixture)  Age (day)  bias  \n",
       "382                                              630.0         28     1  \n",
       "34                                               670.0        365     1  \n",
       "913                                              784.0         28     1  "
      ]
     },
     "execution_count": 217,
     "metadata": {},
     "output_type": "execute_result"
    }
   ],
   "source": [
    "# now Without Linear Regression, using Analytical Methods \n",
    "\n",
    "train['bias'] = [1]*(len(train)) # Adding bias column\n",
    "val['bias'] = [1]*(len(val))\n",
    "\n",
    "train.head(3)"
   ]
  },
  {
   "cell_type": "code",
   "execution_count": 218,
   "metadata": {},
   "outputs": [
    {
     "data": {
      "text/plain": [
       "(721, 9)"
      ]
     },
     "execution_count": 218,
     "metadata": {},
     "output_type": "execute_result"
    }
   ],
   "source": [
    "train_array = train.to_numpy() # Changing to np array to perform LinAlg operations\n",
    "train_array.shape"
   ]
  },
  {
   "cell_type": "code",
   "execution_count": 219,
   "metadata": {},
   "outputs": [
    {
     "data": {
      "text/plain": [
       "(9, 721)"
      ]
     },
     "execution_count": 219,
     "metadata": {},
     "output_type": "execute_result"
    }
   ],
   "source": [
    "train_array.transpose().shape"
   ]
  },
  {
   "cell_type": "code",
   "execution_count": 220,
   "metadata": {},
   "outputs": [
    {
     "data": {
      "text/plain": [
       "(721, 1)"
      ]
     },
     "execution_count": 220,
     "metadata": {},
     "output_type": "execute_result"
    }
   ],
   "source": [
    "y_train_array =  np.expand_dims(y_train.to_numpy(), axis=1) # to change it from (729,) -> (729,1)\n",
    "y_train_array.shape"
   ]
  },
  {
   "cell_type": "code",
   "execution_count": 221,
   "metadata": {},
   "outputs": [],
   "source": [
    "# Analytical sol :\n",
    "# W = (X.transpose()*X).inverse() * (X.transpose() * Y)\n",
    "\n",
    "# (X.transpose*X).inverse()\n",
    "term_1 = lg.inv( (train_array.transpose()@train_array) )\n",
    "\n",
    "w = term_1 @ ( train_array.transpose() @ y_train_array )"
   ]
  },
  {
   "attachments": {},
   "cell_type": "markdown",
   "metadata": {},
   "source": [
    "## Comparing coeff in each method"
   ]
  },
  {
   "cell_type": "code",
   "execution_count": 222,
   "metadata": {},
   "outputs": [],
   "source": [
    "analytical_coef, analytical_bias = w[:-1], w[-1]"
   ]
  },
  {
   "cell_type": "code",
   "execution_count": 223,
   "metadata": {},
   "outputs": [
    {
     "name": "stdout",
     "output_type": "stream",
     "text": [
      "Bias term calculated by Analytical method : 6.1596 and Bias by Model : 6.1596\n"
     ]
    }
   ],
   "source": [
    "print(f\"Bias term calculated by Analytical method : {analytical_bias[0]:.4f} and Bias by Model : {bias:.4f}\")"
   ]
  },
  {
   "cell_type": "code",
   "execution_count": 224,
   "metadata": {},
   "outputs": [
    {
     "name": "stdout",
     "output_type": "stream",
     "text": [
      " coef terms by model : \n",
      " [ 0.11315061  0.0993798   0.08067047 -0.20471145  0.21857846  0.00782762\n",
      "  0.01148195  0.12027704] \n"
     ]
    }
   ],
   "source": [
    "print(f\" coef terms by model : \\n {analytical_coef.reshape(-1)} \")"
   ]
  },
  {
   "cell_type": "code",
   "execution_count": 225,
   "metadata": {},
   "outputs": [
    {
     "name": "stdout",
     "output_type": "stream",
     "text": [
      " coef terms by model : \n",
      " [ 0.11315061  0.0993798   0.08067047 -0.20471145  0.21857846  0.00782762\n",
      "  0.01148195  0.12027704] \n"
     ]
    }
   ],
   "source": [
    "print(f\" coef terms by model : \\n {coeff} \")"
   ]
  },
  {
   "attachments": {},
   "cell_type": "markdown",
   "metadata": {},
   "source": [
    "We can see both of them are almost except some last digits"
   ]
  },
  {
   "cell_type": "code",
   "execution_count": 226,
   "metadata": {},
   "outputs": [
    {
     "name": "stdout",
     "output_type": "stream",
     "text": [
      " Are the two coef terms (Analytical and Linear) equal : True \n",
      " Are the two bias terms (Analytical and Linear) equal : True \n"
     ]
    }
   ],
   "source": [
    "# We can verify this by using np.allclose\n",
    "\n",
    "print(f\" Are the two coef terms (Analytical and Linear) equal : {np.allclose(analytical_coef.reshape(-1), coeff)} \")\n",
    "print(f\" Are the two bias terms (Analytical and Linear) equal : {np.allclose(analytical_bias.reshape(-1), bias)} \")"
   ]
  },
  {
   "attachments": {},
   "cell_type": "markdown",
   "metadata": {},
   "source": [
    "## Comparing R2 score in two methods"
   ]
  },
  {
   "cell_type": "code",
   "execution_count": 227,
   "metadata": {},
   "outputs": [
    {
     "name": "stdout",
     "output_type": "stream",
     "text": [
      " R2 score by Analytical y_pred : 59.50210154266039 \n",
      " MSE obtained by Analytical method : 108.5924636443653\n"
     ]
    }
   ],
   "source": [
    "y_pred = (val.to_numpy() @ w).reshape(-1) # to change from (309,1) -> (309,)\n",
    "\n",
    "print(f\" R2 score by Analytical y_pred : {r2_score(y_val,y_pred)*100} \")\n",
    "print(f\" MSE obtained by Analytical method : {np.mean( (y_val.to_numpy()-y_pred)**2 )}\")"
   ]
  },
  {
   "attachments": {},
   "cell_type": "markdown",
   "metadata": {},
   "source": [
    "***`Scores obtained by Sklearn Model is given in top section`***\n",
    "\n",
    "So both of the score validation set is equal"
   ]
  },
  {
   "attachments": {},
   "cell_type": "markdown",
   "metadata": {},
   "source": [
    "# Question - 2 : L2 Regularization"
   ]
  },
  {
   "attachments": {},
   "cell_type": "markdown",
   "metadata": {},
   "source": [
    "### With Sklearn "
   ]
  },
  {
   "cell_type": "code",
   "execution_count": 424,
   "metadata": {},
   "outputs": [],
   "source": [
    "train, val = train.drop(['bias'],axis=1), val.drop( ['bias'] ,axis=1)"
   ]
  },
  {
   "cell_type": "code",
   "execution_count": 442,
   "metadata": {},
   "outputs": [],
   "source": [
    "from sklearn.linear_model import Ridge\n",
    "\n",
    "def regression_with_regularization(alphas = [1], print_enabled = True):\n",
    "\n",
    "    R2_train, R2_val = [], []\n",
    "    mse_train, mse_val = [], []\n",
    "\n",
    "    if print_enabled :\n",
    "        # printing the R2 scores\n",
    "        print(f\" R2 score of Linear model in train set is : {r2_score(y_train,prediction_train)*100:.3f} \")\n",
    "        print(f\" R2 score of Linear model in validation set is : {r2_score(y_val,prediction_val)*100:.3f} \")\n",
    "\n",
    "        # Printing the MSE values\n",
    "        print(f\" MSE in Linear train data is : {np.mean((y_train-prediction_train)**2):.3f} \")\n",
    "        print(f\" MSE in Linear validation data is : {np.mean((y_val-prediction_val)**2):.3f} \\n\")\n",
    "\n",
    "    for i in tqdm(alphas):\n",
    "        \n",
    "        model_2 = Ridge(alpha = i) # alpha is the weight multiplied with the L2 regularization\n",
    "        model_2.fit(train,y_train)\n",
    "        y_pred = model_2.predict(val)\n",
    "\n",
    "        r2_t, r2_v = model_2.score(train,y_train)*100, model_2.score(val,y_val)*100\n",
    "        mse_t, mse_v = np.mean((model_2.predict(train)-y_train)**2), np.mean( (model_2.predict(val)-y_val)**2 )\n",
    "\n",
    "        #print(model_2.coef_, model_2.intercept_)\n",
    "    \n",
    "\n",
    "        if print_enabled :\n",
    "            print(f\" R2 score on the train_set is (with Regularization): {r2_t:.3f} \")\n",
    "            print(f\" R2 score on the val_set is (with Regularization): {r2_v:.3f} \")\n",
    "\n",
    "            print(f\" MSE loss for train set is (with Regularization): {mse_t} \")\n",
    "            print(f\" MSE loss for val set is (with Regularization): {mse_v} \\n\")\n",
    "\n",
    "        R2_train.append(r2_t); R2_val.append(r2_v); mse_train.append(mse_t); mse_val.append(mse_v) \n",
    "    \n",
    "    return R2_train, R2_val, mse_train, mse_val\n"
   ]
  },
  {
   "cell_type": "code",
   "execution_count": 446,
   "metadata": {},
   "outputs": [
    {
     "name": "stderr",
     "output_type": "stream",
     "text": [
      "100%|██████████| 2000/2000 [00:08<00:00, 235.05it/s]\n"
     ]
    }
   ],
   "source": [
    "alphas = np.arange(0,2e5,100)\n",
    "info = regression_with_regularization(alphas, False)"
   ]
  },
  {
   "cell_type": "code",
   "execution_count": 447,
   "metadata": {},
   "outputs": [
    {
     "data": {
      "image/png": "[encoded data removed]",
      "text/plain": [
       "<Figure size 1368x720 with 4 Axes>"
      ]
     },
     "metadata": {
      "needs_background": "light"
     },
     "output_type": "display_data"
    }
   ],
   "source": [
    "plt.figure(figsize=(19,10))\n",
    "\n",
    "plt.subplot(2,2,1)\n",
    "plt.xlabel('alpha')\n",
    "plt.ylabel('R2_score')\n",
    "plt.plot(alphas, info[0], label='R2_score_train')\n",
    "#plt.plot(alphas, info[1], label='R2_score_val')\n",
    "plt.legend(loc='best')\n",
    "\n",
    "plt.subplot(2,2,2)\n",
    "plt.xlabel('alpha')\n",
    "plt.ylabel('MSE Loss')\n",
    "plt.plot(alphas, info[2], label='mse_train')\n",
    "#plt.plot(alphas, info[3], label='mse_val')\n",
    "plt.legend(loc='best')\n",
    "\n",
    "plt.subplot(2,2,3)\n",
    "plt.xlabel('alpha')\n",
    "plt.ylabel('R2 score')\n",
    "#plt.plot(alphas, info[2], label='mse_train')\n",
    "plt.plot(alphas, info[1], label='r2_score_val', color='r')\n",
    "plt.legend(loc='best')\n",
    "\n",
    "plt.subplot(2,2,4)\n",
    "plt.xlabel('alpha')\n",
    "plt.ylabel('MSE Loss')\n",
    "plt.plot(alphas, info[3], label='mse_val', color='r')\n",
    "#plt.plot(alphas, info[3], label='mse_val')\n",
    "plt.legend(loc='best')\n",
    "\n",
    "plt.show()"
   ]
  },
  {
   "cell_type": "markdown",
   "metadata": {},
   "source": [
    "so we can see there is only a slight variation in the R2 score according to the alpha values in L2 norm"
   ]
  },
  {
   "attachments": {},
   "cell_type": "markdown",
   "metadata": {},
   "source": [
    "We can conclude that, as the ***original weights are itself very small (|w|<1)*** , the ***effect of L2 norm is very less for small values of lambda*** as the extra **`error depends on the square of the weights`** "
   ]
  },
  {
   "attachments": {},
   "cell_type": "markdown",
   "metadata": {},
   "source": [
    "***`That's why we can only see much change with higher alpha values`***"
   ]
  },
  {
   "attachments": {},
   "cell_type": "markdown",
   "metadata": {},
   "source": [
    "***`Around alpha = 1 lakh we can see , our model performs better on the validation data`*** , after that error starts increasing"
   ]
  },
  {
   "cell_type": "code",
   "execution_count": 230,
   "metadata": {},
   "outputs": [
    {
     "data": {
      "text/plain": [
       "(721, 8)"
      ]
     },
     "execution_count": 230,
     "metadata": {},
     "output_type": "execute_result"
    }
   ],
   "source": [
    "# The change in results is almost equal to zero as, the weights are almost near tol zero so the L2 weight is almost near to zeros , so the error obtained by L2 regularization is very low "
   ]
  },
  {
   "attachments": {},
   "cell_type": "markdown",
   "metadata": {},
   "source": [
    "### With Numpy "
   ]
  },
  {
   "attachments": {},
   "cell_type": "markdown",
   "metadata": {},
   "source": [
    "$ W = (X^TX + \\alpha I) $<sup>-1</sup> $X^T Y$"
   ]
  },
  {
   "attachments": {},
   "cell_type": "markdown",
   "metadata": {},
   "source": [
    "The Given Equ is used to calculate the parameters with L2 regularization for a given ***\"$\\alpha$\"*** value"
   ]
  },
  {
   "cell_type": "code",
   "execution_count": 448,
   "metadata": {},
   "outputs": [],
   "source": [
    "train['bias'], val['bias'] = [1]*(len(train)), [1]*(len(val))"
   ]
  },
  {
   "cell_type": "code",
   "execution_count": 449,
   "metadata": {},
   "outputs": [],
   "source": [
    "from sklearn.linear_model import Ridge\n",
    "\n",
    "def numpy_regularization(alphas_list = [1], print_enabled = True):\n",
    "\n",
    "    X,Y = train.to_numpy(), y_train.to_numpy()\n",
    "    X_val, Y_val = val.to_numpy(), y_val.to_numpy()\n",
    "\n",
    "    R2_train, R2_val = [], []\n",
    "    mse_train, mse_val = [], []\n",
    "\n",
    "    if print_enabled :\n",
    "        # printing the R2 scores\n",
    "        print(f\" R2 score of Linear model in train set is : {r2_score(y_train,prediction_train)*100:.3f} \")\n",
    "        print(f\" R2 score of Linear model in validation set is : {r2_score(y_val,prediction_val)*100:.3f} \")\n",
    "\n",
    "        # Printing the MSE values\n",
    "        print(f\" MSE in Linear train data is : {np.mean((y_train-prediction_train)**2):.3f} \")\n",
    "        print(f\" MSE in Linear validation data is : {np.mean((y_val-prediction_val)**2):.3f} \\n\")\n",
    "\n",
    "    for alpha in tqdm(alphas_list):\n",
    "        \n",
    "        weights = lg.inv(( X.transpose()@X + alpha*np.identity(X.shape[1]) ))@(X.transpose()@Y) # alpha is the weight multiplied with the L2 regularization\n",
    "\n",
    "        #print(weights)\n",
    "\n",
    "        y_pred_train = X@weights\n",
    "        y_pred_val = X_val@weights\n",
    "\n",
    "        #raise Exception('test -1 ')\n",
    "\n",
    "        r2_t, r2_v = r2_score(y_train, y_pred_train)*100, r2_score(Y_val, y_pred_val)*100\n",
    "        mse_t, mse_v = np.mean((y_pred_train-y_train)**2), np.mean( (y_pred_val-Y_val)**2 )\n",
    "\n",
    "        if print_enabled :\n",
    "            print(f\" R2 score on the train_set is (with Regularization): {r2_t:.3f} \")\n",
    "            print(f\" R2 score on the val_set is (with Regularization): {r2_v:.3f} \")\n",
    "\n",
    "            print(f\" MSE loss for train set is (with Regularization): {mse_t} \")\n",
    "            print(f\" MSE loss for val set is (with Regularization): {mse_v} \\n\")\n",
    "\n",
    "        R2_train.append(r2_t); R2_val.append(r2_v); mse_train.append(mse_t); mse_val.append(mse_v) \n",
    "    \n",
    "    return R2_train, R2_val, mse_train, mse_val\n"
   ]
  },
  {
   "cell_type": "code",
   "execution_count": 450,
   "metadata": {},
   "outputs": [
    {
     "name": "stderr",
     "output_type": "stream",
     "text": [
      "100%|██████████| 2000/2000 [00:01<00:00, 1451.09it/s]\n"
     ]
    }
   ],
   "source": [
    "alphas = np.arange(0,2e5,100)\n",
    "info = numpy_regularization(alphas, False)"
   ]
  },
  {
   "cell_type": "code",
   "execution_count": 451,
   "metadata": {},
   "outputs": [
    {
     "data": {
      "image/png": "[encoded data removed]",
      "text/plain": [
       "<Figure size 1368x720 with 4 Axes>"
      ]
     },
     "metadata": {
      "needs_background": "light"
     },
     "output_type": "display_data"
    }
   ],
   "source": [
    "plt.figure(figsize=(19,10))\n",
    "\n",
    "plt.subplot(2,2,1)\n",
    "plt.xlabel('alpha')\n",
    "plt.ylabel('R2_score')\n",
    "plt.plot(alphas, info[0], label='R2_score_train')\n",
    "#plt.plot(alphas, info[1], label='R2_score_val')\n",
    "plt.legend(loc='best')\n",
    "\n",
    "plt.subplot(2,2,2)\n",
    "plt.xlabel('alpha')\n",
    "plt.ylabel('MSE Loss')\n",
    "plt.plot(alphas, info[2], label='mse_train')\n",
    "#plt.plot(alphas, info[3], label='mse_val')\n",
    "plt.legend(loc='best')\n",
    "\n",
    "plt.subplot(2,2,3)\n",
    "plt.xlabel('alpha')\n",
    "plt.ylabel('R2 score')\n",
    "#plt.plot(alphas, info[2], label='mse_train')\n",
    "plt.plot(alphas, info[1], label='r2_score_val', color='r')\n",
    "plt.legend(loc='best')\n",
    "\n",
    "plt.subplot(2,2,4)\n",
    "plt.xlabel('alpha')\n",
    "plt.ylabel('MSE Loss')\n",
    "plt.plot(alphas, info[3], label='mse_val', color='r')\n",
    "#plt.plot(alphas, info[3], label='mse_val')\n",
    "plt.legend(loc='best')\n",
    "\n",
    "plt.show()"
   ]
  },
  {
   "attachments": {},
   "cell_type": "markdown",
   "metadata": {},
   "source": [
    "***`A)`*** In Both cases, we can see that the ***`validation loss`*** increases at first, but it decreases after some point and continuously starts to increase\n",
    "\n",
    "This shows we got ***`saturation after some-point`*** like ***`around 1lakh alpha`*** value , after which the r2_score decreases and loss increases in validation dataset"
   ]
  },
  {
   "attachments": {},
   "cell_type": "markdown",
   "metadata": {},
   "source": [
    "***`B)`*** For the first few alpha values, We are getting degrading results. But after that results getting improved , which tells us that ***`higher values of regularization required to prevent the model from over-fitting`*** "
   ]
  },
  {
   "attachments": {},
   "cell_type": "markdown",
   "metadata": {},
   "source": [
    "# Question - 3 : Polynomial Regression"
   ]
  },
  {
   "attachments": {},
   "cell_type": "markdown",
   "metadata": {},
   "source": [
    "### Using Sklearn Package"
   ]
  },
  {
   "cell_type": "code",
   "execution_count": 453,
   "metadata": {},
   "outputs": [],
   "source": [
    "train, val = train.drop(['bias'],axis=1), val.drop( ['bias'] ,axis=1)"
   ]
  },
  {
   "cell_type": "code",
   "execution_count": 454,
   "metadata": {},
   "outputs": [
    {
     "name": "stdout",
     "output_type": "stream",
     "text": [
      " Right now our data has total no : 45 features, including power-1 features\n"
     ]
    }
   ],
   "source": [
    "from sklearn.preprocessing import PolynomialFeatures\n",
    "poly_2 = PolynomialFeatures(2)\n",
    "\n",
    "train_degree_2 = poly_2.fit_transform(train)\n",
    "val_degree_2 = poly_2.fit_transform(val)\n",
    "\n",
    "# A)\n",
    "print(f\" Right now our data has total no : {train_degree_2.shape[1]} features, including power-1 features\")"
   ]
  },
  {
   "attachments": {},
   "cell_type": "markdown",
   "metadata": {},
   "source": [
    "***`B)`***"
   ]
  },
  {
   "cell_type": "code",
   "execution_count": 305,
   "metadata": {},
   "outputs": [
    {
     "name": "stdout",
     "output_type": "stream",
     "text": [
      " R2 score on the train_set is : 81.10764 \n",
      " R2 score on the train_set is : 78.10241 \n",
      " MSE loss for train set is : 53.40200629131388 \n",
      " MSE loss for val set is : 58.71694164411323 \n",
      " \n",
      " Quadratic Model has been trained \n"
     ]
    }
   ],
   "source": [
    "model_poly = LinearRegression() # alpha is the weight multiplied with the L2 regularization\n",
    "model_poly.fit(train_degree_2,y_train)\n",
    "y_pred = model_poly.predict(val_degree_2)\n",
    "\n",
    "print(f\" R2 score on the train_set is : {model_poly.score(train_degree_2,y_train)*100:.5f} \")\n",
    "print(f\" R2 score on the train_set is : {model_poly.score(val_degree_2,y_val)*100:.5f} \")\n",
    "\n",
    "print(f\" MSE loss for train set is : {np.mean( (model_poly.predict(train_degree_2)-y_train)**2 )} \")\n",
    "print(f\" MSE loss for val set is : {np.mean( (model_poly.predict(val_degree_2)-y_val)**2 )} \")\n",
    "\n",
    "print(f\" \\n Quadratic Model has been trained \")"
   ]
  },
  {
   "attachments": {},
   "cell_type": "markdown",
   "metadata": {},
   "source": [
    "***`c)`***\n",
    "\n",
    "The ***`results got improved in Quality`*** , which we can infer ***`by seeing the MSE loss and the R2 score `*** os the train and validation set\n",
    "\n",
    "R2 score got improved a lot and MSE Loss got reduced"
   ]
  },
  {
   "attachments": {},
   "cell_type": "markdown",
   "metadata": {},
   "source": [
    "***`D)`***\n"
   ]
  },
  {
   "attachments": {},
   "cell_type": "markdown",
   "metadata": {},
   "source": [
    "The formula for 3rd degree polynomial is :  <sup>n+2</sup>$ C_3 $\n",
    "\n",
    "Here n = 8, so features = $\\dfrac{(10)(9)(8)}{(2)(3)}$\n",
    "\n",
    "Therefore $`120`$ features in power-3"
   ]
  },
  {
   "cell_type": "code",
   "execution_count": 459,
   "metadata": {},
   "outputs": [
    {
     "name": "stdout",
     "output_type": "stream",
     "text": [
      " Right now our data has total no : 165 features, including power-1 and power-2 features\n",
      " Features with power 3 is : 120 \n"
     ]
    }
   ],
   "source": [
    "poly_3 = PolynomialFeatures(3)\n",
    "\n",
    "train_degree_3 = poly_3.fit_transform(train)\n",
    "print(f\" Right now our data has total no : {train_degree_3.shape[1]} features, including power-1 and power-2 features\")\n",
    "print(f\" Features with power 3 is : {120} \")"
   ]
  }
 ],
 "metadata": {
  "kernelspec": {
   "display_name": "Python 3",
   "language": "python",
   "name": "python3"
  },
  "language_info": {
   "codemirror_mode": {
    "name": "ipython",
    "version": 3
   },
   "file_extension": ".py",
   "mimetype": "text/x-python",
   "name": "python",
   "nbconvert_exporter": "python",
   "pygments_lexer": "ipython3",
   "version": "3.10.4"
  },
  "orig_nbformat": 4,
  "vscode": {
   "interpreter": {
    "hash": "369f2c481f4da34e4445cda3fffd2e751bd1c4d706f27375911949ba6bb62e1c"
   }
  }
 },
 "nbformat": 4,
 "nbformat_minor": 2
}
