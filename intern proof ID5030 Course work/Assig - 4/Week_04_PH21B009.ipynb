{
 "cells": [
  {
   "cell_type": "code",
   "execution_count": 435,
   "metadata": {},
   "outputs": [],
   "source": [
    "# common imports\n",
    "\n",
    "import pandas as pd\n",
    "import numpy as np\n",
    "import matplotlib.pyplot as plt\n",
    "import seaborn as sns\n",
    "import time \n",
    "from tqdm import tqdm\n",
    "\n",
    "# sklearn imports\n",
    "import sklearn\n",
    "from sklearn import datasets\n",
    "from sklearn.preprocessing import OneHotEncoder\n",
    "from sklearn.metrics import confusion_matrix, r2_score, accuracy_score, f1_score"
   ]
  },
  {
   "cell_type": "code",
   "execution_count": 436,
   "metadata": {},
   "outputs": [],
   "source": [
    "# Neural Network Imports \n",
    "import torch\n",
    "import torch.nn as nn"
   ]
  },
  {
   "cell_type": "code",
   "execution_count": 437,
   "metadata": {},
   "outputs": [],
   "source": [
    "def Sigmoid_python(y_pred):\n",
    "    probability = 1/(1+np.e**-y_pred)\n",
    "    return probability"
   ]
  },
  {
   "cell_type": "code",
   "execution_count": 438,
   "metadata": {},
   "outputs": [],
   "source": [
    "def softmax_python(output):\n",
    "    # print(output.shape)\n",
    "    z = np.e**output\n",
    "    probabilities = np.array( [x/sum(x) for x in z] )\n",
    "    return probabilities"
   ]
  },
  {
   "cell_type": "code",
   "execution_count": 439,
   "metadata": {},
   "outputs": [],
   "source": [
    "def Cross_Entropy_Loss(y_label, y_pred):\n",
    "\n",
    "    log_prob = np.log(y_pred)\n",
    "    # calculating the Cross_Entropy_Loss\n",
    "    loss = -sum([np.dot(log_prob[i],y_label[i]) for i in range(150)])\n",
    "\n",
    "    # print(loss,y_pred[0])\n",
    "\n",
    "    return loss"
   ]
  },
  {
   "cell_type": "code",
   "execution_count": 440,
   "metadata": {},
   "outputs": [],
   "source": [
    "def BCE_Loss(y_label, y_pred):\n",
    "\n",
    "    log_prob_1 = np.log(y_pred)\n",
    "    log_prob_2, label2 = np.log(1-y_pred), 1-y_label\n",
    "\n",
    "    # print(f\" shape of the log_prob_1 :{log_prob_1.shape} \\n shape of the log_prob_2 :{log_prob_2.shape} \\n shape of the y_label :{y_label.shape} \\n {np.dot(y_label,log_prob_1)}\")\n",
    "    # Shape of y_pred is (1 x m) and Shape of y_label is (m x 1)\n",
    "    loss = - ( y_label@log_prob_1 + label2@log_prob_2 )\n",
    "    # print(loss, loss.shape)\n",
    "\n",
    "\n",
    "    return loss"
   ]
  },
  {
   "cell_type": "code",
   "execution_count": 441,
   "metadata": {},
   "outputs": [],
   "source": [
    "def Sigmoid_BCE_Grad(x,y,y_pred):\n",
    "\n",
    "    w_grad = -( x.transpose()@(y-y_pred.reshape(-1)) / len(x) )\n",
    "    b_grad = -np.mean(y-y_pred.reshape(-1))\n",
    "\n",
    "    w_grad = w_grad.reshape((w_grad.shape[0],1))\n",
    "\n",
    "    # print(w_grad.shape, b_grad, y,y_pred)\n",
    "    # lab\n",
    "\n",
    "    return w_grad, b_grad"
   ]
  },
  {
   "cell_type": "code",
   "execution_count": 442,
   "metadata": {},
   "outputs": [],
   "source": [
    "def Softmax_CE_Grad(x,y,y_pred):\n",
    "\n",
    "    w_grad = -( x.transpose()@(y-y_pred) / len(x) )\n",
    "    b_grad = -np.mean(y-y_pred,axis=0)\n",
    "\n",
    "    # w_grad = w_grad.reshape((w_grad.shape[0],1))\n",
    "\n",
    "    # print(w_grad.shape, b_grad.shape,)\n",
    "    # lab\n",
    "\n",
    "    return w_grad, b_grad"
   ]
  },
  {
   "attachments": {},
   "cell_type": "markdown",
   "metadata": {},
   "source": [
    "## Common Template for training"
   ]
  },
  {
   "attachments": {},
   "cell_type": "markdown",
   "metadata": {},
   "source": [
    "Common Template, can be used for both problems Numpy Implementation"
   ]
  },
  {
   "cell_type": "code",
   "execution_count": 443,
   "metadata": {},
   "outputs": [],
   "source": [
    "class numpy_logistic():\n",
    "\n",
    "    def __init__(self, data, name):\n",
    "        self.data = data\n",
    "        self.name = name\n",
    "    \n",
    "    def prepare_data(self, normalize = False, iris=False):\n",
    "        \n",
    "        if not iris:\n",
    "            self.x = self.data[:,:-1]\n",
    "            self.y = self.data[:,-1]\n",
    "            self.normalize = normalize\n",
    "\n",
    "        # Iris data has different structure\n",
    "        else:\n",
    "            self.x = self.data[0]\n",
    "            self.y = self.data[1]\n",
    "\n",
    "            if normalize:\n",
    "                # getting the std and mu of the data\n",
    "                mu = np.mean(self.x, axis = 0)\n",
    "                std = np.std(self.x, axis = 0)\n",
    "                self.x = ( self.x - mu ) / (std)\n",
    "    \n",
    "    def train_regressor(self, loss_fn, classification_fn , gradient_fn, epochs=10, lr=1e-1, print_enabled=False ):\n",
    "        # random initialization of weights\n",
    "        loss_list = []\n",
    "        k = 1 if len(self.y.shape) == 1 else  self.y.shape[1]\n",
    "        w = np.random.randn(self.x.shape[1], k)\n",
    "        bias = np.random.randn(k)\n",
    "\n",
    "        for e in tqdm(range(epochs)):\n",
    "\n",
    "            y_pred = self.x@w + bias\n",
    "            y_pred = classification_fn(y_pred)\n",
    "\n",
    "            # print( w, bias)\n",
    "\n",
    "            # calculating loss here:\n",
    "            loss = loss_fn(self.y, y_pred)\n",
    "\n",
    "            # performing GD here\n",
    "            w_grad, bias_grad =  gradient_fn(self.x,self.y,y_pred)\n",
    "\n",
    "            # weight update\n",
    "            w = w - lr*w_grad\n",
    "            bias = bias - lr*bias_grad\n",
    "\n",
    "            # print(w,bias)\n",
    "\n",
    "            # appending loss to the list\n",
    "            loss_list.append(loss)\n",
    "\n",
    "        if print_enabled:\n",
    "            print(f\" Learning_rate : {lr} and no.of epochs : {epochs} a self.x_normalized : {self.normalize}\")\n",
    "            print(f\" Final Train loss (MSE) is : {loss_list[-1]:.4f}  \")\n",
    "        \n",
    "        self.w = w\n",
    "        self.bias = bias\n",
    "        self.loss_list = loss_list\n",
    "\n",
    "        return loss_list  \n",
    "\n",
    "    def draw_graph(self, classification_fn=softmax_python):\n",
    "\n",
    "        plt.figure(figsize=(6,6))\n",
    "        plt.plot(self.loss_list, label=f'{self.name} loss')\n",
    "        plt.xlabel('epochs')\n",
    "        plt.ylabel('loss')\n",
    "        plt.legend(loc='best')\n",
    "        plt.show()\n",
    "\n",
    "        if self.x.shape[1] < 3:\n",
    "            print(f' x and y weights : {self.w[0], self.w[1]}' )\n",
    "            x = np.linspace(-0.5,1.5,100)\n",
    "            y = -( self.w[0]*x) - self.bias\n",
    "            y = y/self.w[1] \n",
    "            \n",
    "            plt.figure(figsize=(6,6))\n",
    "            sns.scatterplot(x = self.x[:,0], y = self.x[:,1], hue=self.y)\n",
    "            plt.plot(x,y,'g-')\n",
    "            plt.show()\n",
    "\n",
    "        else:\n",
    "            plt.figure(figsize=(7,7))\n",
    "            labels = ['setosa', 'versicolor', 'virginica']\n",
    "\n",
    "            y_true = np.argmax(self.y,axis=1)\n",
    "            y_pred = self.x@self.w + self.bias\n",
    "            y_pred = np.argmax( classification_fn(y_pred) , 1)\n",
    "\n",
    "            print(f\" Accuracy of our current classifier is : {accuracy_score(y_true,y_pred)*100:.2f} %\")\n",
    "            plt.title('Confusion Matrix')\n",
    "            cm = confusion_matrix(y_true, y_pred, normalize='true')\n",
    "            sns.heatmap(cm, xticklabels=labels, yticklabels=labels, annot=True)\n",
    "            plt.show()"
   ]
  },
  {
   "attachments": {},
   "cell_type": "markdown",
   "metadata": {},
   "source": [
    "# Question - 1"
   ]
  },
  {
   "cell_type": "code",
   "execution_count": 444,
   "metadata": {},
   "outputs": [],
   "source": [
    "OR_data = np.array([[x,y,bool(x+y)] for x in [0,1] for y in [0,1]])\n",
    "AND_data = np.array([[x,y,bool(x*y)] for x in [0,1] for y in [0,1]])\n",
    "XOR_data = np.array([[x,y,bool(bool(x+y) - x*y)] for x in [0,1] for y in [0,1]])"
   ]
  },
  {
   "cell_type": "code",
   "execution_count": 445,
   "metadata": {},
   "outputs": [
    {
     "name": "stdout",
     "output_type": "stream",
     "text": [
      " The OR data is : \n",
      " [[0 0 0]\n",
      " [0 1 1]\n",
      " [1 0 1]\n",
      " [1 1 1]]\n",
      "\n",
      " The AND data is : \n",
      " [[0 0 0]\n",
      " [0 1 0]\n",
      " [1 0 0]\n",
      " [1 1 1]]\n",
      "\n",
      " The XOR data is : \n",
      " [[0 0 0]\n",
      " [0 1 1]\n",
      " [1 0 1]\n",
      " [1 1 0]]\n",
      "\n"
     ]
    }
   ],
   "source": [
    "print(f\" The OR data is : \\n {OR_data}\\n\")\n",
    "print(f\" The AND data is : \\n {AND_data}\\n\")\n",
    "print(f\" The XOR data is : \\n {XOR_data}\\n\")"
   ]
  },
  {
   "attachments": {},
   "cell_type": "markdown",
   "metadata": {},
   "source": [
    "## OR data"
   ]
  },
  {
   "cell_type": "code",
   "execution_count": 446,
   "metadata": {},
   "outputs": [],
   "source": [
    "OR_numpy = numpy_logistic(OR_data, 'OR_Gate')\n",
    "OR_numpy.prepare_data()"
   ]
  },
  {
   "cell_type": "code",
   "execution_count": 447,
   "metadata": {},
   "outputs": [
    {
     "name": "stderr",
     "output_type": "stream",
     "text": [
      "100%|██████████| 1000/1000 [00:00<00:00, 31122.17it/s]\n"
     ]
    }
   ],
   "source": [
    "loss = OR_numpy.train_regressor(BCE_Loss, Sigmoid_python, Sigmoid_BCE_Grad, lr = 1e-1, epochs = 1000)"
   ]
  },
  {
   "cell_type": "code",
   "execution_count": 448,
   "metadata": {},
   "outputs": [
    {
     "data": {
      "image/png": "[encoded data removed]",
      "text/plain": [
       "<Figure size 432x432 with 1 Axes>"
      ]
     },
     "metadata": {
      "needs_background": "light"
     },
     "output_type": "display_data"
    },
    {
     "name": "stdout",
     "output_type": "stream",
     "text": [
      " x and y weights : (array([4.24738579]), array([4.13296153]))\n"
     ]
    },
    {
     "data": {
      "image/png": "[encoded data removed]",
      "text/plain": [
       "<Figure size 432x432 with 1 Axes>"
      ]
     },
     "metadata": {
      "needs_background": "light"
     },
     "output_type": "display_data"
    }
   ],
   "source": [
    "OR_numpy.draw_graph()"
   ]
  },
  {
   "attachments": {},
   "cell_type": "markdown",
   "metadata": {},
   "source": [
    "## AND data"
   ]
  },
  {
   "cell_type": "code",
   "execution_count": 462,
   "metadata": {},
   "outputs": [],
   "source": [
    "AND_numpy = numpy_logistic(AND_data, 'OR_Gate')\n",
    "AND_numpy.prepare_data()"
   ]
  },
  {
   "cell_type": "code",
   "execution_count": 450,
   "metadata": {},
   "outputs": [
    {
     "name": "stderr",
     "output_type": "stream",
     "text": [
      "100%|██████████| 1000/1000 [00:00<00:00, 25986.37it/s]\n"
     ]
    },
    {
     "data": {
      "image/png": "[encoded data removed]",
      "text/plain": [
       "<Figure size 432x432 with 1 Axes>"
      ]
     },
     "metadata": {
      "needs_background": "light"
     },
     "output_type": "display_data"
    },
    {
     "name": "stdout",
     "output_type": "stream",
     "text": [
      " x and y weights : (array([3.03137977]), array([3.02741025]))\n"
     ]
    },
    {
     "data": {
      "image/png": "[encoded data removed]",
      "text/plain": [
       "<Figure size 432x432 with 1 Axes>"
      ]
     },
     "metadata": {
      "needs_background": "light"
     },
     "output_type": "display_data"
    }
   ],
   "source": [
    "loss = AND_numpy.train_regressor(BCE_Loss, Sigmoid_python, Sigmoid_BCE_Grad, lr = 1e-1, epochs = 1000)\n",
    "AND_numpy.draw_graph()"
   ]
  },
  {
   "attachments": {},
   "cell_type": "markdown",
   "metadata": {},
   "source": [
    "## XOR Data"
   ]
  },
  {
   "cell_type": "code",
   "execution_count": 451,
   "metadata": {},
   "outputs": [
    {
     "name": "stderr",
     "output_type": "stream",
     "text": [
      "100%|██████████| 1000/1000 [00:00<00:00, 31030.99it/s]\n"
     ]
    },
    {
     "data": {
      "image/png": "[encoded data removed]",
      "text/plain": [
       "<Figure size 432x432 with 1 Axes>"
      ]
     },
     "metadata": {
      "needs_background": "light"
     },
     "output_type": "display_data"
    },
    {
     "name": "stdout",
     "output_type": "stream",
     "text": [
      " x and y weights : (array([0.01395081]), array([0.0194995]))\n"
     ]
    },
    {
     "data": {
      "image/png": "[encoded data removed]",
      "text/plain": [
       "<Figure size 432x432 with 1 Axes>"
      ]
     },
     "metadata": {
      "needs_background": "light"
     },
     "output_type": "display_data"
    }
   ],
   "source": [
    "XOR_numpy = numpy_logistic(XOR_data, 'OR_Gate')\n",
    "XOR_numpy.prepare_data()\n",
    "loss = XOR_numpy.train_regressor(BCE_Loss, Sigmoid_python, Sigmoid_BCE_Grad, lr = 1e-1, epochs = 1000)\n",
    "XOR_numpy.draw_graph()"
   ]
  },
  {
   "attachments": {},
   "cell_type": "markdown",
   "metadata": {},
   "source": [
    "We can see here that for OR and AND data , the graph got converged but XOR it didn't got separate , because of the fact that ***XOR is not linearly separable*** "
   ]
  },
  {
   "attachments": {},
   "cell_type": "markdown",
   "metadata": {},
   "source": [
    "# Question - 2"
   ]
  },
  {
   "attachments": {},
   "cell_type": "markdown",
   "metadata": {},
   "source": [
    "## Data preparation"
   ]
  },
  {
   "cell_type": "code",
   "execution_count": 452,
   "metadata": {},
   "outputs": [
    {
     "name": "stdout",
     "output_type": "stream",
     "text": [
      " Features in iris dataset : dict_keys(['data', 'target', 'frame', 'target_names', 'DESCR', 'feature_names', 'filename', 'data_module'])\n"
     ]
    }
   ],
   "source": [
    "iris_data = datasets.load_iris()\n",
    "print(f\" Features in iris dataset : {iris_data.keys()}\")"
   ]
  },
  {
   "cell_type": "code",
   "execution_count": 453,
   "metadata": {},
   "outputs": [
    {
     "data": {
      "text/plain": [
       "array(['setosa', 'versicolor', 'virginica'], dtype='<U10')"
      ]
     },
     "execution_count": 453,
     "metadata": {},
     "output_type": "execute_result"
    }
   ],
   "source": [
    "iris_data['target_names']"
   ]
  },
  {
   "cell_type": "code",
   "execution_count": 454,
   "metadata": {},
   "outputs": [],
   "source": [
    "iris_x = iris_data['data']\n",
    "iris_y = iris_data['target']\n",
    "one_hot_iris = np.array([[0,0,0] for x in iris_y])"
   ]
  },
  {
   "cell_type": "code",
   "execution_count": 455,
   "metadata": {},
   "outputs": [],
   "source": [
    "# one hot encoding of the iris data\n",
    "for i,x in enumerate(iris_y): one_hot_iris[i][x] = 1"
   ]
  },
  {
   "cell_type": "code",
   "execution_count": 456,
   "metadata": {},
   "outputs": [
    {
     "data": {
      "text/plain": [
       "(150, 4)"
      ]
     },
     "execution_count": 456,
     "metadata": {},
     "output_type": "execute_result"
    }
   ],
   "source": [
    "iris_x.shape"
   ]
  },
  {
   "cell_type": "code",
   "execution_count": 457,
   "metadata": {},
   "outputs": [
    {
     "data": {
      "text/plain": [
       "(150, 3)"
      ]
     },
     "execution_count": 457,
     "metadata": {},
     "output_type": "execute_result"
    }
   ],
   "source": [
    "one_hot_iris.shape"
   ]
  },
  {
   "cell_type": "code",
   "execution_count": 458,
   "metadata": {},
   "outputs": [],
   "source": [
    "iris_combined_data = [iris_x,one_hot_iris]"
   ]
  },
  {
   "cell_type": "code",
   "execution_count": 459,
   "metadata": {},
   "outputs": [
    {
     "data": {
      "text/plain": [
       "array([[1, 1, 1],\n",
       "       [2, 2, 2],\n",
       "       [3, 3, 3]])"
      ]
     },
     "execution_count": 459,
     "metadata": {},
     "output_type": "execute_result"
    }
   ],
   "source": [
    "np.array([[1,1,1],[2,2,2],[3,3,3]]) "
   ]
  },
  {
   "attachments": {},
   "cell_type": "markdown",
   "metadata": {},
   "source": [
    "## Classification"
   ]
  },
  {
   "cell_type": "code",
   "execution_count": 464,
   "metadata": {},
   "outputs": [
    {
     "name": "stderr",
     "output_type": "stream",
     "text": [
      "100%|██████████| 1000/1000 [00:00<00:00, 1584.88it/s]\n"
     ]
    }
   ],
   "source": [
    "Multinomila_classifier = numpy_logistic(iris_combined_data, 'Iris')\n",
    "Multinomila_classifier.prepare_data(iris=True, normalize=False)\n",
    "loss = Multinomila_classifier.train_regressor(Cross_Entropy_Loss, softmax_python,  Softmax_CE_Grad, lr = 1e-1, epochs = 1000)"
   ]
  },
  {
   "attachments": {},
   "cell_type": "markdown",
   "metadata": {},
   "source": [
    "We can use both normalized and non - normalized , version by changing the parameter `normalized = True / False`"
   ]
  },
  {
   "cell_type": "code",
   "execution_count": 465,
   "metadata": {},
   "outputs": [
    {
     "data": {
      "image/png": "[encoded data removed]",
      "text/plain": [
       "<Figure size 432x432 with 1 Axes>"
      ]
     },
     "metadata": {
      "needs_background": "light"
     },
     "output_type": "display_data"
    },
    {
     "name": "stdout",
     "output_type": "stream",
     "text": [
      " Accuracy of our current classifier is : 98.00 %\n"
     ]
    },
    {
     "data": {
      "image/png": "[encoded data removed]",
      "text/plain": [
       "<Figure size 504x504 with 2 Axes>"
      ]
     },
     "metadata": {
      "needs_background": "light"
     },
     "output_type": "display_data"
    }
   ],
   "source": [
    "Multinomila_classifier.draw_graph()"
   ]
  }
 ],
 "metadata": {
  "kernelspec": {
   "display_name": "Python 3",
   "language": "python",
   "name": "python3"
  },
  "language_info": {
   "codemirror_mode": {
    "name": "ipython",
    "version": 3
   },
   "file_extension": ".py",
   "mimetype": "text/x-python",
   "name": "python",
   "nbconvert_exporter": "python",
   "pygments_lexer": "ipython3",
   "version": "3.10.4"
  },
  "orig_nbformat": 4,
  "vscode": {
   "interpreter": {
    "hash": "369f2c481f4da34e4445cda3fffd2e751bd1c4d706f27375911949ba6bb62e1c"
   }
  }
 },
 "nbformat": 4,
 "nbformat_minor": 2
}
