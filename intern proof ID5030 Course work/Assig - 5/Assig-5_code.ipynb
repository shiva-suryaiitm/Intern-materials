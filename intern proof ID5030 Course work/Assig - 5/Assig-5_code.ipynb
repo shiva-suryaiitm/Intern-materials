{
 "cells": [
  {
   "cell_type": "code",
   "execution_count": 1,
   "metadata": {},
   "outputs": [],
   "source": [
    "# common imports\n",
    "import math\n",
    "import time\n",
    "from tqdm import tqdm\n",
    "import os\n",
    "\n",
    "# graphing imports\n",
    "import seaborn as sns\n",
    "import matplotlib.pyplot as plt\n",
    "\n",
    "# numpy and pandas import\n",
    "import numpy as np\n",
    "import pandas as pd\n",
    "\n",
    "# sklearn import\n",
    "import sklearn\n",
    "from sklearn.model_selection import train_test_split\n",
    "from sklearn.metrics import confusion_matrix, r2_score, accuracy_score, f1_score\n"
   ]
  },
  {
   "cell_type": "code",
   "execution_count": 2,
   "metadata": {},
   "outputs": [],
   "source": [
    "# Pytorch Imports\n",
    "import torch\n",
    "import torch.nn as nn\n",
    "import torch.functional as f\n",
    "\n",
    "from torch.utils.data import Dataset, TensorDataset, RandomSampler, DataLoader\n",
    "from torch.optim import SGD"
   ]
  },
  {
   "cell_type": "code",
   "execution_count": 1991,
   "metadata": {},
   "outputs": [],
   "source": [
    "device = torch.device('cuda' if torch.cuda.is_available() else 'cpu')"
   ]
  },
  {
   "attachments": {},
   "cell_type": "markdown",
   "metadata": {},
   "source": [
    "## Common Functions"
   ]
  },
  {
   "attachments": {},
   "cell_type": "markdown",
   "metadata": {},
   "source": [
    "### Activation FN and Forward Pass Functions"
   ]
  },
  {
   "cell_type": "code",
   "execution_count": 3,
   "metadata": {},
   "outputs": [],
   "source": [
    "class Sigmoid():\n",
    "\n",
    "    def __init__(self,):\n",
    "        self.type = 'Activation'\n",
    "        self.name = 'Sigmoid'\n",
    "    \n",
    "    def forward(self,x_data):\n",
    "        self.x = x_data\n",
    "        self.probability = np.array( [ 1/(1+np.e**-x) for x in x_data] )\n",
    "        # raise Exception(f' IN Sigmoid fn Forward pass : {self.probability.shape}') -> Test Passed\n",
    "        return self.probability\n",
    "    \n",
    "    def backward(self, last_layer_grad, output_layer = False):\n",
    "\n",
    "        if not output_layer :\n",
    "            self.grad = np.multiply(last_layer_grad, np.array([ probability*(1 - probability) for probability in self.probability]) )\n",
    "            # raise Exception(f' IN Sigmoid fn Backward pass and gradient shape is : {self.grad.shape}') -> Test\n",
    "            return [self.grad]\n",
    "        \n",
    "        else:\n",
    "            self.grad = (self.probability - last_layer_grad)/len(self.probability) \n",
    "            raise Exception(f' IN Sigmoid fn Backward pass and gradient shape is : {self.grad.shape}')\n",
    "            return [self.grad]"
   ]
  },
  {
   "cell_type": "code",
   "execution_count": 4,
   "metadata": {},
   "outputs": [],
   "source": [
    "class Tanh():\n",
    "\n",
    "    def __init__(self,):\n",
    "        self.type = 'Activation'\n",
    "        self.name = 'Tanh'\n",
    "    \n",
    "    def forward(self, x_data):\n",
    "        self.x = x_data\n",
    "        self.probability = np.array( [ np.tanh(x) for x in x_data] )\n",
    "        # print(self.probability)\n",
    "        # raise Exception(f' IN Tanh fn Forward pass : {self.probability.shape}') -> Passed\n",
    "        return self.probability\n",
    "    \n",
    "    def backward(self, last_layer_grad):\n",
    "        self.grad = np.multiply(last_layer_grad, np.array( [ (1 - probability**2) for probability in self.probability] ) )\n",
    "        # raise Exception(f' IN Tanh fn Backward pass and gradient shape is : {self.grad.shape}') -> Test Passed\n",
    "        return [self.grad]"
   ]
  },
  {
   "cell_type": "code",
   "execution_count": 263,
   "metadata": {},
   "outputs": [],
   "source": [
    "# np.array(list(map(bool,np.array([1,1,1,1])))) - 0"
   ]
  },
  {
   "cell_type": "code",
   "execution_count": 5,
   "metadata": {},
   "outputs": [],
   "source": [
    "class ReLU():\n",
    "\n",
    "    def __init__(self,):\n",
    "        self.type = 'Activation'\n",
    "        self.name = 'ReLU'\n",
    "    \n",
    "    def forward(self, x_data):\n",
    "        self.x = x_data\n",
    "        self.y = np.array([np.maximum(0.0,x) for x in x_data])\n",
    "        # print(self.x[0], self.y[0])\n",
    "        # raise Exception(f' IN ReLU fn Forward pass : {self.y.shape}') -> Test Passed\n",
    "        return self.y\n",
    "    \n",
    "    def backward(self,last_layer_grad):\n",
    "        # Here we are doing the element wise product\n",
    "        self.e = self.y.copy()\n",
    "        self.e[self.e > 0] = 1\n",
    "        self.grad = np.multiply(last_layer_grad,  self.e )\n",
    "        # raise Exception(f' IN ReLU fn Backward pass and gradient shape is : {self.grad.shape} and \\n {self.e} and \\n {self.e.shape}') # -> Test Passed\n",
    "        return [self.grad]"
   ]
  },
  {
   "cell_type": "code",
   "execution_count": 6,
   "metadata": {},
   "outputs": [],
   "source": [
    "class Softmax():\n",
    "\n",
    "    def __init__(self):\n",
    "        self.type = 'Activation'\n",
    "        self.name = 'SoftMax'\n",
    "    \n",
    "    def forward(self, x_data):\n",
    "\n",
    "        self.x = x_data.astype(np.float64) # if we don't convert into float wills how error\n",
    "        self.probability = np.array([np.exp(x)/sum(np.exp(x)) for x in self.x])\n",
    "        # raise Exception(f' IN Softmax fn Forward pass : {self.probability.shape}') -> Passed\n",
    "        return self.probability\n",
    "    \n",
    "    def backward(self, y_true):\n",
    "        '''Warning :' Softmax backward only works with Cross Entropy loss as Loss Fn \") '''\n",
    "        # self.grad = np.array([ np.dot(y_true,y)*(y_true-y) for y in self.probability ])\n",
    "        self.grad = (self.probability - y_true)/len(y_true)\n",
    "        # raise Exception(f' IN Softmax fn Backward pass and gradient shape is : {self.grad.shape}') -> Passed\n",
    "        return [self.grad]"
   ]
  },
  {
   "cell_type": "code",
   "execution_count": 8,
   "metadata": {},
   "outputs": [],
   "source": [
    "class Linear():\n",
    "\n",
    "    def __init__(self, w):\n",
    "\n",
    "        self.type = 'Linear'\n",
    "        self.name = 'Forward_Linear'\n",
    "        self.w = w\n",
    "        self.previous_grads = 0\n",
    "    \n",
    "    def forward(self, x_data):\n",
    "        self.x = np.append( x_data, np.array([[1]]*len(x_data)) , axis = 1)\n",
    "        self.y = self.x@self.w\n",
    "        # raise Exception(f\" In the Forward Pass of the Linear Forward class : {self.y.shape} and {self.x}\") # -> Tested Passed \n",
    "        return self.y\n",
    "    \n",
    "    def backward(self, last_layer_grad):\n",
    "        # print(self.x.transpose().shape, last_layer_grad.shape, self.w.shape, self.w[:-1].transpose().shape)\n",
    "        # self.grad = np.array( [self.x[i].transpose()@last_layer_grad[i] for i in range(len(self.x)) ] )\n",
    "        self.grad_w = self.x.transpose()@last_layer_grad\n",
    "        self.grad_a = last_layer_grad@self.w[:-1].transpose()\n",
    "\n",
    "        # raise Exception(f' IN Tanh fn Backward pass and gradient shape is : {self.grad2.shape} and {self.grad3.shape} ') -> Test Passed\n",
    "        return [self.grad_a,self.grad_w]\n",
    "    \n",
    "    def weight_update(self, momentum=0, lr=1e-4):\n",
    "        w_grad = momentum * self.previous_grads + self.grad_w\n",
    "\n",
    "        # storing previous grads for further use\n",
    "        self.previous_grads = w_grad\n",
    "\n",
    "        # Doing weight update here\n",
    "        self.w -= lr*w_grad"
   ]
  },
  {
   "cell_type": "code",
   "execution_count": 9,
   "metadata": {},
   "outputs": [],
   "source": [
    "class CE_Loss():\n",
    "\n",
    "    def __init__(self, y_pred, y_true):\n",
    "\n",
    "        self.type = 'Loss'\n",
    "        self.name = 'Cross Entropy Loss'\n",
    "        \n",
    "        self.y_pred =  y_pred\n",
    "        self.y_true = y_true\n",
    "    \n",
    "    def calculate_loss(self):\n",
    "\n",
    "        log_prob = np.log(self.y_pred)\n",
    "        # calculating the Cross_Entropy_Loss\n",
    "        loss = -sum([np.dot(log_prob[i],self.y_true[i]) for i in range(len(self.y_true))])\n",
    "        return loss\n",
    "    \n",
    "    def Gradient(self):\n",
    "        grad = (self.y_pred - self.y_true)/len(self.y_pred)\n",
    "        return self.y_true"
   ]
  },
  {
   "cell_type": "code",
   "execution_count": 10,
   "metadata": {},
   "outputs": [],
   "source": [
    "class MSE_Loss():\n",
    "\n",
    "    def __init__(self, y_pred, y_true):\n",
    "\n",
    "        self.type = 'Loss'\n",
    "        self.name = 'Mean Squared Loss'\n",
    "\n",
    "        self.y_pred =  y_pred\n",
    "        self.y_true = y_true\n",
    "    \n",
    "    def calculate_loss(self):\n",
    "\n",
    "        # Calculating loss\n",
    "        loss = sum( ((self.y_pred - self.y_true)**2 ).reshape(-1) )/len(self.y_pred)\n",
    "        return loss\n",
    "    \n",
    "    def Gradient(self):\n",
    "        grad = (self.y_pred - self.y_true)/len(self.y_pred)\n",
    "        return grad"
   ]
  },
  {
   "cell_type": "code",
   "execution_count": 11,
   "metadata": {},
   "outputs": [],
   "source": [
    "def calculate_r2(y_true, y_pred):\n",
    "\n",
    "    y_pred = y_pred.reshape(-1)\n",
    "    y_true = y_true.reshape(-1)\n",
    "\n",
    "    # calculating r2 \n",
    "    # print(y_pred.shape)\n",
    "    score = max( -1, r2_score(y_true, y_pred) )\n",
    "    return score"
   ]
  },
  {
   "cell_type": "code",
   "execution_count": 12,
   "metadata": {},
   "outputs": [],
   "source": [
    "def calculate_f1(y_true, y_pred):\n",
    "\n",
    "    y_pred = np.argmax( y_pred, axis = 1 )\n",
    "    y_true = np.argmax( y_true, axis = 1 )\n",
    "\n",
    "    # raise Exception(f' {y_true.shape} and {y_true} and \\n {y_pred} {y_pred.shape}') Test Passed\n",
    "\n",
    "    # calculating r2 \n",
    "    score =  f1_score(y_true, y_pred) \n",
    "    return score"
   ]
  },
  {
   "cell_type": "code",
   "execution_count": 14,
   "metadata": {},
   "outputs": [],
   "source": [
    "def calculate_accuracy(y_true, y_pred, confusion = False):\n",
    "\n",
    "    y_pred = np.argmax( y_pred, axis = 1 )\n",
    "    y_true = np.argmax( y_true, axis = 1 )\n",
    "\n",
    "    # calculating r2 \n",
    "    score = accuracy_score(y_true, y_pred)\n",
    "\n",
    "    if confusion:\n",
    "        conf_mat = confusion_matrix(y_true, y_pred)\n",
    "        \n",
    "        plt.figure(figsize =(8,8))\n",
    "        sns.heatmap(conf_mat, annot=True)\n",
    "        plt.plot()\n",
    "\n",
    "        return score, conf_mat\n",
    "    \n",
    "    return score"
   ]
  },
  {
   "attachments": {},
   "cell_type": "markdown",
   "metadata": {},
   "source": [
    "***We have defined, every Activation functions and linear pass functions with it's gradient function also*** "
   ]
  },
  {
   "attachments": {},
   "cell_type": "markdown",
   "metadata": {},
   "source": [
    "### Creating a NN architecture with the above defined functions"
   ]
  },
  {
   "cell_type": "code",
   "execution_count": 15,
   "metadata": {},
   "outputs": [],
   "source": [
    "# example architecture is : [10, 32, {'Activation':ReLU()}, 65, 10, {'Activation':Softmax()} ]\n",
    "# Activation Fn should be given as a dictionary ( & class ) and Neurons should be of integers\n",
    "\n",
    "class Python_NN():\n",
    "\n",
    "    def __init__(self, name, arch):\n",
    "\n",
    "        self.name = name\n",
    "        self.arch = arch\n",
    "        self.w = []\n",
    "        print(f\" Don't give starting value as a activation, If you have given remove it please (Just a default warning) \")\n",
    "    \n",
    "    def create_network(self,):\n",
    "\n",
    "        # Here we are initializing the weights of the network \n",
    "        # Idea is create a array of weights and then make a forward \n",
    "\n",
    "        dim1 = self.arch[0]\n",
    "        for i in range(1,len(self.arch)):  \n",
    "\n",
    "            if type(self.arch[i]) != dict :\n",
    "                dim2 = self.arch[i]\n",
    "                \n",
    "                # restricting initialization to avoid numeric overflow during sigmoid and tanh\n",
    "                # +1 to add a bias term to it\n",
    "                self.w.append( Linear( np.clip(np.random.randn( dim1+1, dim2),-0.1,0.1) ))\n",
    "                dim1 = dim2\n",
    "            \n",
    "            else:\n",
    "                # Adding the activation fn\n",
    "                self.w.append(self.arch[i]['Activation'])\n",
    "    \n",
    "    def make_forward_pass(self,x):\n",
    "        \n",
    "        # The Model accepts inputs , (1xn) -> column vec and convert this into (1xm) in each forward pass\n",
    "        # The Forward model is like this (1xn) x (nXm) = (1xm) , (1xm) x (mxp) => (1xp) .... (1xk) x (k x j) = (1 x j) [Our Output]\n",
    "        weight_idx = 0\n",
    "        w_class = self.w[weight_idx]\n",
    "        y = x.copy()\n",
    "\n",
    "        for i in range(1,len(self.arch)):\n",
    "            \n",
    "            # if type(self.arch[i]) != dict :\n",
    "\n",
    "            #     # changing  the weights \n",
    "            #     w_class = self.w[weight_idx]\n",
    "\n",
    "            #     # forward pass\n",
    "            #     y = w_class.forward(y)\n",
    "            #     weight_idx += 1\n",
    "            #     # print(y.shape, weight_idx)\n",
    "                \n",
    "            #     # raise Exception(f\" In the non-activation section of forward Fn and shape of y is : {y.shape}\") -> Passed\n",
    "\n",
    "            # elif type(self.arch[i]) == dict:\n",
    "\n",
    "            #     w_class = self.w[weight_idx]\n",
    "            #     y = w_class.forward(y)\n",
    "\n",
    "            #     # y = self.arch[i]['Activation'].forward(y)\n",
    "            #     weight_idx += 1\n",
    "            #     # raise Exception(f\" In the Activation section of forward Fn and shape of y is : {y.shape}\") -> Test Passed\n",
    "\n",
    "            \n",
    "            # changing  the weights \n",
    "            w_class = self.w[weight_idx]\n",
    "\n",
    "            # forward pass\n",
    "            y = w_class.forward(y)\n",
    "            weight_idx += 1\n",
    "\n",
    "        \n",
    "        self.y = y\n",
    "        return y\n",
    "    \n",
    "    def backward(self, final_layer_error_grad, ):\n",
    "        \n",
    "        # Here in the place of final layer error grad :\n",
    "        # We need to give y_true if Final Layer is softmax & Cross Entropy\n",
    "        # We need to give (y^ - y_true) if MSE_Loss\n",
    "\n",
    "        ''' Note : ==== Right Now only supports Cross Entropy loss with Softmax and Won't support MSE error with softmax as it is Out of the scope of the assignment '''\n",
    "        # For other combinations, error may arise as they are out os scope of our assignment\n",
    "\n",
    "        Last_Layer_Grad = final_layer_error_grad\n",
    "        grads = []\n",
    "\n",
    "        for i in reversed(range(len(self.w))):\n",
    "                \n",
    "                dw = self.w[i].backward(Last_Layer_Grad)\n",
    "                Last_Layer_Grad = dw[0]\n",
    "                \n",
    "                # if len(dw) == 2:\n",
    "                #     grads.append(dw[1])\n",
    "        \n",
    "        # self.gradients = grads\n",
    "    \n",
    "    def optimize_weights(self, momentum=0, lr=1e-5):\n",
    "        \n",
    "        for j in self.w :\n",
    "\n",
    "            if j.type == 'Linear':\n",
    "                j.weight_update(momentum, lr)\n",
    "                    \n",
    "        # print(len(grads))"
   ]
  },
  {
   "cell_type": "code",
   "execution_count": 16,
   "metadata": {},
   "outputs": [
    {
     "name": "stdout",
     "output_type": "stream",
     "text": [
      " Don't give starting value as a activation, If you have given remove it please (Just a default warning) \n"
     ]
    }
   ],
   "source": [
    "NN1 = Python_NN('Network1', [2, 32, 64, {'Activation':Sigmoid()}, 128, {'Activation':ReLU()}, 256, {'Activation':ReLU()}, {'Activation':Tanh()},2])\n",
    "NN1.create_network()"
   ]
  },
  {
   "cell_type": "code",
   "execution_count": 17,
   "metadata": {},
   "outputs": [
    {
     "data": {
      "text/plain": [
       "(1024, 2)"
      ]
     },
     "execution_count": 17,
     "metadata": {},
     "output_type": "execute_result"
    }
   ],
   "source": [
    "x1 = np.array( [ [1,7] ]*1024 )\n",
    "\n",
    "k = NN1.make_forward_pass(x1)\n",
    "k.shape"
   ]
  },
  {
   "cell_type": "code",
   "execution_count": 18,
   "metadata": {},
   "outputs": [
    {
     "data": {
      "text/plain": [
       "(1024, 2)"
      ]
     },
     "execution_count": 18,
     "metadata": {},
     "output_type": "execute_result"
    }
   ],
   "source": [
    "error = np.array( (x1 - np.array( [ [1,3] ]*1024 )) )/len(x1)\n",
    "error.shape"
   ]
  },
  {
   "cell_type": "code",
   "execution_count": 19,
   "metadata": {},
   "outputs": [],
   "source": [
    "NN1.backward(error)"
   ]
  },
  {
   "attachments": {},
   "cell_type": "markdown",
   "metadata": {},
   "source": [
    "# Question - 1"
   ]
  },
  {
   "attachments": {},
   "cell_type": "markdown",
   "metadata": {},
   "source": [
    "## XOR Implementation"
   ]
  },
  {
   "cell_type": "code",
   "execution_count": 20,
   "metadata": {},
   "outputs": [
    {
     "data": {
      "text/plain": [
       "array([[0, 0, 0],\n",
       "       [0, 1, 1],\n",
       "       [1, 0, 1],\n",
       "       [1, 1, 0]])"
      ]
     },
     "execution_count": 20,
     "metadata": {},
     "output_type": "execute_result"
    }
   ],
   "source": [
    "data = np.array([[x,y,bool(x+y) - x*y] for x in [0,1] for y in [0,1]])\n",
    "data"
   ]
  },
  {
   "cell_type": "code",
   "execution_count": 561,
   "metadata": {},
   "outputs": [],
   "source": [
    "class Network_For_XOR():\n",
    "\n",
    "    def __init__(self, x_data=data[:,:-1], y_data=data[:,-1]):\n",
    "\n",
    "        self.x = x_data\n",
    "        self.y = np.array([[0,1] if i else [1,0] for i in y_data])\n",
    "        print(f\" This is specially implemented for XOR \")\n",
    "\n",
    "        # Adding a Bias Term\n",
    "        self.x = np.append(self.x, np.array([[1]]*len(self.x)) , axis = 1)\n",
    "        self.previous_step = [np.zeros((3,2)) , np.zeros((3,2))  ]\n",
    "\n",
    "    def initialize_network(self):\n",
    "        self.w = [ np.clip( np.random.randn( 3,2 ) , -2, 2 ), np.clip(np.random.randn( 3,2 ), -2, 2) ]\n",
    "    \n",
    "    def forward(self,x):\n",
    "        self.x = x\n",
    "\n",
    "        # Adding a bias Term Here\n",
    "        self.x1 = np.append( self.x@self.w[0], np.array([[1]]*len(self.x)) , axis = 1)\n",
    "\n",
    "        # print(self.x1.shape, self.w[1].shape)\n",
    "        self.x_Relu = np.array([np.maximum(0,x) for x in self.x1])\n",
    "\n",
    "        self.x2 = self.x_Relu@self.w[1]\n",
    "\n",
    "        # if np.max(self.x2 > 20):\n",
    "        #     print(self.w,'\\n\\n\\n', np.max(self.w[0]), np.max(self.w[1]) , '\\n\\n')\n",
    "        #     print(self.x2 , '\\n\\n' , np.exp(self.x2  ), np.sum( np.exp(self.x2) , axis = 1).reshape(4,1) )\n",
    "        #     raise Exception(\" Weights Got increased so much, restart to avoid overflow -> Warning \")\n",
    "        \n",
    "        self.x3 = np.exp(self.x2  )/( np.sum( np.exp( self.x2  ), axis = 1).reshape(4,1) )\n",
    "\n",
    "        # print(self.x3.shape)\n",
    "        # raise Exception(f\" Test in forward pass {self.x3} and {np.sum(self.x3, axis = 1)}\")\n",
    "        return self.x3\n",
    "    \n",
    "    def backward(self,y_true):\n",
    "\n",
    "        # creating a dw array\n",
    "        # we will fill that during back prop\n",
    "        self.dw = [0,0]\n",
    "\n",
    "        # calculating the gradients\n",
    "        res = (self.x3 - y_true)/len(self.x3)\n",
    "\n",
    "        # print(self.x_Relu.transpose() )\n",
    "        self.dw[1] = np.clip( self.x_Relu.transpose()@res, -5, 5 )\n",
    "\n",
    "        # print(res.shape, self.w[-1][:-1].transpose().shape)\n",
    "        # print(self.w[-1], '\\n', self.x2 )\n",
    "        \n",
    "        grad_a = res@self.w[1][:-1].transpose()\n",
    "\n",
    "        # print(grad_a.shape, self.x1[:,:-1] )\n",
    "\n",
    "        # print(grad_a,'\\n\\n',  self.x1[:,:-1] )\n",
    "\n",
    "        self.e = self.x1[:,:-1].copy()\n",
    "        self.e[self.e > 0] = 1\n",
    "\n",
    "        grad_a = np.multiply(grad_a, self.e )\n",
    "\n",
    "        # print(grad_a)\n",
    "        self.dw[0] = np.clip( self.x.transpose()@grad_a, -1, 1 )\n",
    "\n",
    "        # print(grad_a, self.dw[0].shape, self.dw[1].shape)\n",
    "    \n",
    "    def optimizer_step(self, momentum = 0, lr=1e-3, gamma = 0.0 ):   \n",
    "        # Making an optimizer step using simple gradient descent\n",
    "\n",
    "        self.w[0] = np.clip(self.w[0] - (momentum*self.previous_step[0] + self.dw[0]*lr + gamma*self.w[0] ) , -5, 5 )\n",
    "        self.w[1] = np.clip(self.w[1] - (momentum*self.previous_step[1] + self.dw[1]*lr + gamma*self.w[1] ) , -5, 5 )\n",
    "\n",
    "        self.previous_step[0] =  (momentum*self.previous_step[0] + self.dw[0]*lr )\n",
    "        self.previous_step[1] =  (momentum*self.previous_step[1] + self.dw[1]*lr )\n",
    "    \n",
    "    def CE_Loss(self, y_true, y_pred):\n",
    "        \n",
    "        # For stability we are adding 1e-4\n",
    "        log_prob_1 = np.log( y_pred + 1e-4 )\n",
    "\n",
    "        # (4x2) . (4x2) -> element wise multiplication\n",
    "        # print(log_prob_1[0], y_true )\n",
    "        \n",
    "        loss = - sum([ np.dot(y_true[i],log_prob_1[i]) for i in range(4) ])/len(y_true)\n",
    "        # print(loss, loss.shape)\n",
    "        return loss\n",
    "    \n",
    "    def train_data(self, epochs, momentum = 0, lr=1e-3, gamma = 0.0, graph_enabled=True, print_freq=100):\n",
    "\n",
    "        # For keep in track of loss\n",
    "        loss_list = []\n",
    "        score_list = []\n",
    "        self.initialize_network()\n",
    "        print(f\" If weight Initialization is bad , we reinitialize it after 400 epochs \")\n",
    "\n",
    "        for e in tqdm(range(epochs)):\n",
    "            \n",
    "            # Forward Pass\n",
    "            y_pred = self.forward(self.x)\n",
    "\n",
    "            # Loss Calc\n",
    "            loss = self.CE_Loss(self.y, y_pred)\n",
    "\n",
    "            # Back Prop\n",
    "            self.backward(self.y)\n",
    "\n",
    "            # Gradient Descent\n",
    "            self.optimizer_step(momentum , lr, gamma)\n",
    "\n",
    "            # appending loss\n",
    "            loss_list.append(loss)\n",
    "\n",
    "            # calculating score\n",
    "            score = f1_score(np.argmax(self.y, axis=1), np.argmax(y_pred, axis=1) )*100\n",
    "            score_list.append(score)\n",
    "\n",
    "            if (e+1) % 400 == 0:\n",
    "                loss_list = []\n",
    "                score_list = []\n",
    "                self.initialize_network()\n",
    "\n",
    "            if score >= 100 :\n",
    "                # if maximum score is achieved , we are stopping learning\n",
    "                break\n",
    "\n",
    "            if (e+1) % print_freq == 0:\n",
    "                print(f\" Total Loss in epoch : {e} is : {loss:.3f}\")\n",
    "                print(f\" prediction in epoch {e} : {np.argmax(y_pred, axis=1)} and f1_score is : {f1_score(np.argmax(self.y, axis=1),np.argmax(y_pred, axis=1))*100:.3f} \")\n",
    "                # break\n",
    "        \n",
    "        print(f\" Total Loss in final epoch : {e} is : {loss_list[-1]:.3f}\")\n",
    "        # print(np.argmax(y_pred, axis=1), y_pred)\n",
    "        print(f\" prediction in final epoch {e} : {np.argmax(y_pred, axis=1)} and f1_score is : {f1_score(np.argmax(self.y, axis=1),np.argmax(y_pred, axis=1))*100:.3f} \")\n",
    "\n",
    "        # print(self.w[0], '\\n\\n', self.w[1])\n",
    "\n",
    "        if graph_enabled:\n",
    "            \n",
    "            plt.figure(figsize = (14,6) )\n",
    "\n",
    "            plt.subplot(1,2,1)\n",
    "            plt.xlabel(F\" Epochs \")\n",
    "            plt.ylabel(F\" Loss \")\n",
    "            plt.plot(loss_list)\n",
    "\n",
    "            plt.subplot(1,2,2)\n",
    "            plt.xlabel(F\" Epochs \")\n",
    "            plt.ylabel(F\" F1_score \")\n",
    "            plt.plot(score_list)\n",
    "            plt.show()\n",
    "\n",
    "            # print(f\" Plotting the graph \")\n",
    "            # w1 = self.w[1][:,0]\n",
    "            # w2 = self.w[1][:,1]\n",
    "\n",
    "            # points1 = np.linspace(-1,2,100)*(-w1[0]/w1[1]) + (-w1[2]/w1[1])\n",
    "            # points2 = np.linspace(-1,2,100)*(-w2[0]/w2[1]) + (-w2[2]/w2[1])\n",
    "\n",
    "            # plt.figure(figsize = (12,6) )\n",
    "            # print(self.x)\n",
    "            # plt.plot(self.x[:,0], self.x[:,1] , 'o', label = 'points')\n",
    "            # plt.plot(np.linspace(-1,2,100), points1, label='line1')\n",
    "            # plt.plot(np.linspace(-1,2,100), points2, label='line2')\n",
    "            # plt.legend(loc='best')\n",
    "            # plt.show()\n"
   ]
  },
  {
   "cell_type": "code",
   "execution_count": 193,
   "metadata": {},
   "outputs": [
    {
     "name": "stdout",
     "output_type": "stream",
     "text": [
      " This is specially implemented for XOR \n"
     ]
    }
   ],
   "source": []
  },
  {
   "cell_type": "code",
   "execution_count": 586,
   "metadata": {},
   "outputs": [
    {
     "name": "stdout",
     "output_type": "stream",
     "text": [
      " This is specially implemented for XOR \n",
      " If weight Initialization is bad , we reinitialize it after 400 epochs \n"
     ]
    },
    {
     "name": "stderr",
     "output_type": "stream",
     "text": [
      "  5%|▍         | 238/5000 [00:00<00:02, 1738.22it/s]"
     ]
    },
    {
     "name": "stdout",
     "output_type": "stream",
     "text": [
      " Total Loss in final epoch : 238 is : 0.477\n",
      " prediction in final epoch 238 : [0 1 1 0] and f1_score is : 100.000 \n"
     ]
    },
    {
     "name": "stderr",
     "output_type": "stream",
     "text": [
      "\n"
     ]
    },
    {
     "data": {
      "image/png": "[encoded data removed]",
      "text/plain": [
       "<Figure size 1008x432 with 2 Axes>"
      ]
     },
     "metadata": {
      "needs_background": "light"
     },
     "output_type": "display_data"
    }
   ],
   "source": [
    "XOR_NN = Network_For_XOR()\n",
    "XOR_NN.train_data(5000, 0.9, 1e-2, 0.00, print_freq = 5000)"
   ]
  },
  {
   "attachments": {},
   "cell_type": "markdown",
   "metadata": {},
   "source": [
    "## Question - 2"
   ]
  },
  {
   "cell_type": "code",
   "execution_count": 1963,
   "metadata": {},
   "outputs": [
    {
     "data": {
      "text/html": [
       "<div>\n",
       "<style scoped>\n",
       "    .dataframe tbody tr th:only-of-type {\n",
       "        vertical-align: middle;\n",
       "    }\n",
       "\n",
       "    .dataframe tbody tr th {\n",
       "        vertical-align: top;\n",
       "    }\n",
       "\n",
       "    .dataframe thead th {\n",
       "        text-align: right;\n",
       "    }\n",
       "</style>\n",
       "<table border=\"1\" class=\"dataframe\">\n",
       "  <thead>\n",
       "    <tr style=\"text-align: right;\">\n",
       "      <th></th>\n",
       "      <th>Cement (component 1)(kg in a m^3 mixture)</th>\n",
       "      <th>Blast Furnace Slag (component 2)(kg in a m^3 mixture)</th>\n",
       "      <th>Fly Ash (component 3)(kg in a m^3 mixture)</th>\n",
       "      <th>Water  (component 4)(kg in a m^3 mixture)</th>\n",
       "      <th>Superplasticizer (component 5)(kg in a m^3 mixture)</th>\n",
       "      <th>Coarse Aggregate  (component 6)(kg in a m^3 mixture)</th>\n",
       "      <th>Fine Aggregate (component 7)(kg in a m^3 mixture)</th>\n",
       "      <th>Age (day)</th>\n",
       "      <th>Concrete compressive strength(MPa, megapascals)</th>\n",
       "    </tr>\n",
       "  </thead>\n",
       "  <tbody>\n",
       "    <tr>\n",
       "      <th>0</th>\n",
       "      <td>540.0</td>\n",
       "      <td>0.0</td>\n",
       "      <td>0.0</td>\n",
       "      <td>162.0</td>\n",
       "      <td>2.5</td>\n",
       "      <td>1040.0</td>\n",
       "      <td>676.0</td>\n",
       "      <td>28</td>\n",
       "      <td>79.986111</td>\n",
       "    </tr>\n",
       "    <tr>\n",
       "      <th>1</th>\n",
       "      <td>540.0</td>\n",
       "      <td>0.0</td>\n",
       "      <td>0.0</td>\n",
       "      <td>162.0</td>\n",
       "      <td>2.5</td>\n",
       "      <td>1055.0</td>\n",
       "      <td>676.0</td>\n",
       "      <td>28</td>\n",
       "      <td>61.887366</td>\n",
       "    </tr>\n",
       "    <tr>\n",
       "      <th>2</th>\n",
       "      <td>332.5</td>\n",
       "      <td>142.5</td>\n",
       "      <td>0.0</td>\n",
       "      <td>228.0</td>\n",
       "      <td>0.0</td>\n",
       "      <td>932.0</td>\n",
       "      <td>594.0</td>\n",
       "      <td>270</td>\n",
       "      <td>40.269535</td>\n",
       "    </tr>\n",
       "    <tr>\n",
       "      <th>3</th>\n",
       "      <td>332.5</td>\n",
       "      <td>142.5</td>\n",
       "      <td>0.0</td>\n",
       "      <td>228.0</td>\n",
       "      <td>0.0</td>\n",
       "      <td>932.0</td>\n",
       "      <td>594.0</td>\n",
       "      <td>365</td>\n",
       "      <td>41.052780</td>\n",
       "    </tr>\n",
       "    <tr>\n",
       "      <th>4</th>\n",
       "      <td>198.6</td>\n",
       "      <td>132.4</td>\n",
       "      <td>0.0</td>\n",
       "      <td>192.0</td>\n",
       "      <td>0.0</td>\n",
       "      <td>978.4</td>\n",
       "      <td>825.5</td>\n",
       "      <td>360</td>\n",
       "      <td>44.296075</td>\n",
       "    </tr>\n",
       "  </tbody>\n",
       "</table>\n",
       "</div>"
      ],
      "text/plain": [
       "   Cement (component 1)(kg in a m^3 mixture)  \\\n",
       "0                                      540.0   \n",
       "1                                      540.0   \n",
       "2                                      332.5   \n",
       "3                                      332.5   \n",
       "4                                      198.6   \n",
       "\n",
       "   Blast Furnace Slag (component 2)(kg in a m^3 mixture)  \\\n",
       "0                                                0.0       \n",
       "1                                                0.0       \n",
       "2                                              142.5       \n",
       "3                                              142.5       \n",
       "4                                              132.4       \n",
       "\n",
       "   Fly Ash (component 3)(kg in a m^3 mixture)  \\\n",
       "0                                         0.0   \n",
       "1                                         0.0   \n",
       "2                                         0.0   \n",
       "3                                         0.0   \n",
       "4                                         0.0   \n",
       "\n",
       "   Water  (component 4)(kg in a m^3 mixture)  \\\n",
       "0                                      162.0   \n",
       "1                                      162.0   \n",
       "2                                      228.0   \n",
       "3                                      228.0   \n",
       "4                                      192.0   \n",
       "\n",
       "   Superplasticizer (component 5)(kg in a m^3 mixture)  \\\n",
       "0                                                2.5     \n",
       "1                                                2.5     \n",
       "2                                                0.0     \n",
       "3                                                0.0     \n",
       "4                                                0.0     \n",
       "\n",
       "   Coarse Aggregate  (component 6)(kg in a m^3 mixture)  \\\n",
       "0                                             1040.0      \n",
       "1                                             1055.0      \n",
       "2                                              932.0      \n",
       "3                                              932.0      \n",
       "4                                              978.4      \n",
       "\n",
       "   Fine Aggregate (component 7)(kg in a m^3 mixture)  Age (day)  \\\n",
       "0                                              676.0         28   \n",
       "1                                              676.0         28   \n",
       "2                                              594.0        270   \n",
       "3                                              594.0        365   \n",
       "4                                              825.5        360   \n",
       "\n",
       "   Concrete compressive strength(MPa, megapascals)   \n",
       "0                                         79.986111  \n",
       "1                                         61.887366  \n",
       "2                                         40.269535  \n",
       "3                                         41.052780  \n",
       "4                                         44.296075  "
      ]
     },
     "execution_count": 1963,
     "metadata": {},
     "output_type": "execute_result"
    }
   ],
   "source": [
    "data = pd.read_excel('Concrete_Data.xls')\n",
    "\n",
    "train_df = data.drop(['Concrete compressive strength(MPa, megapascals) '], axis = 1, inplace = False)\n",
    "target = data['Concrete compressive strength(MPa, megapascals) ']\n",
    "\n",
    "data.head()"
   ]
  },
  {
   "cell_type": "code",
   "execution_count": 2217,
   "metadata": {},
   "outputs": [
    {
     "data": {
      "text/plain": [
       "(1030, 9)"
      ]
     },
     "execution_count": 2217,
     "metadata": {},
     "output_type": "execute_result"
    }
   ],
   "source": [
    "data.shape"
   ]
  },
  {
   "cell_type": "code",
   "execution_count": 2218,
   "metadata": {},
   "outputs": [
    {
     "data": {
      "text/html": [
       "<div>\n",
       "<style scoped>\n",
       "    .dataframe tbody tr th:only-of-type {\n",
       "        vertical-align: middle;\n",
       "    }\n",
       "\n",
       "    .dataframe tbody tr th {\n",
       "        vertical-align: top;\n",
       "    }\n",
       "\n",
       "    .dataframe thead th {\n",
       "        text-align: right;\n",
       "    }\n",
       "</style>\n",
       "<table border=\"1\" class=\"dataframe\">\n",
       "  <thead>\n",
       "    <tr style=\"text-align: right;\">\n",
       "      <th></th>\n",
       "      <th>Cement (component 1)(kg in a m^3 mixture)</th>\n",
       "      <th>Blast Furnace Slag (component 2)(kg in a m^3 mixture)</th>\n",
       "      <th>Fly Ash (component 3)(kg in a m^3 mixture)</th>\n",
       "      <th>Water  (component 4)(kg in a m^3 mixture)</th>\n",
       "      <th>Superplasticizer (component 5)(kg in a m^3 mixture)</th>\n",
       "      <th>Coarse Aggregate  (component 6)(kg in a m^3 mixture)</th>\n",
       "      <th>Fine Aggregate (component 7)(kg in a m^3 mixture)</th>\n",
       "      <th>Age (day)</th>\n",
       "      <th>Concrete compressive strength(MPa, megapascals)</th>\n",
       "    </tr>\n",
       "  </thead>\n",
       "  <tbody>\n",
       "    <tr>\n",
       "      <th>count</th>\n",
       "      <td>1030.000000</td>\n",
       "      <td>1030.000000</td>\n",
       "      <td>1030.000000</td>\n",
       "      <td>1030.000000</td>\n",
       "      <td>1030.000000</td>\n",
       "      <td>1030.000000</td>\n",
       "      <td>1030.000000</td>\n",
       "      <td>1030.000000</td>\n",
       "      <td>1030.000000</td>\n",
       "    </tr>\n",
       "    <tr>\n",
       "      <th>mean</th>\n",
       "      <td>281.165631</td>\n",
       "      <td>73.895485</td>\n",
       "      <td>54.187136</td>\n",
       "      <td>181.566359</td>\n",
       "      <td>6.203112</td>\n",
       "      <td>972.918592</td>\n",
       "      <td>773.578883</td>\n",
       "      <td>45.662136</td>\n",
       "      <td>35.817836</td>\n",
       "    </tr>\n",
       "    <tr>\n",
       "      <th>std</th>\n",
       "      <td>104.507142</td>\n",
       "      <td>86.279104</td>\n",
       "      <td>63.996469</td>\n",
       "      <td>21.355567</td>\n",
       "      <td>5.973492</td>\n",
       "      <td>77.753818</td>\n",
       "      <td>80.175427</td>\n",
       "      <td>63.169912</td>\n",
       "      <td>16.705679</td>\n",
       "    </tr>\n",
       "    <tr>\n",
       "      <th>min</th>\n",
       "      <td>102.000000</td>\n",
       "      <td>0.000000</td>\n",
       "      <td>0.000000</td>\n",
       "      <td>121.750000</td>\n",
       "      <td>0.000000</td>\n",
       "      <td>801.000000</td>\n",
       "      <td>594.000000</td>\n",
       "      <td>1.000000</td>\n",
       "      <td>2.331808</td>\n",
       "    </tr>\n",
       "    <tr>\n",
       "      <th>25%</th>\n",
       "      <td>192.375000</td>\n",
       "      <td>0.000000</td>\n",
       "      <td>0.000000</td>\n",
       "      <td>164.900000</td>\n",
       "      <td>0.000000</td>\n",
       "      <td>932.000000</td>\n",
       "      <td>730.950000</td>\n",
       "      <td>7.000000</td>\n",
       "      <td>23.707115</td>\n",
       "    </tr>\n",
       "    <tr>\n",
       "      <th>50%</th>\n",
       "      <td>272.900000</td>\n",
       "      <td>22.000000</td>\n",
       "      <td>0.000000</td>\n",
       "      <td>185.000000</td>\n",
       "      <td>6.350000</td>\n",
       "      <td>968.000000</td>\n",
       "      <td>779.510000</td>\n",
       "      <td>28.000000</td>\n",
       "      <td>34.442774</td>\n",
       "    </tr>\n",
       "    <tr>\n",
       "      <th>75%</th>\n",
       "      <td>350.000000</td>\n",
       "      <td>142.950000</td>\n",
       "      <td>118.270000</td>\n",
       "      <td>192.000000</td>\n",
       "      <td>10.160000</td>\n",
       "      <td>1029.400000</td>\n",
       "      <td>824.000000</td>\n",
       "      <td>56.000000</td>\n",
       "      <td>46.136287</td>\n",
       "    </tr>\n",
       "    <tr>\n",
       "      <th>max</th>\n",
       "      <td>540.000000</td>\n",
       "      <td>359.400000</td>\n",
       "      <td>200.100000</td>\n",
       "      <td>247.000000</td>\n",
       "      <td>32.200000</td>\n",
       "      <td>1145.000000</td>\n",
       "      <td>992.600000</td>\n",
       "      <td>365.000000</td>\n",
       "      <td>82.599225</td>\n",
       "    </tr>\n",
       "  </tbody>\n",
       "</table>\n",
       "</div>"
      ],
      "text/plain": [
       "       Cement (component 1)(kg in a m^3 mixture)  \\\n",
       "count                                1030.000000   \n",
       "mean                                  281.165631   \n",
       "std                                   104.507142   \n",
       "min                                   102.000000   \n",
       "25%                                   192.375000   \n",
       "50%                                   272.900000   \n",
       "75%                                   350.000000   \n",
       "max                                   540.000000   \n",
       "\n",
       "       Blast Furnace Slag (component 2)(kg in a m^3 mixture)  \\\n",
       "count                                        1030.000000       \n",
       "mean                                           73.895485       \n",
       "std                                            86.279104       \n",
       "min                                             0.000000       \n",
       "25%                                             0.000000       \n",
       "50%                                            22.000000       \n",
       "75%                                           142.950000       \n",
       "max                                           359.400000       \n",
       "\n",
       "       Fly Ash (component 3)(kg in a m^3 mixture)  \\\n",
       "count                                 1030.000000   \n",
       "mean                                    54.187136   \n",
       "std                                     63.996469   \n",
       "min                                      0.000000   \n",
       "25%                                      0.000000   \n",
       "50%                                      0.000000   \n",
       "75%                                    118.270000   \n",
       "max                                    200.100000   \n",
       "\n",
       "       Water  (component 4)(kg in a m^3 mixture)  \\\n",
       "count                                1030.000000   \n",
       "mean                                  181.566359   \n",
       "std                                    21.355567   \n",
       "min                                   121.750000   \n",
       "25%                                   164.900000   \n",
       "50%                                   185.000000   \n",
       "75%                                   192.000000   \n",
       "max                                   247.000000   \n",
       "\n",
       "       Superplasticizer (component 5)(kg in a m^3 mixture)  \\\n",
       "count                                        1030.000000     \n",
       "mean                                            6.203112     \n",
       "std                                             5.973492     \n",
       "min                                             0.000000     \n",
       "25%                                             0.000000     \n",
       "50%                                             6.350000     \n",
       "75%                                            10.160000     \n",
       "max                                            32.200000     \n",
       "\n",
       "       Coarse Aggregate  (component 6)(kg in a m^3 mixture)  \\\n",
       "count                                        1030.000000      \n",
       "mean                                          972.918592      \n",
       "std                                            77.753818      \n",
       "min                                           801.000000      \n",
       "25%                                           932.000000      \n",
       "50%                                           968.000000      \n",
       "75%                                          1029.400000      \n",
       "max                                          1145.000000      \n",
       "\n",
       "       Fine Aggregate (component 7)(kg in a m^3 mixture)    Age (day)  \\\n",
       "count                                        1030.000000  1030.000000   \n",
       "mean                                          773.578883    45.662136   \n",
       "std                                            80.175427    63.169912   \n",
       "min                                           594.000000     1.000000   \n",
       "25%                                           730.950000     7.000000   \n",
       "50%                                           779.510000    28.000000   \n",
       "75%                                           824.000000    56.000000   \n",
       "max                                           992.600000   365.000000   \n",
       "\n",
       "       Concrete compressive strength(MPa, megapascals)   \n",
       "count                                       1030.000000  \n",
       "mean                                          35.817836  \n",
       "std                                           16.705679  \n",
       "min                                            2.331808  \n",
       "25%                                           23.707115  \n",
       "50%                                           34.442774  \n",
       "75%                                           46.136287  \n",
       "max                                           82.599225  "
      ]
     },
     "execution_count": 2218,
     "metadata": {},
     "output_type": "execute_result"
    }
   ],
   "source": [
    "data.describe()"
   ]
  },
  {
   "cell_type": "code",
   "execution_count": 2219,
   "metadata": {},
   "outputs": [],
   "source": [
    "train, test, y_train, y_test = train_test_split(train_df, target, test_size = 0.2, shuffle = True , random_state = 10)\n",
    "train, val, y_train, y_val = train_test_split(train, y_train, test_size = 0.25, shuffle = True, random_state = 15)"
   ]
  },
  {
   "cell_type": "code",
   "execution_count": 2220,
   "metadata": {},
   "outputs": [
    {
     "name": "stdout",
     "output_type": "stream",
     "text": [
      " percent of the train data in the whole data : 60.00 %\n",
      " percent of the test data in the whole data : 20.00 %\n",
      " percent of the val data in the whole data : 20.00 %\n"
     ]
    }
   ],
   "source": [
    "print(f\" percent of the train data in the whole data : {len(train)*100/len(train_df):.2f} %\")\n",
    "print(f\" percent of the test data in the whole data : {len(test)*100/len(train_df):.2f} %\")\n",
    "print(f\" percent of the val data in the whole data : {len(val)*100/len(train_df):.2f} %\")"
   ]
  },
  {
   "cell_type": "code",
   "execution_count": 2221,
   "metadata": {},
   "outputs": [],
   "source": [
    "Normalized_train = ( train - train.mean() )/train.std()\n",
    "Normalized_test = ( test- train.mean() )/train.std()\n",
    "Normalized_val = ( val - train.mean() )/train.std()"
   ]
  },
  {
   "cell_type": "code",
   "execution_count": 2222,
   "metadata": {},
   "outputs": [],
   "source": [
    "class Python_MLP():\n",
    "\n",
    "    def __init__(self, x_data = Normalized_train.to_numpy(), y_data = y_train.to_numpy().reshape(len(y_train),1), test = Normalized_test.to_numpy(), \n",
    "                 y_test = y_test.to_numpy().reshape(len(y_test),1), val = Normalized_val.to_numpy(), y_val = y_val.to_numpy().reshape(len(y_val),1), ):\n",
    "\n",
    "        self.x = x_data\n",
    "        self.y = y_data\n",
    "\n",
    "        self.test, self.y_test = test, y_test\n",
    "        self.val, self.y_val = val, y_val\n",
    "    \n",
    "    def prepare_data(self, batch_size=64, normalize = False):\n",
    "\n",
    "        if normalize :\n",
    "            # getting the std and mu of the data\n",
    "            mu = np.mean(self.x, axis = 0)\n",
    "            std = np.std(self.x, axis = 0)\n",
    "\n",
    "            # Now normalizing the data\n",
    "            self.x = (self.x - mu ) / (std)\n",
    "            self.val = (self.val - mu )/(std)\n",
    "            self.test = (self.test - mu )/(std)\n",
    "        \n",
    "        self.batched_data = [self.x[i:i+batch_size] for i in range(0,len(self.x),batch_size)]\n",
    "        self.batched_y = [self.y[i:i+batch_size] for i in range(0,len(self.x),batch_size)]\n",
    "    \n",
    "    def create_network(self, arch):\n",
    "        self.arch = arch\n",
    "        self.network = Python_NN('network-1', self.arch)\n",
    "        self.network.create_network()\n",
    "    \n",
    "    def train_data(self, epochs, momentum = 0, lr = 1e-4, print_freq = 1000, score_fn = calculate_r2, Loss = MSE_Loss):\n",
    "\n",
    "        loss_list = []\n",
    "        val_loss_list = []\n",
    "\n",
    "        train_score = []\n",
    "        val_score = []\n",
    "        \n",
    "        print(f\" Just an Info, The error and activation Function should be :- Cross Entropy + Softmax (or) BCE + Sigmoid (or) MSE + Linear \")\n",
    "\n",
    "        for e in tqdm( range(epochs) ):\n",
    "\n",
    "            epoch_loss = 0\n",
    "            val_loss = 0\n",
    "\n",
    "            for x,y_true in zip(self.batched_data, self.batched_y):\n",
    "                \n",
    "                x = x.astype(np.float64)\n",
    "\n",
    "                y_pred = self.network.make_forward_pass(x)\n",
    "                # y_true = y_true.reshape((len(y_true),1))\n",
    "                \n",
    "                # calculating loss\n",
    "                Loss_fn = Loss(y_pred, y_true)\n",
    "                loss = Loss_fn.calculate_loss()\n",
    "\n",
    "                # Gradient\n",
    "                grad = Loss_fn.Gradient()\n",
    "\n",
    "                # back_prop\n",
    "                self.network.backward(grad)\n",
    "\n",
    "                # Gradient updation\n",
    "                self.network.optimize_weights(momentum, lr)\n",
    "\n",
    "                epoch_loss += loss\n",
    "\n",
    "            ''' Now Calculating the Val Loss '''\n",
    "\n",
    "            val_pred = self.network.make_forward_pass(self.val)\n",
    "\n",
    "            # creating a Val Fn \n",
    "            val_Loss_fn = Loss(val_pred, self.y_val)\n",
    "            val_loss += val_Loss_fn.calculate_loss()\n",
    "\n",
    "            # loss list \n",
    "            loss_list.append(epoch_loss/len(self.x))\n",
    "            val_loss_list.append(val_loss)\n",
    "\n",
    "            train_score.append(score_fn( self.y, self.network.make_forward_pass(self.x) )) \n",
    "            val_score.append(score_fn( self.y_val, self.network.make_forward_pass(self.val) ))\n",
    "\n",
    "            if (e+1) % print_freq == 0: \n",
    "\n",
    "                print(f\" The current epoch : {e+1} \")\n",
    "                print(f\" Train score and Loss : '{train_score[-1]*100:.3f}' & '{loss_list[-1]:.3f}' and val score and Loss : '{val_score[-1]*100:.3f}' & '{val_loss_list[-1]:.3f}' \")\n",
    "        \n",
    "        # prediction in Train Dataset\n",
    "        y_true_full = self.y\n",
    "        y_pred_full = self.network.make_forward_pass(self.x)\n",
    "\n",
    "        # prediction in Val Dataset\n",
    "        y_val_true = self.y_val\n",
    "        y_val_pred = self.network.make_forward_pass(self.val)\n",
    "\n",
    "        # prediction in Test Dataset\n",
    "        y_test_true = self.y_test\n",
    "        y_test_pred = self.network.make_forward_pass(self.test)\n",
    "\n",
    "        # Printing the predictions\n",
    "\n",
    "        # print(y_val_true.shape, y_val_pred.shape)\n",
    "\n",
    "        print(f\" Final R2 score is : {score_fn(y_true_full, y_pred_full)*100:.3f} % in Train Dataset \")\n",
    "        print(f\" Final epoch Train loss : {loss_list[-1]} \\n\")\n",
    "\n",
    "        print(f\" Final R2 score is : {score_fn(y_val_true, y_val_pred)*100:.3f} % in Val Dataset \")\n",
    "        print(f\" Final epoch Val loss : {val_loss_list[-1]} \\n\")\n",
    "\n",
    "        print(f\" Final R2 score is : {score_fn(y_test_true, y_test_pred)*100:.3f} % in Test Dataset \")\n",
    "        print(f\" Final epoch Test loss : {Loss(y_test_pred, y_test_true).calculate_loss()} \\n\")\n",
    "\n",
    "        self.loss_list = loss_list\n",
    "        self.val_loss_list = val_loss_list\n",
    "\n",
    "        self.train_score = train_score\n",
    "        self.val_score = val_score\n",
    "    \n",
    "    def plot_training_curve(self, Loss_type = 'MSE_Loss', score_metric = 'R2_Score'):\n",
    "\n",
    "        loss_list = self.loss_list\n",
    "        val_loss_list = self.val_loss_list\n",
    "\n",
    "        val_score = self.val_score\n",
    "        train_score = self.train_score\n",
    "\n",
    "        plt.figure(figsize=(18,14))\n",
    "        \n",
    "        plt.subplot(2,2,1)\n",
    "        plt.xlabel('Epochs')\n",
    "        plt.ylabel(f'Train_{Loss_type}')\n",
    "        plt.title(f'Train {Loss_type} vs Epochs')\n",
    "        plt.plot(loss_list, 'b', label = f'Train Loss')\n",
    "        plt.legend(loc='best')\n",
    "\n",
    "        plt.subplot(2,2,2)\n",
    "        plt.xlabel('Epochs')\n",
    "        plt.ylabel(f'Val_{Loss_type}')\n",
    "        plt.title(f'Val {Loss_type} vs Epochs')\n",
    "        plt.plot(val_loss_list, 'orange', label = 'Val Loss')\n",
    "        plt.legend(loc='best')\n",
    "\n",
    "        plt.subplot(2,2,3)\n",
    "        plt.xlabel('Epochs')\n",
    "        plt.ylabel(f'Train_{score_metric}')\n",
    "        plt.title(f'Train {score_metric} vs Epochs')\n",
    "        plt.plot(train_score, 'b', label = f'Train {score_metric}')\n",
    "        plt.legend(loc='best')\n",
    "\n",
    "        plt.subplot(2,2,4)\n",
    "        plt.xlabel('Epochs')\n",
    "        plt.ylabel(f'val_{score_metric}')\n",
    "        plt.title(f'Val {score_metric} vs Epochs')\n",
    "        plt.plot(val_score, 'orange', label = f'val {score_metric}')\n",
    "        plt.legend(loc='best')\n",
    "        plt.show()\n",
    "\n",
    "        # print(val_score == train_score)"
   ]
  },
  {
   "cell_type": "code",
   "execution_count": 2223,
   "metadata": {},
   "outputs": [],
   "source": [
    "two_layer_arch = [8, 64, {'Activation':ReLU()}, 8,{'Activation':ReLU()}, 1]\n",
    "arch1 = [8, 32, 64, {'Activation':Sigmoid()}, 128, {'Activation':ReLU()}, 256, {'Activation':ReLU()}, {'Activation':Tanh()},128,64,1]"
   ]
  },
  {
   "cell_type": "code",
   "execution_count": 2239,
   "metadata": {},
   "outputs": [
    {
     "name": "stdout",
     "output_type": "stream",
     "text": [
      " Don't give starting value as a activation, If you have given remove it please (Just a default warning) \n"
     ]
    }
   ],
   "source": [
    "N1 = Python_MLP()\n",
    "\n",
    "# creating network arch\n",
    "N1.create_network(two_layer_arch)\n",
    "\n",
    "N1.prepare_data(64)"
   ]
  },
  {
   "cell_type": "code",
   "execution_count": 2242,
   "metadata": {},
   "outputs": [
    {
     "name": "stdout",
     "output_type": "stream",
     "text": [
      " Just an Info, The error and activation Function should be :- Cross Entropy + Softmax (or) BCE + Sigmoid (or) MSE + Linear \n"
     ]
    },
    {
     "name": "stderr",
     "output_type": "stream",
     "text": [
      "100%|██████████| 500/500 [00:03<00:00, 151.52it/s]"
     ]
    },
    {
     "name": "stdout",
     "output_type": "stream",
     "text": [
      " Final R2 score is : 97.349 % in Train Dataset \n",
      " Final epoch Train loss : 0.129421678691511 \n",
      "\n",
      " Final R2 score is : 88.526 % in Val Dataset \n",
      " Final epoch Val loss : 29.239828285083117 \n",
      "\n",
      " Final R2 score is : 88.908 % in Test Dataset \n",
      " Final epoch Test loss : 30.823920634722985 \n",
      "\n"
     ]
    },
    {
     "name": "stderr",
     "output_type": "stream",
     "text": [
      "\n"
     ]
    }
   ],
   "source": [
    "N1.train_data( 500, momentum=0.2, lr=1e-3 )"
   ]
  },
  {
   "cell_type": "code",
   "execution_count": 1294,
   "metadata": {},
   "outputs": [
    {
     "data": {
      "image/png": "[encoded data removed]",
      "text/plain": [
       "<Figure size 1296x1008 with 4 Axes>"
      ]
     },
     "metadata": {
      "needs_background": "light"
     },
     "output_type": "display_data"
    }
   ],
   "source": [
    "N1.plot_training_curve()"
   ]
  },
  {
   "attachments": {},
   "cell_type": "markdown",
   "metadata": {},
   "source": [
    "## Doing Pytorch Implementation "
   ]
  },
  {
   "cell_type": "code",
   "execution_count": 2231,
   "metadata": {},
   "outputs": [],
   "source": [
    "class Pytorch_Model(nn.Module):\n",
    "\n",
    "    def __init__(self, input_dim=8, output_dim=1):\n",
    "        super(Pytorch_Model, self).__init__()\n",
    "\n",
    "        self.input_dim = input_dim\n",
    "        self.output_dim = output_dim\n",
    "\n",
    "        self.dense_layer1 = nn.Sequential(\n",
    "\n",
    "            nn.Linear(self.input_dim, 64),\n",
    "            nn.ReLU(),\n",
    "\n",
    "            nn.Linear(64,8),\n",
    "            nn.ReLU(),\n",
    "\n",
    "            nn.Linear(8,self.output_dim),\n",
    "        )\n",
    "    \n",
    "    def forward(self, x, classification=False):\n",
    "        \n",
    "        y = self.dense_layer1(x)\n",
    "        \n",
    "        # If that is a classification task\n",
    "        if classification:\n",
    "            y = nn.Softmax(y, dim=1)\n",
    "\n",
    "        return y"
   ]
  },
  {
   "cell_type": "code",
   "execution_count": 2232,
   "metadata": {},
   "outputs": [
    {
     "name": "stdout",
     "output_type": "stream",
     "text": [
      " Total trainable parameters in the model is : 1105 \n"
     ]
    }
   ],
   "source": [
    "Model1 = Pytorch_Model().to(device)\n",
    "print(f\" Total trainable parameters in the model is : {sum([p.numel() for p in Model1.parameters()])} \")"
   ]
  },
  {
   "cell_type": "code",
   "execution_count": 2233,
   "metadata": {},
   "outputs": [],
   "source": [
    "class Pytorch_NN():\n",
    "\n",
    "    def __init__(self, x_data, y_data, x_val, y_val, x_test, y_test, optimizer=SGD, model=Model1, device=device, lr=1e-3, momentum=0.2, loss=nn.MSELoss()):\n",
    "        \n",
    "        # Datasets\n",
    "        self.x = x_data\n",
    "        self.y = y_data\n",
    "        \n",
    "        self.val = x_val\n",
    "        self.y_val = y_val\n",
    "\n",
    "        self.test = x_test\n",
    "        self.y_test = y_test\n",
    "\n",
    "        self.device = device\n",
    "\n",
    "        # Initializing Optimizers , Models and loss\n",
    "        self.loss = loss\n",
    "        self.model = model.to(device)\n",
    "        self.optimizer = optimizer(self.model.parameters(), lr = lr, momentum = momentum )\n",
    "    \n",
    "    def create_Dataloader(self, x, y):\n",
    "        \n",
    "        Tensor_Data = TensorDataset(x,y)\n",
    "        # Random_Data_Sampler = RandomSampler(Tensor_Data)\n",
    "        dataloader = DataLoader(dataset = Tensor_Data, batch_size=self.batch_size, shuffle = True, drop_last = False)\n",
    "        return dataloader\n",
    "    \n",
    "    def prepare_data(self, batch_size=64, normalize=False):\n",
    "\n",
    "        self.batch_size = batch_size\n",
    "\n",
    "        if normalize:\n",
    "            # getting the std and mu of the data\n",
    "            mu = np.mean(self.x, axis = 0)\n",
    "            std = np.std(self.x, axis = 0)\n",
    "\n",
    "            # Now normalizing the data\n",
    "            self.x = (self.x - mu ) / (std)\n",
    "            self.val = (self.val - mu )/(std)\n",
    "            self.test = (self.test - mu )/(std)\n",
    "        \n",
    "        # converting them into torch tensor\n",
    "        self.x, self.y = torch.tensor(self.x, dtype = torch.float32).to(device), torch.tensor(self.y).to(device)\n",
    "        self.val, self.y_val = torch.tensor(self.val, dtype = torch.float32).to(device), torch.tensor(self.y_val).to(device)\n",
    "        self.test, self.y_test = torch.tensor(self.test, dtype = torch.float32).to(device), torch.tensor(self.y_test).to(device)\n",
    "\n",
    "        # Creating a DataLoader with Batched Data\n",
    "        self.Train_DataLoader = self.create_Dataloader(self.x, self.y)\n",
    "        # self.Val_DataLoader = self.create_Dataloader(self.val, self.y_val)\n",
    "        # self.Test_DataLoader = self.create_Dataloader(self.test, self.y_test)\n",
    "    \n",
    "    def train_model(self, epochs, print_freq, score_fn, classification=False):\n",
    "\n",
    "        train_loss_list, val_loss_list = [], []\n",
    "        train_score, val_score = [], []\n",
    "\n",
    "        for e in tqdm(range(epochs)):\n",
    "            epoch_loss = 0\n",
    "            val_loss = 0\n",
    "\n",
    "            for index,batch in enumerate(self.Train_DataLoader):\n",
    "\n",
    "                x,y_true = batch\n",
    "\n",
    "                # Moving data to device\n",
    "                x = x.to(self.device)\n",
    "                y_true = y_true.to(self.device)\n",
    "\n",
    "                # getting output from the model\n",
    "                y_pred = self.model(x, classification = classification)\n",
    "\n",
    "                # print(y_pred.dtype)\n",
    "\n",
    "                # calculating the loss\n",
    "                loss = self.loss(y_pred, y_true)\n",
    "\n",
    "                # doing back_prop\n",
    "                loss.backward()\n",
    "\n",
    "                # updating weights\n",
    "                self.optimizer.step()\n",
    "                self.optimizer.zero_grad()\n",
    "\n",
    "                epoch_loss += loss.item()*len(x)\n",
    "            \n",
    "            # Now calculating the loss for val loss\n",
    "            # print(self.val.dtype)\n",
    "            val_pred = self.model(self.val)\n",
    "            y_pred = self.model(self.x)\n",
    "\n",
    "            val_loss = self.loss(val_pred, self.y_val).item()\n",
    "\n",
    "            # collecting the loss and score for each epoch\n",
    "            val_loss_list.append(val_loss)\n",
    "            train_loss_list.append(epoch_loss/len(self.x))\n",
    "\n",
    "            v_score = score_fn(self.y_val.detach().cpu().numpy(), val_pred.detach().cpu().numpy())\n",
    "            t_score = score_fn(self.y.detach().cpu().numpy(), y_pred.detach().cpu().numpy())\n",
    "\n",
    "            train_score.append(t_score)\n",
    "            val_score.append(v_score)\n",
    "\n",
    "            if (e+1)% print_freq == 0:\n",
    "                print(\"==================================================================================\")\n",
    "                print(f\" Current epoch is : {e+1} \")\n",
    "                print(f\" The score and Loss in Validation Data is : {val_score[-1]*100:.3f} and {val_loss_list[-1]:.2f} \")\n",
    "                print(f\" The score and Loss in Train Data is : {train_score[-1]*100:.3f} and {train_loss_list[-1]:.3f} \")\n",
    "                print(\"===================================================================================\\n\")\n",
    "        \n",
    "        # Calculating Results in Test Data\n",
    "\n",
    "        test_pred = self.model(self.test)\n",
    "        test_loss = self.loss(test_pred, self.y_test).item()\n",
    "        test_score = score_fn(self.y_test.detach().cpu().numpy(), test_pred.detach().cpu().numpy())\n",
    "        \n",
    "        print(\"****************************************************************************************\")\n",
    "        print(f\" Final Epoch Results \")\n",
    "        print(f\" The score and Loss in Validation Data is : {val_score[-1]*100:.2f} and {val_loss_list[-1]:.2f} \")\n",
    "        print(f\" The score and Loss in Train Data is : {train_score[-1]*100:.3f} and {train_loss_list[-1]:.3f} \")\n",
    "        print(f\" The score and Loss in Test Data is : {test_score*100:.3f} and {test_loss:.3f} \")\n",
    "        print(\"****************************************************************************************\\n\")"
   ]
  },
  {
   "cell_type": "code",
   "execution_count": 2234,
   "metadata": {},
   "outputs": [],
   "source": [
    "concrete_data = pd.read_excel('Concrete_Data.xls')\n",
    "\n",
    "concrete_train_df = concrete_data.drop(['Concrete compressive strength(MPa, megapascals) '], axis = 1, inplace = False).to_numpy().astype(np.float32)\n",
    "concrete_target = data['Concrete compressive strength(MPa, megapascals) '].to_numpy().reshape((len(concrete_train_df),1)).astype(np.float32)"
   ]
  },
  {
   "cell_type": "code",
   "execution_count": 2235,
   "metadata": {},
   "outputs": [
    {
     "data": {
      "text/plain": [
       "(1030, 1)"
      ]
     },
     "execution_count": 2235,
     "metadata": {},
     "output_type": "execute_result"
    }
   ],
   "source": [
    "concrete_target.shape"
   ]
  },
  {
   "cell_type": "code",
   "execution_count": 2236,
   "metadata": {},
   "outputs": [],
   "source": [
    "c_train, c_test, c_y_train, c_y_test = train_test_split(concrete_train_df, concrete_target, test_size = 0.2, shuffle = True , random_state = 10)\n",
    "c_train, c_val, c_y_train, c_y_val = train_test_split(c_train, c_y_train, test_size = 0.25, shuffle = True, random_state = 15)"
   ]
  },
  {
   "cell_type": "code",
   "execution_count": 2237,
   "metadata": {},
   "outputs": [],
   "source": [
    "Pytorch_Train = Pytorch_NN(x_data=c_train, y_data=c_y_train, x_val=c_val, y_val=c_y_val, x_test=c_test, y_test=c_y_test, )\n",
    "Pytorch_Train.prepare_data(normalize=True)"
   ]
  },
  {
   "cell_type": "code",
   "execution_count": 587,
   "metadata": {},
   "outputs": [
    {
     "ename": "NameError",
     "evalue": "name 'Pytorch_Train' is not defined",
     "output_type": "error",
     "traceback": [
      "\u001b[1;31m---------------------------------------------------------------------------\u001b[0m",
      "\u001b[1;31mNameError\u001b[0m                                 Traceback (most recent call last)",
      "\u001b[1;32md:\\DISK S\\IITM\\Sem-4\\ID5030 - ML\\Assignments (or) Tutorials\\Assig - 5\\Assig-5_code.ipynb Cell 50\u001b[0m in \u001b[0;36m<cell line: 1>\u001b[1;34m()\u001b[0m\n\u001b[1;32m----> <a href='vscode-notebook-cell:/d%3A/DISK%20S/IITM/Sem-4/ID5030%20-%20ML/Assignments%20%28or%29%20Tutorials/Assig%20-%205/Assig-5_code.ipynb#Y100sZmlsZQ%3D%3D?line=0'>1</a>\u001b[0m Pytorch_Train\u001b[39m.\u001b[39mtrain_model(\u001b[39m2000\u001b[39m,\u001b[39m500\u001b[39m,calculate_r2)\n",
      "\u001b[1;31mNameError\u001b[0m: name 'Pytorch_Train' is not defined"
     ]
    }
   ],
   "source": [
    "Pytorch_Train.train_model(2000,500,calculate_r2)"
   ]
  },
  {
   "attachments": {},
   "cell_type": "markdown",
   "metadata": {},
   "source": [
    "## Now feeding XOR data"
   ]
  },
  {
   "cell_type": "code",
   "execution_count": 1887,
   "metadata": {},
   "outputs": [
    {
     "data": {
      "text/plain": [
       "array([[0., 0.],\n",
       "       [0., 1.],\n",
       "       [1., 0.],\n",
       "       [1., 1.]])"
      ]
     },
     "execution_count": 1887,
     "metadata": {},
     "output_type": "execute_result"
    }
   ],
   "source": [
    "XOR_data = np.array([[x,y,bool(x+y) - x*y] for x in [0,1] for y in [0,1]], dtype = np.float64)\n",
    "XOR_MSE = XOR_data[:,-1].reshape(4,1)\n",
    "\n",
    "XOR_x = XOR_data[:,:-1]\n",
    "XOR_y = np.array([ [0,1] if c else [1,0] for c in XOR_data[:,-1] ] , dtype = np.float64)\n",
    "\n",
    "XOR_x"
   ]
  },
  {
   "cell_type": "code",
   "execution_count": 1933,
   "metadata": {},
   "outputs": [],
   "source": [
    "XOR_arch = [2, 2, {'Activation':ReLU()}, 2, {'Activation':Softmax()} ]\n",
    "XOR_arch2 = [2, 4, {'Activation':ReLU()}, 2, {'Activation':Softmax()}]"
   ]
  },
  {
   "cell_type": "code",
   "execution_count": 1940,
   "metadata": {},
   "outputs": [
    {
     "name": "stdout",
     "output_type": "stream",
     "text": [
      " Don't give starting value as a activation, If you have given remove it please (Just a default warning) \n"
     ]
    }
   ],
   "source": [
    "XOR = Python_MLP(x_data= XOR_x, y_data = XOR_y, test = XOR_x, \n",
    "                 y_test = XOR_y , val = XOR_x, y_val = XOR_y,)\n",
    "\n",
    "# creating network arch\n",
    "XOR.create_network(XOR_arch)\n",
    "\n",
    "XOR.prepare_data(4)"
   ]
  },
  {
   "cell_type": "code",
   "execution_count": 1942,
   "metadata": {},
   "outputs": [
    {
     "name": "stdout",
     "output_type": "stream",
     "text": [
      " Just an Info, The error and activation Function should be :- Cross Entropy + Softmax (or) BCE + Sigmoid (or) MSE + Linear \n"
     ]
    },
    {
     "name": "stderr",
     "output_type": "stream",
     "text": [
      "100%|██████████| 500/500 [00:00<00:00, 1081.13it/s]"
     ]
    },
    {
     "name": "stdout",
     "output_type": "stream",
     "text": [
      " Final R2 score is : 100.000 % in Train Dataset \n",
      " Final epoch Train loss : 0.02809023455129083 \n",
      "\n",
      " Final R2 score is : 100.000 % in Val Dataset \n",
      " Final epoch Val loss : 0.11209546295982772 \n",
      "\n",
      " Final R2 score is : 100.000 % in Test Dataset \n",
      " Final epoch Test loss : 0.11209546295982772 \n",
      "\n"
     ]
    },
    {
     "name": "stderr",
     "output_type": "stream",
     "text": [
      "\n"
     ]
    }
   ],
   "source": [
    "XOR.train_data(500, momentum=0.0, lr=1e-1, score_fn = calculate_f1, Loss = CE_Loss, print_freq=1e6)"
   ]
  },
  {
   "cell_type": "code",
   "execution_count": 1106,
   "metadata": {},
   "outputs": [
    {
     "data": {
      "text/plain": [
       "array([[1.34985881, 2.57137301],\n",
       "       [1.8221188 , 1.4918247 ]])"
      ]
     },
     "execution_count": 1106,
     "metadata": {},
     "output_type": "execute_result"
    }
   ],
   "source": [
    "np.exp(np.array([[0.3,0.94444],[0.6,0.4]], dtype = float))"
   ]
  },
  {
   "attachments": {},
   "cell_type": "markdown",
   "metadata": {},
   "source": [
    "## Now Trying with the Iris Dataset"
   ]
  },
  {
   "cell_type": "code",
   "execution_count": 1641,
   "metadata": {},
   "outputs": [],
   "source": [
    "from sklearn import datasets\n",
    "\n",
    "iris = datasets.load_iris()\n",
    "iris_data = iris['data']\n",
    "iris_target = iris['target']"
   ]
  },
  {
   "cell_type": "code",
   "execution_count": 1741,
   "metadata": {},
   "outputs": [
    {
     "data": {
      "text/plain": [
       "array([0., 0., 1.])"
      ]
     },
     "execution_count": 1741,
     "metadata": {},
     "output_type": "execute_result"
    }
   ],
   "source": [
    "target = np.zeros((150,3))\n",
    "for i in range(150): target[i][iris_target[i]] = 1\n",
    "\n",
    "# sample\n",
    "target[-1]"
   ]
  },
  {
   "cell_type": "code",
   "execution_count": 1810,
   "metadata": {},
   "outputs": [],
   "source": [
    "iris_arch0 = [ 4, 8, {'Activation':ReLU()}, 3, {'Activation':Softmax()} ]\n",
    "iris_arch1 = [ 4, 32, {'Activation':Tanh()},  3, {'Activation':Softmax()} ]\n",
    "iris_arch2 = [4, {'Activation':Sigmoid()}, 64,{'Activation':ReLU()}, 16, {'Activation':ReLU()}, 8, 3, {'Activation':Softmax()}  ]"
   ]
  },
  {
   "cell_type": "code",
   "execution_count": 1811,
   "metadata": {},
   "outputs": [
    {
     "name": "stdout",
     "output_type": "stream",
     "text": [
      " Don't give starting value as a activation, If you have given remove it please (Just a default warning) \n"
     ]
    }
   ],
   "source": [
    "Iris_Model = Python_MLP(x_data= iris_data, y_data = target, test = iris_data, \n",
    "                 y_test = target , val = iris_data, y_val = target,)\n",
    "\n",
    "# creating network arch\n",
    "Iris_Model.create_network(iris_arch0)\n",
    "\n",
    "Iris_Model.prepare_data(150, normalize=True)"
   ]
  },
  {
   "cell_type": "code",
   "execution_count": 1812,
   "metadata": {},
   "outputs": [
    {
     "name": "stdout",
     "output_type": "stream",
     "text": [
      " Just an Info, The error and activation Function should be :- Cross Entropy + Softmax (or) BCE + Sigmoid (or) MSE + Linear \n"
     ]
    },
    {
     "name": "stderr",
     "output_type": "stream",
     "text": [
      "100%|██████████| 1000/1000 [00:07<00:00, 140.21it/s]"
     ]
    },
    {
     "name": "stdout",
     "output_type": "stream",
     "text": [
      " Final R2 score is : 98.000 % in Train Dataset \n",
      " Final epoch Train loss : 0.05047115181764544 \n",
      "\n",
      " Final R2 score is : 98.000 % in Val Dataset \n",
      " Final epoch Val loss : 7.568139105088965 \n",
      "\n",
      " Final R2 score is : 98.000 % in Test Dataset \n",
      " Final epoch Test loss : 7.568139105088965 \n",
      "\n"
     ]
    },
    {
     "name": "stderr",
     "output_type": "stream",
     "text": [
      "\n"
     ]
    }
   ],
   "source": [
    "Iris_Model.train_data(1000, momentum=0.01, lr=1e-1, score_fn = calculate_accuracy, Loss = CE_Loss, print_freq=5000)"
   ]
  },
  {
   "cell_type": "code",
   "execution_count": 1813,
   "metadata": {},
   "outputs": [
    {
     "data": {
      "image/png": "[encoded data removed]",
      "text/plain": [
       "<Figure size 1296x1008 with 4 Axes>"
      ]
     },
     "metadata": {
      "needs_background": "light"
     },
     "output_type": "display_data"
    }
   ],
   "source": [
    "Iris_Model.plot_training_curve(Loss_type = 'Cross_Entropy_Loss', score_metric = 'F1_Score')"
   ]
  }
 ],
 "metadata": {
  "kernelspec": {
   "display_name": "Python 3",
   "language": "python",
   "name": "python3"
  },
  "language_info": {
   "codemirror_mode": {
    "name": "ipython",
    "version": 3
   },
   "file_extension": ".py",
   "mimetype": "text/x-python",
   "name": "python",
   "nbconvert_exporter": "python",
   "pygments_lexer": "ipython3",
   "version": "3.10.4"
  },
  "orig_nbformat": 4
 },
 "nbformat": 4,
 "nbformat_minor": 2
}
