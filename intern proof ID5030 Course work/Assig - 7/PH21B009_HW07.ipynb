{
 "cells": [
  {
   "cell_type": "code",
   "execution_count": 1,
   "metadata": {},
   "outputs": [],
   "source": [
    "# common imports \n",
    "import pandas as pd\n",
    "import numpy as np\n",
    "\n",
    "from tqdm import tqdm\n",
    "import time\n",
    "import os\n",
    "\n",
    "# for date and time\n",
    "from datetime import datetime \n",
    "import holidays\n",
    "\n",
    "# graphs\n",
    "import matplotlib.pyplot as plt\n",
    "\n",
    "# sklearn\n",
    "from sklearn.model_selection import train_test_split\n",
    "from sklearn.metrics import r2_score, mean_squared_error\n",
    "from sklearn.preprocessing import MinMaxScaler, StandardScaler, OneHotEncoder"
   ]
  },
  {
   "cell_type": "code",
   "execution_count": 2,
   "metadata": {},
   "outputs": [],
   "source": [
    "# pytorch imports\n",
    "import torch\n",
    "import torch.nn as nn\n",
    "\n",
    "# torch dataloaders\n",
    "import torch.functional as f\n",
    "from torch.utils.data import Dataset, TensorDataset, DataLoader, random_split"
   ]
  },
  {
   "attachments": {},
   "cell_type": "markdown",
   "metadata": {},
   "source": [
    "## Creating Dataset"
   ]
  },
  {
   "cell_type": "code",
   "execution_count": 3,
   "metadata": {},
   "outputs": [
    {
     "data": {
      "text/html": [
       "<div>\n",
       "<style scoped>\n",
       "    .dataframe tbody tr th:only-of-type {\n",
       "        vertical-align: middle;\n",
       "    }\n",
       "\n",
       "    .dataframe tbody tr th {\n",
       "        vertical-align: top;\n",
       "    }\n",
       "\n",
       "    .dataframe thead th {\n",
       "        text-align: right;\n",
       "    }\n",
       "</style>\n",
       "<table border=\"1\" class=\"dataframe\">\n",
       "  <thead>\n",
       "    <tr style=\"text-align: right;\">\n",
       "      <th></th>\n",
       "      <th>Datetime</th>\n",
       "      <th>PJMW_MW</th>\n",
       "    </tr>\n",
       "  </thead>\n",
       "  <tbody>\n",
       "    <tr>\n",
       "      <th>0</th>\n",
       "      <td>2002-12-31 01:00:00</td>\n",
       "      <td>5077.0</td>\n",
       "    </tr>\n",
       "    <tr>\n",
       "      <th>1</th>\n",
       "      <td>2002-12-31 02:00:00</td>\n",
       "      <td>4939.0</td>\n",
       "    </tr>\n",
       "    <tr>\n",
       "      <th>2</th>\n",
       "      <td>2002-12-31 03:00:00</td>\n",
       "      <td>4885.0</td>\n",
       "    </tr>\n",
       "    <tr>\n",
       "      <th>3</th>\n",
       "      <td>2002-12-31 04:00:00</td>\n",
       "      <td>4857.0</td>\n",
       "    </tr>\n",
       "    <tr>\n",
       "      <th>4</th>\n",
       "      <td>2002-12-31 05:00:00</td>\n",
       "      <td>4930.0</td>\n",
       "    </tr>\n",
       "  </tbody>\n",
       "</table>\n",
       "</div>"
      ],
      "text/plain": [
       "              Datetime  PJMW_MW\n",
       "0  2002-12-31 01:00:00   5077.0\n",
       "1  2002-12-31 02:00:00   4939.0\n",
       "2  2002-12-31 03:00:00   4885.0\n",
       "3  2002-12-31 04:00:00   4857.0\n",
       "4  2002-12-31 05:00:00   4930.0"
      ]
     },
     "execution_count": 3,
     "metadata": {},
     "output_type": "execute_result"
    }
   ],
   "source": [
    "data = pd.read_csv('rnn_dataset.csv')\n",
    "data.head()"
   ]
  },
  {
   "cell_type": "code",
   "execution_count": 4,
   "metadata": {},
   "outputs": [
    {
     "name": "stdout",
     "output_type": "stream",
     "text": [
      "<class 'pandas.core.frame.DataFrame'>\n",
      "RangeIndex: 143206 entries, 0 to 143205\n",
      "Data columns (total 2 columns):\n",
      " #   Column    Non-Null Count   Dtype  \n",
      "---  ------    --------------   -----  \n",
      " 0   Datetime  143206 non-null  object \n",
      " 1   PJMW_MW   143206 non-null  float64\n",
      "dtypes: float64(1), object(1)\n",
      "memory usage: 2.2+ MB\n"
     ]
    }
   ],
   "source": [
    "data.info()"
   ]
  },
  {
   "cell_type": "code",
   "execution_count": 5,
   "metadata": {},
   "outputs": [
    {
     "data": {
      "text/html": [
       "<div>\n",
       "<style scoped>\n",
       "    .dataframe tbody tr th:only-of-type {\n",
       "        vertical-align: middle;\n",
       "    }\n",
       "\n",
       "    .dataframe tbody tr th {\n",
       "        vertical-align: top;\n",
       "    }\n",
       "\n",
       "    .dataframe thead th {\n",
       "        text-align: right;\n",
       "    }\n",
       "</style>\n",
       "<table border=\"1\" class=\"dataframe\">\n",
       "  <thead>\n",
       "    <tr style=\"text-align: right;\">\n",
       "      <th></th>\n",
       "      <th>PJMW_MW</th>\n",
       "    </tr>\n",
       "  </thead>\n",
       "  <tbody>\n",
       "    <tr>\n",
       "      <th>count</th>\n",
       "      <td>143206.000000</td>\n",
       "    </tr>\n",
       "    <tr>\n",
       "      <th>mean</th>\n",
       "      <td>5602.375089</td>\n",
       "    </tr>\n",
       "    <tr>\n",
       "      <th>std</th>\n",
       "      <td>979.142872</td>\n",
       "    </tr>\n",
       "    <tr>\n",
       "      <th>min</th>\n",
       "      <td>487.000000</td>\n",
       "    </tr>\n",
       "    <tr>\n",
       "      <th>25%</th>\n",
       "      <td>4907.000000</td>\n",
       "    </tr>\n",
       "    <tr>\n",
       "      <th>50%</th>\n",
       "      <td>5530.000000</td>\n",
       "    </tr>\n",
       "    <tr>\n",
       "      <th>75%</th>\n",
       "      <td>6252.000000</td>\n",
       "    </tr>\n",
       "    <tr>\n",
       "      <th>max</th>\n",
       "      <td>9594.000000</td>\n",
       "    </tr>\n",
       "  </tbody>\n",
       "</table>\n",
       "</div>"
      ],
      "text/plain": [
       "             PJMW_MW\n",
       "count  143206.000000\n",
       "mean     5602.375089\n",
       "std       979.142872\n",
       "min       487.000000\n",
       "25%      4907.000000\n",
       "50%      5530.000000\n",
       "75%      6252.000000\n",
       "max      9594.000000"
      ]
     },
     "execution_count": 5,
     "metadata": {},
     "output_type": "execute_result"
    }
   ],
   "source": [
    "data.describe()"
   ]
  },
  {
   "cell_type": "code",
   "execution_count": 6,
   "metadata": {},
   "outputs": [],
   "source": [
    "new_features = [ data.loc[i-100:i, 'PJMW_MW'] for i in range(100,len(data)) ]\n",
    "new_label =  np.array( data.loc[100:, 'Datetime'] ).reshape(-1,1)"
   ]
  },
  {
   "cell_type": "code",
   "execution_count": 7,
   "metadata": {},
   "outputs": [
    {
     "data": {
      "text/plain": [
       "Datetime    2002-12-27 05:00:00\n",
       "PJMW_MW                  5485.0\n",
       "Name: 100, dtype: object"
      ]
     },
     "execution_count": 7,
     "metadata": {},
     "output_type": "execute_result"
    }
   ],
   "source": [
    "data.loc[ 100 ]"
   ]
  },
  {
   "cell_type": "code",
   "execution_count": 8,
   "metadata": {},
   "outputs": [
    {
     "data": {
      "text/plain": [
       "array(['2002-12-27 05:00:00'], dtype=object)"
      ]
     },
     "execution_count": 8,
     "metadata": {},
     "output_type": "execute_result"
    }
   ],
   "source": [
    "new_label[0]"
   ]
  },
  {
   "cell_type": "code",
   "execution_count": 9,
   "metadata": {},
   "outputs": [
    {
     "data": {
      "text/plain": [
       "0      5077.0\n",
       "1      4939.0\n",
       "2      4885.0\n",
       "3      4857.0\n",
       "4      4930.0\n",
       "        ...  \n",
       "96     5628.0\n",
       "97     5467.0\n",
       "98     5402.0\n",
       "99     5367.0\n",
       "100    5485.0\n",
       "Name: PJMW_MW, Length: 101, dtype: float64"
      ]
     },
     "execution_count": 9,
     "metadata": {},
     "output_type": "execute_result"
    }
   ],
   "source": [
    "# example :\n",
    "new_features[0]"
   ]
  },
  {
   "cell_type": "code",
   "execution_count": 10,
   "metadata": {},
   "outputs": [
    {
     "data": {
      "text/plain": [
       "((143106, 101), (143106, 1))"
      ]
     },
     "execution_count": 10,
     "metadata": {},
     "output_type": "execute_result"
    }
   ],
   "source": [
    "new_df_features = np.array(new_features)\n",
    "( new_df_features.shape, new_label.shape )"
   ]
  },
  {
   "attachments": {},
   "cell_type": "markdown",
   "metadata": {},
   "source": [
    "**100** features with the no of rows as 143106 "
   ]
  },
  {
   "cell_type": "code",
   "execution_count": 11,
   "metadata": {},
   "outputs": [],
   "source": [
    "new_data = np.append( new_label, new_df_features, axis = 1)"
   ]
  },
  {
   "cell_type": "code",
   "execution_count": 12,
   "metadata": {},
   "outputs": [
    {
     "data": {
      "text/plain": [
       "(143106, 102)"
      ]
     },
     "execution_count": 12,
     "metadata": {},
     "output_type": "execute_result"
    }
   ],
   "source": [
    "new_data.shape"
   ]
  },
  {
   "cell_type": "code",
   "execution_count": 13,
   "metadata": {},
   "outputs": [
    {
     "data": {
      "text/plain": [
       "array(['2002-12-27 05:00:00', 5077.0, 4939.0, 4885.0, 4857.0, 4930.0,\n",
       "       5126.0, 5493.0, 5824.0, 5962.0, 6019.0, 5988.0, 5885.0, 5764.0,\n",
       "       5612.0, 5486.0, 5474.0, 5668.0, 6027.0, 5973.0, 5772.0, 5547.0,\n",
       "       5358.0, 5143.0, 4931.0, 5340.0, 5225.0, 5317.0, 5310.0, 5403.0,\n",
       "       5666.0, 6014.0, 6360.0, 6497.0, 6555.0, 6490.0, 6336.0, 6255.0,\n",
       "       6220.0, 6144.0, 6108.0, 6250.0, 6659.0, 6710.0, 6638.0, 6491.0,\n",
       "       6267.0, 5885.0, 5469.0, 5246.0, 5073.0, 5043.0, 4984.0, 4997.0,\n",
       "       5081.0, 5200.0, 5389.0, 5614.0, 5767.0, 5750.0, 5712.0, 5715.0,\n",
       "       5549.0, 5427.0, 5383.0, 5651.0, 6178.0, 6364.0, 6339.0, 6269.0,\n",
       "       6167.0, 5953.0, 5639.0, 5714.0, 5543.0, 5460.0, 5414.0, 5465.0,\n",
       "       5577.0, 5778.0, 5959.0, 6167.0, 6323.0, 6342.0, 6256.0, 6178.0,\n",
       "       6073.0, 6006.0, 5962.0, 6107.0, 6462.0, 6522.0, 6426.0, 6359.0,\n",
       "       6167.0, 5868.0, 5524.0, 5628.0, 5467.0, 5402.0, 5367.0, 5485.0],\n",
       "      dtype=object)"
      ]
     },
     "execution_count": 13,
     "metadata": {},
     "output_type": "execute_result"
    }
   ],
   "source": [
    "# example\n",
    "new_data[0]"
   ]
  },
  {
   "attachments": {},
   "cell_type": "markdown",
   "metadata": {},
   "source": [
    "### dataset - 1"
   ]
  },
  {
   "cell_type": "code",
   "execution_count": 14,
   "metadata": {},
   "outputs": [
    {
     "data": {
      "text/html": [
       "<div>\n",
       "<style scoped>\n",
       "    .dataframe tbody tr th:only-of-type {\n",
       "        vertical-align: middle;\n",
       "    }\n",
       "\n",
       "    .dataframe tbody tr th {\n",
       "        vertical-align: top;\n",
       "    }\n",
       "\n",
       "    .dataframe thead th {\n",
       "        text-align: right;\n",
       "    }\n",
       "</style>\n",
       "<table border=\"1\" class=\"dataframe\">\n",
       "  <thead>\n",
       "    <tr style=\"text-align: right;\">\n",
       "      <th></th>\n",
       "      <th>label</th>\n",
       "      <th>1</th>\n",
       "      <th>2</th>\n",
       "      <th>3</th>\n",
       "      <th>4</th>\n",
       "      <th>5</th>\n",
       "      <th>6</th>\n",
       "      <th>7</th>\n",
       "      <th>8</th>\n",
       "      <th>9</th>\n",
       "      <th>...</th>\n",
       "      <th>92</th>\n",
       "      <th>93</th>\n",
       "      <th>94</th>\n",
       "      <th>95</th>\n",
       "      <th>96</th>\n",
       "      <th>97</th>\n",
       "      <th>98</th>\n",
       "      <th>99</th>\n",
       "      <th>100</th>\n",
       "      <th>target</th>\n",
       "    </tr>\n",
       "  </thead>\n",
       "  <tbody>\n",
       "    <tr>\n",
       "      <th>0</th>\n",
       "      <td>2002-12-27 05:00:00</td>\n",
       "      <td>5077.0</td>\n",
       "      <td>4939.0</td>\n",
       "      <td>4885.0</td>\n",
       "      <td>4857.0</td>\n",
       "      <td>4930.0</td>\n",
       "      <td>5126.0</td>\n",
       "      <td>5493.0</td>\n",
       "      <td>5824.0</td>\n",
       "      <td>5962.0</td>\n",
       "      <td>...</td>\n",
       "      <td>6426.0</td>\n",
       "      <td>6359.0</td>\n",
       "      <td>6167.0</td>\n",
       "      <td>5868.0</td>\n",
       "      <td>5524.0</td>\n",
       "      <td>5628.0</td>\n",
       "      <td>5467.0</td>\n",
       "      <td>5402.0</td>\n",
       "      <td>5367.0</td>\n",
       "      <td>5485.0</td>\n",
       "    </tr>\n",
       "    <tr>\n",
       "      <th>1</th>\n",
       "      <td>2002-12-27 06:00:00</td>\n",
       "      <td>4939.0</td>\n",
       "      <td>4885.0</td>\n",
       "      <td>4857.0</td>\n",
       "      <td>4930.0</td>\n",
       "      <td>5126.0</td>\n",
       "      <td>5493.0</td>\n",
       "      <td>5824.0</td>\n",
       "      <td>5962.0</td>\n",
       "      <td>6019.0</td>\n",
       "      <td>...</td>\n",
       "      <td>6359.0</td>\n",
       "      <td>6167.0</td>\n",
       "      <td>5868.0</td>\n",
       "      <td>5524.0</td>\n",
       "      <td>5628.0</td>\n",
       "      <td>5467.0</td>\n",
       "      <td>5402.0</td>\n",
       "      <td>5367.0</td>\n",
       "      <td>5485.0</td>\n",
       "      <td>5695.0</td>\n",
       "    </tr>\n",
       "    <tr>\n",
       "      <th>2</th>\n",
       "      <td>2002-12-27 07:00:00</td>\n",
       "      <td>4885.0</td>\n",
       "      <td>4857.0</td>\n",
       "      <td>4930.0</td>\n",
       "      <td>5126.0</td>\n",
       "      <td>5493.0</td>\n",
       "      <td>5824.0</td>\n",
       "      <td>5962.0</td>\n",
       "      <td>6019.0</td>\n",
       "      <td>5988.0</td>\n",
       "      <td>...</td>\n",
       "      <td>6167.0</td>\n",
       "      <td>5868.0</td>\n",
       "      <td>5524.0</td>\n",
       "      <td>5628.0</td>\n",
       "      <td>5467.0</td>\n",
       "      <td>5402.0</td>\n",
       "      <td>5367.0</td>\n",
       "      <td>5485.0</td>\n",
       "      <td>5695.0</td>\n",
       "      <td>6069.0</td>\n",
       "    </tr>\n",
       "    <tr>\n",
       "      <th>3</th>\n",
       "      <td>2002-12-27 08:00:00</td>\n",
       "      <td>4857.0</td>\n",
       "      <td>4930.0</td>\n",
       "      <td>5126.0</td>\n",
       "      <td>5493.0</td>\n",
       "      <td>5824.0</td>\n",
       "      <td>5962.0</td>\n",
       "      <td>6019.0</td>\n",
       "      <td>5988.0</td>\n",
       "      <td>5885.0</td>\n",
       "      <td>...</td>\n",
       "      <td>5868.0</td>\n",
       "      <td>5524.0</td>\n",
       "      <td>5628.0</td>\n",
       "      <td>5467.0</td>\n",
       "      <td>5402.0</td>\n",
       "      <td>5367.0</td>\n",
       "      <td>5485.0</td>\n",
       "      <td>5695.0</td>\n",
       "      <td>6069.0</td>\n",
       "      <td>6365.0</td>\n",
       "    </tr>\n",
       "    <tr>\n",
       "      <th>4</th>\n",
       "      <td>2002-12-27 09:00:00</td>\n",
       "      <td>4930.0</td>\n",
       "      <td>5126.0</td>\n",
       "      <td>5493.0</td>\n",
       "      <td>5824.0</td>\n",
       "      <td>5962.0</td>\n",
       "      <td>6019.0</td>\n",
       "      <td>5988.0</td>\n",
       "      <td>5885.0</td>\n",
       "      <td>5764.0</td>\n",
       "      <td>...</td>\n",
       "      <td>5524.0</td>\n",
       "      <td>5628.0</td>\n",
       "      <td>5467.0</td>\n",
       "      <td>5402.0</td>\n",
       "      <td>5367.0</td>\n",
       "      <td>5485.0</td>\n",
       "      <td>5695.0</td>\n",
       "      <td>6069.0</td>\n",
       "      <td>6365.0</td>\n",
       "      <td>6569.0</td>\n",
       "    </tr>\n",
       "  </tbody>\n",
       "</table>\n",
       "<p>5 rows × 102 columns</p>\n",
       "</div>"
      ],
      "text/plain": [
       "                 label       1       2       3       4       5       6  \\\n",
       "0  2002-12-27 05:00:00  5077.0  4939.0  4885.0  4857.0  4930.0  5126.0   \n",
       "1  2002-12-27 06:00:00  4939.0  4885.0  4857.0  4930.0  5126.0  5493.0   \n",
       "2  2002-12-27 07:00:00  4885.0  4857.0  4930.0  5126.0  5493.0  5824.0   \n",
       "3  2002-12-27 08:00:00  4857.0  4930.0  5126.0  5493.0  5824.0  5962.0   \n",
       "4  2002-12-27 09:00:00  4930.0  5126.0  5493.0  5824.0  5962.0  6019.0   \n",
       "\n",
       "        7       8       9  ...      92      93      94      95      96  \\\n",
       "0  5493.0  5824.0  5962.0  ...  6426.0  6359.0  6167.0  5868.0  5524.0   \n",
       "1  5824.0  5962.0  6019.0  ...  6359.0  6167.0  5868.0  5524.0  5628.0   \n",
       "2  5962.0  6019.0  5988.0  ...  6167.0  5868.0  5524.0  5628.0  5467.0   \n",
       "3  6019.0  5988.0  5885.0  ...  5868.0  5524.0  5628.0  5467.0  5402.0   \n",
       "4  5988.0  5885.0  5764.0  ...  5524.0  5628.0  5467.0  5402.0  5367.0   \n",
       "\n",
       "       97      98      99     100  target  \n",
       "0  5628.0  5467.0  5402.0  5367.0  5485.0  \n",
       "1  5467.0  5402.0  5367.0  5485.0  5695.0  \n",
       "2  5402.0  5367.0  5485.0  5695.0  6069.0  \n",
       "3  5367.0  5485.0  5695.0  6069.0  6365.0  \n",
       "4  5485.0  5695.0  6069.0  6365.0  6569.0  \n",
       "\n",
       "[5 rows x 102 columns]"
      ]
     },
     "execution_count": 14,
     "metadata": {},
     "output_type": "execute_result"
    }
   ],
   "source": [
    "# Creating the new dataframe\n",
    "\n",
    "rnn_data = pd.DataFrame( new_data , columns = ['label'] + list(range(1,101) ) + ['target']  )\n",
    "rnn_data.head()"
   ]
  },
  {
   "cell_type": "code",
   "execution_count": 15,
   "metadata": {},
   "outputs": [],
   "source": [
    "train, val, y_train, y_val = train_test_split( rnn_data.drop(['label','target'], axis = 1, inplace = False ),\n",
    "                                               rnn_data['target'], \n",
    "                                               test_size = 0.15,\n",
    "                                               shuffle = True,\n",
    "                                               random_state = 12\n",
    "                                               )\n",
    "\n",
    "train, test, y_train, y_test  = train_test_split( train, \n",
    "                                                y_train, \n",
    "                                                test_size = 15/85,\n",
    "                                                shuffle = True,\n",
    "                                                random_state = 12\n",
    "                                               )"
   ]
  },
  {
   "cell_type": "code",
   "execution_count": 16,
   "metadata": {},
   "outputs": [
    {
     "name": "stdout",
     "output_type": "stream",
     "text": [
      " percentage of train data : 70.00 %\n",
      " percentage of test data : 15.00 %\n",
      " percentage of val data : 15.00 %\n"
     ]
    }
   ],
   "source": [
    "print(f\" percentage of train data : {len(train)/len(rnn_data)*100:.2f} %\")\n",
    "print(f\" percentage of test data : {len(test)/len(rnn_data)*100:.2f} %\")\n",
    "print(f\" percentage of val data : {len(val)/len(rnn_data)*100:.2f} %\")"
   ]
  },
  {
   "cell_type": "code",
   "execution_count": 17,
   "metadata": {},
   "outputs": [
    {
     "data": {
      "text/plain": [
       "(100174, 100)"
      ]
     },
     "execution_count": 17,
     "metadata": {},
     "output_type": "execute_result"
    }
   ],
   "source": [
    "np.array(train).shape"
   ]
  },
  {
   "attachments": {},
   "cell_type": "markdown",
   "metadata": {},
   "source": [
    "### dataset - 2"
   ]
  },
  {
   "cell_type": "code",
   "execution_count": 18,
   "metadata": {},
   "outputs": [
    {
     "data": {
      "text/plain": [
       "'2002-12-30 02:00:00'"
      ]
     },
     "execution_count": 18,
     "metadata": {},
     "output_type": "execute_result"
    }
   ],
   "source": [
    "data['Datetime'][25]"
   ]
  },
  {
   "cell_type": "code",
   "execution_count": 19,
   "metadata": {},
   "outputs": [
    {
     "name": "stdout",
     "output_type": "stream",
     "text": [
      "example :  22\n"
     ]
    }
   ],
   "source": [
    "print( 'example : ' , datetime.strptime( data['Datetime'][45], '%Y-%m-%d %H:%M:%S' ).hour )\n",
    "\n",
    "day = []\n",
    "month = []\n",
    "weekday = []\n",
    "week = []\n",
    "hr = []\n",
    "holiday = []\n",
    "\n",
    "us_holidays = holidays.US()\n",
    "\n",
    "for i in [ datetime.strptime( i ,'%Y-%m-%d %H:%M:%S' ) for i in data['Datetime'] ] :\n",
    "\n",
    "    day.append( i.day )\n",
    "    month.append( i.month )\n",
    "    hr.append( i.hour )\n",
    "    week.append( i.isocalendar().week )\n",
    "    weekday.append( i.weekday() )\n",
    "    holiday.append( int(i in us_holidays ) )"
   ]
  },
  {
   "cell_type": "code",
   "execution_count": 20,
   "metadata": {},
   "outputs": [
    {
     "data": {
      "text/html": [
       "<div>\n",
       "<style scoped>\n",
       "    .dataframe tbody tr th:only-of-type {\n",
       "        vertical-align: middle;\n",
       "    }\n",
       "\n",
       "    .dataframe tbody tr th {\n",
       "        vertical-align: top;\n",
       "    }\n",
       "\n",
       "    .dataframe thead th {\n",
       "        text-align: right;\n",
       "    }\n",
       "</style>\n",
       "<table border=\"1\" class=\"dataframe\">\n",
       "  <thead>\n",
       "    <tr style=\"text-align: right;\">\n",
       "      <th></th>\n",
       "      <th>label</th>\n",
       "      <th>hour</th>\n",
       "      <th>day</th>\n",
       "      <th>weekday</th>\n",
       "      <th>week</th>\n",
       "      <th>month</th>\n",
       "      <th>holiday</th>\n",
       "      <th>target</th>\n",
       "    </tr>\n",
       "  </thead>\n",
       "  <tbody>\n",
       "    <tr>\n",
       "      <th>0</th>\n",
       "      <td>2002-12-31 01:00:00</td>\n",
       "      <td>1</td>\n",
       "      <td>31</td>\n",
       "      <td>1</td>\n",
       "      <td>1</td>\n",
       "      <td>12</td>\n",
       "      <td>0</td>\n",
       "      <td>5077.0</td>\n",
       "    </tr>\n",
       "    <tr>\n",
       "      <th>1</th>\n",
       "      <td>2002-12-31 02:00:00</td>\n",
       "      <td>2</td>\n",
       "      <td>31</td>\n",
       "      <td>1</td>\n",
       "      <td>1</td>\n",
       "      <td>12</td>\n",
       "      <td>0</td>\n",
       "      <td>4939.0</td>\n",
       "    </tr>\n",
       "    <tr>\n",
       "      <th>2</th>\n",
       "      <td>2002-12-31 03:00:00</td>\n",
       "      <td>3</td>\n",
       "      <td>31</td>\n",
       "      <td>1</td>\n",
       "      <td>1</td>\n",
       "      <td>12</td>\n",
       "      <td>0</td>\n",
       "      <td>4885.0</td>\n",
       "    </tr>\n",
       "    <tr>\n",
       "      <th>3</th>\n",
       "      <td>2002-12-31 04:00:00</td>\n",
       "      <td>4</td>\n",
       "      <td>31</td>\n",
       "      <td>1</td>\n",
       "      <td>1</td>\n",
       "      <td>12</td>\n",
       "      <td>0</td>\n",
       "      <td>4857.0</td>\n",
       "    </tr>\n",
       "    <tr>\n",
       "      <th>4</th>\n",
       "      <td>2002-12-31 05:00:00</td>\n",
       "      <td>5</td>\n",
       "      <td>31</td>\n",
       "      <td>1</td>\n",
       "      <td>1</td>\n",
       "      <td>12</td>\n",
       "      <td>0</td>\n",
       "      <td>4930.0</td>\n",
       "    </tr>\n",
       "  </tbody>\n",
       "</table>\n",
       "</div>"
      ],
      "text/plain": [
       "                 label  hour  day  weekday  week  month  holiday  target\n",
       "0  2002-12-31 01:00:00     1   31        1     1     12        0  5077.0\n",
       "1  2002-12-31 02:00:00     2   31        1     1     12        0  4939.0\n",
       "2  2002-12-31 03:00:00     3   31        1     1     12        0  4885.0\n",
       "3  2002-12-31 04:00:00     4   31        1     1     12        0  4857.0\n",
       "4  2002-12-31 05:00:00     5   31        1     1     12        0  4930.0"
      ]
     },
     "execution_count": 20,
     "metadata": {},
     "output_type": "execute_result"
    }
   ],
   "source": [
    "data_2 = pd.DataFrame( {'label' : data['Datetime'], 'hour' : hr, 'day' : day, 'weekday' : weekday ,'week' : week, 'month' : month, 'holiday' : holiday, 'target' : data['PJMW_MW'] } )\n",
    "data_2.head()"
   ]
  },
  {
   "cell_type": "code",
   "execution_count": 603,
   "metadata": {},
   "outputs": [],
   "source": [
    "## Normalization\n",
    "normalizer = OneHotEncoder()\n",
    "rnn_data_2 = pd.DataFrame( normalizer.fit_transform( data_2.drop(['target', 'label'], axis = 1, inplace = False) ).toarray() )\n",
    "rnn_data_2['label'] = data['Datetime']\n",
    "rnn_data_2['target'] = data['PJMW_MW']"
   ]
  },
  {
   "cell_type": "code",
   "execution_count": 22,
   "metadata": {},
   "outputs": [
    {
     "data": {
      "text/html": [
       "<div>\n",
       "<style scoped>\n",
       "    .dataframe tbody tr th:only-of-type {\n",
       "        vertical-align: middle;\n",
       "    }\n",
       "\n",
       "    .dataframe tbody tr th {\n",
       "        vertical-align: top;\n",
       "    }\n",
       "\n",
       "    .dataframe thead th {\n",
       "        text-align: right;\n",
       "    }\n",
       "</style>\n",
       "<table border=\"1\" class=\"dataframe\">\n",
       "  <thead>\n",
       "    <tr style=\"text-align: right;\">\n",
       "      <th></th>\n",
       "      <th>label</th>\n",
       "      <th>hour</th>\n",
       "      <th>day</th>\n",
       "      <th>weekday</th>\n",
       "      <th>week</th>\n",
       "      <th>month</th>\n",
       "      <th>holiday</th>\n",
       "      <th>target</th>\n",
       "    </tr>\n",
       "  </thead>\n",
       "  <tbody>\n",
       "    <tr>\n",
       "      <th>0</th>\n",
       "      <td>2002-12-31 01:00:00</td>\n",
       "      <td>1</td>\n",
       "      <td>31</td>\n",
       "      <td>1</td>\n",
       "      <td>1</td>\n",
       "      <td>12</td>\n",
       "      <td>0</td>\n",
       "      <td>5077.0</td>\n",
       "    </tr>\n",
       "    <tr>\n",
       "      <th>1</th>\n",
       "      <td>2002-12-31 02:00:00</td>\n",
       "      <td>2</td>\n",
       "      <td>31</td>\n",
       "      <td>1</td>\n",
       "      <td>1</td>\n",
       "      <td>12</td>\n",
       "      <td>0</td>\n",
       "      <td>4939.0</td>\n",
       "    </tr>\n",
       "    <tr>\n",
       "      <th>2</th>\n",
       "      <td>2002-12-31 03:00:00</td>\n",
       "      <td>3</td>\n",
       "      <td>31</td>\n",
       "      <td>1</td>\n",
       "      <td>1</td>\n",
       "      <td>12</td>\n",
       "      <td>0</td>\n",
       "      <td>4885.0</td>\n",
       "    </tr>\n",
       "    <tr>\n",
       "      <th>3</th>\n",
       "      <td>2002-12-31 04:00:00</td>\n",
       "      <td>4</td>\n",
       "      <td>31</td>\n",
       "      <td>1</td>\n",
       "      <td>1</td>\n",
       "      <td>12</td>\n",
       "      <td>0</td>\n",
       "      <td>4857.0</td>\n",
       "    </tr>\n",
       "    <tr>\n",
       "      <th>4</th>\n",
       "      <td>2002-12-31 05:00:00</td>\n",
       "      <td>5</td>\n",
       "      <td>31</td>\n",
       "      <td>1</td>\n",
       "      <td>1</td>\n",
       "      <td>12</td>\n",
       "      <td>0</td>\n",
       "      <td>4930.0</td>\n",
       "    </tr>\n",
       "  </tbody>\n",
       "</table>\n",
       "</div>"
      ],
      "text/plain": [
       "                 label  hour  day  weekday  week  month  holiday  target\n",
       "0  2002-12-31 01:00:00     1   31        1     1     12        0  5077.0\n",
       "1  2002-12-31 02:00:00     2   31        1     1     12        0  4939.0\n",
       "2  2002-12-31 03:00:00     3   31        1     1     12        0  4885.0\n",
       "3  2002-12-31 04:00:00     4   31        1     1     12        0  4857.0\n",
       "4  2002-12-31 05:00:00     5   31        1     1     12        0  4930.0"
      ]
     },
     "execution_count": 22,
     "metadata": {},
     "output_type": "execute_result"
    }
   ],
   "source": [
    "rnn_data_2 = data_2\n",
    "rnn_data_2.head()"
   ]
  },
  {
   "cell_type": "code",
   "execution_count": 23,
   "metadata": {},
   "outputs": [],
   "source": [
    "train_2, val_2, y_train_2, y_val_2 = train_test_split( rnn_data_2.drop(['label','target'], axis = 1, inplace = False ),\n",
    "                                               rnn_data_2['target'], \n",
    "                                               test_size = 0.15,\n",
    "                                               shuffle = True,\n",
    "                                               random_state = 16\n",
    "                                               )\n",
    "\n",
    "train_2, test_2, y_train_2, y_test_2  = train_test_split( train_2, \n",
    "                                                y_train_2, \n",
    "                                                test_size = 15/85,\n",
    "                                                shuffle = True,\n",
    "                                                random_state = 16\n",
    "                                               )"
   ]
  },
  {
   "cell_type": "code",
   "execution_count": 24,
   "metadata": {},
   "outputs": [
    {
     "name": "stdout",
     "output_type": "stream",
     "text": [
      " percentage of train data : 70.00 %\n",
      " percentage of test data : 15.00 %\n",
      " percentage of val data : 15.00 %\n"
     ]
    }
   ],
   "source": [
    "print(f\" percentage of train data : {len(train_2)/len(rnn_data_2)*100:.2f} %\")\n",
    "print(f\" percentage of test data : {len(test_2)/len(rnn_data_2)*100:.2f} %\")\n",
    "print(f\" percentage of val data : {len(val_2)/len(rnn_data_2)*100:.2f} %\")"
   ]
  },
  {
   "cell_type": "code",
   "execution_count": 25,
   "metadata": {},
   "outputs": [
    {
     "data": {
      "text/plain": [
       "(100244, 6)"
      ]
     },
     "execution_count": 25,
     "metadata": {},
     "output_type": "execute_result"
    }
   ],
   "source": [
    "train_2.shape"
   ]
  },
  {
   "attachments": {},
   "cell_type": "markdown",
   "metadata": {},
   "source": [
    "### dataloader"
   ]
  },
  {
   "cell_type": "code",
   "execution_count": 26,
   "metadata": {},
   "outputs": [],
   "source": [
    "class Create_Dataset(Dataset):\n",
    "\n",
    "    def __init__(self, data, target):\n",
    "        self.data = data.reshape(len(data) ,-1, 1 ) \n",
    "        self.target = target.reshape(-1,1)\n",
    "    \n",
    "    def __len__(self):\n",
    "        return len(self.data)\n",
    "    \n",
    "    def __getitem__(self, index):\n",
    "        return torch.tensor(self.data[index], dtype = torch.float32), torch.tensor(self.target[index], dtype = torch.float32)\n",
    "\n",
    "# For Dataset - 1\n",
    "\n",
    "train_dataset = Create_Dataset(data = np.array(train, dtype = np.float32), target = np.array(y_train, dtype = np.float32))\n",
    "val_dataset = Create_Dataset(data = np.array(val, dtype = np.float32), target = np.array(y_val, dtype = np.float32))\n",
    "test_dataset = Create_Dataset(data = np.array(test, dtype = np.float32), target = np.array(y_test, dtype = np.float32))\n",
    "\n",
    "train_dataloader = DataLoader(train_dataset, batch_size = 16, shuffle = True, drop_last = False)\n",
    "test_dataloader = DataLoader(test_dataset, batch_size = 16, shuffle = True, drop_last = False)\n",
    "val_dataloader = DataLoader(val_dataset, batch_size = 16, shuffle = True, drop_last = False)"
   ]
  },
  {
   "cell_type": "code",
   "execution_count": 27,
   "metadata": {},
   "outputs": [
    {
     "name": "stdout",
     "output_type": "stream",
     "text": [
      "torch.Size([16, 100, 1]) torch.Size([16, 1])\n"
     ]
    }
   ],
   "source": [
    "for i in train_dataloader:\n",
    "    print(i[0].shape, i[1].shape)\n",
    "    break"
   ]
  },
  {
   "cell_type": "code",
   "execution_count": 28,
   "metadata": {},
   "outputs": [],
   "source": [
    "# For Dataset - 1\n",
    "\n",
    "train_dataset_2 = Create_Dataset(data = np.array(train_2, dtype = np.float32), target = np.array(y_train_2, dtype = np.float32))\n",
    "val_dataset_2 = Create_Dataset(data = np.array(val_2, dtype = np.float32), target = np.array(y_val_2, dtype = np.float32))\n",
    "test_dataset_2 = Create_Dataset(data = np.array(test_2, dtype = np.float32), target = np.array(y_test_2, dtype = np.float32))\n",
    "\n",
    "train_dataloader_2 = DataLoader(train_dataset_2, batch_size = 16, shuffle = True, drop_last = False)\n",
    "test_dataloader_2 = DataLoader(test_dataset_2, batch_size = 16, shuffle = True, drop_last = False)\n",
    "val_dataloader_2 = DataLoader(val_dataset_2, batch_size = 16, shuffle = True, drop_last = False)"
   ]
  },
  {
   "cell_type": "code",
   "execution_count": 29,
   "metadata": {},
   "outputs": [
    {
     "name": "stdout",
     "output_type": "stream",
     "text": [
      "torch.Size([16, 6, 1]) torch.Size([16, 1])\n"
     ]
    }
   ],
   "source": [
    "for i in train_dataloader_2:\n",
    "    print(i[0].shape, i[1].shape)\n",
    "    break"
   ]
  },
  {
   "attachments": {},
   "cell_type": "markdown",
   "metadata": {},
   "source": [
    "## Creating Model"
   ]
  },
  {
   "cell_type": "code",
   "execution_count": 30,
   "metadata": {},
   "outputs": [],
   "source": [
    "def R2_Score(pred, target):\n",
    "    pred = pred.detach().cpu().numpy().reshape(-1)\n",
    "    target = target.detach().cpu().numpy().reshape(-1)\n",
    "    return r2_score(target, pred)*100"
   ]
  },
  {
   "cell_type": "code",
   "execution_count": 31,
   "metadata": {},
   "outputs": [],
   "source": [
    "class RNN_model(nn.Module):\n",
    "\n",
    "    def __init__(self, input_dim = 1 , hidden_dim = 256, output_dim = 1, num_layers = 1):\n",
    "\n",
    "        super(RNN_model, self).__init__()\n",
    "\n",
    "        self.input_dim = input_dim\n",
    "        self.hidden_dim = hidden_dim\n",
    "        self.output_dim = output_dim\n",
    "        self.num_layers = num_layers\n",
    "\n",
    "        self.dense_layer = nn.Sequential(\n",
    "\n",
    "            nn.Linear(self.hidden_dim, self.hidden_dim),\n",
    "            nn.ReLU(),\n",
    "            nn.Linear(self.hidden_dim, self.hidden_dim),\n",
    "            nn.ReLU(),\n",
    "            \n",
    "            nn.Linear(self.hidden_dim, self.output_dim),\n",
    "        )\n",
    "\n",
    "        self.rnn_layer = nn.RNN(\n",
    "            self.input_dim, self.hidden_dim, num_layers = self.num_layers, nonlinearity = 'tanh', bias = True , batch_first = True\n",
    "        )\n",
    "        \n",
    "    \n",
    "    def initialize_h0(self, dim, device):\n",
    "        self.h0  =  torch.zeros(self.num_layers, dim ,self.hidden_dim, requires_grad= True, dtype = torch.float32 ).to(device)\n",
    "        # print( self.h0.size() )\n",
    "    \n",
    "    def forward(self, input, ):\n",
    "        # print(input.shape)\n",
    "        \n",
    "        self.initialize_h0( input.size(0) , device = input.device )\n",
    "        out, hn = self.rnn_layer( input , self.h0 )\n",
    "\n",
    "        if self.dense_layer is not None:\n",
    "            output = self.dense_layer( hn[0] )\n",
    "        else: output = hn\n",
    "        \n",
    "        return output\n"
   ]
  },
  {
   "attachments": {},
   "cell_type": "markdown",
   "metadata": {},
   "source": [
    "### Creating trainer"
   ]
  },
  {
   "cell_type": "code",
   "execution_count": 32,
   "metadata": {},
   "outputs": [],
   "source": [
    "# hyper parameters:\n",
    "\n",
    "lr = 1e-4\n",
    "epochs = 10\n",
    "device = torch.device('cuda' if torch.cuda.is_available() else 'cpu')\n",
    "\n",
    "batch_size = 768\n",
    "\n",
    "optimizer = torch.optim.Adam\n",
    "optimizer_params = {'lr' : lr, }"
   ]
  },
  {
   "cell_type": "code",
   "execution_count": 33,
   "metadata": {},
   "outputs": [
    {
     "name": "stdout",
     "output_type": "stream",
     "text": [
      " There are total '131' batches in train data 1 \n"
     ]
    }
   ],
   "source": [
    "train_dataloader = DataLoader(train_dataset, batch_size = batch_size, shuffle = True, drop_last = False)\n",
    "test_dataloader = DataLoader(test_dataset, batch_size = batch_size, shuffle = True, drop_last = False)\n",
    "val_dataloader = DataLoader(val_dataset, batch_size = batch_size, shuffle = True, drop_last = False)\n",
    "\n",
    "print(f\" There are total '{len(train_dataloader)}' batches in train data 1 \")"
   ]
  },
  {
   "cell_type": "code",
   "execution_count": 34,
   "metadata": {},
   "outputs": [],
   "source": [
    "class RNN_Trainer():\n",
    "\n",
    "    def __init__(self, name, model, optimizer = optimizer , optimizer_params = optimizer_params, train_dataloader = train_dataloader, test_dataloader = test_dataloader, val_dataloader = val_dataloader,):\n",
    "\n",
    "        # initializing models\n",
    "        self.name = name\n",
    "        self.model = model.to(device)\n",
    "        self.train_dataloader = train_dataloader\n",
    "        self.test_dataloader = test_dataloader\n",
    "        self.val_dataloader = val_dataloader\n",
    "        self.optimizer_params = optimizer_params\n",
    "\n",
    "        self.train_len  =  len(train)\n",
    "        self.validation_len = len(val)\n",
    "\n",
    "        # optimizers and loss fn\n",
    "        self.optimizer = optimizer(self.model.parameters(), **self.optimizer_params)\n",
    "        self.loss = nn.MSELoss()\n",
    "    \n",
    "    def eval(self, evaluation_fn = R2_Score ):\n",
    "\n",
    "        epoch_loss = 0\n",
    "        epoch_metric = 0\n",
    "\n",
    "        with torch.cuda.amp.autocast() and torch.no_grad() :\n",
    "\n",
    "            for index,batch in tqdm( enumerate(self.val_dataloader), total = len(self.val_dataloader), desc = 'val epoch progress' ):\n",
    "\n",
    "                    data,target = batch\n",
    "\n",
    "                    # changing type and data type of the image to ensure computability\n",
    "                    data = data.to(device).type(torch.float32)\n",
    "                    target = target.to(device).type(torch.float32)\n",
    "\n",
    "                    # getting the prediction from the model\n",
    "                    pred = self.model(data)\n",
    "\n",
    "                    # computing loss\n",
    "                    Loss = self.loss(pred, target)\n",
    "\n",
    "                    # calculating loss\n",
    "                    epoch_loss += Loss.item()*len(data)\n",
    "                    epoch_metric += evaluation_fn( pred , target )*len(data)\n",
    "        \n",
    "        return epoch_loss/self.validation_len , epoch_metric/self.validation_len\n",
    "\n",
    "    def train_model(self, epochs = 100, print_freq = 10, save_freq = 500, evaluation_fn =  R2_Score ):\n",
    "\n",
    "        train_loss = []\n",
    "        train_metric = []\n",
    "\n",
    "        val_loss = []\n",
    "        val_metric = []\n",
    "\n",
    "        # with torch.cuda.amp.autocast():\n",
    "\n",
    "        if epochs > 0:\n",
    "\n",
    "            for e in range(epochs):\n",
    "\n",
    "                epoch_loss = 0\n",
    "                epoch_metric = 0\n",
    "\n",
    "                loop_obj = tqdm( enumerate(self.train_dataloader), total = len(self.train_dataloader), desc = 'train epoch progress' )\n",
    "\n",
    "                for index,batch in loop_obj:\n",
    "\n",
    "                    data,target = batch\n",
    "\n",
    "                    # zero_grad optimizer to erase previous gradients\n",
    "                    self.optimizer.zero_grad()\n",
    "\n",
    "                    # changing type and data type of the data to ensure computability\n",
    "                    data = data.to(device).type(torch.float32)\n",
    "                    target = target.to(device).type(torch.float32)\n",
    "\n",
    "                    # getting the prediction from the model\n",
    "                    pred = self.model(data)\n",
    "\n",
    "                    # computing loss\n",
    "                    Loss = self.loss(pred, target)\n",
    "\n",
    "                    # raise Exception(f\" Checking the size of the loss : {Loss} \")\n",
    "                    loop_obj.set_description(f\" Train Loss is : {Loss} \", refresh = True)\n",
    "\n",
    "                    # updating weights\n",
    "                    Loss.backward()\n",
    "                    self.optimizer.step()\n",
    "\n",
    "                    # calculating loss\n",
    "                    epoch_loss += Loss.item()*len(data)\n",
    "                    epoch_metric += evaluation_fn( pred, target )*len(data)\n",
    "                \n",
    "                # Now storing the Loss and metric of every epoch\n",
    "                train_loss.append( epoch_loss/self.train_len )\n",
    "                train_metric.append( epoch_metric/self.train_len )\n",
    "\n",
    "                # Now storing the value of val loss and val metric\n",
    "                validation_data = self.eval()\n",
    "\n",
    "                # Now storing them in the validation history\n",
    "                val_loss.append(validation_data[0])\n",
    "                val_metric.append(validation_data[1])\n",
    "\n",
    "                if (e+1) % print_freq == 0  :\n",
    "\n",
    "                    print(f\"\\n=====================================================\")\n",
    "                    print(f\" The current epoch is : {e+1}\")\n",
    "                    print(f\" Train Loss is : {train_loss[-1]:.3f}\")\n",
    "                    print(f\" Train R2 Score is : {train_metric[-1]:.3f}\")\n",
    "                    print(f\" Validation Loss is : {validation_data[0]:.3f}\")\n",
    "                    print(f\" Validation R2 Score is : {validation_data[1]:.3f}\")\n",
    "                    print(f\"=====================================================\\n\")\n",
    "                \n",
    "                if (e+1) % save_freq == 0  :\n",
    "                    print(f\"\\n Model got saved in epoch : {e} \")\n",
    "                    torch.save(self.model.state_dict(), f'saved_model/{self.name}/{e}.pt')\n",
    "             \n",
    "        return [np.array(train_loss), train_metric, np.array(val_loss), val_metric]\n",
    "    \n",
    "    \n",
    "    def plot_data(self, train_loss, train_metric, val_loss, val_metric,):\n",
    "        \n",
    "        plt.figure(figsize = (20,18) )\n",
    "\n",
    "        plt.subplot(3,2,1)\n",
    "\n",
    "        plt.plot(train_loss, label = f'train_loss - MSE Loss')\n",
    "        plt.title(f'train loss ')\n",
    "        plt.xlabel('epochs')\n",
    "        plt.ylabel('train_loss')\n",
    "        plt.legend(loc = 'best')\n",
    "\n",
    "        plt.subplot(3,2,2)\n",
    "\n",
    "        plt.plot(val_loss, label = f'val_loss - MSE loss')\n",
    "        plt.title(f'val loss ')\n",
    "        plt.xlabel('epochs')\n",
    "        plt.ylabel('val_loss')\n",
    "        plt.legend(loc = 'best')\n",
    "\n",
    "        plt.subplot(3,2,3)\n",
    "\n",
    "        plt.plot(train_loss**0.5, label = f'train_loss - RMSE Loss')\n",
    "        plt.title(f'train loss ')\n",
    "        plt.xlabel('epochs')\n",
    "        plt.ylabel('train_loss')\n",
    "        plt.legend(loc = 'best')\n",
    "\n",
    "        plt.subplot(3,2,4)\n",
    "\n",
    "        plt.plot(val_loss**0.5, label = f'val_loss - RMSE loss')\n",
    "        plt.title(f'val loss ')\n",
    "        plt.xlabel('epochs')\n",
    "        plt.ylabel('val_loss')\n",
    "        plt.legend(loc = 'best')\n",
    "\n",
    "        plt.subplot(3,2,5)\n",
    "\n",
    "        plt.plot( np.clip( np.array(train_metric), -1, 100 ), label = f'train_metric - R2 score ')\n",
    "        plt.title(f'train metric')\n",
    "        plt.xlabel('epochs')\n",
    "        plt.ylabel('train_metric')\n",
    "        plt.legend(loc = 'best')\n",
    "\n",
    "        plt.subplot(3,2,6)\n",
    "\n",
    "        plt.plot( np.clip( np.array(val_metric) , -1, 100), label = f'val_metric - R2 score')\n",
    "        plt.title(f'val metric')\n",
    "        plt.xlabel('epochs')\n",
    "        plt.ylabel('val_metric')\n",
    "        plt.legend(loc = 'best')\n",
    "\n",
    "        plt.show()\n"
   ]
  },
  {
   "attachments": {},
   "cell_type": "markdown",
   "metadata": {},
   "source": [
    "### training model - 1"
   ]
  },
  {
   "cell_type": "code",
   "execution_count": 435,
   "metadata": {},
   "outputs": [
    {
     "name": "stdout",
     "output_type": "stream",
     "text": [
      " total params in the model is : 198.145 K\n"
     ]
    }
   ],
   "source": [
    "RNN_Model_1 = RNN_model()\n",
    "print(f\" total params in the model is : {sum([p.numel() for p in RNN_Model_1.parameters() if p.requires_grad ])*1e-3:.3f} K\")\n",
    "\n",
    "# RNN_Model_1.load_state_dict(torch.load('saved_model\\RNN_MODEL_1\\9.pt', map_location=device))"
   ]
  },
  {
   "cell_type": "code",
   "execution_count": 436,
   "metadata": {},
   "outputs": [
    {
     "name": "stdout",
     "output_type": "stream",
     "text": [
      "torch.Size([768, 1])\n"
     ]
    }
   ],
   "source": [
    "# example \n",
    "for i in train_dataloader:\n",
    "    print( RNN_Model_1( i[0] ).shape )\n",
    "    break"
   ]
  },
  {
   "cell_type": "code",
   "execution_count": 437,
   "metadata": {},
   "outputs": [],
   "source": [
    "rnn_trainer = RNN_Trainer( 'RNN_MODEL_3', RNN_Model_1 )"
   ]
  },
  {
   "cell_type": "code",
   "execution_count": 438,
   "metadata": {},
   "outputs": [
    {
     "name": "stderr",
     "output_type": "stream",
     "text": [
      " Train Loss is : 31196382.0 : 100%|██████████| 131/131 [00:11<00:00, 11.36it/s]\n",
      "val epoch progress: 100%|██████████| 28/28 [00:01<00:00, 24.74it/s]\n",
      " Train Loss is : 29570318.0 : 100%|██████████| 131/131 [00:11<00:00, 11.81it/s]\n",
      "val epoch progress: 100%|██████████| 28/28 [00:01<00:00, 24.27it/s]\n",
      " Train Loss is : 22732656.0 : 100%|██████████| 131/131 [00:11<00:00, 11.39it/s]\n",
      "val epoch progress: 100%|██████████| 28/28 [00:01<00:00, 24.31it/s]\n",
      " Train Loss is : 13920497.0 : 100%|██████████| 131/131 [00:11<00:00, 11.78it/s]\n",
      "val epoch progress: 100%|██████████| 28/28 [00:01<00:00, 23.79it/s]\n",
      " Train Loss is : 5485442.5 : 100%|██████████| 131/131 [00:11<00:00, 11.80it/s]\n",
      "val epoch progress: 100%|██████████| 28/28 [00:01<00:00, 24.16it/s]\n"
     ]
    },
    {
     "name": "stdout",
     "output_type": "stream",
     "text": [
      "\n",
      "=====================================================\n",
      " The current epoch is : 5\n",
      " Train Loss is : 9469049.039\n",
      " Train R2 Score is : -888.114\n",
      " Validation Loss is : 5719381.968\n",
      " Validation R2 Score is : -492.712\n",
      "=====================================================\n",
      "\n",
      "\n",
      " Model got saved in epoch : 4 \n"
     ]
    },
    {
     "name": "stderr",
     "output_type": "stream",
     "text": [
      " Train Loss is : 1813145.875 : 100%|██████████| 131/131 [00:11<00:00, 11.54it/s]\n",
      "val epoch progress: 100%|██████████| 28/28 [00:01<00:00, 24.42it/s]\n",
      " Train Loss is : 1126673.625 : 100%|██████████| 131/131 [00:11<00:00, 11.78it/s] \n",
      "val epoch progress: 100%|██████████| 28/28 [00:01<00:00, 24.31it/s]\n",
      " Train Loss is : 1010328.75 : 100%|██████████| 131/131 [00:11<00:00, 11.76it/s]  \n",
      "val epoch progress: 100%|██████████| 28/28 [00:01<00:00, 24.26it/s]\n",
      " Train Loss is : 925084.875 : 100%|██████████| 131/131 [00:11<00:00, 11.76it/s] \n",
      "val epoch progress: 100%|██████████| 28/28 [00:01<00:00, 24.36it/s]\n",
      " Train Loss is : 821196.875 : 100%|██████████| 131/131 [00:11<00:00, 11.75it/s] \n",
      "val epoch progress: 100%|██████████| 28/28 [00:01<00:00, 24.19it/s]\n"
     ]
    },
    {
     "name": "stdout",
     "output_type": "stream",
     "text": [
      "\n",
      "=====================================================\n",
      " The current epoch is : 10\n",
      " Train Loss is : 863782.297\n",
      " Train R2 Score is : 9.895\n",
      " Validation Loss is : 804070.137\n",
      " Validation R2 Score is : 16.709\n",
      "=====================================================\n",
      "\n",
      "\n",
      " Model got saved in epoch : 9 \n"
     ]
    },
    {
     "name": "stderr",
     "output_type": "stream",
     "text": [
      " Train Loss is : 581317.875 : 100%|██████████| 131/131 [00:11<00:00, 11.35it/s] \n",
      "val epoch progress: 100%|██████████| 28/28 [00:01<00:00, 23.92it/s]\n",
      " Train Loss is : 454770.46875 : 100%|██████████| 131/131 [00:11<00:00, 11.80it/s]\n",
      "val epoch progress: 100%|██████████| 28/28 [00:01<00:00, 24.46it/s]\n",
      " Train Loss is : 383837.4375 : 100%|██████████| 131/131 [00:11<00:00, 11.72it/s] \n",
      "val epoch progress: 100%|██████████| 28/28 [00:01<00:00, 24.22it/s]\n",
      " Train Loss is : 255454.9375 : 100%|██████████| 131/131 [00:11<00:00, 11.81it/s]  \n",
      "val epoch progress: 100%|██████████| 28/28 [00:01<00:00, 24.27it/s]\n",
      " Train Loss is : 163877.328125 : 100%|██████████| 131/131 [00:11<00:00, 11.79it/s] \n",
      "val epoch progress: 100%|██████████| 28/28 [00:01<00:00, 24.07it/s]\n"
     ]
    },
    {
     "name": "stdout",
     "output_type": "stream",
     "text": [
      "\n",
      "=====================================================\n",
      " The current epoch is : 15\n",
      " Train Loss is : 204679.528\n",
      " Train R2 Score is : 78.665\n",
      " Validation Loss is : 170281.096\n",
      " Validation R2 Score is : 82.390\n",
      "=====================================================\n",
      "\n",
      "\n",
      " Model got saved in epoch : 14 \n"
     ]
    },
    {
     "name": "stderr",
     "output_type": "stream",
     "text": [
      " Train Loss is : 133158.90625 : 100%|██████████| 131/131 [00:11<00:00, 11.79it/s]  \n",
      "val epoch progress: 100%|██████████| 28/28 [00:01<00:00, 24.17it/s]\n",
      " Train Loss is : 111412.3515625 : 100%|██████████| 131/131 [00:11<00:00, 11.76it/s]\n",
      "val epoch progress: 100%|██████████| 28/28 [00:01<00:00, 24.14it/s]\n",
      " Train Loss is : 63178.86328125 : 100%|██████████| 131/131 [00:11<00:00, 11.77it/s]\n",
      "val epoch progress: 100%|██████████| 28/28 [00:01<00:00, 24.20it/s]\n",
      " Train Loss is : 77199.953125 : 100%|██████████| 131/131 [00:11<00:00, 11.81it/s]  \n",
      "val epoch progress: 100%|██████████| 28/28 [00:01<00:00, 24.45it/s]\n",
      " Train Loss is : 65362.92578125 : 100%|██████████| 131/131 [00:11<00:00, 11.38it/s]\n",
      "val epoch progress: 100%|██████████| 28/28 [00:01<00:00, 24.10it/s]\n"
     ]
    },
    {
     "name": "stdout",
     "output_type": "stream",
     "text": [
      "\n",
      "=====================================================\n",
      " The current epoch is : 20\n",
      " Train Loss is : 66374.632\n",
      " Train R2 Score is : 93.085\n",
      " Validation Loss is : 63294.252\n",
      " Validation R2 Score is : 93.455\n",
      "=====================================================\n",
      "\n",
      "\n",
      " Model got saved in epoch : 19 \n"
     ]
    },
    {
     "name": "stderr",
     "output_type": "stream",
     "text": [
      " Train Loss is : 42983.05078125 : 100%|██████████| 131/131 [00:11<00:00, 11.82it/s]\n",
      "val epoch progress: 100%|██████████| 28/28 [00:01<00:00, 23.68it/s]\n",
      " Train Loss is : 50979.953125 : 100%|██████████| 131/131 [00:11<00:00, 11.80it/s]  \n",
      "val epoch progress: 100%|██████████| 28/28 [00:01<00:00, 24.34it/s]\n",
      " Train Loss is : 36543.33203125 : 100%|██████████| 131/131 [00:11<00:00, 11.78it/s]\n",
      "val epoch progress: 100%|██████████| 28/28 [00:01<00:00, 24.04it/s]\n",
      " Train Loss is : 42850.4453125 : 100%|██████████| 131/131 [00:11<00:00, 11.81it/s] \n",
      "val epoch progress: 100%|██████████| 28/28 [00:01<00:00, 24.39it/s]\n",
      " Train Loss is : 48179.76171875 : 100%|██████████| 131/131 [00:11<00:00, 11.77it/s] \n",
      "val epoch progress: 100%|██████████| 28/28 [00:01<00:00, 24.20it/s]\n"
     ]
    },
    {
     "name": "stdout",
     "output_type": "stream",
     "text": [
      "\n",
      "=====================================================\n",
      " The current epoch is : 25\n",
      " Train Loss is : 40948.202\n",
      " Train R2 Score is : 95.727\n",
      " Validation Loss is : 41536.868\n",
      " Validation R2 Score is : 95.715\n",
      "=====================================================\n",
      "\n",
      "\n",
      " Model got saved in epoch : 24 \n"
     ]
    },
    {
     "name": "stderr",
     "output_type": "stream",
     "text": [
      " Train Loss is : 60615.08203125 : 100%|██████████| 131/131 [00:11<00:00, 11.64it/s] \n",
      "val epoch progress: 100%|██████████| 28/28 [00:01<00:00, 24.23it/s]\n",
      " Train Loss is : 32261.82421875 : 100%|██████████| 131/131 [00:11<00:00, 11.72it/s] \n",
      "val epoch progress: 100%|██████████| 28/28 [00:01<00:00, 23.91it/s]\n",
      " Train Loss is : 32128.7265625 : 100%|██████████| 131/131 [00:11<00:00, 11.30it/s]  \n",
      "val epoch progress: 100%|██████████| 28/28 [00:01<00:00, 24.02it/s]\n",
      " Train Loss is : 48910.63671875 : 100%|██████████| 131/131 [00:11<00:00, 11.76it/s] \n",
      "val epoch progress: 100%|██████████| 28/28 [00:01<00:00, 23.98it/s]\n",
      " Train Loss is : 35457.3984375 : 100%|██████████| 131/131 [00:11<00:00, 11.78it/s]  \n",
      "val epoch progress: 100%|██████████| 28/28 [00:01<00:00, 23.84it/s]\n"
     ]
    },
    {
     "name": "stdout",
     "output_type": "stream",
     "text": [
      "\n",
      "=====================================================\n",
      " The current epoch is : 30\n",
      " Train Loss is : 34379.357\n",
      " Train R2 Score is : 96.412\n",
      " Validation Loss is : 35640.182\n",
      " Validation R2 Score is : 96.314\n",
      "=====================================================\n",
      "\n",
      "\n",
      " Model got saved in epoch : 29 \n"
     ]
    },
    {
     "name": "stderr",
     "output_type": "stream",
     "text": [
      "val epoch progress: 100%|██████████| 28/28 [00:01<00:00, 24.17it/s]\n"
     ]
    },
    {
     "data": {
      "text/plain": [
       "(35640.18273829108, 96.3126387760968)"
      ]
     },
     "execution_count": 438,
     "metadata": {},
     "output_type": "execute_result"
    }
   ],
   "source": [
    "history_data = rnn_trainer.train_model( epochs = 30 , print_freq = 5 )\n",
    "rnn_trainer.eval()"
   ]
  },
  {
   "cell_type": "code",
   "execution_count": 439,
   "metadata": {},
   "outputs": [
    {
     "data": {
      "image/png": "[encoded data removed]",
      "text/plain": [
       "<Figure size 1440x1296 with 6 Axes>"
      ]
     },
     "metadata": {
      "needs_background": "light"
     },
     "output_type": "display_data"
    }
   ],
   "source": [
    "rnn_trainer.plot_data(*history_data)"
   ]
  },
  {
   "attachments": {},
   "cell_type": "markdown",
   "metadata": {},
   "source": [
    "### training model - 2"
   ]
  },
  {
   "cell_type": "code",
   "execution_count": 54,
   "metadata": {},
   "outputs": [],
   "source": [
    "# hyper parameters:\n",
    "\n",
    "lr_2 = 1e-7\n",
    "epochs_2 = 10\n",
    "device = torch.device('cuda' if torch.cuda.is_available() else 'cpu')\n",
    "\n",
    "batch_size_2 = 1024\n",
    "\n",
    "optimizer_2 = torch.optim.NAdam\n",
    "optimizer_params_2 = {'lr' : lr_2, }"
   ]
  },
  {
   "cell_type": "code",
   "execution_count": 46,
   "metadata": {},
   "outputs": [],
   "source": [
    "train_dataloader_2 = DataLoader(train_dataset_2, batch_size = batch_size_2, shuffle = True, drop_last = False)\n",
    "test_dataloader_2 = DataLoader(test_dataset_2, batch_size = batch_size_2, shuffle = True, drop_last = False)\n",
    "val_dataloader_2 = DataLoader(val_dataset_2, batch_size = batch_size_2, shuffle = True, drop_last = False)"
   ]
  },
  {
   "cell_type": "code",
   "execution_count": 47,
   "metadata": {},
   "outputs": [
    {
     "name": "stdout",
     "output_type": "stream",
     "text": [
      " There are total '98' batches in train data 2 \n"
     ]
    }
   ],
   "source": [
    "print(f\" There are total '{len(train_dataloader_2)}' batches in train data 2 \")"
   ]
  },
  {
   "cell_type": "code",
   "execution_count": 48,
   "metadata": {},
   "outputs": [
    {
     "name": "stdout",
     "output_type": "stream",
     "text": [
      " total params in the model is : 198.145 K \n"
     ]
    }
   ],
   "source": [
    "RNN_Model_2 = RNN_model()\n",
    "print(f\" total params in the model is : {sum([p.numel() for p in RNN_Model_2.parameters() if p.requires_grad ])*1e-3:.3f} K \")\n",
    "# RNN_Model_2.load_state_dict(torch.load('saved_model\\RNN_MODEL_2_DATA_2\\\\4.pt', map_location = device ))"
   ]
  },
  {
   "cell_type": "code",
   "execution_count": 55,
   "metadata": {},
   "outputs": [],
   "source": [
    "rnn_trainer_2 = RNN_Trainer( 'RNN_MODEL_3_DATA_2', RNN_Model_2,  optimizer = optimizer_2 , optimizer_params = optimizer_params_2, train_dataloader = train_dataloader_2, test_dataloader = test_dataloader_2, val_dataloader = val_dataloader_2, )\n",
    "rnn_trainer_2.validation_len = len(val_2)\n",
    "rnn_trainer_2.train_len = len(train_2)"
   ]
  },
  {
   "cell_type": "code",
   "execution_count": 56,
   "metadata": {},
   "outputs": [
    {
     "name": "stderr",
     "output_type": "stream",
     "text": [
      " Train Loss is : 1013388.75 : 100%|██████████| 98/98 [00:05<00:00, 16.98it/s]  \n",
      "val epoch progress: 100%|██████████| 21/21 [00:00<00:00, 30.23it/s]\n",
      " Train Loss is : 851802.5625 : 100%|██████████| 98/98 [00:04<00:00, 21.78it/s] \n",
      "val epoch progress: 100%|██████████| 21/21 [00:00<00:00, 29.96it/s]\n"
     ]
    },
    {
     "name": "stdout",
     "output_type": "stream",
     "text": [
      "\n",
      "=====================================================\n",
      " The current epoch is : 2\n",
      " Train Loss is : 960327.095\n",
      " Train R2 Score is : -0.117\n",
      " Validation Loss is : 954803.047\n",
      " Validation R2 Score is : -0.123\n",
      "=====================================================\n",
      "\n"
     ]
    },
    {
     "name": "stderr",
     "output_type": "stream",
     "text": [
      " Train Loss is : 950810.0 : 100%|██████████| 98/98 [00:04<00:00, 22.43it/s]    \n",
      "val epoch progress: 100%|██████████| 21/21 [00:00<00:00, 25.70it/s]\n",
      " Train Loss is : 969313.125 : 100%|██████████| 98/98 [00:04<00:00, 22.77it/s]  \n",
      "val epoch progress: 100%|██████████| 21/21 [00:00<00:00, 27.43it/s]\n"
     ]
    },
    {
     "name": "stdout",
     "output_type": "stream",
     "text": [
      "\n",
      "=====================================================\n",
      " The current epoch is : 4\n",
      " Train Loss is : 960317.781\n",
      " Train R2 Score is : -0.092\n",
      " Validation Loss is : 954795.921\n",
      " Validation R2 Score is : -0.067\n",
      "=====================================================\n",
      "\n"
     ]
    },
    {
     "name": "stderr",
     "output_type": "stream",
     "text": [
      " Train Loss is : 1018255.125 : 100%|██████████| 98/98 [00:04<00:00, 22.01it/s] \n",
      "val epoch progress: 100%|██████████| 21/21 [00:00<00:00, 28.08it/s]\n",
      " Train Loss is : 956408.0625 : 100%|██████████| 98/98 [00:04<00:00, 22.00it/s] \n",
      "val epoch progress: 100%|██████████| 21/21 [00:00<00:00, 28.34it/s]\n"
     ]
    },
    {
     "name": "stdout",
     "output_type": "stream",
     "text": [
      "\n",
      "=====================================================\n",
      " The current epoch is : 6\n",
      " Train Loss is : 960309.843\n",
      " Train R2 Score is : -0.107\n",
      " Validation Loss is : 954790.292\n",
      " Validation R2 Score is : -0.171\n",
      "=====================================================\n",
      "\n"
     ]
    },
    {
     "name": "stderr",
     "output_type": "stream",
     "text": [
      " Train Loss is : 938459.0625 : 100%|██████████| 98/98 [00:04<00:00, 20.17it/s] \n",
      "val epoch progress: 100%|██████████| 21/21 [00:00<00:00, 31.42it/s]\n",
      " Train Loss is : 1001761.25 : 100%|██████████| 98/98 [00:04<00:00, 23.29it/s]  \n",
      "val epoch progress: 100%|██████████| 21/21 [00:00<00:00, 29.82it/s]\n"
     ]
    },
    {
     "name": "stdout",
     "output_type": "stream",
     "text": [
      "\n",
      "=====================================================\n",
      " The current epoch is : 8\n",
      " Train Loss is : 960303.444\n",
      " Train R2 Score is : -0.104\n",
      " Validation Loss is : 954785.587\n",
      " Validation R2 Score is : -0.112\n",
      "=====================================================\n",
      "\n"
     ]
    },
    {
     "name": "stderr",
     "output_type": "stream",
     "text": [
      " Train Loss is : 982832.5 : 100%|██████████| 98/98 [00:04<00:00, 22.88it/s]    \n",
      "val epoch progress: 100%|██████████| 21/21 [00:00<00:00, 29.33it/s]\n",
      " Train Loss is : 1008537.6875 : 100%|██████████| 98/98 [00:04<00:00, 23.02it/s]\n",
      "val epoch progress: 100%|██████████| 21/21 [00:00<00:00, 31.77it/s]\n"
     ]
    },
    {
     "name": "stdout",
     "output_type": "stream",
     "text": [
      "\n",
      "=====================================================\n",
      " The current epoch is : 10\n",
      " Train Loss is : 960298.079\n",
      " Train R2 Score is : -0.111\n",
      " Validation Loss is : 954781.894\n",
      " Validation R2 Score is : -0.081\n",
      "=====================================================\n",
      "\n"
     ]
    },
    {
     "name": "stderr",
     "output_type": "stream",
     "text": [
      " Train Loss is : 968288.5 : 100%|██████████| 98/98 [00:04<00:00, 22.28it/s]    \n",
      "val epoch progress: 100%|██████████| 21/21 [00:00<00:00, 29.25it/s]\n",
      " Train Loss is : 975782.8125 : 100%|██████████| 98/98 [00:04<00:00, 22.93it/s] \n",
      "val epoch progress: 100%|██████████| 21/21 [00:00<00:00, 30.99it/s]\n"
     ]
    },
    {
     "name": "stdout",
     "output_type": "stream",
     "text": [
      "\n",
      "=====================================================\n",
      " The current epoch is : 12\n",
      " Train Loss is : 960293.667\n",
      " Train R2 Score is : -0.103\n",
      " Validation Loss is : 954778.834\n",
      " Validation R2 Score is : -0.073\n",
      "=====================================================\n",
      "\n"
     ]
    },
    {
     "name": "stderr",
     "output_type": "stream",
     "text": [
      " Train Loss is : 970199.9375 : 100%|██████████| 98/98 [00:04<00:00, 20.52it/s] \n",
      "val epoch progress: 100%|██████████| 21/21 [00:00<00:00, 30.97it/s]\n",
      " Train Loss is : 959432.8125 : 100%|██████████| 98/98 [00:04<00:00, 22.75it/s] \n",
      "val epoch progress: 100%|██████████| 21/21 [00:00<00:00, 27.58it/s]\n"
     ]
    },
    {
     "name": "stdout",
     "output_type": "stream",
     "text": [
      "\n",
      "=====================================================\n",
      " The current epoch is : 14\n",
      " Train Loss is : 960290.033\n",
      " Train R2 Score is : -0.084\n",
      " Validation Loss is : 954776.430\n",
      " Validation R2 Score is : -0.082\n",
      "=====================================================\n",
      "\n"
     ]
    },
    {
     "name": "stderr",
     "output_type": "stream",
     "text": [
      " Train Loss is : 933263.25 : 100%|██████████| 98/98 [00:04<00:00, 21.97it/s]   \n",
      "val epoch progress: 100%|██████████| 21/21 [00:00<00:00, 29.18it/s]\n",
      "val epoch progress: 100%|██████████| 21/21 [00:00<00:00, 27.00it/s]\n"
     ]
    },
    {
     "data": {
      "text/plain": [
       "(954775.4453877845, -0.07831777186751038)"
      ]
     },
     "execution_count": 56,
     "metadata": {},
     "output_type": "execute_result"
    }
   ],
   "source": [
    "history_data_2 = rnn_trainer_2.train_model( epochs = 15 , print_freq = 2 )\n",
    "rnn_trainer_2.eval()"
   ]
  },
  {
   "cell_type": "code",
   "execution_count": 428,
   "metadata": {},
   "outputs": [
    {
     "data": {
      "image/png": "[encoded data removed]",
      "text/plain": [
       "<Figure size 1440x1296 with 6 Axes>"
      ]
     },
     "metadata": {
      "needs_background": "light"
     },
     "output_type": "display_data"
    }
   ],
   "source": [
    "rnn_trainer_2.plot_data(*history_data_2)"
   ]
  },
  {
   "attachments": {},
   "cell_type": "markdown",
   "metadata": {},
   "source": [
    "## Testing Model"
   ]
  },
  {
   "cell_type": "code",
   "execution_count": 162,
   "metadata": {},
   "outputs": [],
   "source": [
    "class test_model(): \n",
    "\n",
    "    def __init__(self, model = RNN_Model_1, test_dataloader = test_dataloader, ) :\n",
    "\n",
    "        self.model = model.eval().to(device)\n",
    "        self.test_dataloader = test_dataloader\n",
    "    \n",
    "    def get_prediction(self, save_path = None):\n",
    "\n",
    "        # to store numpy array of predicted masks\n",
    "        prediction = []\n",
    "        truth_target = []\n",
    "\n",
    "        with torch.no_grad():\n",
    "\n",
    "            loop_obj = tqdm( enumerate(self.test_dataloader), desc = 'test images' , total = len(self.test_dataloader) )\n",
    "\n",
    "            for index,batch in loop_obj :\n",
    "\n",
    "                data,truth = batch\n",
    "\n",
    "                # changing type and data type of the data to ensure computability\n",
    "                data = data.to(device).type(torch.float32)\n",
    "\n",
    "                predicted_target = self.model(data) \n",
    "\n",
    "                prediction.append( predicted_target.detach().cpu().numpy().squeeze(1) )\n",
    "                truth_target.append( truth.detach().cpu().numpy().squeeze(1) )\n",
    "\n",
    "                # print(masks[0].shape)\n",
    "                # break\n",
    "        \n",
    "        self.test_prediction = np.concatenate(prediction)\n",
    "        truth_target = np.concatenate(truth_target)\n",
    "\n",
    "        return self.test_prediction,truth_target\n",
    "    \n",
    "    def plot_prediction(self,  pred, truth, n = 100):\n",
    "\n",
    "        indexes = np.random.randint(0, len(truth), size = n)\n",
    "\n",
    "        print('************************************************************************')\n",
    "        print(f\" r2_score of the test data is : {r2_score(truth,pred)*100:.2f} \")\n",
    "        print(f\" Mean Squared Error of the test data is : {mean_squared_error(truth,pred):.2f}\")\n",
    "        print(f\" Root Mean Squared Error of the test data is : {mean_squared_error(truth,pred)**0.5:.2f}\")\n",
    "        print('************************************************************************')\n",
    "\n",
    "        print(f\" plotting goodness of fit of the test data with the given model of the random '{n}' data \")\n",
    "\n",
    "        plt.figure( figsize=(20,12) )\n",
    "        plt.plot(truth[indexes], '*' ,label = 'truth values', color = 'blue')\n",
    "        plt.plot(pred[indexes], 'o' ,label = 'predicted values', color = 'orange' )\n",
    "        plt.legend( loc = 'best')\n",
    "        plt.title(' predicted vs truth of test data ')\n",
    "        plt.show()"
   ]
  },
  {
   "attachments": {},
   "cell_type": "markdown",
   "metadata": {},
   "source": [
    "### testing model - 1"
   ]
  },
  {
   "cell_type": "code",
   "execution_count": 134,
   "metadata": {},
   "outputs": [
    {
     "name": "stderr",
     "output_type": "stream",
     "text": [
      "test images: 100%|██████████| 28/28 [00:01<00:00, 19.26it/s]\n"
     ]
    }
   ],
   "source": [
    "tester = test_model()\n",
    "prediction, truth = tester.get_prediction()"
   ]
  },
  {
   "cell_type": "code",
   "execution_count": 144,
   "metadata": {},
   "outputs": [
    {
     "name": "stdout",
     "output_type": "stream",
     "text": [
      "************************************************************************\n",
      " r2_score of the test data is : 93.80 \n",
      " Mean Squared Error of the test data is : 58772.54\n",
      " Root Mean Squared Error of the test data is : 242.43\n",
      "************************************************************************\n",
      " plotting goodness of fit of the test data with the given model of the random '100' data \n"
     ]
    },
    {
     "data": {
      "image/png": "[encoded data removed]",
      "text/plain": [
       "<Figure size 1440x864 with 1 Axes>"
      ]
     },
     "metadata": {
      "needs_background": "light"
     },
     "output_type": "display_data"
    }
   ],
   "source": [
    "tester.plot_prediction(prediction , truth, n = 100 )"
   ]
  },
  {
   "attachments": {},
   "cell_type": "markdown",
   "metadata": {},
   "source": [
    "### testing model - 2"
   ]
  },
  {
   "cell_type": "code",
   "execution_count": 164,
   "metadata": {},
   "outputs": [
    {
     "name": "stderr",
     "output_type": "stream",
     "text": [
      "test images: 100%|██████████| 11/11 [00:00<00:00, 14.07it/s]\n"
     ]
    }
   ],
   "source": [
    "tester_2 = test_model(model = RNN_Model_2, test_dataloader = test_dataloader_2)\n",
    "prediction, truth = tester_2.get_prediction()"
   ]
  },
  {
   "cell_type": "code",
   "execution_count": 165,
   "metadata": {},
   "outputs": [
    {
     "name": "stdout",
     "output_type": "stream",
     "text": [
      "************************************************************************\n",
      " r2_score of the test data is : 53.31 \n",
      " Mean Squared Error of the test data is : 448654.88\n",
      " Root Mean Squared Error of the test data is : 669.82\n",
      "************************************************************************\n",
      " plotting goodness of fit of the test data with the given model of the random '100' data \n"
     ]
    },
    {
     "data": {
      "image/png": "[encoded data removed]",
      "text/plain": [
       "<Figure size 1440x864 with 1 Axes>"
      ]
     },
     "metadata": {
      "needs_background": "light"
     },
     "output_type": "display_data"
    }
   ],
   "source": [
    "tester_2.plot_prediction(prediction , truth, n = 100 )"
   ]
  },
  {
   "attachments": {},
   "cell_type": "markdown",
   "metadata": {},
   "source": [
    "### Conclusion"
   ]
  },
  {
   "attachments": {},
   "cell_type": "markdown",
   "metadata": {},
   "source": [
    "Therefore we are able to see that our ***model - 1 able to perform well better than model - 2 trained with dataset of year and days*** "
   ]
  },
  {
   "attachments": {},
   "cell_type": "markdown",
   "metadata": {},
   "source": [
    "***Dataset - 1 is better feature engineered than dataset - 2***"
   ]
  },
  {
   "attachments": {},
   "cell_type": "markdown",
   "metadata": {},
   "source": [
    "***`Previous Hundred values are much useful in predicting the target value ( Gives R2 score of around 90 to 95 in validation dataset after 30 epochs ) `***"
   ]
  },
  {
   "attachments": {},
   "cell_type": "markdown",
   "metadata": {},
   "source": [
    "***`But Dataset 2 with year month and day only able to give at-max able around 50% in R2 score after 30 epochs `***"
   ]
  }
 ],
 "metadata": {
  "kernelspec": {
   "display_name": "Python 3",
   "language": "python",
   "name": "python3"
  },
  "language_info": {
   "codemirror_mode": {
    "name": "ipython",
    "version": 3
   },
   "file_extension": ".py",
   "mimetype": "text/x-python",
   "name": "python",
   "nbconvert_exporter": "python",
   "pygments_lexer": "ipython3",
   "version": "3.10.4"
  },
  "orig_nbformat": 4
 },
 "nbformat": 4,
 "nbformat_minor": 2
}
