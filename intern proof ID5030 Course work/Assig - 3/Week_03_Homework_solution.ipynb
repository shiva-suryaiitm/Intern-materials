{
  "cells": [
    {
      "cell_type": "markdown",
      "metadata": {
        "id": "QvzShipiZrqM"
      },
      "source": [
        "**ID5030 - Week Three Assignment solution**"
      ]
    },
    {
      "cell_type": "markdown",
      "metadata": {
        "id": "k1AcVrkdbGAq"
      },
      "source": [
        "Gradient Descent and its variants"
      ]
    },
    {
      "cell_type": "markdown",
      "metadata": {
        "id": "qVj--rkWaRu9"
      },
      "source": [
        "Concrete Compressive Strength Data Set\n",
        "\n",
        "\n",
        "Source: https://archive.ics.uci.edu/ml/datasets/concrete+compressive+strength"
      ]
    },
    {
      "cell_type": "markdown",
      "metadata": {
        "id": "gbqyd4Dc2M_R"
      },
      "source": [
        "---\n",
        "Nitin Kushwaha- Teaching assistant\n",
        "\n",
        "---\n",
        "\n",
        "Dataset Exploration and Variables formation"
      ]
    },
    {
      "cell_type": "code",
      "execution_count": null,
      "metadata": {
        "id": "1DBDQqq9Z-xi"
      },
      "outputs": [],
      "source": [
        "#Importing the libraries\n",
        "import pandas as pd \n",
        "import numpy as np\n",
        "from numpy.core.memmap import dtype\n",
        "import matplotlib.pyplot as plt\n",
        "import seaborn as sns\n",
        "from sklearn.model_selection import train_test_split \n",
        "from sklearn import metrics"
      ]
    },
    {
      "cell_type": "code",
      "execution_count": null,
      "metadata": {
        "colab": {
          "base_uri": "https://localhost:8080/"
        },
        "id": "-e5QpA66bm7p",
        "outputId": "ee87fad4-ffe7-4d9a-9c92-14180840d5af"
      },
      "outputs": [
        {
          "name": "stdout",
          "output_type": "stream",
          "text": [
            "Mounted at /content/gdrive\n"
          ]
        }
      ],
      "source": [
        "#If the file is in Google Drive - The below code will mount the google drive\n",
        "\n",
        "#Mount Google Drive to access files\n",
        "from google.colab import drive\n",
        "drive.mount('/content/gdrive')"
      ]
    },
    {
      "cell_type": "code",
      "execution_count": null,
      "metadata": {
        "colab": {
          "base_uri": "https://localhost:8080/",
          "height": 520
        },
        "id": "I7jQwRiSbZ0V",
        "outputId": "b7d413e4-4528-40d6-85e4-a823cd0767c8"
      },
      "outputs": [
        {
          "data": {
            "text/html": [
              "\n",
              "  <div id=\"df-3b8bff77-70dc-4580-9939-2a190705085a\">\n",
              "    <div class=\"colab-df-container\">\n",
              "      <div>\n",
              "<style scoped>\n",
              "    .dataframe tbody tr th:only-of-type {\n",
              "        vertical-align: middle;\n",
              "    }\n",
              "\n",
              "    .dataframe tbody tr th {\n",
              "        vertical-align: top;\n",
              "    }\n",
              "\n",
              "    .dataframe thead th {\n",
              "        text-align: right;\n",
              "    }\n",
              "</style>\n",
              "<table border=\"1\" class=\"dataframe\">\n",
              "  <thead>\n",
              "    <tr style=\"text-align: right;\">\n",
              "      <th></th>\n",
              "      <th>Cement (component 1)(kg in a m^3 mixture)</th>\n",
              "      <th>Blast Furnace Slag (component 2)(kg in a m^3 mixture)</th>\n",
              "      <th>Fly Ash (component 3)(kg in a m^3 mixture)</th>\n",
              "      <th>Water  (component 4)(kg in a m^3 mixture)</th>\n",
              "      <th>Superplasticizer (component 5)(kg in a m^3 mixture)</th>\n",
              "      <th>Coarse Aggregate  (component 6)(kg in a m^3 mixture)</th>\n",
              "      <th>Fine Aggregate (component 7)(kg in a m^3 mixture)</th>\n",
              "      <th>Age (day)</th>\n",
              "      <th>Concrete compressive strength(MPa, megapascals)</th>\n",
              "    </tr>\n",
              "  </thead>\n",
              "  <tbody>\n",
              "    <tr>\n",
              "      <th>0</th>\n",
              "      <td>540.0</td>\n",
              "      <td>0.0</td>\n",
              "      <td>0.0</td>\n",
              "      <td>162.0</td>\n",
              "      <td>2.5</td>\n",
              "      <td>1040.0</td>\n",
              "      <td>676.0</td>\n",
              "      <td>28</td>\n",
              "      <td>79.986111</td>\n",
              "    </tr>\n",
              "    <tr>\n",
              "      <th>1</th>\n",
              "      <td>540.0</td>\n",
              "      <td>0.0</td>\n",
              "      <td>0.0</td>\n",
              "      <td>162.0</td>\n",
              "      <td>2.5</td>\n",
              "      <td>1055.0</td>\n",
              "      <td>676.0</td>\n",
              "      <td>28</td>\n",
              "      <td>61.887366</td>\n",
              "    </tr>\n",
              "    <tr>\n",
              "      <th>2</th>\n",
              "      <td>332.5</td>\n",
              "      <td>142.5</td>\n",
              "      <td>0.0</td>\n",
              "      <td>228.0</td>\n",
              "      <td>0.0</td>\n",
              "      <td>932.0</td>\n",
              "      <td>594.0</td>\n",
              "      <td>270</td>\n",
              "      <td>40.269535</td>\n",
              "    </tr>\n",
              "    <tr>\n",
              "      <th>3</th>\n",
              "      <td>332.5</td>\n",
              "      <td>142.5</td>\n",
              "      <td>0.0</td>\n",
              "      <td>228.0</td>\n",
              "      <td>0.0</td>\n",
              "      <td>932.0</td>\n",
              "      <td>594.0</td>\n",
              "      <td>365</td>\n",
              "      <td>41.052780</td>\n",
              "    </tr>\n",
              "    <tr>\n",
              "      <th>4</th>\n",
              "      <td>198.6</td>\n",
              "      <td>132.4</td>\n",
              "      <td>0.0</td>\n",
              "      <td>192.0</td>\n",
              "      <td>0.0</td>\n",
              "      <td>978.4</td>\n",
              "      <td>825.5</td>\n",
              "      <td>360</td>\n",
              "      <td>44.296075</td>\n",
              "    </tr>\n",
              "    <tr>\n",
              "      <th>...</th>\n",
              "      <td>...</td>\n",
              "      <td>...</td>\n",
              "      <td>...</td>\n",
              "      <td>...</td>\n",
              "      <td>...</td>\n",
              "      <td>...</td>\n",
              "      <td>...</td>\n",
              "      <td>...</td>\n",
              "      <td>...</td>\n",
              "    </tr>\n",
              "    <tr>\n",
              "      <th>1025</th>\n",
              "      <td>276.4</td>\n",
              "      <td>116.0</td>\n",
              "      <td>90.3</td>\n",
              "      <td>179.6</td>\n",
              "      <td>8.9</td>\n",
              "      <td>870.1</td>\n",
              "      <td>768.3</td>\n",
              "      <td>28</td>\n",
              "      <td>44.284354</td>\n",
              "    </tr>\n",
              "    <tr>\n",
              "      <th>1026</th>\n",
              "      <td>322.2</td>\n",
              "      <td>0.0</td>\n",
              "      <td>115.6</td>\n",
              "      <td>196.0</td>\n",
              "      <td>10.4</td>\n",
              "      <td>817.9</td>\n",
              "      <td>813.4</td>\n",
              "      <td>28</td>\n",
              "      <td>31.178794</td>\n",
              "    </tr>\n",
              "    <tr>\n",
              "      <th>1027</th>\n",
              "      <td>148.5</td>\n",
              "      <td>139.4</td>\n",
              "      <td>108.6</td>\n",
              "      <td>192.7</td>\n",
              "      <td>6.1</td>\n",
              "      <td>892.4</td>\n",
              "      <td>780.0</td>\n",
              "      <td>28</td>\n",
              "      <td>23.696601</td>\n",
              "    </tr>\n",
              "    <tr>\n",
              "      <th>1028</th>\n",
              "      <td>159.1</td>\n",
              "      <td>186.7</td>\n",
              "      <td>0.0</td>\n",
              "      <td>175.6</td>\n",
              "      <td>11.3</td>\n",
              "      <td>989.6</td>\n",
              "      <td>788.9</td>\n",
              "      <td>28</td>\n",
              "      <td>32.768036</td>\n",
              "    </tr>\n",
              "    <tr>\n",
              "      <th>1029</th>\n",
              "      <td>260.9</td>\n",
              "      <td>100.5</td>\n",
              "      <td>78.3</td>\n",
              "      <td>200.6</td>\n",
              "      <td>8.6</td>\n",
              "      <td>864.5</td>\n",
              "      <td>761.5</td>\n",
              "      <td>28</td>\n",
              "      <td>32.401235</td>\n",
              "    </tr>\n",
              "  </tbody>\n",
              "</table>\n",
              "<p>1030 rows × 9 columns</p>\n",
              "</div>\n",
              "      <button class=\"colab-df-convert\" onclick=\"convertToInteractive('df-3b8bff77-70dc-4580-9939-2a190705085a')\"\n",
              "              title=\"Convert this dataframe to an interactive table.\"\n",
              "              style=\"display:none;\">\n",
              "        \n",
              "  <svg xmlns=\"http://www.w3.org/2000/svg\" height=\"24px\"viewBox=\"0 0 24 24\"\n",
              "       width=\"24px\">\n",
              "    <path d=\"M0 0h24v24H0V0z\" fill=\"none\"/>\n",
              "    <path d=\"M18.56 5.44l.94 2.06.94-2.06 2.06-.94-2.06-.94-.94-2.06-.94 2.06-2.06.94zm-11 1L8.5 8.5l.94-2.06 2.06-.94-2.06-.94L8.5 2.5l-.94 2.06-2.06.94zm10 10l.94 2.06.94-2.06 2.06-.94-2.06-.94-.94-2.06-.94 2.06-2.06.94z\"/><path d=\"M17.41 7.96l-1.37-1.37c-.4-.4-.92-.59-1.43-.59-.52 0-1.04.2-1.43.59L10.3 9.45l-7.72 7.72c-.78.78-.78 2.05 0 2.83L4 21.41c.39.39.9.59 1.41.59.51 0 1.02-.2 1.41-.59l7.78-7.78 2.81-2.81c.8-.78.8-2.07 0-2.86zM5.41 20L4 18.59l7.72-7.72 1.47 1.35L5.41 20z\"/>\n",
              "  </svg>\n",
              "      </button>\n",
              "      \n",
              "  <style>\n",
              "    .colab-df-container {\n",
              "      display:flex;\n",
              "      flex-wrap:wrap;\n",
              "      gap: 12px;\n",
              "    }\n",
              "\n",
              "    .colab-df-convert {\n",
              "      background-color: #E8F0FE;\n",
              "      border: none;\n",
              "      border-radius: 50%;\n",
              "      cursor: pointer;\n",
              "      display: none;\n",
              "      fill: #1967D2;\n",
              "      height: 32px;\n",
              "      padding: 0 0 0 0;\n",
              "      width: 32px;\n",
              "    }\n",
              "\n",
              "    .colab-df-convert:hover {\n",
              "      background-color: #E2EBFA;\n",
              "      box-shadow: 0px 1px 2px rgba(60, 64, 67, 0.3), 0px 1px 3px 1px rgba(60, 64, 67, 0.15);\n",
              "      fill: #174EA6;\n",
              "    }\n",
              "\n",
              "    [theme=dark] .colab-df-convert {\n",
              "      background-color: #3B4455;\n",
              "      fill: #D2E3FC;\n",
              "    }\n",
              "\n",
              "    [theme=dark] .colab-df-convert:hover {\n",
              "      background-color: #434B5C;\n",
              "      box-shadow: 0px 1px 3px 1px rgba(0, 0, 0, 0.15);\n",
              "      filter: drop-shadow(0px 1px 2px rgba(0, 0, 0, 0.3));\n",
              "      fill: #FFFFFF;\n",
              "    }\n",
              "  </style>\n",
              "\n",
              "      <script>\n",
              "        const buttonEl =\n",
              "          document.querySelector('#df-3b8bff77-70dc-4580-9939-2a190705085a button.colab-df-convert');\n",
              "        buttonEl.style.display =\n",
              "          google.colab.kernel.accessAllowed ? 'block' : 'none';\n",
              "\n",
              "        async function convertToInteractive(key) {\n",
              "          const element = document.querySelector('#df-3b8bff77-70dc-4580-9939-2a190705085a');\n",
              "          const dataTable =\n",
              "            await google.colab.kernel.invokeFunction('convertToInteractive',\n",
              "                                                     [key], {});\n",
              "          if (!dataTable) return;\n",
              "\n",
              "          const docLinkHtml = 'Like what you see? Visit the ' +\n",
              "            '<a target=\"_blank\" href=https://colab.research.google.com/notebooks/data_table.ipynb>data table notebook</a>'\n",
              "            + ' to learn more about interactive tables.';\n",
              "          element.innerHTML = '';\n",
              "          dataTable['output_type'] = 'display_data';\n",
              "          await google.colab.output.renderOutput(dataTable, element);\n",
              "          const docLink = document.createElement('div');\n",
              "          docLink.innerHTML = docLinkHtml;\n",
              "          element.appendChild(docLink);\n",
              "        }\n",
              "      </script>\n",
              "    </div>\n",
              "  </div>\n",
              "  "
            ],
            "text/plain": [
              "      Cement (component 1)(kg in a m^3 mixture)  \\\n",
              "0                                         540.0   \n",
              "1                                         540.0   \n",
              "2                                         332.5   \n",
              "3                                         332.5   \n",
              "4                                         198.6   \n",
              "...                                         ...   \n",
              "1025                                      276.4   \n",
              "1026                                      322.2   \n",
              "1027                                      148.5   \n",
              "1028                                      159.1   \n",
              "1029                                      260.9   \n",
              "\n",
              "      Blast Furnace Slag (component 2)(kg in a m^3 mixture)  \\\n",
              "0                                                   0.0       \n",
              "1                                                   0.0       \n",
              "2                                                 142.5       \n",
              "3                                                 142.5       \n",
              "4                                                 132.4       \n",
              "...                                                 ...       \n",
              "1025                                              116.0       \n",
              "1026                                                0.0       \n",
              "1027                                              139.4       \n",
              "1028                                              186.7       \n",
              "1029                                              100.5       \n",
              "\n",
              "      Fly Ash (component 3)(kg in a m^3 mixture)  \\\n",
              "0                                            0.0   \n",
              "1                                            0.0   \n",
              "2                                            0.0   \n",
              "3                                            0.0   \n",
              "4                                            0.0   \n",
              "...                                          ...   \n",
              "1025                                        90.3   \n",
              "1026                                       115.6   \n",
              "1027                                       108.6   \n",
              "1028                                         0.0   \n",
              "1029                                        78.3   \n",
              "\n",
              "      Water  (component 4)(kg in a m^3 mixture)  \\\n",
              "0                                         162.0   \n",
              "1                                         162.0   \n",
              "2                                         228.0   \n",
              "3                                         228.0   \n",
              "4                                         192.0   \n",
              "...                                         ...   \n",
              "1025                                      179.6   \n",
              "1026                                      196.0   \n",
              "1027                                      192.7   \n",
              "1028                                      175.6   \n",
              "1029                                      200.6   \n",
              "\n",
              "      Superplasticizer (component 5)(kg in a m^3 mixture)  \\\n",
              "0                                                   2.5     \n",
              "1                                                   2.5     \n",
              "2                                                   0.0     \n",
              "3                                                   0.0     \n",
              "4                                                   0.0     \n",
              "...                                                 ...     \n",
              "1025                                                8.9     \n",
              "1026                                               10.4     \n",
              "1027                                                6.1     \n",
              "1028                                               11.3     \n",
              "1029                                                8.6     \n",
              "\n",
              "      Coarse Aggregate  (component 6)(kg in a m^3 mixture)  \\\n",
              "0                                                1040.0      \n",
              "1                                                1055.0      \n",
              "2                                                 932.0      \n",
              "3                                                 932.0      \n",
              "4                                                 978.4      \n",
              "...                                                 ...      \n",
              "1025                                              870.1      \n",
              "1026                                              817.9      \n",
              "1027                                              892.4      \n",
              "1028                                              989.6      \n",
              "1029                                              864.5      \n",
              "\n",
              "      Fine Aggregate (component 7)(kg in a m^3 mixture)  Age (day)  \\\n",
              "0                                                 676.0         28   \n",
              "1                                                 676.0         28   \n",
              "2                                                 594.0        270   \n",
              "3                                                 594.0        365   \n",
              "4                                                 825.5        360   \n",
              "...                                                 ...        ...   \n",
              "1025                                              768.3         28   \n",
              "1026                                              813.4         28   \n",
              "1027                                              780.0         28   \n",
              "1028                                              788.9         28   \n",
              "1029                                              761.5         28   \n",
              "\n",
              "      Concrete compressive strength(MPa, megapascals)   \n",
              "0                                            79.986111  \n",
              "1                                            61.887366  \n",
              "2                                            40.269535  \n",
              "3                                            41.052780  \n",
              "4                                            44.296075  \n",
              "...                                                ...  \n",
              "1025                                         44.284354  \n",
              "1026                                         31.178794  \n",
              "1027                                         23.696601  \n",
              "1028                                         32.768036  \n",
              "1029                                         32.401235  \n",
              "\n",
              "[1030 rows x 9 columns]"
            ]
          },
          "execution_count": 6,
          "metadata": {},
          "output_type": "execute_result"
        }
      ],
      "source": [
        "dataset=pd.read_excel('/content/gdrive/MyDrive/Machine learning for engineering for science application./Concrete_Data.xls')\n",
        "dataset"
      ]
    },
    {
      "cell_type": "code",
      "execution_count": null,
      "metadata": {
        "colab": {
          "base_uri": "https://localhost:8080/",
          "height": 302
        },
        "id": "KgAfp_9acwDR",
        "outputId": "9b68f04b-be79-4044-9ea0-ef52cc537c6e"
      },
      "outputs": [
        {
          "data": {
            "text/html": [
              "\n",
              "  <div id=\"df-317f851a-258d-430e-b27d-afb0143e31f4\">\n",
              "    <div class=\"colab-df-container\">\n",
              "      <div>\n",
              "<style scoped>\n",
              "    .dataframe tbody tr th:only-of-type {\n",
              "        vertical-align: middle;\n",
              "    }\n",
              "\n",
              "    .dataframe tbody tr th {\n",
              "        vertical-align: top;\n",
              "    }\n",
              "\n",
              "    .dataframe thead th {\n",
              "        text-align: right;\n",
              "    }\n",
              "</style>\n",
              "<table border=\"1\" class=\"dataframe\">\n",
              "  <thead>\n",
              "    <tr style=\"text-align: right;\">\n",
              "      <th></th>\n",
              "      <th>Cement (component 1)(kg in a m^3 mixture)</th>\n",
              "      <th>Blast Furnace Slag (component 2)(kg in a m^3 mixture)</th>\n",
              "      <th>Fly Ash (component 3)(kg in a m^3 mixture)</th>\n",
              "      <th>Water  (component 4)(kg in a m^3 mixture)</th>\n",
              "      <th>Superplasticizer (component 5)(kg in a m^3 mixture)</th>\n",
              "      <th>Coarse Aggregate  (component 6)(kg in a m^3 mixture)</th>\n",
              "      <th>Fine Aggregate (component 7)(kg in a m^3 mixture)</th>\n",
              "      <th>Age (day)</th>\n",
              "      <th>Concrete compressive strength(MPa, megapascals)</th>\n",
              "    </tr>\n",
              "  </thead>\n",
              "  <tbody>\n",
              "    <tr>\n",
              "      <th>0</th>\n",
              "      <td>540.0</td>\n",
              "      <td>0.0</td>\n",
              "      <td>0.0</td>\n",
              "      <td>162.0</td>\n",
              "      <td>2.5</td>\n",
              "      <td>1040.0</td>\n",
              "      <td>676.0</td>\n",
              "      <td>28</td>\n",
              "      <td>79.986111</td>\n",
              "    </tr>\n",
              "    <tr>\n",
              "      <th>1</th>\n",
              "      <td>540.0</td>\n",
              "      <td>0.0</td>\n",
              "      <td>0.0</td>\n",
              "      <td>162.0</td>\n",
              "      <td>2.5</td>\n",
              "      <td>1055.0</td>\n",
              "      <td>676.0</td>\n",
              "      <td>28</td>\n",
              "      <td>61.887366</td>\n",
              "    </tr>\n",
              "    <tr>\n",
              "      <th>2</th>\n",
              "      <td>332.5</td>\n",
              "      <td>142.5</td>\n",
              "      <td>0.0</td>\n",
              "      <td>228.0</td>\n",
              "      <td>0.0</td>\n",
              "      <td>932.0</td>\n",
              "      <td>594.0</td>\n",
              "      <td>270</td>\n",
              "      <td>40.269535</td>\n",
              "    </tr>\n",
              "    <tr>\n",
              "      <th>3</th>\n",
              "      <td>332.5</td>\n",
              "      <td>142.5</td>\n",
              "      <td>0.0</td>\n",
              "      <td>228.0</td>\n",
              "      <td>0.0</td>\n",
              "      <td>932.0</td>\n",
              "      <td>594.0</td>\n",
              "      <td>365</td>\n",
              "      <td>41.052780</td>\n",
              "    </tr>\n",
              "    <tr>\n",
              "      <th>4</th>\n",
              "      <td>198.6</td>\n",
              "      <td>132.4</td>\n",
              "      <td>0.0</td>\n",
              "      <td>192.0</td>\n",
              "      <td>0.0</td>\n",
              "      <td>978.4</td>\n",
              "      <td>825.5</td>\n",
              "      <td>360</td>\n",
              "      <td>44.296075</td>\n",
              "    </tr>\n",
              "  </tbody>\n",
              "</table>\n",
              "</div>\n",
              "      <button class=\"colab-df-convert\" onclick=\"convertToInteractive('df-317f851a-258d-430e-b27d-afb0143e31f4')\"\n",
              "              title=\"Convert this dataframe to an interactive table.\"\n",
              "              style=\"display:none;\">\n",
              "        \n",
              "  <svg xmlns=\"http://www.w3.org/2000/svg\" height=\"24px\"viewBox=\"0 0 24 24\"\n",
              "       width=\"24px\">\n",
              "    <path d=\"M0 0h24v24H0V0z\" fill=\"none\"/>\n",
              "    <path d=\"M18.56 5.44l.94 2.06.94-2.06 2.06-.94-2.06-.94-.94-2.06-.94 2.06-2.06.94zm-11 1L8.5 8.5l.94-2.06 2.06-.94-2.06-.94L8.5 2.5l-.94 2.06-2.06.94zm10 10l.94 2.06.94-2.06 2.06-.94-2.06-.94-.94-2.06-.94 2.06-2.06.94z\"/><path d=\"M17.41 7.96l-1.37-1.37c-.4-.4-.92-.59-1.43-.59-.52 0-1.04.2-1.43.59L10.3 9.45l-7.72 7.72c-.78.78-.78 2.05 0 2.83L4 21.41c.39.39.9.59 1.41.59.51 0 1.02-.2 1.41-.59l7.78-7.78 2.81-2.81c.8-.78.8-2.07 0-2.86zM5.41 20L4 18.59l7.72-7.72 1.47 1.35L5.41 20z\"/>\n",
              "  </svg>\n",
              "      </button>\n",
              "      \n",
              "  <style>\n",
              "    .colab-df-container {\n",
              "      display:flex;\n",
              "      flex-wrap:wrap;\n",
              "      gap: 12px;\n",
              "    }\n",
              "\n",
              "    .colab-df-convert {\n",
              "      background-color: #E8F0FE;\n",
              "      border: none;\n",
              "      border-radius: 50%;\n",
              "      cursor: pointer;\n",
              "      display: none;\n",
              "      fill: #1967D2;\n",
              "      height: 32px;\n",
              "      padding: 0 0 0 0;\n",
              "      width: 32px;\n",
              "    }\n",
              "\n",
              "    .colab-df-convert:hover {\n",
              "      background-color: #E2EBFA;\n",
              "      box-shadow: 0px 1px 2px rgba(60, 64, 67, 0.3), 0px 1px 3px 1px rgba(60, 64, 67, 0.15);\n",
              "      fill: #174EA6;\n",
              "    }\n",
              "\n",
              "    [theme=dark] .colab-df-convert {\n",
              "      background-color: #3B4455;\n",
              "      fill: #D2E3FC;\n",
              "    }\n",
              "\n",
              "    [theme=dark] .colab-df-convert:hover {\n",
              "      background-color: #434B5C;\n",
              "      box-shadow: 0px 1px 3px 1px rgba(0, 0, 0, 0.15);\n",
              "      filter: drop-shadow(0px 1px 2px rgba(0, 0, 0, 0.3));\n",
              "      fill: #FFFFFF;\n",
              "    }\n",
              "  </style>\n",
              "\n",
              "      <script>\n",
              "        const buttonEl =\n",
              "          document.querySelector('#df-317f851a-258d-430e-b27d-afb0143e31f4 button.colab-df-convert');\n",
              "        buttonEl.style.display =\n",
              "          google.colab.kernel.accessAllowed ? 'block' : 'none';\n",
              "\n",
              "        async function convertToInteractive(key) {\n",
              "          const element = document.querySelector('#df-317f851a-258d-430e-b27d-afb0143e31f4');\n",
              "          const dataTable =\n",
              "            await google.colab.kernel.invokeFunction('convertToInteractive',\n",
              "                                                     [key], {});\n",
              "          if (!dataTable) return;\n",
              "\n",
              "          const docLinkHtml = 'Like what you see? Visit the ' +\n",
              "            '<a target=\"_blank\" href=https://colab.research.google.com/notebooks/data_table.ipynb>data table notebook</a>'\n",
              "            + ' to learn more about interactive tables.';\n",
              "          element.innerHTML = '';\n",
              "          dataTable['output_type'] = 'display_data';\n",
              "          await google.colab.output.renderOutput(dataTable, element);\n",
              "          const docLink = document.createElement('div');\n",
              "          docLink.innerHTML = docLinkHtml;\n",
              "          element.appendChild(docLink);\n",
              "        }\n",
              "      </script>\n",
              "    </div>\n",
              "  </div>\n",
              "  "
            ],
            "text/plain": [
              "   Cement (component 1)(kg in a m^3 mixture)  \\\n",
              "0                                      540.0   \n",
              "1                                      540.0   \n",
              "2                                      332.5   \n",
              "3                                      332.5   \n",
              "4                                      198.6   \n",
              "\n",
              "   Blast Furnace Slag (component 2)(kg in a m^3 mixture)  \\\n",
              "0                                                0.0       \n",
              "1                                                0.0       \n",
              "2                                              142.5       \n",
              "3                                              142.5       \n",
              "4                                              132.4       \n",
              "\n",
              "   Fly Ash (component 3)(kg in a m^3 mixture)  \\\n",
              "0                                         0.0   \n",
              "1                                         0.0   \n",
              "2                                         0.0   \n",
              "3                                         0.0   \n",
              "4                                         0.0   \n",
              "\n",
              "   Water  (component 4)(kg in a m^3 mixture)  \\\n",
              "0                                      162.0   \n",
              "1                                      162.0   \n",
              "2                                      228.0   \n",
              "3                                      228.0   \n",
              "4                                      192.0   \n",
              "\n",
              "   Superplasticizer (component 5)(kg in a m^3 mixture)  \\\n",
              "0                                                2.5     \n",
              "1                                                2.5     \n",
              "2                                                0.0     \n",
              "3                                                0.0     \n",
              "4                                                0.0     \n",
              "\n",
              "   Coarse Aggregate  (component 6)(kg in a m^3 mixture)  \\\n",
              "0                                             1040.0      \n",
              "1                                             1055.0      \n",
              "2                                              932.0      \n",
              "3                                              932.0      \n",
              "4                                              978.4      \n",
              "\n",
              "   Fine Aggregate (component 7)(kg in a m^3 mixture)  Age (day)  \\\n",
              "0                                              676.0         28   \n",
              "1                                              676.0         28   \n",
              "2                                              594.0        270   \n",
              "3                                              594.0        365   \n",
              "4                                              825.5        360   \n",
              "\n",
              "   Concrete compressive strength(MPa, megapascals)   \n",
              "0                                         79.986111  \n",
              "1                                         61.887366  \n",
              "2                                         40.269535  \n",
              "3                                         41.052780  \n",
              "4                                         44.296075  "
            ]
          },
          "execution_count": 7,
          "metadata": {},
          "output_type": "execute_result"
        }
      ],
      "source": [
        "#Print the first 5 rows\n",
        "dataset.head()"
      ]
    },
    {
      "cell_type": "code",
      "execution_count": null,
      "metadata": {
        "id": "WGgZPCIJNQHP"
      },
      "outputs": [],
      "source": [
        "#Split input and output\n",
        "#All inputs are independent variables (Predictors)\n",
        "inputs = dataset[['Cement (component 1)(kg in a m^3 mixture)',\n",
        "       'Blast Furnace Slag (component 2)(kg in a m^3 mixture)',\n",
        "       'Fly Ash (component 3)(kg in a m^3 mixture)',\n",
        "       'Water  (component 4)(kg in a m^3 mixture)',\n",
        "       'Superplasticizer (component 5)(kg in a m^3 mixture)',\n",
        "       'Coarse Aggregate  (component 6)(kg in a m^3 mixture)',\n",
        "       'Fine Aggregate (component 7)(kg in a m^3 mixture)', 'Age (day)']]\n",
        "#Output is the dependent variable\n",
        "output = dataset['Concrete compressive strength(MPa, megapascals) ']\n",
        "\n",
        "#inputs and output in the above lines are in pandas DataFrame format"
      ]
    },
    {
      "cell_type": "code",
      "execution_count": null,
      "metadata": {
        "id": "yQX5FvUfNU9d"
      },
      "outputs": [],
      "source": [
        "#Seed for the randomState variable\n",
        "#Random seed is the control for reproducible results. If random seed is changed for every iteration, results will be different for every iteration. \n",
        "#(For further reading: https://medium.com/mlearning-ai/what-the-heck-is-random-state-24a7a8389f3d)\n",
        "rng = np.random.RandomState(0)"
      ]
    },
    {
      "cell_type": "code",
      "execution_count": null,
      "metadata": {
        "id": "3Q4OURQ8Nakp"
      },
      "outputs": [],
      "source": [
        "#Splitting the dataset\n",
        "#80% of the data is used for training and 20% for testing\n",
        "input_train, input_test, output_train, output_test = train_test_split(inputs, output, test_size = 0.2, random_state = rng, shuffle= True)"
      ]
    },
    {
      "cell_type": "code",
      "execution_count": null,
      "metadata": {
        "id": "JTz_J4rdr7y4"
      },
      "outputs": [],
      "source": [
        "#Typecast all the inputs from DataFrame(Pandas) to Numpy Array to enable Vector Manipulation\n",
        "input_train_temp = np.asarray( [\n",
        "    input_train['Cement (component 1)(kg in a m^3 mixture)'],\n",
        "    input_train['Blast Furnace Slag (component 2)(kg in a m^3 mixture)'],\n",
        "    input_train['Fly Ash (component 3)(kg in a m^3 mixture)'],\n",
        "    input_train['Water  (component 4)(kg in a m^3 mixture)'],\n",
        "    input_train['Superplasticizer (component 5)(kg in a m^3 mixture)'],\n",
        "    input_train['Coarse Aggregate  (component 6)(kg in a m^3 mixture)'],\n",
        "    input_train['Fine Aggregate (component 7)(kg in a m^3 mixture)'],\n",
        "    input_train[ 'Age (day)']\n",
        "])\n",
        "\n",
        "input_test_temp = np.asarray( [\n",
        "    input_test['Cement (component 1)(kg in a m^3 mixture)'],\n",
        "    input_test['Blast Furnace Slag (component 2)(kg in a m^3 mixture)'],\n",
        "    input_test['Fly Ash (component 3)(kg in a m^3 mixture)'],\n",
        "    input_test['Water  (component 4)(kg in a m^3 mixture)'],\n",
        "    input_test['Superplasticizer (component 5)(kg in a m^3 mixture)'],\n",
        "    input_test['Coarse Aggregate  (component 6)(kg in a m^3 mixture)'],\n",
        "    input_test['Fine Aggregate (component 7)(kg in a m^3 mixture)'],\n",
        "    input_test[ 'Age (day)']\n",
        "])"
      ]
    },
    {
      "cell_type": "code",
      "execution_count": null,
      "metadata": {
        "id": "sQNrci8nkTGv"
      },
      "outputs": [],
      "source": [
        "# Adding x0=1 to each instance\n",
        "# add a column of ones as integer data type to represent the intercept since it has no \n",
        "input_train_vector = np.append(arr = np.ones((1, input_train_temp.shape[1])).astype(int), values = input_train_temp, axis = 0).T\n",
        "input_test_vector = np.append(arr = np.ones((1, input_test_temp.shape[1])).astype(int), values = input_test_temp, axis = 0).T"
      ]
    },
    {
      "cell_type": "code",
      "execution_count": null,
      "metadata": {
        "id": "2spfwwaqsrkf"
      },
      "outputs": [],
      "source": [
        "#Accessing the underlying numpy array from the pandas dataframe\n",
        "# Convert  target variable array from 1d to 2d.\n",
        "output_train_vector = output_train.values.reshape(-1, 1)\n",
        "output_test_vector = output_test.values.reshape(-1, 1)"
      ]
    },
    {
      "cell_type": "markdown",
      "metadata": {
        "id": "xGCyWKi3RBQY"
      },
      "source": [
        "---\n",
        "\n",
        "Gradient Descent"
      ]
    },
    {
      "cell_type": "code",
      "execution_count": null,
      "metadata": {
        "id": "tFqlgBX806LA"
      },
      "outputs": [],
      "source": [
        "#Helper Functions\n",
        "#Prediction Function Template\n",
        "def create_function(theta):\n",
        "    def f(X_b):\n",
        "        return np.dot(X_b,theta)\n",
        "    return f\n",
        "\n",
        "#Compute Mean Square Error\n",
        "def mse(y, y_predicted):\n",
        "    error = y-y_predicted\n",
        "    loss = 1/(y.size) * np.dot(error.T, error)\n",
        "    return loss\n",
        "\n",
        "#Compute Weights\n",
        "def compute_weights(X,y,y_predicted):\n",
        "    return -(2/y.size) * sum(np.dot(X.T,(y - y_predicted)))"
      ]
    },
    {
      "cell_type": "markdown",
      "metadata": {
        "id": "A0TuCrHsIrZo"
      },
      "source": [
        "# Batch Gradient Descent - Python Implementation"
      ]
    },
    {
      "cell_type": "markdown",
      "metadata": {
        "id": "uzA77wbNCpIZ"
      },
      "source": [
        "\\\n",
        "Batch Gradient Descent - Type of gradient descent which processes all the training examples for each iteration of gradient descent\n",
        "\n",
        "Batch Gradient Descent without Input Data Normalization"
      ]
    },
    {
      "cell_type": "code",
      "execution_count": null,
      "metadata": {
        "id": "cCSKD-EVDVEQ"
      },
      "outputs": [],
      "source": [
        "#Gradient Descent \n",
        "def batch_gradient_descent(x, y, theta, criterion, number_of_iterations, learning_rate, print_execution_status = True):\n",
        "    loss_history=[] #Loss history tracker\n",
        "    gradient = np.zeros([9,1]) #Gradient output \n",
        "\n",
        "    for i in range(number_of_iterations):\n",
        "        # predict and calculate loss\n",
        "        f = create_function(theta) # create the current function\n",
        "        y_predicted = f(x) # predict our entire x\n",
        "        loss = criterion(y,y_predicted) # calculate the error\n",
        "        loss_history.append(loss[0])\n",
        "\n",
        "        #perform optimization\n",
        "        for j in range(0, theta.shape[0]):\n",
        "          weight = compute_weights(x[:,j].reshape(-1, 1),y,y_predicted) #calculate weight for whole examples every iteration\n",
        "          gradient[j] = weight\n",
        "\n",
        "        theta = theta - learning_rate * gradient #adjust m and b\n",
        "\n",
        "        if i%1000==0 and print_execution_status:\n",
        "            print(\"Current Epoch: {}, Current Loss: {}\".format(i,loss[0]))\n",
        "   \n",
        "    return theta,loss_history"
      ]
    },
    {
      "cell_type": "code",
      "execution_count": null,
      "metadata": {
        "colab": {
          "base_uri": "https://localhost:8080/"
        },
        "id": "UB6JMaXzSR4R",
        "outputId": "dc44a1e0-5a5f-49de-cf19-d2b19548d486"
      },
      "outputs": [
        {
          "name": "stdout",
          "output_type": "stream",
          "text": [
            "Current Epoch: 0, Current Loss: [1585.52485081]\n",
            "Current Epoch: 1000, Current Loss: [165.84906011]\n",
            "Current Epoch: 2000, Current Loss: [143.29330252]\n",
            "Current Epoch: 3000, Current Loss: [132.6504432]\n",
            "Current Epoch: 4000, Current Loss: [126.62141686]\n",
            "Current Epoch: 5000, Current Loss: [122.75454588]\n",
            "Current Epoch: 6000, Current Loss: [120.04958992]\n",
            "Current Epoch: 7000, Current Loss: [118.05454469]\n",
            "Current Epoch: 8000, Current Loss: [116.53927758]\n",
            "Current Epoch: 9000, Current Loss: [115.37051656]\n",
            "Current Epoch: 10000, Current Loss: [114.46183408]\n",
            "Current Epoch: 11000, Current Loss: [113.7524388]\n",
            "Current Epoch: 12000, Current Loss: [113.19738341]\n",
            "Current Epoch: 13000, Current Loss: [112.76250104]\n",
            "Current Epoch: 14000, Current Loss: [112.42143929]\n"
          ]
        }
      ],
      "source": [
        "theta = np.zeros([9,1])\n",
        "num_epochs = 15000\n",
        "learning_rate = 1e-7\n",
        "ideal_theta, loss_history = batch_gradient_descent(input_train_vector, output_train_vector, theta, mse, num_epochs, learning_rate)"
      ]
    },
    {
      "cell_type": "code",
      "execution_count": null,
      "metadata": {
        "colab": {
          "base_uri": "https://localhost:8080/",
          "height": 312
        },
        "id": "ClOVhDiFSzW2",
        "outputId": "94112764-e055-492d-a7e6-63770c671849"
      },
      "outputs": [
        {
          "data": {
            "text/plain": [
              "[<matplotlib.lines.Line2D at 0x7f8232ce63a0>]"
            ]
          },
          "execution_count": 17,
          "metadata": {},
          "output_type": "execute_result"
        },
        {
          "data": {
            "image/png": "[encoded data removed]",
            "text/plain": [
              "<Figure size 432x288 with 1 Axes>"
            ]
          },
          "metadata": {
            "needs_background": "light"
          },
          "output_type": "display_data"
        }
      ],
      "source": [
        "plt.xlabel(\"Number of Epochs\")\n",
        "plt.ylabel(\"Loss\")\n",
        "plt.title(\"Number of Epochs vs Loss\")\n",
        "plt.plot(np.arange(num_epochs),loss_history)"
      ]
    },
    {
      "cell_type": "code",
      "execution_count": null,
      "metadata": {
        "colab": {
          "base_uri": "https://localhost:8080/"
        },
        "id": "k09sWNpex-Ei",
        "outputId": "6c20d28f-c373-470c-f353-ee1e3f8bdd0b"
      },
      "outputs": [
        {
          "name": "stdout",
          "output_type": "stream",
          "text": [
            "Ideal Theta:  [[-9.73609710e-05]\n",
            " [ 1.15948115e-01]\n",
            " [ 1.02515047e-01]\n",
            " [ 9.22643372e-02]\n",
            " [-1.75237309e-01]\n",
            " [ 4.19771109e-02]\n",
            " [ 6.49549331e-03]\n",
            " [ 1.40655231e-02]\n",
            " [ 1.10748370e-01]]\n"
          ]
        }
      ],
      "source": [
        "print(\"Ideal Theta: \", ideal_theta)"
      ]
    },
    {
      "cell_type": "code",
      "execution_count": null,
      "metadata": {
        "id": "ejiCakHOx9UT"
      },
      "outputs": [],
      "source": [
        "ideal_function = create_function(ideal_theta)\n",
        "output_pred = ideal_function(input_test_vector)"
      ]
    },
    {
      "cell_type": "code",
      "execution_count": null,
      "metadata": {
        "colab": {
          "base_uri": "https://localhost:8080/",
          "height": 206
        },
        "id": "Mz_-wqAHyUZY",
        "outputId": "2691d53b-aeeb-4a27-c275-76aeaee457e7"
      },
      "outputs": [
        {
          "data": {
            "text/html": [
              "\n",
              "  <div id=\"df-799d72de-77be-4323-808b-ca73d07caaba\">\n",
              "    <div class=\"colab-df-container\">\n",
              "      <div>\n",
              "<style scoped>\n",
              "    .dataframe tbody tr th:only-of-type {\n",
              "        vertical-align: middle;\n",
              "    }\n",
              "\n",
              "    .dataframe tbody tr th {\n",
              "        vertical-align: top;\n",
              "    }\n",
              "\n",
              "    .dataframe thead th {\n",
              "        text-align: right;\n",
              "    }\n",
              "</style>\n",
              "<table border=\"1\" class=\"dataframe\">\n",
              "  <thead>\n",
              "    <tr style=\"text-align: right;\">\n",
              "      <th></th>\n",
              "      <th>Actual value</th>\n",
              "      <th>Predicted value</th>\n",
              "    </tr>\n",
              "  </thead>\n",
              "  <tbody>\n",
              "    <tr>\n",
              "      <th>0</th>\n",
              "      <td>26.062193</td>\n",
              "      <td>39.188339</td>\n",
              "    </tr>\n",
              "    <tr>\n",
              "      <th>1</th>\n",
              "      <td>10.354551</td>\n",
              "      <td>15.659911</td>\n",
              "    </tr>\n",
              "    <tr>\n",
              "      <th>2</th>\n",
              "      <td>79.296635</td>\n",
              "      <td>59.853452</td>\n",
              "    </tr>\n",
              "    <tr>\n",
              "      <th>3</th>\n",
              "      <td>74.987410</td>\n",
              "      <td>56.463796</td>\n",
              "    </tr>\n",
              "    <tr>\n",
              "      <th>4</th>\n",
              "      <td>9.694722</td>\n",
              "      <td>26.147860</td>\n",
              "    </tr>\n",
              "  </tbody>\n",
              "</table>\n",
              "</div>\n",
              "      <button class=\"colab-df-convert\" onclick=\"convertToInteractive('df-799d72de-77be-4323-808b-ca73d07caaba')\"\n",
              "              title=\"Convert this dataframe to an interactive table.\"\n",
              "              style=\"display:none;\">\n",
              "        \n",
              "  <svg xmlns=\"http://www.w3.org/2000/svg\" height=\"24px\"viewBox=\"0 0 24 24\"\n",
              "       width=\"24px\">\n",
              "    <path d=\"M0 0h24v24H0V0z\" fill=\"none\"/>\n",
              "    <path d=\"M18.56 5.44l.94 2.06.94-2.06 2.06-.94-2.06-.94-.94-2.06-.94 2.06-2.06.94zm-11 1L8.5 8.5l.94-2.06 2.06-.94-2.06-.94L8.5 2.5l-.94 2.06-2.06.94zm10 10l.94 2.06.94-2.06 2.06-.94-2.06-.94-.94-2.06-.94 2.06-2.06.94z\"/><path d=\"M17.41 7.96l-1.37-1.37c-.4-.4-.92-.59-1.43-.59-.52 0-1.04.2-1.43.59L10.3 9.45l-7.72 7.72c-.78.78-.78 2.05 0 2.83L4 21.41c.39.39.9.59 1.41.59.51 0 1.02-.2 1.41-.59l7.78-7.78 2.81-2.81c.8-.78.8-2.07 0-2.86zM5.41 20L4 18.59l7.72-7.72 1.47 1.35L5.41 20z\"/>\n",
              "  </svg>\n",
              "      </button>\n",
              "      \n",
              "  <style>\n",
              "    .colab-df-container {\n",
              "      display:flex;\n",
              "      flex-wrap:wrap;\n",
              "      gap: 12px;\n",
              "    }\n",
              "\n",
              "    .colab-df-convert {\n",
              "      background-color: #E8F0FE;\n",
              "      border: none;\n",
              "      border-radius: 50%;\n",
              "      cursor: pointer;\n",
              "      display: none;\n",
              "      fill: #1967D2;\n",
              "      height: 32px;\n",
              "      padding: 0 0 0 0;\n",
              "      width: 32px;\n",
              "    }\n",
              "\n",
              "    .colab-df-convert:hover {\n",
              "      background-color: #E2EBFA;\n",
              "      box-shadow: 0px 1px 2px rgba(60, 64, 67, 0.3), 0px 1px 3px 1px rgba(60, 64, 67, 0.15);\n",
              "      fill: #174EA6;\n",
              "    }\n",
              "\n",
              "    [theme=dark] .colab-df-convert {\n",
              "      background-color: #3B4455;\n",
              "      fill: #D2E3FC;\n",
              "    }\n",
              "\n",
              "    [theme=dark] .colab-df-convert:hover {\n",
              "      background-color: #434B5C;\n",
              "      box-shadow: 0px 1px 3px 1px rgba(0, 0, 0, 0.15);\n",
              "      filter: drop-shadow(0px 1px 2px rgba(0, 0, 0, 0.3));\n",
              "      fill: #FFFFFF;\n",
              "    }\n",
              "  </style>\n",
              "\n",
              "      <script>\n",
              "        const buttonEl =\n",
              "          document.querySelector('#df-799d72de-77be-4323-808b-ca73d07caaba button.colab-df-convert');\n",
              "        buttonEl.style.display =\n",
              "          google.colab.kernel.accessAllowed ? 'block' : 'none';\n",
              "\n",
              "        async function convertToInteractive(key) {\n",
              "          const element = document.querySelector('#df-799d72de-77be-4323-808b-ca73d07caaba');\n",
              "          const dataTable =\n",
              "            await google.colab.kernel.invokeFunction('convertToInteractive',\n",
              "                                                     [key], {});\n",
              "          if (!dataTable) return;\n",
              "\n",
              "          const docLinkHtml = 'Like what you see? Visit the ' +\n",
              "            '<a target=\"_blank\" href=https://colab.research.google.com/notebooks/data_table.ipynb>data table notebook</a>'\n",
              "            + ' to learn more about interactive tables.';\n",
              "          element.innerHTML = '';\n",
              "          dataTable['output_type'] = 'display_data';\n",
              "          await google.colab.output.renderOutput(dataTable, element);\n",
              "          const docLink = document.createElement('div');\n",
              "          docLink.innerHTML = docLinkHtml;\n",
              "          element.appendChild(docLink);\n",
              "        }\n",
              "      </script>\n",
              "    </div>\n",
              "  </div>\n",
              "  "
            ],
            "text/plain": [
              "   Actual value  Predicted value\n",
              "0     26.062193        39.188339\n",
              "1     10.354551        15.659911\n",
              "2     79.296635        59.853452\n",
              "3     74.987410        56.463796\n",
              "4      9.694722        26.147860"
            ]
          },
          "execution_count": 20,
          "metadata": {},
          "output_type": "execute_result"
        }
      ],
      "source": [
        "#Actual value and the predicted value\n",
        "bgd_diff = pd.DataFrame({'Actual value': output_test_vector.flatten(), 'Predicted value': output_pred.flatten()}, index = [*range(0,206)])\n",
        "bgd_diff.head()"
      ]
    },
    {
      "cell_type": "code",
      "execution_count": null,
      "metadata": {
        "colab": {
          "base_uri": "https://localhost:8080/",
          "height": 282
        },
        "id": "-BB2OSH6yvJM",
        "outputId": "a4c0d9af-d29e-4fd0-bc5c-0b50a8b854a9"
      },
      "outputs": [
        {
          "data": {
            "text/plain": [
              "<matplotlib.axes._subplots.AxesSubplot at 0x7f8232cca220>"
            ]
          },
          "execution_count": 21,
          "metadata": {},
          "output_type": "execute_result"
        },
        {
          "data": {
            "image/png": "[encoded data removed]",
            "text/plain": [
              "<Figure size 432x288 with 1 Axes>"
            ]
          },
          "metadata": {
            "needs_background": "light"
          },
          "output_type": "display_data"
        }
      ],
      "source": [
        "#Plot between Actual value and the predicted value\n",
        "sns.regplot(x=output_test_vector, y=output_pred, ci=None, color=\"b\")"
      ]
    },
    {
      "cell_type": "code",
      "execution_count": null,
      "metadata": {
        "colab": {
          "base_uri": "https://localhost:8080/"
        },
        "id": "Tl8ZroExENkH",
        "outputId": "00ee5697-be52-4ad5-e4af-ccf69b37fcc7"
      },
      "outputs": [
        {
          "name": "stdout",
          "output_type": "stream",
          "text": [
            "R squared: 64.03\n",
            "Mean Absolute Error: 7.785944334022886\n",
            "Mean Square Error: 94.73318052374287\n",
            "Root Mean Square Error: 9.733097170158267\n"
          ]
        }
      ],
      "source": [
        "meanAbErr = metrics.mean_absolute_error(output_test_vector.flatten(), output_pred.flatten())\n",
        "meanSqErr = metrics.mean_squared_error(output_test_vector.flatten(), output_pred.flatten())\n",
        "rootMeanSqErr = np.sqrt(metrics.mean_squared_error(output_test_vector.flatten(), output_pred.flatten()))\n",
        "accuracy = metrics.r2_score(output_test_vector.flatten(), output_pred.flatten())\n",
        "\n",
        "print('R squared: {:.2f}'.format(accuracy*100))\n",
        "print('Mean Absolute Error:', meanAbErr)\n",
        "print('Mean Square Error:', meanSqErr)\n",
        "print('Root Mean Square Error:', rootMeanSqErr)"
      ]
    },
    {
      "cell_type": "code",
      "execution_count": null,
      "metadata": {
        "colab": {
          "base_uri": "https://localhost:8080/"
        },
        "id": "EbjpTJIlmVr0",
        "outputId": "ab46b7e7-4d18-4eab-f90d-91d9f8f6c8d1"
      },
      "outputs": [
        {
          "name": "stderr",
          "output_type": "stream",
          "text": [
            "<ipython-input-15-1c40bcaa8f95>:18: RuntimeWarning: invalid value encountered in subtract\n",
            "  theta = theta - learning_rate * gradient #adjust m and b\n"
          ]
        }
      ],
      "source": [
        "#Testing for Different Learning Rates\n",
        "learning_rates = []\n",
        "loss_difference = []\n",
        "\n",
        "for i in [*range(-20, 3)]:\n",
        "  learning_rate = (10**i)\n",
        "  learning_rates.append(learning_rate)\n",
        "  theta = np.zeros([9,1])\n",
        "  num_epochs = 15000\n",
        "  ideal_theta, loss_history = batch_gradient_descent(input_train_vector, output_train_vector, theta, mse, num_epochs, learning_rate, print_execution_status= False)\n",
        "  ideal_prediction_function = create_function(ideal_theta)\n",
        "  output_predictions = ideal_prediction_function(input_test_vector)\n",
        "  loss_difference.append(mse(output_test_vector,output_predictions)[0][0])"
      ]
    },
    {
      "cell_type": "code",
      "execution_count": null,
      "metadata": {
        "colab": {
          "base_uri": "https://localhost:8080/",
          "height": 295
        },
        "id": "uwaxkqEy6ZNP",
        "outputId": "a823852e-91c9-4235-f5b2-0cffead759be"
      },
      "outputs": [
        {
          "data": {
            "image/png": "[encoded data removed]",
            "text/plain": [
              "<Figure size 432x288 with 1 Axes>"
            ]
          },
          "metadata": {
            "needs_background": "light"
          },
          "output_type": "display_data"
        }
      ],
      "source": [
        "plt.xlabel(\"Learning Rate (1e^x)\")\n",
        "plt.ylabel(\"Loss\")\n",
        "plt.title(\"Learning Rate vs Loss\")\n",
        "plt.xlim(-21, 5)\n",
        "plt.plot([*range(-20, 3)],loss_difference)\n",
        "plt.show()"
      ]
    },
    {
      "cell_type": "markdown",
      "metadata": {
        "id": "qt7fS_qP7SLZ"
      },
      "source": [
        "From the above graph, we can infer that the optimal alpha = 1e-7. The loss is high(NaN - Values are not plotted in the graph) when we increase the learning rate (i.e alpha>1e-6) due to overshooting and the iterations increase if we decrease the learning rate."
      ]
    },
    {
      "cell_type": "markdown",
      "metadata": {
        "id": "B3fSQswtEx83"
      },
      "source": [
        "---\n",
        "\\\n",
        "Batch Gradient Descent with Input Data Normalization"
      ]
    },
    {
      "cell_type": "code",
      "execution_count": null,
      "metadata": {
        "id": "Q2DtM66-8Q4l"
      },
      "outputs": [],
      "source": [
        "#Normalize the input data\n",
        "input_train_vector_normalized = input_train_vector/np.max(input_train_vector, axis=0)\n",
        "input_test_vector_normalized = input_test_vector/np.max(input_test_vector, axis=0)\n",
        "#Other Methods: sklearn - preprocessing.normalize\n",
        "#Vector Normalization - norm = V/|V|"
      ]
    },
    {
      "cell_type": "code",
      "execution_count": null,
      "metadata": {
        "colab": {
          "base_uri": "https://localhost:8080/"
        },
        "id": "8qKC-uv8GFyn",
        "outputId": "2d5799ff-7e3f-4650-c536-4fc8c95c41c6"
      },
      "outputs": [
        {
          "name": "stdout",
          "output_type": "stream",
          "text": [
            "Current Epoch: 0, Current Loss: [1585.52485081]\n",
            "Current Epoch: 1000, Current Loss: [164.89736092]\n",
            "Current Epoch: 2000, Current Loss: [135.8232991]\n",
            "Current Epoch: 3000, Current Loss: [125.65865745]\n",
            "Current Epoch: 4000, Current Loss: [121.28669176]\n",
            "Current Epoch: 5000, Current Loss: [118.94152575]\n",
            "Current Epoch: 6000, Current Loss: [117.41968]\n",
            "Current Epoch: 7000, Current Loss: [116.29712801]\n",
            "Current Epoch: 8000, Current Loss: [115.40765983]\n",
            "Current Epoch: 9000, Current Loss: [114.67682905]\n",
            "Current Epoch: 10000, Current Loss: [114.06546621]\n",
            "Current Epoch: 11000, Current Loss: [113.54935977]\n",
            "Current Epoch: 12000, Current Loss: [113.11151349]\n",
            "Current Epoch: 13000, Current Loss: [112.73897237]\n",
            "Current Epoch: 14000, Current Loss: [112.4213849]\n"
          ]
        }
      ],
      "source": [
        "theta = np.zeros([9,1])\n",
        "num_epochs = 15000\n",
        "learning_rate = 0.01\n",
        "ideal_theta, loss_history = batch_gradient_descent(input_train_vector_normalized, output_train_vector, theta, mse, num_epochs, learning_rate)"
      ]
    },
    {
      "cell_type": "code",
      "execution_count": null,
      "metadata": {
        "colab": {
          "base_uri": "https://localhost:8080/",
          "height": 312
        },
        "id": "ipiepRMSGFzG",
        "outputId": "53c94004-84aa-45b8-d414-67ad6e6060b6"
      },
      "outputs": [
        {
          "data": {
            "text/plain": [
              "[<matplotlib.lines.Line2D at 0x7f8232574670>]"
            ]
          },
          "execution_count": 27,
          "metadata": {},
          "output_type": "execute_result"
        },
        {
          "data": {
            "image/png": "[encoded data removed]",
            "text/plain": [
              "<Figure size 432x288 with 1 Axes>"
            ]
          },
          "metadata": {
            "needs_background": "light"
          },
          "output_type": "display_data"
        }
      ],
      "source": [
        "plt.xlabel(\"Number of Epochs\")\n",
        "plt.ylabel(\"Loss\")\n",
        "plt.title(\"Number of Epochs vs Loss\")\n",
        "plt.plot(np.arange(num_epochs),loss_history)"
      ]
    },
    {
      "cell_type": "code",
      "execution_count": null,
      "metadata": {
        "colab": {
          "base_uri": "https://localhost:8080/"
        },
        "id": "b1KM79WZGFzH",
        "outputId": "20a13b8b-91b0-4d86-f3cc-db98a9b68d37"
      },
      "outputs": [
        {
          "name": "stdout",
          "output_type": "stream",
          "text": [
            "Ideal Theta:  [[  4.59525179]\n",
            " [ 53.58277596]\n",
            " [ 30.19478783]\n",
            " [ 12.08097456]\n",
            " [-33.14668739]\n",
            " [ 17.56923571]\n",
            " [ 10.0943578 ]\n",
            " [  1.58405989]\n",
            " [ 40.33664542]]\n"
          ]
        }
      ],
      "source": [
        "print(\"Ideal Theta: \", ideal_theta)"
      ]
    },
    {
      "cell_type": "code",
      "execution_count": null,
      "metadata": {
        "id": "I537bhyeGFzI"
      },
      "outputs": [],
      "source": [
        "ideal_function = create_function(ideal_theta)\n",
        "output_pred = ideal_function(input_test_vector_normalized)"
      ]
    },
    {
      "cell_type": "code",
      "execution_count": null,
      "metadata": {
        "colab": {
          "base_uri": "https://localhost:8080/",
          "height": 206
        },
        "id": "P9-D5BOOGFzI",
        "outputId": "bc3749fb-870a-41dd-e7ad-f207664cbe86"
      },
      "outputs": [
        {
          "data": {
            "text/html": [
              "\n",
              "  <div id=\"df-3c24d175-edc2-46fa-b27c-405216af25a2\">\n",
              "    <div class=\"colab-df-container\">\n",
              "      <div>\n",
              "<style scoped>\n",
              "    .dataframe tbody tr th:only-of-type {\n",
              "        vertical-align: middle;\n",
              "    }\n",
              "\n",
              "    .dataframe tbody tr th {\n",
              "        vertical-align: top;\n",
              "    }\n",
              "\n",
              "    .dataframe thead th {\n",
              "        text-align: right;\n",
              "    }\n",
              "</style>\n",
              "<table border=\"1\" class=\"dataframe\">\n",
              "  <thead>\n",
              "    <tr style=\"text-align: right;\">\n",
              "      <th></th>\n",
              "      <th>Actual value</th>\n",
              "      <th>Predicted value</th>\n",
              "    </tr>\n",
              "  </thead>\n",
              "  <tbody>\n",
              "    <tr>\n",
              "      <th>0</th>\n",
              "      <td>26.062193</td>\n",
              "      <td>38.680037</td>\n",
              "    </tr>\n",
              "    <tr>\n",
              "      <th>1</th>\n",
              "      <td>10.354551</td>\n",
              "      <td>17.584658</td>\n",
              "    </tr>\n",
              "    <tr>\n",
              "      <th>2</th>\n",
              "      <td>79.296635</td>\n",
              "      <td>62.489906</td>\n",
              "    </tr>\n",
              "    <tr>\n",
              "      <th>3</th>\n",
              "      <td>74.987410</td>\n",
              "      <td>49.289117</td>\n",
              "    </tr>\n",
              "    <tr>\n",
              "      <th>4</th>\n",
              "      <td>9.694722</td>\n",
              "      <td>26.843605</td>\n",
              "    </tr>\n",
              "  </tbody>\n",
              "</table>\n",
              "</div>\n",
              "      <button class=\"colab-df-convert\" onclick=\"convertToInteractive('df-3c24d175-edc2-46fa-b27c-405216af25a2')\"\n",
              "              title=\"Convert this dataframe to an interactive table.\"\n",
              "              style=\"display:none;\">\n",
              "        \n",
              "  <svg xmlns=\"http://www.w3.org/2000/svg\" height=\"24px\"viewBox=\"0 0 24 24\"\n",
              "       width=\"24px\">\n",
              "    <path d=\"M0 0h24v24H0V0z\" fill=\"none\"/>\n",
              "    <path d=\"M18.56 5.44l.94 2.06.94-2.06 2.06-.94-2.06-.94-.94-2.06-.94 2.06-2.06.94zm-11 1L8.5 8.5l.94-2.06 2.06-.94-2.06-.94L8.5 2.5l-.94 2.06-2.06.94zm10 10l.94 2.06.94-2.06 2.06-.94-2.06-.94-.94-2.06-.94 2.06-2.06.94z\"/><path d=\"M17.41 7.96l-1.37-1.37c-.4-.4-.92-.59-1.43-.59-.52 0-1.04.2-1.43.59L10.3 9.45l-7.72 7.72c-.78.78-.78 2.05 0 2.83L4 21.41c.39.39.9.59 1.41.59.51 0 1.02-.2 1.41-.59l7.78-7.78 2.81-2.81c.8-.78.8-2.07 0-2.86zM5.41 20L4 18.59l7.72-7.72 1.47 1.35L5.41 20z\"/>\n",
              "  </svg>\n",
              "      </button>\n",
              "      \n",
              "  <style>\n",
              "    .colab-df-container {\n",
              "      display:flex;\n",
              "      flex-wrap:wrap;\n",
              "      gap: 12px;\n",
              "    }\n",
              "\n",
              "    .colab-df-convert {\n",
              "      background-color: #E8F0FE;\n",
              "      border: none;\n",
              "      border-radius: 50%;\n",
              "      cursor: pointer;\n",
              "      display: none;\n",
              "      fill: #1967D2;\n",
              "      height: 32px;\n",
              "      padding: 0 0 0 0;\n",
              "      width: 32px;\n",
              "    }\n",
              "\n",
              "    .colab-df-convert:hover {\n",
              "      background-color: #E2EBFA;\n",
              "      box-shadow: 0px 1px 2px rgba(60, 64, 67, 0.3), 0px 1px 3px 1px rgba(60, 64, 67, 0.15);\n",
              "      fill: #174EA6;\n",
              "    }\n",
              "\n",
              "    [theme=dark] .colab-df-convert {\n",
              "      background-color: #3B4455;\n",
              "      fill: #D2E3FC;\n",
              "    }\n",
              "\n",
              "    [theme=dark] .colab-df-convert:hover {\n",
              "      background-color: #434B5C;\n",
              "      box-shadow: 0px 1px 3px 1px rgba(0, 0, 0, 0.15);\n",
              "      filter: drop-shadow(0px 1px 2px rgba(0, 0, 0, 0.3));\n",
              "      fill: #FFFFFF;\n",
              "    }\n",
              "  </style>\n",
              "\n",
              "      <script>\n",
              "        const buttonEl =\n",
              "          document.querySelector('#df-3c24d175-edc2-46fa-b27c-405216af25a2 button.colab-df-convert');\n",
              "        buttonEl.style.display =\n",
              "          google.colab.kernel.accessAllowed ? 'block' : 'none';\n",
              "\n",
              "        async function convertToInteractive(key) {\n",
              "          const element = document.querySelector('#df-3c24d175-edc2-46fa-b27c-405216af25a2');\n",
              "          const dataTable =\n",
              "            await google.colab.kernel.invokeFunction('convertToInteractive',\n",
              "                                                     [key], {});\n",
              "          if (!dataTable) return;\n",
              "\n",
              "          const docLinkHtml = 'Like what you see? Visit the ' +\n",
              "            '<a target=\"_blank\" href=https://colab.research.google.com/notebooks/data_table.ipynb>data table notebook</a>'\n",
              "            + ' to learn more about interactive tables.';\n",
              "          element.innerHTML = '';\n",
              "          dataTable['output_type'] = 'display_data';\n",
              "          await google.colab.output.renderOutput(dataTable, element);\n",
              "          const docLink = document.createElement('div');\n",
              "          docLink.innerHTML = docLinkHtml;\n",
              "          element.appendChild(docLink);\n",
              "        }\n",
              "      </script>\n",
              "    </div>\n",
              "  </div>\n",
              "  "
            ],
            "text/plain": [
              "   Actual value  Predicted value\n",
              "0     26.062193        38.680037\n",
              "1     10.354551        17.584658\n",
              "2     79.296635        62.489906\n",
              "3     74.987410        49.289117\n",
              "4      9.694722        26.843605"
            ]
          },
          "execution_count": 30,
          "metadata": {},
          "output_type": "execute_result"
        }
      ],
      "source": [
        "#Actual value and the predicted value\n",
        "bgd_diff = pd.DataFrame({'Actual value': output_test_vector.flatten(), 'Predicted value': output_pred.flatten()}, index = [*range(0,206)])\n",
        "bgd_diff.head()"
      ]
    },
    {
      "cell_type": "code",
      "execution_count": null,
      "metadata": {
        "colab": {
          "base_uri": "https://localhost:8080/",
          "height": 282
        },
        "id": "utmwQlonGFzJ",
        "outputId": "d71a470d-5cc7-44c2-b759-727647ec872d"
      },
      "outputs": [
        {
          "data": {
            "text/plain": [
              "<matplotlib.axes._subplots.AxesSubplot at 0x7f823252e2b0>"
            ]
          },
          "execution_count": 31,
          "metadata": {},
          "output_type": "execute_result"
        },
        {
          "data": {
            "image/png": "[encoded data removed]",
            "text/plain": [
              "<Figure size 432x288 with 1 Axes>"
            ]
          },
          "metadata": {
            "needs_background": "light"
          },
          "output_type": "display_data"
        }
      ],
      "source": [
        "#Plot between Actual value and the predicted value\n",
        "sns.regplot(x=output_test_vector, y=output_pred, ci=None, color=\"b\")"
      ]
    },
    {
      "cell_type": "code",
      "execution_count": null,
      "metadata": {
        "colab": {
          "base_uri": "https://localhost:8080/"
        },
        "id": "NBNsaSElGFzK",
        "outputId": "ab13bb0e-51cd-4cda-80b8-50855ffb1f0c"
      },
      "outputs": [
        {
          "name": "stdout",
          "output_type": "stream",
          "text": [
            "R squared: 61.76\n",
            "Mean Absolute Error: 8.033562956870222\n",
            "Mean Square Error: 100.71361519789697\n",
            "Root Mean Square Error: 10.035617330184376\n"
          ]
        }
      ],
      "source": [
        "meanAbErr = metrics.mean_absolute_error(output_test_vector.flatten(), output_pred.flatten())\n",
        "meanSqErr = metrics.mean_squared_error(output_test_vector.flatten(), output_pred.flatten())\n",
        "rootMeanSqErr = np.sqrt(metrics.mean_squared_error(output_test_vector.flatten(), output_pred.flatten()))\n",
        "accuracy = metrics.r2_score(output_test_vector.flatten(), output_pred.flatten())\n",
        "\n",
        "print('R squared: {:.2f}'.format(accuracy*100))\n",
        "print('Mean Absolute Error:', meanAbErr)\n",
        "print('Mean Square Error:', meanSqErr)\n",
        "print('Root Mean Square Error:', rootMeanSqErr)"
      ]
    },
    {
      "cell_type": "code",
      "execution_count": null,
      "metadata": {
        "colab": {
          "base_uri": "https://localhost:8080/"
        },
        "id": "acm8tavlk4Op",
        "outputId": "d80ecaf3-0d79-4130-e93f-f447bb8e0666"
      },
      "outputs": [
        {
          "name": "stderr",
          "output_type": "stream",
          "text": [
            "<ipython-input-15-1c40bcaa8f95>:18: RuntimeWarning: overflow encountered in multiply\n",
            "  theta = theta - learning_rate * gradient #adjust m and b\n"
          ]
        }
      ],
      "source": [
        "#Testing for Different Learning Rates\n",
        "learning_rates = []\n",
        "loss_difference = []\n",
        "\n",
        "for i in [*range(-10, 10)]:\n",
        "  learning_rate = (10**i)\n",
        "  learning_rates.append(learning_rate)\n",
        "  theta = np.zeros([9,1])\n",
        "  num_epochs = 15000\n",
        "  ideal_theta, loss_history = batch_gradient_descent(input_train_vector_normalized, output_train_vector, theta, mse, num_epochs, learning_rate, print_execution_status= False)\n",
        "  ideal_prediction_function = create_function(ideal_theta)\n",
        "  output_predictions = ideal_prediction_function(input_test_vector_normalized)\n",
        "  loss_difference.append(mse(output_test_vector,output_predictions)[0][0])"
      ]
    },
    {
      "cell_type": "code",
      "execution_count": null,
      "metadata": {
        "colab": {
          "base_uri": "https://localhost:8080/",
          "height": 295
        },
        "id": "GH6Ngq0Ck4PH",
        "outputId": "024d059e-b512-43d0-8cd3-3ce8367bb8c7"
      },
      "outputs": [
        {
          "data": {
            "image/png": "[encoded data removed]",
            "text/plain": [
              "<Figure size 432x288 with 1 Axes>"
            ]
          },
          "metadata": {
            "needs_background": "light"
          },
          "output_type": "display_data"
        }
      ],
      "source": [
        "plt.xlabel(\"Learning Rate (1e^x)\")\n",
        "plt.ylabel(\"Loss\")\n",
        "plt.title(\"Learning Rate vs Loss\")\n",
        "plt.xlim(-11, 12)\n",
        "plt.plot([*range(-10, 10)],loss_difference)\n",
        "plt.show()"
      ]
    },
    {
      "cell_type": "markdown",
      "metadata": {
        "id": "_KvSz8E5k4PI"
      },
      "source": [
        "From the above graph, we can infer that the optimal alpha = 0.01. The loss is high(NaN - Values are not plotted in the graph) when we increase the learning rate (i.e alpha>0.01) due to overshooting and the iterations increase if we decrease the learning rate."
      ]
    },
    {
      "cell_type": "markdown",
      "metadata": {
        "id": "oa4g0VEYLDxT"
      },
      "source": [
        "# Batch Gradient Descent - Pytorch Implementation"
      ]
    },
    {
      "cell_type": "markdown",
      "metadata": {
        "id": "RY7K9MQ8sjGn"
      },
      "source": [
        "Batch Gradient Descent without Input Data Normalization"
      ]
    },
    {
      "cell_type": "code",
      "execution_count": null,
      "metadata": {
        "id": "iLkRdzGxr0VS"
      },
      "outputs": [],
      "source": [
        "import torch\n",
        "import torch.nn.functional as F\n",
        "import random"
      ]
    },
    {
      "cell_type": "code",
      "execution_count": null,
      "metadata": {
        "id": "t_fuARPBucXc"
      },
      "outputs": [],
      "source": [
        "class GradientDescent(torch.nn.Module):\n",
        "    def __init__(self, n_feature, n_hidden, n_output):\n",
        "        super(GradientDescent, self).__init__()\n",
        "        self.hidden = torch.nn.Linear(n_feature, n_hidden)   \n",
        "        self.predict = torch.nn.Linear(n_hidden, n_output)  \n",
        "\n",
        "    def forward(self, x):\n",
        "        x = F.relu(self.hidden(x))      \n",
        "        x = self.predict(x)             \n",
        "        return x\n",
        "\n",
        "criterion = torch.nn.MSELoss()\n",
        "\n",
        "def setRandomState():\n",
        "  random.seed(160)\n",
        "  torch.manual_seed(160)\n",
        "  torch.cuda.manual_seed(160)\n",
        "  np.random.seed(160)\n",
        "  torch.backends.cudnn.deterministic = True\n",
        "  torch.backends.cudnn.benchmark = False"
      ]
    },
    {
      "cell_type": "code",
      "execution_count": null,
      "metadata": {
        "id": "1AfI0w4DSFYi"
      },
      "outputs": [],
      "source": [
        "#Convert Numpy to Tensor\n",
        "input_train_tensor = torch.from_numpy(np.float32(input_train_vector))\n",
        "output_train_tensor = torch.from_numpy(np.float32(output_train_vector))"
      ]
    },
    {
      "cell_type": "code",
      "execution_count": null,
      "metadata": {
        "colab": {
          "base_uri": "https://localhost:8080/"
        },
        "id": "g-e81ZNguiEo",
        "outputId": "887f7092-89e0-45da-cb6d-7580efcc50b6"
      },
      "outputs": [
        {
          "name": "stdout",
          "output_type": "stream",
          "text": [
            "epoch: 299\tLoss =  261.230"
          ]
        }
      ],
      "source": [
        "net_all = GradientDescent(n_feature=9, n_hidden=9, n_output=1) \n",
        "optimizer_all = torch.optim.SGD(net_all.parameters(), lr=1e-6)\n",
        "setRandomState()\n",
        "\n",
        "loss_list = []\n",
        "for t in range(300):\n",
        "    prediction = net_all(input_train_tensor)   \n",
        "    loss = criterion(prediction, output_train_tensor)\n",
        "    loss_list.append(loss)\n",
        "    optimizer_all.zero_grad()\n",
        "    loss.backward()\n",
        "    optimizer_all.step()\n",
        "    print('\\repoch: {}\\tLoss =  {:.3f}'.format(t, loss), end=\"\")"
      ]
    },
    {
      "cell_type": "code",
      "execution_count": null,
      "metadata": {
        "colab": {
          "base_uri": "https://localhost:8080/",
          "height": 295
        },
        "id": "Zwlk5lKoyer3",
        "outputId": "715892f6-0467-44c2-de4f-520f622292bc"
      },
      "outputs": [
        {
          "data": {
            "image/png": "[encoded data removed]",
            "text/plain": [
              "<Figure size 432x288 with 1 Axes>"
            ]
          },
          "metadata": {
            "needs_background": "light"
          },
          "output_type": "display_data"
        }
      ],
      "source": [
        "plt.xlabel(\"Number of Epochs\")\n",
        "plt.ylabel(\"Loss\")\n",
        "plt.title(\"Number of Epochs vs Loss\")\n",
        "with torch.no_grad():\n",
        "  plt.plot([*range(300)],loss_list)"
      ]
    },
    {
      "cell_type": "code",
      "execution_count": null,
      "metadata": {
        "id": "Dn8wyEAU18oD"
      },
      "outputs": [],
      "source": [
        "#Convert Numpy to Tensor\n",
        "input_test_tensor = torch.from_numpy(np.float32(input_test_vector))\n",
        "output_test_tensor = torch.from_numpy(np.float32(output_test_vector))\n",
        "\n",
        "#Predict the output\n",
        "prediction = net_all(input_test_tensor)   "
      ]
    },
    {
      "cell_type": "code",
      "execution_count": null,
      "metadata": {
        "colab": {
          "base_uri": "https://localhost:8080/",
          "height": 206
        },
        "id": "qQ_kgn4I3WnE",
        "outputId": "a0ef3137-2af4-4d6e-dd26-7a4522c98174"
      },
      "outputs": [
        {
          "data": {
            "text/html": [
              "\n",
              "  <div id=\"df-ab03fd15-e158-46d7-9603-522f901c2f9f\">\n",
              "    <div class=\"colab-df-container\">\n",
              "      <div>\n",
              "<style scoped>\n",
              "    .dataframe tbody tr th:only-of-type {\n",
              "        vertical-align: middle;\n",
              "    }\n",
              "\n",
              "    .dataframe tbody tr th {\n",
              "        vertical-align: top;\n",
              "    }\n",
              "\n",
              "    .dataframe thead th {\n",
              "        text-align: right;\n",
              "    }\n",
              "</style>\n",
              "<table border=\"1\" class=\"dataframe\">\n",
              "  <thead>\n",
              "    <tr style=\"text-align: right;\">\n",
              "      <th></th>\n",
              "      <th>Actual value</th>\n",
              "      <th>Predicted value</th>\n",
              "    </tr>\n",
              "  </thead>\n",
              "  <tbody>\n",
              "    <tr>\n",
              "      <th>0</th>\n",
              "      <td>26.062193</td>\n",
              "      <td>34.982037</td>\n",
              "    </tr>\n",
              "    <tr>\n",
              "      <th>1</th>\n",
              "      <td>10.354551</td>\n",
              "      <td>40.731724</td>\n",
              "    </tr>\n",
              "    <tr>\n",
              "      <th>2</th>\n",
              "      <td>79.296635</td>\n",
              "      <td>44.412663</td>\n",
              "    </tr>\n",
              "    <tr>\n",
              "      <th>3</th>\n",
              "      <td>74.987410</td>\n",
              "      <td>43.814442</td>\n",
              "    </tr>\n",
              "    <tr>\n",
              "      <th>4</th>\n",
              "      <td>9.694722</td>\n",
              "      <td>43.530010</td>\n",
              "    </tr>\n",
              "  </tbody>\n",
              "</table>\n",
              "</div>\n",
              "      <button class=\"colab-df-convert\" onclick=\"convertToInteractive('df-ab03fd15-e158-46d7-9603-522f901c2f9f')\"\n",
              "              title=\"Convert this dataframe to an interactive table.\"\n",
              "              style=\"display:none;\">\n",
              "        \n",
              "  <svg xmlns=\"http://www.w3.org/2000/svg\" height=\"24px\"viewBox=\"0 0 24 24\"\n",
              "       width=\"24px\">\n",
              "    <path d=\"M0 0h24v24H0V0z\" fill=\"none\"/>\n",
              "    <path d=\"M18.56 5.44l.94 2.06.94-2.06 2.06-.94-2.06-.94-.94-2.06-.94 2.06-2.06.94zm-11 1L8.5 8.5l.94-2.06 2.06-.94-2.06-.94L8.5 2.5l-.94 2.06-2.06.94zm10 10l.94 2.06.94-2.06 2.06-.94-2.06-.94-.94-2.06-.94 2.06-2.06.94z\"/><path d=\"M17.41 7.96l-1.37-1.37c-.4-.4-.92-.59-1.43-.59-.52 0-1.04.2-1.43.59L10.3 9.45l-7.72 7.72c-.78.78-.78 2.05 0 2.83L4 21.41c.39.39.9.59 1.41.59.51 0 1.02-.2 1.41-.59l7.78-7.78 2.81-2.81c.8-.78.8-2.07 0-2.86zM5.41 20L4 18.59l7.72-7.72 1.47 1.35L5.41 20z\"/>\n",
              "  </svg>\n",
              "      </button>\n",
              "      \n",
              "  <style>\n",
              "    .colab-df-container {\n",
              "      display:flex;\n",
              "      flex-wrap:wrap;\n",
              "      gap: 12px;\n",
              "    }\n",
              "\n",
              "    .colab-df-convert {\n",
              "      background-color: #E8F0FE;\n",
              "      border: none;\n",
              "      border-radius: 50%;\n",
              "      cursor: pointer;\n",
              "      display: none;\n",
              "      fill: #1967D2;\n",
              "      height: 32px;\n",
              "      padding: 0 0 0 0;\n",
              "      width: 32px;\n",
              "    }\n",
              "\n",
              "    .colab-df-convert:hover {\n",
              "      background-color: #E2EBFA;\n",
              "      box-shadow: 0px 1px 2px rgba(60, 64, 67, 0.3), 0px 1px 3px 1px rgba(60, 64, 67, 0.15);\n",
              "      fill: #174EA6;\n",
              "    }\n",
              "\n",
              "    [theme=dark] .colab-df-convert {\n",
              "      background-color: #3B4455;\n",
              "      fill: #D2E3FC;\n",
              "    }\n",
              "\n",
              "    [theme=dark] .colab-df-convert:hover {\n",
              "      background-color: #434B5C;\n",
              "      box-shadow: 0px 1px 3px 1px rgba(0, 0, 0, 0.15);\n",
              "      filter: drop-shadow(0px 1px 2px rgba(0, 0, 0, 0.3));\n",
              "      fill: #FFFFFF;\n",
              "    }\n",
              "  </style>\n",
              "\n",
              "      <script>\n",
              "        const buttonEl =\n",
              "          document.querySelector('#df-ab03fd15-e158-46d7-9603-522f901c2f9f button.colab-df-convert');\n",
              "        buttonEl.style.display =\n",
              "          google.colab.kernel.accessAllowed ? 'block' : 'none';\n",
              "\n",
              "        async function convertToInteractive(key) {\n",
              "          const element = document.querySelector('#df-ab03fd15-e158-46d7-9603-522f901c2f9f');\n",
              "          const dataTable =\n",
              "            await google.colab.kernel.invokeFunction('convertToInteractive',\n",
              "                                                     [key], {});\n",
              "          if (!dataTable) return;\n",
              "\n",
              "          const docLinkHtml = 'Like what you see? Visit the ' +\n",
              "            '<a target=\"_blank\" href=https://colab.research.google.com/notebooks/data_table.ipynb>data table notebook</a>'\n",
              "            + ' to learn more about interactive tables.';\n",
              "          element.innerHTML = '';\n",
              "          dataTable['output_type'] = 'display_data';\n",
              "          await google.colab.output.renderOutput(dataTable, element);\n",
              "          const docLink = document.createElement('div');\n",
              "          docLink.innerHTML = docLinkHtml;\n",
              "          element.appendChild(docLink);\n",
              "        }\n",
              "      </script>\n",
              "    </div>\n",
              "  </div>\n",
              "  "
            ],
            "text/plain": [
              "   Actual value  Predicted value\n",
              "0     26.062193        34.982037\n",
              "1     10.354551        40.731724\n",
              "2     79.296635        44.412663\n",
              "3     74.987410        43.814442\n",
              "4      9.694722        43.530010"
            ]
          },
          "execution_count": 41,
          "metadata": {},
          "output_type": "execute_result"
        }
      ],
      "source": [
        "from torch.autograd import Variable\n",
        "prediction = Variable(prediction, requires_grad=True)\n",
        "prediction = prediction.detach().numpy()\n",
        "\n",
        "#Actual value and the predicted value\n",
        "bgd_diff = pd.DataFrame({'Actual value': output_test_vector.flatten(), 'Predicted value': prediction.flatten()}, index = [*range(0,206)])\n",
        "bgd_diff.head(5)"
      ]
    },
    {
      "cell_type": "code",
      "execution_count": null,
      "metadata": {
        "colab": {
          "base_uri": "https://localhost:8080/",
          "height": 282
        },
        "id": "3cGTYMp63ytp",
        "outputId": "c9446135-131b-45de-9de9-17dc4f5d7167"
      },
      "outputs": [
        {
          "data": {
            "text/plain": [
              "<matplotlib.axes._subplots.AxesSubplot at 0x7f81b578c250>"
            ]
          },
          "execution_count": 42,
          "metadata": {},
          "output_type": "execute_result"
        },
        {
          "data": {
            "image/png": "[encoded data removed]",
            "text/plain": [
              "<Figure size 432x288 with 1 Axes>"
            ]
          },
          "metadata": {
            "needs_background": "light"
          },
          "output_type": "display_data"
        }
      ],
      "source": [
        "#Plot between Actual value and the predicted value\n",
        "sns.regplot(x=output_test_vector, y=prediction, ci=None, color=\"b\")"
      ]
    },
    {
      "cell_type": "code",
      "execution_count": null,
      "metadata": {
        "colab": {
          "base_uri": "https://localhost:8080/"
        },
        "id": "I7WaYSklAOk6",
        "outputId": "f212efbb-851b-44ab-aecb-6ba1ae6f7fdd"
      },
      "outputs": [
        {
          "name": "stdout",
          "output_type": "stream",
          "text": [
            "R squared: 2.79\n",
            "Mean Absolute Error: 12.973734637644307\n",
            "Mean Square Error: 256.04445990515444\n",
            "Root Mean Square Error: 16.00138931171773\n"
          ]
        }
      ],
      "source": [
        "meanAbErr = metrics.mean_absolute_error(output_test_vector.flatten(), prediction.flatten())\n",
        "meanSqErr = metrics.mean_squared_error(output_test_vector.flatten(), prediction.flatten())\n",
        "rootMeanSqErr = np.sqrt(metrics.mean_squared_error(output_test_vector.flatten(), prediction.flatten()))\n",
        "accuracy = metrics.r2_score(output_test_vector.flatten(), prediction.flatten())\n",
        "\n",
        "print('R squared: {:.2f}'.format(accuracy*100))\n",
        "print('Mean Absolute Error:', meanAbErr)\n",
        "print('Mean Square Error:', meanSqErr)\n",
        "print('Root Mean Square Error:', rootMeanSqErr)"
      ]
    },
    {
      "cell_type": "code",
      "execution_count": null,
      "metadata": {
        "colab": {
          "base_uri": "https://localhost:8080/"
        },
        "id": "38jLGhxN5ro5",
        "outputId": "d1989bbd-96a6-4336-b937-cf40dd316ceb"
      },
      "outputs": [
        {
          "name": "stdout",
          "output_type": "stream",
          "text": [
            "epoch: 199\tLoss =  1570.204"
          ]
        }
      ],
      "source": [
        "#Testing for Different Learning Rates\n",
        "learning_rates = []\n",
        "loss_difference = []\n",
        "\n",
        "for i in [*range(-25, -4)]:\n",
        "  learning_rate = (10**i)\n",
        "  learning_rates.append(learning_rate)\n",
        "  net_all = GradientDescent(n_feature=9, n_hidden=9, n_output=1) \n",
        "  optimizer_all = torch.optim.SGD(net_all.parameters(), lr= learning_rate)\n",
        "  setRandomState()\n",
        "  for t in range(200):\n",
        "      predictions = net_all(input_train_tensor)   \n",
        "      loss = criterion(predictions, output_train_tensor)\n",
        "      optimizer_all.zero_grad()\n",
        "      loss.backward()\n",
        "      optimizer_all.step()\n",
        "      print('\\repoch: {}\\tLoss =  {:.3f}'.format(t, loss), end=\"\") \n",
        "  out_prediction = net_all(input_test_tensor) \n",
        "  out_loss = criterion(out_prediction, output_test_tensor)\n",
        "  loss_difference.append(out_loss)"
      ]
    },
    {
      "cell_type": "code",
      "execution_count": null,
      "metadata": {
        "colab": {
          "base_uri": "https://localhost:8080/",
          "height": 295
        },
        "id": "WZzAU7Xg6dSb",
        "outputId": "7f7f1013-4ab7-4c3b-ead2-4c49b755521b"
      },
      "outputs": [
        {
          "data": {
            "image/png": "[encoded data removed]",
            "text/plain": [
              "<Figure size 432x288 with 1 Axes>"
            ]
          },
          "metadata": {
            "needs_background": "light"
          },
          "output_type": "display_data"
        }
      ],
      "source": [
        "normalized_loss = [float(i)/sum(loss_difference) for i in loss_difference]\n",
        "plt.xlabel(\"Learning Rate (1e^x)\")\n",
        "plt.ylabel(\"Loss\")\n",
        "plt.title(\"Learning Rate vs Loss\")\n",
        "plt.xlim(-21, 0)\n",
        "with torch.no_grad():\n",
        "  plt.plot([*range(-25, -4)], normalized_loss)\n",
        "  plt.show()"
      ]
    },
    {
      "cell_type": "markdown",
      "metadata": {
        "id": "aOuvkyTM8lgg"
      },
      "source": [
        "From the above graph, we can infer that the optimal alpha = 1e-6. The loss is high(NaN - Values are not plotted in the graph) when we increase the learning rate (i.e alpha>1e-6) due to overshooting and the iterations increase if we decrease the learning rate."
      ]
    },
    {
      "cell_type": "markdown",
      "metadata": {
        "id": "-wJZU49G9O8f"
      },
      "source": [
        "---\n",
        "\\\n",
        "Batch Gradient Descent with Input data normalization"
      ]
    },
    {
      "cell_type": "code",
      "execution_count": null,
      "metadata": {
        "id": "3ZLE68qZOgle"
      },
      "outputs": [],
      "source": [
        "#Convert Numpy to Tensor\n",
        "input_test_tensor_normalized = torch.from_numpy(np.float32(input_test_vector_normalized))\n",
        "input_train_tensor_normalized = torch.from_numpy(np.float32(input_train_vector_normalized))"
      ]
    },
    {
      "cell_type": "code",
      "execution_count": null,
      "metadata": {
        "colab": {
          "base_uri": "https://localhost:8080/"
        },
        "id": "k00WGWwj-v7E",
        "outputId": "3e333b93-f167-4279-aaca-70228e0766f8"
      },
      "outputs": [
        {
          "name": "stdout",
          "output_type": "stream",
          "text": [
            "epoch: 799\tLoss =  120.306"
          ]
        }
      ],
      "source": [
        "net_all = GradientDescent(n_feature=9, n_hidden=9, n_output=1) \n",
        "optimizer_all = torch.optim.SGD(net_all.parameters(), lr=1e-3)\n",
        "setRandomState()\n",
        "\n",
        "\n",
        "loss_list = []\n",
        "for t in range(800):\n",
        "    prediction_norm = net_all(input_train_tensor_normalized)   \n",
        "    loss = criterion(prediction_norm, output_train_tensor)\n",
        "    loss_list.append(loss)\n",
        "    optimizer_all.zero_grad()\n",
        "    loss.backward()\n",
        "    optimizer_all.step()\n",
        "    print('\\repoch: {}\\tLoss =  {:.3f}'.format(t, loss), end=\"\")"
      ]
    },
    {
      "cell_type": "code",
      "execution_count": null,
      "metadata": {
        "colab": {
          "base_uri": "https://localhost:8080/",
          "height": 295
        },
        "id": "8tl-G-Z7-v7G",
        "outputId": "99b99c9b-8237-4f3b-ea3a-71b79ec2af86"
      },
      "outputs": [
        {
          "data": {
            "image/png": "[encoded data removed]",
            "text/plain": [
              "<Figure size 432x288 with 1 Axes>"
            ]
          },
          "metadata": {
            "needs_background": "light"
          },
          "output_type": "display_data"
        }
      ],
      "source": [
        "plt.xlabel(\"Number of Epochs\")\n",
        "plt.ylabel(\"Loss\")\n",
        "plt.title(\"Number of Epochs vs Loss\")\n",
        "with torch.no_grad():\n",
        "  plt.plot([*range(800)],loss_list)"
      ]
    },
    {
      "cell_type": "code",
      "execution_count": null,
      "metadata": {
        "id": "h5Fvwrjb-v7H"
      },
      "outputs": [],
      "source": [
        "#Predict the output\n",
        "prediction_norm = net_all(input_test_tensor_normalized)   "
      ]
    },
    {
      "cell_type": "code",
      "execution_count": null,
      "metadata": {
        "colab": {
          "base_uri": "https://localhost:8080/",
          "height": 206
        },
        "id": "Jxt4wXoB-v7I",
        "outputId": "63073838-77a7-49bb-d38a-4fc3652b73af"
      },
      "outputs": [
        {
          "data": {
            "text/html": [
              "\n",
              "  <div id=\"df-d2ed7933-adef-4f2a-a0dc-914586e16aff\">\n",
              "    <div class=\"colab-df-container\">\n",
              "      <div>\n",
              "<style scoped>\n",
              "    .dataframe tbody tr th:only-of-type {\n",
              "        vertical-align: middle;\n",
              "    }\n",
              "\n",
              "    .dataframe tbody tr th {\n",
              "        vertical-align: top;\n",
              "    }\n",
              "\n",
              "    .dataframe thead th {\n",
              "        text-align: right;\n",
              "    }\n",
              "</style>\n",
              "<table border=\"1\" class=\"dataframe\">\n",
              "  <thead>\n",
              "    <tr style=\"text-align: right;\">\n",
              "      <th></th>\n",
              "      <th>Actual value</th>\n",
              "      <th>Predicted value</th>\n",
              "    </tr>\n",
              "  </thead>\n",
              "  <tbody>\n",
              "    <tr>\n",
              "      <th>0</th>\n",
              "      <td>26.062193</td>\n",
              "      <td>37.772404</td>\n",
              "    </tr>\n",
              "    <tr>\n",
              "      <th>1</th>\n",
              "      <td>10.354551</td>\n",
              "      <td>18.854792</td>\n",
              "    </tr>\n",
              "    <tr>\n",
              "      <th>2</th>\n",
              "      <td>79.296635</td>\n",
              "      <td>60.123581</td>\n",
              "    </tr>\n",
              "    <tr>\n",
              "      <th>3</th>\n",
              "      <td>74.987410</td>\n",
              "      <td>43.710434</td>\n",
              "    </tr>\n",
              "    <tr>\n",
              "      <th>4</th>\n",
              "      <td>9.694722</td>\n",
              "      <td>25.689634</td>\n",
              "    </tr>\n",
              "  </tbody>\n",
              "</table>\n",
              "</div>\n",
              "      <button class=\"colab-df-convert\" onclick=\"convertToInteractive('df-d2ed7933-adef-4f2a-a0dc-914586e16aff')\"\n",
              "              title=\"Convert this dataframe to an interactive table.\"\n",
              "              style=\"display:none;\">\n",
              "        \n",
              "  <svg xmlns=\"http://www.w3.org/2000/svg\" height=\"24px\"viewBox=\"0 0 24 24\"\n",
              "       width=\"24px\">\n",
              "    <path d=\"M0 0h24v24H0V0z\" fill=\"none\"/>\n",
              "    <path d=\"M18.56 5.44l.94 2.06.94-2.06 2.06-.94-2.06-.94-.94-2.06-.94 2.06-2.06.94zm-11 1L8.5 8.5l.94-2.06 2.06-.94-2.06-.94L8.5 2.5l-.94 2.06-2.06.94zm10 10l.94 2.06.94-2.06 2.06-.94-2.06-.94-.94-2.06-.94 2.06-2.06.94z\"/><path d=\"M17.41 7.96l-1.37-1.37c-.4-.4-.92-.59-1.43-.59-.52 0-1.04.2-1.43.59L10.3 9.45l-7.72 7.72c-.78.78-.78 2.05 0 2.83L4 21.41c.39.39.9.59 1.41.59.51 0 1.02-.2 1.41-.59l7.78-7.78 2.81-2.81c.8-.78.8-2.07 0-2.86zM5.41 20L4 18.59l7.72-7.72 1.47 1.35L5.41 20z\"/>\n",
              "  </svg>\n",
              "      </button>\n",
              "      \n",
              "  <style>\n",
              "    .colab-df-container {\n",
              "      display:flex;\n",
              "      flex-wrap:wrap;\n",
              "      gap: 12px;\n",
              "    }\n",
              "\n",
              "    .colab-df-convert {\n",
              "      background-color: #E8F0FE;\n",
              "      border: none;\n",
              "      border-radius: 50%;\n",
              "      cursor: pointer;\n",
              "      display: none;\n",
              "      fill: #1967D2;\n",
              "      height: 32px;\n",
              "      padding: 0 0 0 0;\n",
              "      width: 32px;\n",
              "    }\n",
              "\n",
              "    .colab-df-convert:hover {\n",
              "      background-color: #E2EBFA;\n",
              "      box-shadow: 0px 1px 2px rgba(60, 64, 67, 0.3), 0px 1px 3px 1px rgba(60, 64, 67, 0.15);\n",
              "      fill: #174EA6;\n",
              "    }\n",
              "\n",
              "    [theme=dark] .colab-df-convert {\n",
              "      background-color: #3B4455;\n",
              "      fill: #D2E3FC;\n",
              "    }\n",
              "\n",
              "    [theme=dark] .colab-df-convert:hover {\n",
              "      background-color: #434B5C;\n",
              "      box-shadow: 0px 1px 3px 1px rgba(0, 0, 0, 0.15);\n",
              "      filter: drop-shadow(0px 1px 2px rgba(0, 0, 0, 0.3));\n",
              "      fill: #FFFFFF;\n",
              "    }\n",
              "  </style>\n",
              "\n",
              "      <script>\n",
              "        const buttonEl =\n",
              "          document.querySelector('#df-d2ed7933-adef-4f2a-a0dc-914586e16aff button.colab-df-convert');\n",
              "        buttonEl.style.display =\n",
              "          google.colab.kernel.accessAllowed ? 'block' : 'none';\n",
              "\n",
              "        async function convertToInteractive(key) {\n",
              "          const element = document.querySelector('#df-d2ed7933-adef-4f2a-a0dc-914586e16aff');\n",
              "          const dataTable =\n",
              "            await google.colab.kernel.invokeFunction('convertToInteractive',\n",
              "                                                     [key], {});\n",
              "          if (!dataTable) return;\n",
              "\n",
              "          const docLinkHtml = 'Like what you see? Visit the ' +\n",
              "            '<a target=\"_blank\" href=https://colab.research.google.com/notebooks/data_table.ipynb>data table notebook</a>'\n",
              "            + ' to learn more about interactive tables.';\n",
              "          element.innerHTML = '';\n",
              "          dataTable['output_type'] = 'display_data';\n",
              "          await google.colab.output.renderOutput(dataTable, element);\n",
              "          const docLink = document.createElement('div');\n",
              "          docLink.innerHTML = docLinkHtml;\n",
              "          element.appendChild(docLink);\n",
              "        }\n",
              "      </script>\n",
              "    </div>\n",
              "  </div>\n",
              "  "
            ],
            "text/plain": [
              "   Actual value  Predicted value\n",
              "0     26.062193        37.772404\n",
              "1     10.354551        18.854792\n",
              "2     79.296635        60.123581\n",
              "3     74.987410        43.710434\n",
              "4      9.694722        25.689634"
            ]
          },
          "execution_count": 50,
          "metadata": {},
          "output_type": "execute_result"
        }
      ],
      "source": [
        "from torch.autograd import Variable\n",
        "prediction_norm = Variable(prediction_norm, requires_grad=True)\n",
        "prediction_norm = prediction_norm.detach().numpy()\n",
        "\n",
        "#Actual value and the predicted value\n",
        "bgd_diff = pd.DataFrame({'Actual value': output_test_vector.flatten(), 'Predicted value': prediction_norm.flatten()}, index = [*range(0,206)])\n",
        "bgd_diff.head(5)"
      ]
    },
    {
      "cell_type": "code",
      "execution_count": null,
      "metadata": {
        "colab": {
          "base_uri": "https://localhost:8080/",
          "height": 282
        },
        "id": "qd2dR5Qh-v7J",
        "outputId": "cd470436-9f5f-44bb-d7ad-e3d0c8f2e4c7"
      },
      "outputs": [
        {
          "data": {
            "text/plain": [
              "<matplotlib.axes._subplots.AxesSubplot at 0x7f81b5646e50>"
            ]
          },
          "execution_count": 51,
          "metadata": {},
          "output_type": "execute_result"
        },
        {
          "data": {
            "image/png": "[encoded data removed]",
            "text/plain": [
              "<Figure size 432x288 with 1 Axes>"
            ]
          },
          "metadata": {
            "needs_background": "light"
          },
          "output_type": "display_data"
        }
      ],
      "source": [
        "#Plot between Actual value and the predicted value\n",
        "sns.regplot(x=output_test_vector, y=prediction_norm, ci=None, color=\"b\")"
      ]
    },
    {
      "cell_type": "code",
      "execution_count": null,
      "metadata": {
        "colab": {
          "base_uri": "https://localhost:8080/"
        },
        "id": "qMM2YwEHPx3n",
        "outputId": "d160baac-f745-4724-ac9f-b5cda3bf56ca"
      },
      "outputs": [
        {
          "name": "stdout",
          "output_type": "stream",
          "text": [
            "R squared: 59.81\n",
            "Mean Absolute Error: 8.22388199114219\n",
            "Mean Square Error: 105.84544702038853\n",
            "Root Mean Square Error: 10.288121646850241\n"
          ]
        }
      ],
      "source": [
        "meanAbErr = metrics.mean_absolute_error(output_test_vector.flatten(), prediction_norm.flatten())\n",
        "meanSqErr = metrics.mean_squared_error(output_test_vector.flatten(), prediction_norm.flatten())\n",
        "rootMeanSqErr = np.sqrt(metrics.mean_squared_error(output_test_vector.flatten(), prediction_norm.flatten()))\n",
        "accuracy = metrics.r2_score(output_test_vector.flatten(), prediction_norm.flatten())\n",
        "\n",
        "print('R squared: {:.2f}'.format(accuracy*100))\n",
        "print('Mean Absolute Error:', meanAbErr)\n",
        "print('Mean Square Error:', meanSqErr)\n",
        "print('Root Mean Square Error:', rootMeanSqErr)"
      ]
    },
    {
      "cell_type": "code",
      "execution_count": null,
      "metadata": {
        "colab": {
          "base_uri": "https://localhost:8080/"
        },
        "id": "CEOQf2EI-v7J",
        "outputId": "172d7b44-ca47-4d9b-a677-e97fa2cd0caa"
      },
      "outputs": [
        {
          "name": "stdout",
          "output_type": "stream",
          "text": [
            "epoch: 199\tLoss =  282.265"
          ]
        }
      ],
      "source": [
        "#Testing for Different Learning Rates\n",
        "learning_rates = []\n",
        "loss_difference = []\n",
        "\n",
        "for i in [*range(-25, 0)]:\n",
        "  learning_rate = (10**i)\n",
        "  learning_rates.append(learning_rate)\n",
        "  net_all = GradientDescent(n_feature=9, n_hidden=9, n_output=1) \n",
        "  optimizer_all = torch.optim.SGD(net_all.parameters(), lr= learning_rate)\n",
        "  setRandomState()\n",
        "  for t in range(200):\n",
        "      prediction = net_all(input_train_tensor_normalized)   \n",
        "      loss = criterion(prediction, output_train_tensor)\n",
        "      optimizer_all.zero_grad()\n",
        "      loss.backward()\n",
        "      optimizer_all.step()\n",
        "      print('\\repoch: {}\\tLoss =  {:.3f}'.format(t, loss), end=\"\") \n",
        "  out_prediction = net_all(input_test_tensor_normalized) \n",
        "  out_loss = criterion(out_prediction, output_test_tensor)\n",
        "  loss_difference.append(out_loss)"
      ]
    },
    {
      "cell_type": "code",
      "execution_count": null,
      "metadata": {
        "colab": {
          "base_uri": "https://localhost:8080/",
          "height": 295
        },
        "id": "wK7uVEq7-v7K",
        "outputId": "3e84984d-417a-4a97-dfb5-aaf37519fe6c"
      },
      "outputs": [
        {
          "data": {
            "image/png": "[encoded data removed]",
            "text/plain": [
              "<Figure size 432x288 with 1 Axes>"
            ]
          },
          "metadata": {
            "needs_background": "light"
          },
          "output_type": "display_data"
        }
      ],
      "source": [
        "normalized_loss = [float(i)/sum(loss_difference) for i in loss_difference]\n",
        "plt.xlabel(\"Learning Rate (1e^x)\")\n",
        "plt.ylabel(\"Loss\")\n",
        "plt.title(\"Learning Rate vs Loss\")\n",
        "plt.xlim(-21, 5)\n",
        "with torch.no_grad():\n",
        "  plt.plot([*range(-25, 0)], normalized_loss)\n",
        "  plt.show()"
      ]
    },
    {
      "cell_type": "markdown",
      "metadata": {
        "id": "Ag1bcwgDYMcZ"
      },
      "source": [
        "From the above graph, we can infer that the optimal alpha = 1e-3. The loss is high(NaN - Values are not plotted in the graph) when we increase the learning rate (i.e alpha>1e-3) due to overshooting and the iterations increase if we decrease the learning rate."
      ]
    },
    {
      "cell_type": "markdown",
      "metadata": {
        "id": "sgUcnX75R_3V"
      },
      "source": [
        "---\n",
        "\\\n",
        "**Metrics Comparison**\n",
        "\n",
        "                                            Batch Gradient Descent   \n",
        "    ** Python Implementation **                                 \n",
        "                                      Without Normalization                  With Normalization\n",
        "    R squared                                64.04                                61.77\n",
        "    Mean Absolute Error                     7.78522                              8.03249\n",
        "    Mean Square Error                      94.717918                            100.09250\n",
        "    Root Mean Square Error                 10.03456                              9.7323131\n",
        "\n",
        "    ** Pytorch Implementation **\n",
        "                                      Without Normalization                  With Normalization\n",
        "    R squared                                59.98                                59.82\n",
        "    Mean Absolute Error                     8.040053                              8.22293\n",
        "    Mean Square Error                      105.416702                            105.819803\n",
        "    Root Mean Square Error                 10.26726                              10.28687    "
      ]
    },
    {
      "cell_type": "markdown",
      "metadata": {
        "id": "6gwupXPNIany"
      },
      "source": [
        "# Stochastic Gradient Descent - Python Implementation"
      ]
    },
    {
      "cell_type": "markdown",
      "metadata": {
        "id": "Foo9MMaR3gWp"
      },
      "source": [
        "Stochastic Gradient Descent - Type of gradient descent which processes 1 training example per iteration\n",
        "\n",
        "Stochastic Gradient Descent with Input Data Normalization"
      ]
    },
    {
      "cell_type": "code",
      "execution_count": null,
      "metadata": {
        "id": "fSN_gt0OJouM"
      },
      "outputs": [],
      "source": [
        "def stochastic_gradient_descent(x, y, theta, criterion, number_of_iterations, learning_rate, print_execution_status = True, features = 9):\n",
        "    loss_history=[] #Loss history tracker\n",
        "    gradient = np.zeros([features,1]) #Gradient output \n",
        "\n",
        "    for i in range(number_of_iterations):\n",
        "      for j in range(x.shape[0]):\n",
        "        # predict and calculate loss\n",
        "        f = create_function(theta) # create the current function\n",
        "        x_point = x[j].reshape(-1, 1) #Consider one sample\n",
        "        y_point = y[j].reshape(-1, 1)\n",
        "        y_predicted = f(x_point.T) # predict our entire x\n",
        "        \n",
        "        #perform optimization\n",
        "        for k in range(features):\n",
        "          weight = compute_weights(x_point[k,:],y_point,y_predicted) #compute weight for every sample\n",
        "          gradient[k] = weight\n",
        "        theta = theta - learning_rate * gradient #adjust m and b\n",
        "\n",
        "      #Loss Prediction  \n",
        "      f = create_function(theta) # create the current function\n",
        "      y_predicted = f(x) # predict our entire x\n",
        "      loss = criterion(y,y_predicted) # calculate the error\n",
        "      loss_history.append(loss[0])\n",
        "      if i%10==0 and print_execution_status:\n",
        "        print(\"Current Epoch: {}, Current Loss: {}\".format(i,loss[0]))\n",
        "   \n",
        "    return theta,loss_history"
      ]
    },
    {
      "cell_type": "code",
      "execution_count": null,
      "metadata": {
        "colab": {
          "base_uri": "https://localhost:8080/"
        },
        "id": "VWHDZqdqjJi6",
        "outputId": "81bc0d75-126e-4984-b0ea-03929509deda"
      },
      "outputs": [
        {
          "name": "stdout",
          "output_type": "stream",
          "text": [
            "Current Epoch: 0, Current Loss: [255.47765545]\n",
            "Current Epoch: 10, Current Loss: [169.84439845]\n",
            "Current Epoch: 20, Current Loss: [140.89447245]\n",
            "Current Epoch: 30, Current Loss: [129.16408518]\n",
            "Current Epoch: 40, Current Loss: [123.72055765]\n",
            "Current Epoch: 50, Current Loss: [120.79174047]\n",
            "Current Epoch: 60, Current Loss: [118.96694504]\n",
            "Current Epoch: 70, Current Loss: [117.68106411]\n",
            "Current Epoch: 80, Current Loss: [116.6920882]\n",
            "Current Epoch: 90, Current Loss: [115.8885633]\n",
            "Current Epoch: 100, Current Loss: [115.21450891]\n",
            "Current Epoch: 110, Current Loss: [114.63874994]\n",
            "Current Epoch: 120, Current Loss: [114.14188546]\n",
            "Current Epoch: 130, Current Loss: [113.71053771]\n",
            "Current Epoch: 140, Current Loss: [113.33470402]\n",
            "Current Epoch: 150, Current Loss: [113.0064712]\n",
            "Current Epoch: 160, Current Loss: [112.71934783]\n",
            "Current Epoch: 170, Current Loss: [112.46788788]\n",
            "Current Epoch: 180, Current Loss: [112.24745875]\n",
            "Current Epoch: 190, Current Loss: [112.05408543]\n"
          ]
        }
      ],
      "source": [
        "theta = np.zeros([9,1])\n",
        "num_epochs = 200\n",
        "learning_rate = 0.001\n",
        "ideal_theta, loss_history = stochastic_gradient_descent(input_train_vector_normalized, output_train_vector, theta, mse, num_epochs, learning_rate)"
      ]
    },
    {
      "cell_type": "code",
      "execution_count": null,
      "metadata": {
        "colab": {
          "base_uri": "https://localhost:8080/",
          "height": 295
        },
        "id": "U7hhfx44jJjd",
        "outputId": "0acd4885-4553-4f12-f0c7-ebba203f605a"
      },
      "outputs": [
        {
          "data": {
            "image/png": "[encoded data removed]",
            "text/plain": [
              "<Figure size 432x288 with 1 Axes>"
            ]
          },
          "metadata": {
            "needs_background": "light"
          },
          "output_type": "display_data"
        }
      ],
      "source": [
        "plt.xlabel(\"Number of Epochs\")\n",
        "plt.ylabel(\"Loss\")\n",
        "plt.title(\"Number of Epochs vs Loss\")\n",
        "with torch.no_grad():\n",
        "  plt.plot(np.arange(num_epochs),loss_history)"
      ]
    },
    {
      "cell_type": "code",
      "execution_count": null,
      "metadata": {
        "colab": {
          "base_uri": "https://localhost:8080/"
        },
        "id": "aodKSDLyjJje",
        "outputId": "954ac35b-d8a0-4a66-cef5-f5bb4b87d034"
      },
      "outputs": [
        {
          "name": "stdout",
          "output_type": "stream",
          "text": [
            "Ideal Theta:  [[  4.38270029]\n",
            " [ 54.18099477]\n",
            " [ 30.679263  ]\n",
            " [ 12.45921916]\n",
            " [-34.80792289]\n",
            " [ 16.53326659]\n",
            " [ 10.67409603]\n",
            " [  2.02272488]\n",
            " [ 40.32111391]]\n"
          ]
        }
      ],
      "source": [
        "print(\"Ideal Theta: \", ideal_theta)"
      ]
    },
    {
      "cell_type": "code",
      "execution_count": null,
      "metadata": {
        "id": "OgS8xR4tjJjf"
      },
      "outputs": [],
      "source": [
        "ideal_function = create_function(ideal_theta)\n",
        "output_pred = ideal_function(input_test_vector_normalized)"
      ]
    },
    {
      "cell_type": "code",
      "execution_count": null,
      "metadata": {
        "colab": {
          "base_uri": "https://localhost:8080/",
          "height": 206
        },
        "id": "pmRY_yLsjJjg",
        "outputId": "5e203be2-8e53-4eae-9d43-e350a4b0bb67"
      },
      "outputs": [
        {
          "data": {
            "text/html": [
              "\n",
              "  <div id=\"df-176ddae7-45fb-46cc-930f-43438d21eca8\">\n",
              "    <div class=\"colab-df-container\">\n",
              "      <div>\n",
              "<style scoped>\n",
              "    .dataframe tbody tr th:only-of-type {\n",
              "        vertical-align: middle;\n",
              "    }\n",
              "\n",
              "    .dataframe tbody tr th {\n",
              "        vertical-align: top;\n",
              "    }\n",
              "\n",
              "    .dataframe thead th {\n",
              "        text-align: right;\n",
              "    }\n",
              "</style>\n",
              "<table border=\"1\" class=\"dataframe\">\n",
              "  <thead>\n",
              "    <tr style=\"text-align: right;\">\n",
              "      <th></th>\n",
              "      <th>Actual value</th>\n",
              "      <th>Predicted value</th>\n",
              "    </tr>\n",
              "  </thead>\n",
              "  <tbody>\n",
              "    <tr>\n",
              "      <th>0</th>\n",
              "      <td>26.062193</td>\n",
              "      <td>38.521481</td>\n",
              "    </tr>\n",
              "    <tr>\n",
              "      <th>1</th>\n",
              "      <td>10.354551</td>\n",
              "      <td>17.263585</td>\n",
              "    </tr>\n",
              "    <tr>\n",
              "      <th>2</th>\n",
              "      <td>79.296635</td>\n",
              "      <td>62.298982</td>\n",
              "    </tr>\n",
              "    <tr>\n",
              "      <th>3</th>\n",
              "      <td>74.987410</td>\n",
              "      <td>49.525228</td>\n",
              "    </tr>\n",
              "    <tr>\n",
              "      <th>4</th>\n",
              "      <td>9.694722</td>\n",
              "      <td>26.698034</td>\n",
              "    </tr>\n",
              "  </tbody>\n",
              "</table>\n",
              "</div>\n",
              "      <button class=\"colab-df-convert\" onclick=\"convertToInteractive('df-176ddae7-45fb-46cc-930f-43438d21eca8')\"\n",
              "              title=\"Convert this dataframe to an interactive table.\"\n",
              "              style=\"display:none;\">\n",
              "        \n",
              "  <svg xmlns=\"http://www.w3.org/2000/svg\" height=\"24px\"viewBox=\"0 0 24 24\"\n",
              "       width=\"24px\">\n",
              "    <path d=\"M0 0h24v24H0V0z\" fill=\"none\"/>\n",
              "    <path d=\"M18.56 5.44l.94 2.06.94-2.06 2.06-.94-2.06-.94-.94-2.06-.94 2.06-2.06.94zm-11 1L8.5 8.5l.94-2.06 2.06-.94-2.06-.94L8.5 2.5l-.94 2.06-2.06.94zm10 10l.94 2.06.94-2.06 2.06-.94-2.06-.94-.94-2.06-.94 2.06-2.06.94z\"/><path d=\"M17.41 7.96l-1.37-1.37c-.4-.4-.92-.59-1.43-.59-.52 0-1.04.2-1.43.59L10.3 9.45l-7.72 7.72c-.78.78-.78 2.05 0 2.83L4 21.41c.39.39.9.59 1.41.59.51 0 1.02-.2 1.41-.59l7.78-7.78 2.81-2.81c.8-.78.8-2.07 0-2.86zM5.41 20L4 18.59l7.72-7.72 1.47 1.35L5.41 20z\"/>\n",
              "  </svg>\n",
              "      </button>\n",
              "      \n",
              "  <style>\n",
              "    .colab-df-container {\n",
              "      display:flex;\n",
              "      flex-wrap:wrap;\n",
              "      gap: 12px;\n",
              "    }\n",
              "\n",
              "    .colab-df-convert {\n",
              "      background-color: #E8F0FE;\n",
              "      border: none;\n",
              "      border-radius: 50%;\n",
              "      cursor: pointer;\n",
              "      display: none;\n",
              "      fill: #1967D2;\n",
              "      height: 32px;\n",
              "      padding: 0 0 0 0;\n",
              "      width: 32px;\n",
              "    }\n",
              "\n",
              "    .colab-df-convert:hover {\n",
              "      background-color: #E2EBFA;\n",
              "      box-shadow: 0px 1px 2px rgba(60, 64, 67, 0.3), 0px 1px 3px 1px rgba(60, 64, 67, 0.15);\n",
              "      fill: #174EA6;\n",
              "    }\n",
              "\n",
              "    [theme=dark] .colab-df-convert {\n",
              "      background-color: #3B4455;\n",
              "      fill: #D2E3FC;\n",
              "    }\n",
              "\n",
              "    [theme=dark] .colab-df-convert:hover {\n",
              "      background-color: #434B5C;\n",
              "      box-shadow: 0px 1px 3px 1px rgba(0, 0, 0, 0.15);\n",
              "      filter: drop-shadow(0px 1px 2px rgba(0, 0, 0, 0.3));\n",
              "      fill: #FFFFFF;\n",
              "    }\n",
              "  </style>\n",
              "\n",
              "      <script>\n",
              "        const buttonEl =\n",
              "          document.querySelector('#df-176ddae7-45fb-46cc-930f-43438d21eca8 button.colab-df-convert');\n",
              "        buttonEl.style.display =\n",
              "          google.colab.kernel.accessAllowed ? 'block' : 'none';\n",
              "\n",
              "        async function convertToInteractive(key) {\n",
              "          const element = document.querySelector('#df-176ddae7-45fb-46cc-930f-43438d21eca8');\n",
              "          const dataTable =\n",
              "            await google.colab.kernel.invokeFunction('convertToInteractive',\n",
              "                                                     [key], {});\n",
              "          if (!dataTable) return;\n",
              "\n",
              "          const docLinkHtml = 'Like what you see? Visit the ' +\n",
              "            '<a target=\"_blank\" href=https://colab.research.google.com/notebooks/data_table.ipynb>data table notebook</a>'\n",
              "            + ' to learn more about interactive tables.';\n",
              "          element.innerHTML = '';\n",
              "          dataTable['output_type'] = 'display_data';\n",
              "          await google.colab.output.renderOutput(dataTable, element);\n",
              "          const docLink = document.createElement('div');\n",
              "          docLink.innerHTML = docLinkHtml;\n",
              "          element.appendChild(docLink);\n",
              "        }\n",
              "      </script>\n",
              "    </div>\n",
              "  </div>\n",
              "  "
            ],
            "text/plain": [
              "   Actual value  Predicted value\n",
              "0     26.062193        38.521481\n",
              "1     10.354551        17.263585\n",
              "2     79.296635        62.298982\n",
              "3     74.987410        49.525228\n",
              "4      9.694722        26.698034"
            ]
          },
          "execution_count": 60,
          "metadata": {},
          "output_type": "execute_result"
        }
      ],
      "source": [
        "#Actual value and the predicted value\n",
        "bgd_diff = pd.DataFrame({'Actual value': output_test_vector.flatten(), 'Predicted value': output_pred.flatten()}, index = [*range(0,206)])\n",
        "bgd_diff.head()"
      ]
    },
    {
      "cell_type": "code",
      "execution_count": null,
      "metadata": {
        "colab": {
          "base_uri": "https://localhost:8080/",
          "height": 282
        },
        "id": "EGUQb2yUjJjg",
        "outputId": "608d3806-e3c7-4327-8b16-b14e1ee1df0e"
      },
      "outputs": [
        {
          "data": {
            "text/plain": [
              "<matplotlib.axes._subplots.AxesSubplot at 0x7f81b57d1cd0>"
            ]
          },
          "execution_count": 61,
          "metadata": {},
          "output_type": "execute_result"
        },
        {
          "data": {
            "image/png": "[encoded data removed]",
            "text/plain": [
              "<Figure size 432x288 with 1 Axes>"
            ]
          },
          "metadata": {
            "needs_background": "light"
          },
          "output_type": "display_data"
        }
      ],
      "source": [
        "#Plot between Actual value and the predicted value\n",
        "sns.regplot(x=output_test_vector, y=output_pred, ci=None, color=\"b\")"
      ]
    },
    {
      "cell_type": "code",
      "execution_count": null,
      "metadata": {
        "colab": {
          "base_uri": "https://localhost:8080/"
        },
        "id": "KUhPNEQ4jJjh",
        "outputId": "7f835a2f-58b2-4171-f78d-e33d52ebd017"
      },
      "outputs": [
        {
          "name": "stdout",
          "output_type": "stream",
          "text": [
            "R squared: 62.02\n",
            "Mean Absolute Error: 8.021294303137985\n",
            "Mean Square Error: 100.04028404221803\n",
            "Root Mean Square Error: 10.002013999301242\n"
          ]
        }
      ],
      "source": [
        "meanAbErr = metrics.mean_absolute_error(output_test_vector.flatten(), output_pred.flatten())\n",
        "meanSqErr = metrics.mean_squared_error(output_test_vector.flatten(), output_pred.flatten())\n",
        "rootMeanSqErr = np.sqrt(metrics.mean_squared_error(output_test_vector.flatten(), output_pred.flatten()))\n",
        "accuracy = metrics.r2_score(output_test_vector.flatten(), output_pred.flatten())\n",
        "\n",
        "print('R squared: {:.2f}'.format(accuracy*100))\n",
        "print('Mean Absolute Error:', meanAbErr)\n",
        "print('Mean Square Error:', meanSqErr)\n",
        "print('Root Mean Square Error:', rootMeanSqErr)"
      ]
    },
    {
      "cell_type": "code",
      "execution_count": null,
      "metadata": {
        "colab": {
          "base_uri": "https://localhost:8080/"
        },
        "id": "FBSY7YZ8jJji",
        "outputId": "507f6653-91a1-4c72-f659-d1ecd3dbcab4"
      },
      "outputs": [
        {
          "name": "stderr",
          "output_type": "stream",
          "text": [
            "<ipython-input-55-2b20729aab03>:17: RuntimeWarning: overflow encountered in multiply\n",
            "  theta = theta - learning_rate * gradient #adjust m and b\n",
            "<ipython-input-55-2b20729aab03>:17: RuntimeWarning: invalid value encountered in subtract\n",
            "  theta = theta - learning_rate * gradient #adjust m and b\n"
          ]
        }
      ],
      "source": [
        "#Testing for Different Learning Rates\n",
        "learning_rates = []\n",
        "loss_difference = []\n",
        "\n",
        "for i in [*range(-10, 10)]:\n",
        "  learning_rate = (10**i)\n",
        "  learning_rates.append(learning_rate)\n",
        "  theta = np.zeros([9,1])\n",
        "  num_epochs = 50\n",
        "  ideal_theta, loss_history = stochastic_gradient_descent(input_train_vector_normalized, output_train_vector, theta, mse, num_epochs, learning_rate, print_execution_status= False)\n",
        "  ideal_prediction_function = create_function(ideal_theta)\n",
        "  output_predictions = ideal_prediction_function(input_test_vector_normalized)\n",
        "  loss_difference.append(mse(output_test_vector,output_predictions)[0][0])"
      ]
    },
    {
      "cell_type": "code",
      "execution_count": null,
      "metadata": {
        "colab": {
          "base_uri": "https://localhost:8080/",
          "height": 295
        },
        "id": "MpJMnMRCjJjj",
        "outputId": "e32ed6f4-30f8-40de-bc22-0557b0ab44ae"
      },
      "outputs": [
        {
          "data": {
            "image/png": "[encoded data removed]",
            "text/plain": [
              "<Figure size 432x288 with 1 Axes>"
            ]
          },
          "metadata": {
            "needs_background": "light"
          },
          "output_type": "display_data"
        }
      ],
      "source": [
        "plt.xlabel(\"Learning Rate (1e^x)\")\n",
        "plt.ylabel(\"Loss\")\n",
        "plt.title(\"Learning Rate vs Loss\")\n",
        "plt.xlim(-11, 12)\n",
        "with torch.no_grad():\n",
        "  plt.plot([*range(-10, 10)],loss_difference)\n",
        "  plt.show()"
      ]
    },
    {
      "cell_type": "markdown",
      "metadata": {
        "id": "wF0IqwCZjJjj"
      },
      "source": [
        "From the above graph, we can infer that the optimal alpha = 0.001. The loss is high(NaN - Values are not plotted in the graph) when we increase the learning rate (i.e alpha>0.001) due to overshooting and the iterations increase if we decrease the learning rate."
      ]
    },
    {
      "cell_type": "markdown",
      "metadata": {
        "id": "1nFjV7ptm6tJ"
      },
      "source": [
        "# Stochastic Gradient Descent - Pytorch Implementation"
      ]
    },
    {
      "cell_type": "markdown",
      "metadata": {
        "id": "mhF2SQjFKnUB"
      },
      "source": [
        "Stochastic Gradient Descent without Input Data Normalization"
      ]
    },
    {
      "cell_type": "code",
      "execution_count": null,
      "metadata": {
        "id": "_GFqalan1RyA"
      },
      "outputs": [],
      "source": [
        "def setRandomStateSGD():\n",
        "  random.seed(113)\n",
        "  torch.manual_seed(113)\n",
        "  torch.cuda.manual_seed(113)\n",
        "  np.random.seed(113)\n",
        "  torch.backends.cudnn.deterministic = True\n",
        "  torch.backends.cudnn.benchmark = False"
      ]
    },
    {
      "cell_type": "code",
      "execution_count": null,
      "metadata": {
        "colab": {
          "base_uri": "https://localhost:8080/"
        },
        "id": "f7hVVKvsoWLW",
        "outputId": "c29ad3cc-75ed-4b17-b1a6-42037f199697"
      },
      "outputs": [
        {
          "name": "stdout",
          "output_type": "stream",
          "text": [
            "epoch: 49\tLoss =  0.960"
          ]
        }
      ],
      "source": [
        "setRandomStateSGD()\n",
        "net_item = GradientDescent(n_feature=9, n_hidden=9, n_output=1) \n",
        "optimizer_item = torch.optim.SGD(net_item.parameters(), lr=1e-6)\n",
        "\n",
        "loss_list = []\n",
        "for t in range(50):\n",
        "    for input_i, output_i in zip(input_train_tensor, output_train_tensor):\n",
        "      pred_i = net_item(input_i)\n",
        "      loss = criterion(pred_i, output_i)\n",
        "      loss_list.append(loss)\n",
        "      optimizer_item.zero_grad()   \n",
        "      loss.backward()         \n",
        "      optimizer_item.step()        \n",
        "      print('\\repoch: {}\\tLoss =  {:.3f}'.format(t, loss), end=\"\") "
      ]
    },
    {
      "cell_type": "code",
      "execution_count": null,
      "metadata": {
        "colab": {
          "base_uri": "https://localhost:8080/",
          "height": 295
        },
        "id": "nfcdcFYFoWL1",
        "outputId": "ca66f55b-478d-4516-a621-f68dc7ebd61a"
      },
      "outputs": [
        {
          "data": {
            "image/png": "[encoded data removed]",
            "text/plain": [
              "<Figure size 432x288 with 1 Axes>"
            ]
          },
          "metadata": {
            "needs_background": "light"
          },
          "output_type": "display_data"
        }
      ],
      "source": [
        "plt.xlabel(\"Number of Epochs\")\n",
        "plt.ylabel(\"Loss\")\n",
        "plt.title(\"Number of Epochs vs Loss\")\n",
        "with torch.no_grad():\n",
        "  plt.plot([*range(len(loss_list))],loss_list)"
      ]
    },
    {
      "cell_type": "code",
      "execution_count": null,
      "metadata": {
        "id": "e7lx9x7DoWL2"
      },
      "outputs": [],
      "source": [
        "#Predict the output\n",
        "prediction = net_item(input_test_tensor)   "
      ]
    },
    {
      "cell_type": "code",
      "execution_count": null,
      "metadata": {
        "colab": {
          "base_uri": "https://localhost:8080/",
          "height": 206
        },
        "id": "IleyXkFeoWL3",
        "outputId": "f61473cf-17fd-48ed-b8dc-46e439c2e916"
      },
      "outputs": [
        {
          "data": {
            "text/html": [
              "\n",
              "  <div id=\"df-cb691d1b-4431-43a1-942e-81c2d575a8f0\">\n",
              "    <div class=\"colab-df-container\">\n",
              "      <div>\n",
              "<style scoped>\n",
              "    .dataframe tbody tr th:only-of-type {\n",
              "        vertical-align: middle;\n",
              "    }\n",
              "\n",
              "    .dataframe tbody tr th {\n",
              "        vertical-align: top;\n",
              "    }\n",
              "\n",
              "    .dataframe thead th {\n",
              "        text-align: right;\n",
              "    }\n",
              "</style>\n",
              "<table border=\"1\" class=\"dataframe\">\n",
              "  <thead>\n",
              "    <tr style=\"text-align: right;\">\n",
              "      <th></th>\n",
              "      <th>Actual value</th>\n",
              "      <th>Predicted value</th>\n",
              "    </tr>\n",
              "  </thead>\n",
              "  <tbody>\n",
              "    <tr>\n",
              "      <th>0</th>\n",
              "      <td>26.062193</td>\n",
              "      <td>23.950928</td>\n",
              "    </tr>\n",
              "    <tr>\n",
              "      <th>1</th>\n",
              "      <td>10.354551</td>\n",
              "      <td>1.779728</td>\n",
              "    </tr>\n",
              "    <tr>\n",
              "      <th>2</th>\n",
              "      <td>79.296635</td>\n",
              "      <td>66.633881</td>\n",
              "    </tr>\n",
              "    <tr>\n",
              "      <th>3</th>\n",
              "      <td>74.987410</td>\n",
              "      <td>51.134983</td>\n",
              "    </tr>\n",
              "    <tr>\n",
              "      <th>4</th>\n",
              "      <td>9.694722</td>\n",
              "      <td>8.650732</td>\n",
              "    </tr>\n",
              "  </tbody>\n",
              "</table>\n",
              "</div>\n",
              "      <button class=\"colab-df-convert\" onclick=\"convertToInteractive('df-cb691d1b-4431-43a1-942e-81c2d575a8f0')\"\n",
              "              title=\"Convert this dataframe to an interactive table.\"\n",
              "              style=\"display:none;\">\n",
              "        \n",
              "  <svg xmlns=\"http://www.w3.org/2000/svg\" height=\"24px\"viewBox=\"0 0 24 24\"\n",
              "       width=\"24px\">\n",
              "    <path d=\"M0 0h24v24H0V0z\" fill=\"none\"/>\n",
              "    <path d=\"M18.56 5.44l.94 2.06.94-2.06 2.06-.94-2.06-.94-.94-2.06-.94 2.06-2.06.94zm-11 1L8.5 8.5l.94-2.06 2.06-.94-2.06-.94L8.5 2.5l-.94 2.06-2.06.94zm10 10l.94 2.06.94-2.06 2.06-.94-2.06-.94-.94-2.06-.94 2.06-2.06.94z\"/><path d=\"M17.41 7.96l-1.37-1.37c-.4-.4-.92-.59-1.43-.59-.52 0-1.04.2-1.43.59L10.3 9.45l-7.72 7.72c-.78.78-.78 2.05 0 2.83L4 21.41c.39.39.9.59 1.41.59.51 0 1.02-.2 1.41-.59l7.78-7.78 2.81-2.81c.8-.78.8-2.07 0-2.86zM5.41 20L4 18.59l7.72-7.72 1.47 1.35L5.41 20z\"/>\n",
              "  </svg>\n",
              "      </button>\n",
              "      \n",
              "  <style>\n",
              "    .colab-df-container {\n",
              "      display:flex;\n",
              "      flex-wrap:wrap;\n",
              "      gap: 12px;\n",
              "    }\n",
              "\n",
              "    .colab-df-convert {\n",
              "      background-color: #E8F0FE;\n",
              "      border: none;\n",
              "      border-radius: 50%;\n",
              "      cursor: pointer;\n",
              "      display: none;\n",
              "      fill: #1967D2;\n",
              "      height: 32px;\n",
              "      padding: 0 0 0 0;\n",
              "      width: 32px;\n",
              "    }\n",
              "\n",
              "    .colab-df-convert:hover {\n",
              "      background-color: #E2EBFA;\n",
              "      box-shadow: 0px 1px 2px rgba(60, 64, 67, 0.3), 0px 1px 3px 1px rgba(60, 64, 67, 0.15);\n",
              "      fill: #174EA6;\n",
              "    }\n",
              "\n",
              "    [theme=dark] .colab-df-convert {\n",
              "      background-color: #3B4455;\n",
              "      fill: #D2E3FC;\n",
              "    }\n",
              "\n",
              "    [theme=dark] .colab-df-convert:hover {\n",
              "      background-color: #434B5C;\n",
              "      box-shadow: 0px 1px 3px 1px rgba(0, 0, 0, 0.15);\n",
              "      filter: drop-shadow(0px 1px 2px rgba(0, 0, 0, 0.3));\n",
              "      fill: #FFFFFF;\n",
              "    }\n",
              "  </style>\n",
              "\n",
              "      <script>\n",
              "        const buttonEl =\n",
              "          document.querySelector('#df-cb691d1b-4431-43a1-942e-81c2d575a8f0 button.colab-df-convert');\n",
              "        buttonEl.style.display =\n",
              "          google.colab.kernel.accessAllowed ? 'block' : 'none';\n",
              "\n",
              "        async function convertToInteractive(key) {\n",
              "          const element = document.querySelector('#df-cb691d1b-4431-43a1-942e-81c2d575a8f0');\n",
              "          const dataTable =\n",
              "            await google.colab.kernel.invokeFunction('convertToInteractive',\n",
              "                                                     [key], {});\n",
              "          if (!dataTable) return;\n",
              "\n",
              "          const docLinkHtml = 'Like what you see? Visit the ' +\n",
              "            '<a target=\"_blank\" href=https://colab.research.google.com/notebooks/data_table.ipynb>data table notebook</a>'\n",
              "            + ' to learn more about interactive tables.';\n",
              "          element.innerHTML = '';\n",
              "          dataTable['output_type'] = 'display_data';\n",
              "          await google.colab.output.renderOutput(dataTable, element);\n",
              "          const docLink = document.createElement('div');\n",
              "          docLink.innerHTML = docLinkHtml;\n",
              "          element.appendChild(docLink);\n",
              "        }\n",
              "      </script>\n",
              "    </div>\n",
              "  </div>\n",
              "  "
            ],
            "text/plain": [
              "   Actual value  Predicted value\n",
              "0     26.062193        23.950928\n",
              "1     10.354551         1.779728\n",
              "2     79.296635        66.633881\n",
              "3     74.987410        51.134983\n",
              "4      9.694722         8.650732"
            ]
          },
          "execution_count": 69,
          "metadata": {},
          "output_type": "execute_result"
        }
      ],
      "source": [
        "from torch.autograd import Variable\n",
        "prediction = Variable(prediction, requires_grad=True)\n",
        "prediction = prediction.detach().numpy()\n",
        "\n",
        "#Actual value and the predicted value\n",
        "bgd_diff = pd.DataFrame({'Actual value': output_test_vector.flatten(), 'Predicted value': prediction.flatten()}, index = [*range(0,206)])\n",
        "bgd_diff.head(5)"
      ]
    },
    {
      "cell_type": "code",
      "execution_count": null,
      "metadata": {
        "colab": {
          "base_uri": "https://localhost:8080/",
          "height": 282
        },
        "id": "6dppSxXZoWL3",
        "outputId": "afc2edac-9ec8-430c-bc82-24b303c0ca7c"
      },
      "outputs": [
        {
          "data": {
            "text/plain": [
              "<matplotlib.axes._subplots.AxesSubplot at 0x7f81b5606220>"
            ]
          },
          "execution_count": 70,
          "metadata": {},
          "output_type": "execute_result"
        },
        {
          "data": {
            "image/png": "[encoded data removed]",
            "text/plain": [
              "<Figure size 432x288 with 1 Axes>"
            ]
          },
          "metadata": {
            "needs_background": "light"
          },
          "output_type": "display_data"
        }
      ],
      "source": [
        "#Plot between Actual value and the predicted value\n",
        "sns.regplot(x=output_test_vector, y=prediction, ci=None, color=\"b\")"
      ]
    },
    {
      "cell_type": "code",
      "execution_count": null,
      "metadata": {
        "colab": {
          "base_uri": "https://localhost:8080/"
        },
        "id": "OKVpTreCoWL4",
        "outputId": "32948b3a-ec83-4034-ca9e-0c8fdc1011de"
      },
      "outputs": [
        {
          "name": "stdout",
          "output_type": "stream",
          "text": [
            "R squared: 57.83\n",
            "Mean Absolute Error: 8.4815689622613\n",
            "Mean Square Error: 111.0804049897619\n",
            "Root Mean Square Error: 10.53946891402797\n"
          ]
        }
      ],
      "source": [
        "meanAbErr = metrics.mean_absolute_error(output_test_vector.flatten(), prediction.flatten())\n",
        "meanSqErr = metrics.mean_squared_error(output_test_vector.flatten(), prediction.flatten())\n",
        "rootMeanSqErr = np.sqrt(metrics.mean_squared_error(output_test_vector.flatten(), prediction.flatten()))\n",
        "accuracy = metrics.r2_score(output_test_vector.flatten(), prediction.flatten())\n",
        "\n",
        "print('R squared: {:.2f}'.format(accuracy*100))\n",
        "print('Mean Absolute Error:', meanAbErr)\n",
        "print('Mean Square Error:', meanSqErr)\n",
        "print('Root Mean Square Error:', rootMeanSqErr)"
      ]
    },
    {
      "cell_type": "code",
      "execution_count": null,
      "metadata": {
        "colab": {
          "base_uri": "https://localhost:8080/"
        },
        "id": "fA2BnQD4oWMA",
        "outputId": "9558ad12-0c26-4d75-8e43-ee7b407f369a"
      },
      "outputs": [
        {
          "name": "stdout",
          "output_type": "stream",
          "text": [
            "epoch: 4\tLoss =  544.982"
          ]
        }
      ],
      "source": [
        "#Testing for Different Learning Rates\n",
        "learning_rates = []\n",
        "loss_difference = []\n",
        "\n",
        "for i in [*range(-25, 0)]:\n",
        "  learning_rate = (10**i)\n",
        "  learning_rates.append(learning_rate)\n",
        "  setRandomStateSGD()\n",
        "  net_item = GradientDescent(n_feature=9, n_hidden=9, n_output=1) \n",
        "  optimizer_item = torch.optim.SGD(net_item.parameters(), lr=learning_rate)\n",
        "  for t in range(5):\n",
        "    for input_i, output_i in zip(input_train_tensor, output_train_tensor):\n",
        "      pred_i = net_item(input_i)\n",
        "      loss = criterion(pred_i, output_i)\n",
        "      optimizer_item.zero_grad()   \n",
        "      loss.backward()         \n",
        "      optimizer_item.step()        \n",
        "      print('\\repoch: {}\\tLoss =  {:.3f}'.format(t, loss), end=\"\")  \n",
        "  out_prediction = net_item(input_test_tensor_normalized) \n",
        "  out_loss = criterion(out_prediction, output_test_tensor)\n",
        "  loss_difference.append(out_loss)"
      ]
    },
    {
      "cell_type": "code",
      "execution_count": null,
      "metadata": {
        "colab": {
          "base_uri": "https://localhost:8080/",
          "height": 295
        },
        "id": "vCGQYXmPoWMB",
        "outputId": "dbe11d2e-bbf5-409a-fac8-bf40b23b5b3e"
      },
      "outputs": [
        {
          "data": {
            "image/png": "[encoded data removed]",
            "text/plain": [
              "<Figure size 432x288 with 1 Axes>"
            ]
          },
          "metadata": {
            "needs_background": "light"
          },
          "output_type": "display_data"
        }
      ],
      "source": [
        "normalized_loss = [float(i)/sum(loss_difference) for i in loss_difference]\n",
        "plt.xlabel(\"Learning Rate (1e^x)\")\n",
        "plt.ylabel(\"Loss\")\n",
        "plt.title(\"Learning Rate vs Loss\")\n",
        "plt.xlim(-21, 5)\n",
        "with torch.no_grad():\n",
        "  plt.plot([*range(-25, 0)], normalized_loss)\n",
        "  plt.show()  "
      ]
    },
    {
      "cell_type": "markdown",
      "metadata": {
        "id": "B-g76JtNoWMB"
      },
      "source": [
        "From the above graph, we can infer that the optimal alpha = 1e-4. The loss is high(NaN - Values are not plotted in the graph) when we increase the learning rate (i.e alpha>1e-3) due to overshooting and the iterations increase if we decrease the learning rate."
      ]
    },
    {
      "cell_type": "markdown",
      "metadata": {
        "id": "aN0SExSIBLQP"
      },
      "source": [
        "---\n",
        "\\\n",
        "Stochastic Gradient Descent with Input data normalization"
      ]
    },
    {
      "cell_type": "code",
      "execution_count": null,
      "metadata": {
        "colab": {
          "base_uri": "https://localhost:8080/"
        },
        "id": "TGGjxNxjBG0g",
        "outputId": "24580621-6c9c-4c0d-81bf-4d37859379ca"
      },
      "outputs": [
        {
          "name": "stdout",
          "output_type": "stream",
          "text": [
            "epoch: 49\tLoss =  94.807"
          ]
        }
      ],
      "source": [
        "setRandomStateSGD()\n",
        "net_item = GradientDescent(n_feature=9, n_hidden=9, n_output=1) \n",
        "optimizer_item = torch.optim.SGD(net_item.parameters(), lr=0.0001)\n",
        "\n",
        "loss_list = []\n",
        "for t in range(50):\n",
        "    for input_i, output_i in zip(input_train_tensor_normalized, output_train_tensor):\n",
        "      pred_i = net_item(input_i)\n",
        "      loss = criterion(pred_i, output_i)\n",
        "      loss_list.append(loss)\n",
        "      optimizer_item.zero_grad()   \n",
        "      loss.backward()         \n",
        "      optimizer_item.step()        \n",
        "      print('\\repoch: {}\\tLoss =  {:.3f}'.format(t, loss), end=\"\") "
      ]
    },
    {
      "cell_type": "code",
      "execution_count": null,
      "metadata": {
        "colab": {
          "base_uri": "https://localhost:8080/",
          "height": 295
        },
        "id": "6Kt2NkCaBG0i",
        "outputId": "e4247bd5-a314-4327-a409-ffbdd2364def"
      },
      "outputs": [
        {
          "data": {
            "image/png": "[encoded data removed]",
            "text/plain": [
              "<Figure size 432x288 with 1 Axes>"
            ]
          },
          "metadata": {
            "needs_background": "light"
          },
          "output_type": "display_data"
        }
      ],
      "source": [
        "plt.xlabel(\"Number of Epochs\")\n",
        "plt.ylabel(\"Loss\")\n",
        "plt.title(\"Number of Epochs vs Loss\")\n",
        "with torch.no_grad():\n",
        "  plt.plot([*range(len(loss_list))],loss_list)"
      ]
    },
    {
      "cell_type": "code",
      "execution_count": null,
      "metadata": {
        "id": "AhWcZCxgBG0j"
      },
      "outputs": [],
      "source": [
        "#Predict the output\n",
        "prediction = net_item(input_test_tensor_normalized)   "
      ]
    },
    {
      "cell_type": "code",
      "execution_count": null,
      "metadata": {
        "colab": {
          "base_uri": "https://localhost:8080/",
          "height": 206
        },
        "id": "ju25Sl2zBG0k",
        "outputId": "c7369d20-32df-42e8-c519-2bb48b002b12"
      },
      "outputs": [
        {
          "data": {
            "text/html": [
              "\n",
              "  <div id=\"df-04d57698-517d-4e53-aa2f-2e07bf5960ad\">\n",
              "    <div class=\"colab-df-container\">\n",
              "      <div>\n",
              "<style scoped>\n",
              "    .dataframe tbody tr th:only-of-type {\n",
              "        vertical-align: middle;\n",
              "    }\n",
              "\n",
              "    .dataframe tbody tr th {\n",
              "        vertical-align: top;\n",
              "    }\n",
              "\n",
              "    .dataframe thead th {\n",
              "        text-align: right;\n",
              "    }\n",
              "</style>\n",
              "<table border=\"1\" class=\"dataframe\">\n",
              "  <thead>\n",
              "    <tr style=\"text-align: right;\">\n",
              "      <th></th>\n",
              "      <th>Actual value</th>\n",
              "      <th>Predicted value</th>\n",
              "    </tr>\n",
              "  </thead>\n",
              "  <tbody>\n",
              "    <tr>\n",
              "      <th>0</th>\n",
              "      <td>26.062193</td>\n",
              "      <td>34.484100</td>\n",
              "    </tr>\n",
              "    <tr>\n",
              "      <th>1</th>\n",
              "      <td>10.354551</td>\n",
              "      <td>11.114166</td>\n",
              "    </tr>\n",
              "    <tr>\n",
              "      <th>2</th>\n",
              "      <td>79.296635</td>\n",
              "      <td>62.388054</td>\n",
              "    </tr>\n",
              "    <tr>\n",
              "      <th>3</th>\n",
              "      <td>74.987410</td>\n",
              "      <td>48.954071</td>\n",
              "    </tr>\n",
              "    <tr>\n",
              "      <th>4</th>\n",
              "      <td>9.694722</td>\n",
              "      <td>20.892574</td>\n",
              "    </tr>\n",
              "  </tbody>\n",
              "</table>\n",
              "</div>\n",
              "      <button class=\"colab-df-convert\" onclick=\"convertToInteractive('df-04d57698-517d-4e53-aa2f-2e07bf5960ad')\"\n",
              "              title=\"Convert this dataframe to an interactive table.\"\n",
              "              style=\"display:none;\">\n",
              "        \n",
              "  <svg xmlns=\"http://www.w3.org/2000/svg\" height=\"24px\"viewBox=\"0 0 24 24\"\n",
              "       width=\"24px\">\n",
              "    <path d=\"M0 0h24v24H0V0z\" fill=\"none\"/>\n",
              "    <path d=\"M18.56 5.44l.94 2.06.94-2.06 2.06-.94-2.06-.94-.94-2.06-.94 2.06-2.06.94zm-11 1L8.5 8.5l.94-2.06 2.06-.94-2.06-.94L8.5 2.5l-.94 2.06-2.06.94zm10 10l.94 2.06.94-2.06 2.06-.94-2.06-.94-.94-2.06-.94 2.06-2.06.94z\"/><path d=\"M17.41 7.96l-1.37-1.37c-.4-.4-.92-.59-1.43-.59-.52 0-1.04.2-1.43.59L10.3 9.45l-7.72 7.72c-.78.78-.78 2.05 0 2.83L4 21.41c.39.39.9.59 1.41.59.51 0 1.02-.2 1.41-.59l7.78-7.78 2.81-2.81c.8-.78.8-2.07 0-2.86zM5.41 20L4 18.59l7.72-7.72 1.47 1.35L5.41 20z\"/>\n",
              "  </svg>\n",
              "      </button>\n",
              "      \n",
              "  <style>\n",
              "    .colab-df-container {\n",
              "      display:flex;\n",
              "      flex-wrap:wrap;\n",
              "      gap: 12px;\n",
              "    }\n",
              "\n",
              "    .colab-df-convert {\n",
              "      background-color: #E8F0FE;\n",
              "      border: none;\n",
              "      border-radius: 50%;\n",
              "      cursor: pointer;\n",
              "      display: none;\n",
              "      fill: #1967D2;\n",
              "      height: 32px;\n",
              "      padding: 0 0 0 0;\n",
              "      width: 32px;\n",
              "    }\n",
              "\n",
              "    .colab-df-convert:hover {\n",
              "      background-color: #E2EBFA;\n",
              "      box-shadow: 0px 1px 2px rgba(60, 64, 67, 0.3), 0px 1px 3px 1px rgba(60, 64, 67, 0.15);\n",
              "      fill: #174EA6;\n",
              "    }\n",
              "\n",
              "    [theme=dark] .colab-df-convert {\n",
              "      background-color: #3B4455;\n",
              "      fill: #D2E3FC;\n",
              "    }\n",
              "\n",
              "    [theme=dark] .colab-df-convert:hover {\n",
              "      background-color: #434B5C;\n",
              "      box-shadow: 0px 1px 3px 1px rgba(0, 0, 0, 0.15);\n",
              "      filter: drop-shadow(0px 1px 2px rgba(0, 0, 0, 0.3));\n",
              "      fill: #FFFFFF;\n",
              "    }\n",
              "  </style>\n",
              "\n",
              "      <script>\n",
              "        const buttonEl =\n",
              "          document.querySelector('#df-04d57698-517d-4e53-aa2f-2e07bf5960ad button.colab-df-convert');\n",
              "        buttonEl.style.display =\n",
              "          google.colab.kernel.accessAllowed ? 'block' : 'none';\n",
              "\n",
              "        async function convertToInteractive(key) {\n",
              "          const element = document.querySelector('#df-04d57698-517d-4e53-aa2f-2e07bf5960ad');\n",
              "          const dataTable =\n",
              "            await google.colab.kernel.invokeFunction('convertToInteractive',\n",
              "                                                     [key], {});\n",
              "          if (!dataTable) return;\n",
              "\n",
              "          const docLinkHtml = 'Like what you see? Visit the ' +\n",
              "            '<a target=\"_blank\" href=https://colab.research.google.com/notebooks/data_table.ipynb>data table notebook</a>'\n",
              "            + ' to learn more about interactive tables.';\n",
              "          element.innerHTML = '';\n",
              "          dataTable['output_type'] = 'display_data';\n",
              "          await google.colab.output.renderOutput(dataTable, element);\n",
              "          const docLink = document.createElement('div');\n",
              "          docLink.innerHTML = docLinkHtml;\n",
              "          element.appendChild(docLink);\n",
              "        }\n",
              "      </script>\n",
              "    </div>\n",
              "  </div>\n",
              "  "
            ],
            "text/plain": [
              "   Actual value  Predicted value\n",
              "0     26.062193        34.484100\n",
              "1     10.354551        11.114166\n",
              "2     79.296635        62.388054\n",
              "3     74.987410        48.954071\n",
              "4      9.694722        20.892574"
            ]
          },
          "execution_count": 77,
          "metadata": {},
          "output_type": "execute_result"
        }
      ],
      "source": [
        "from torch.autograd import Variable\n",
        "prediction = Variable(prediction, requires_grad=True)\n",
        "prediction = prediction.detach().numpy()\n",
        "\n",
        "#Actual value and the predicted value\n",
        "bgd_diff = pd.DataFrame({'Actual value': output_test_vector.flatten(), 'Predicted value': prediction.flatten()}, index = [*range(0,206)])\n",
        "bgd_diff.head(5)"
      ]
    },
    {
      "cell_type": "code",
      "execution_count": null,
      "metadata": {
        "colab": {
          "base_uri": "https://localhost:8080/",
          "height": 282
        },
        "id": "RxEBZDs8BG0k",
        "outputId": "6d621f2f-ba5f-40d2-966b-a42e977ee101"
      },
      "outputs": [
        {
          "data": {
            "text/plain": [
              "<matplotlib.axes._subplots.AxesSubplot at 0x7f81b57e5760>"
            ]
          },
          "execution_count": 78,
          "metadata": {},
          "output_type": "execute_result"
        },
        {
          "data": {
            "image/png": "[encoded data removed]",
            "text/plain": [
              "<Figure size 432x288 with 1 Axes>"
            ]
          },
          "metadata": {
            "needs_background": "light"
          },
          "output_type": "display_data"
        }
      ],
      "source": [
        "#Plot between Actual value and the predicted value\n",
        "sns.regplot(x=output_test_vector, y=prediction, ci=None, color=\"b\")"
      ]
    },
    {
      "cell_type": "code",
      "execution_count": null,
      "metadata": {
        "colab": {
          "base_uri": "https://localhost:8080/"
        },
        "id": "tS_zp8ClBG0l",
        "outputId": "bce11666-34d9-4000-b4db-325358d100fa"
      },
      "outputs": [
        {
          "name": "stdout",
          "output_type": "stream",
          "text": [
            "R squared: 64.88\n",
            "Mean Absolute Error: 7.698332003962724\n",
            "Mean Square Error: 92.51370894654661\n",
            "Root Mean Square Error: 9.618404698625787\n"
          ]
        }
      ],
      "source": [
        "meanAbErr = metrics.mean_absolute_error(output_test_vector.flatten(), prediction.flatten())\n",
        "meanSqErr = metrics.mean_squared_error(output_test_vector.flatten(), prediction.flatten())\n",
        "rootMeanSqErr = np.sqrt(metrics.mean_squared_error(output_test_vector.flatten(), prediction.flatten()))\n",
        "accuracy = metrics.r2_score(output_test_vector.flatten(), prediction.flatten())\n",
        "\n",
        "print('R squared: {:.2f}'.format(accuracy*100))\n",
        "print('Mean Absolute Error:', meanAbErr)\n",
        "print('Mean Square Error:', meanSqErr)\n",
        "print('Root Mean Square Error:', rootMeanSqErr)"
      ]
    },
    {
      "cell_type": "markdown",
      "metadata": {
        "id": "RrVCzLpjoWMC"
      },
      "source": [
        "---\n",
        "\\\n",
        "**Metrics Comparison**\n",
        "\n",
        "                                            Stochastic Gradient Descent   \n",
        "    ** Python Implementation **                                 \n",
        "                                      With Normalization\n",
        "    R squared                                62.02\n",
        "    Mean Absolute Error                     8.02048\n",
        "    Mean Square Error                      100.0197\n",
        "    Root Mean Square Error                  10.0009\n",
        "\n",
        "    ** Pytorch Implementation **\n",
        "                                      Without Normalization                  With Normalization\n",
        "    R squared                                58.17                                64.88\n",
        "    Mean Absolute Error                     8.48794                              7.69682\n",
        "    Mean Square Error                      110.16101                            92.48927\n",
        "    Root Mean Square Error                  10.4957                               9.6171    "
      ]
    },
    {
      "cell_type": "markdown",
      "metadata": {
        "id": "HpaV7mxlIL0K"
      },
      "source": [
        "# Mini-Batch Gradient Descent - Python Implementation"
      ]
    },
    {
      "cell_type": "markdown",
      "metadata": {
        "id": "O95XEbpIEqU4"
      },
      "source": [
        "\n",
        "Mini-Batch Gradient Descent -  type of gradient descent in which b examples where b<m are processed per iteration."
      ]
    },
    {
      "cell_type": "code",
      "execution_count": null,
      "metadata": {
        "id": "uRfjqI_jEiUr"
      },
      "outputs": [],
      "source": [
        "n_obs = input_train_vector.shape[0]\n",
        "training_input = np.c_[input_train_vector_normalized.reshape(n_obs, -1), output_train_vector.reshape(n_obs, 1)]"
      ]
    },
    {
      "cell_type": "code",
      "execution_count": null,
      "metadata": {
        "id": "6bU3iGep9C16"
      },
      "outputs": [],
      "source": [
        "#Gradient Descent \n",
        "def mini_batch_gradient_descent(training_data, theta, criterion, number_of_iterations, learning_rate, batch_size, print_execution_status = True):\n",
        "    loss_history=[] #Loss history tracker\n",
        "    gradient = np.zeros([9,1]) #Gradient output \n",
        "\n",
        "    for i in range(number_of_iterations):\n",
        "      rng.shuffle(training_data)\n",
        "      for start in range(0, n_obs, batch_size):\n",
        "        stop = start + batch_size\n",
        "        x_batch, y_batch = training_data[start:stop, :-1], training_data[start:stop, -1:]\n",
        "        # predict and calculate loss\n",
        "        f = create_function(theta) # create the current function\n",
        "        y_predicted = f(x_batch) # predict our entire x\n",
        "        loss = criterion(y_batch,y_predicted) # calculate the error\n",
        "        loss_history.append(loss[0])\n",
        "\n",
        "        #perform optimization\n",
        "        for j in range(0, theta.shape[0]):\n",
        "          weight = compute_weights(x_batch[:,j].reshape(-1, 1),y_batch,y_predicted) #calculate weight for whole examples every iteration\n",
        "          gradient[j] = weight\n",
        "\n",
        "        theta = theta - learning_rate * gradient #adjust m and b\n",
        "\n",
        "      if i%10==0 and print_execution_status:\n",
        "        print(\"Current Epoch: {}, Current Loss: {}\".format(i,loss[0]))\n",
        "   \n",
        "    return theta,loss_history"
      ]
    },
    {
      "cell_type": "code",
      "execution_count": null,
      "metadata": {
        "colab": {
          "base_uri": "https://localhost:8080/"
        },
        "id": "o63F_hBlCcIW",
        "outputId": "fa16e70e-a8f2-4a32-a7b5-6c52747cfe8b"
      },
      "outputs": [
        {
          "name": "stdout",
          "output_type": "stream",
          "text": [
            "Current Epoch: 0, Current Loss: [1320.5539852]\n",
            "Current Epoch: 10, Current Loss: [161.42522312]\n",
            "Current Epoch: 20, Current Loss: [386.81322205]\n",
            "Current Epoch: 30, Current Loss: [274.63117417]\n",
            "Current Epoch: 40, Current Loss: [127.53597506]\n",
            "Current Epoch: 50, Current Loss: [58.09056986]\n",
            "Current Epoch: 60, Current Loss: [126.77379888]\n",
            "Current Epoch: 70, Current Loss: [160.55555038]\n",
            "Current Epoch: 80, Current Loss: [77.11474167]\n",
            "Current Epoch: 90, Current Loss: [161.01050826]\n",
            "Current Epoch: 100, Current Loss: [286.41615807]\n",
            "Current Epoch: 110, Current Loss: [284.31427909]\n",
            "Current Epoch: 120, Current Loss: [116.89888988]\n",
            "Current Epoch: 130, Current Loss: [116.08388227]\n",
            "Current Epoch: 140, Current Loss: [119.57676862]\n",
            "Current Epoch: 150, Current Loss: [180.55925122]\n",
            "Current Epoch: 160, Current Loss: [111.36665566]\n",
            "Current Epoch: 170, Current Loss: [135.37721588]\n",
            "Current Epoch: 180, Current Loss: [167.11504471]\n",
            "Current Epoch: 190, Current Loss: [127.43415635]\n",
            "Current Epoch: 200, Current Loss: [129.57990374]\n",
            "Current Epoch: 210, Current Loss: [178.37650057]\n",
            "Current Epoch: 220, Current Loss: [204.40967657]\n",
            "Current Epoch: 230, Current Loss: [135.06044132]\n",
            "Current Epoch: 240, Current Loss: [170.76022866]\n",
            "Current Epoch: 250, Current Loss: [67.82421592]\n",
            "Current Epoch: 260, Current Loss: [66.73459876]\n",
            "Current Epoch: 270, Current Loss: [159.30227947]\n",
            "Current Epoch: 280, Current Loss: [139.26189588]\n",
            "Current Epoch: 290, Current Loss: [76.95110244]\n",
            "Current Epoch: 300, Current Loss: [88.46964272]\n",
            "Current Epoch: 310, Current Loss: [269.89461357]\n",
            "Current Epoch: 320, Current Loss: [131.80103191]\n",
            "Current Epoch: 330, Current Loss: [221.27822746]\n",
            "Current Epoch: 340, Current Loss: [226.80979917]\n",
            "Current Epoch: 350, Current Loss: [157.74240406]\n",
            "Current Epoch: 360, Current Loss: [244.49606952]\n",
            "Current Epoch: 370, Current Loss: [56.30243026]\n",
            "Current Epoch: 380, Current Loss: [312.52611758]\n",
            "Current Epoch: 390, Current Loss: [70.93436891]\n",
            "Current Epoch: 400, Current Loss: [141.72333155]\n",
            "Current Epoch: 410, Current Loss: [131.65632894]\n",
            "Current Epoch: 420, Current Loss: [89.03095662]\n",
            "Current Epoch: 430, Current Loss: [227.20531709]\n",
            "Current Epoch: 440, Current Loss: [158.28780548]\n",
            "Current Epoch: 450, Current Loss: [192.73936561]\n",
            "Current Epoch: 460, Current Loss: [57.79399508]\n",
            "Current Epoch: 470, Current Loss: [121.8128877]\n",
            "Current Epoch: 480, Current Loss: [123.32183301]\n",
            "Current Epoch: 490, Current Loss: [114.86722455]\n",
            "Current Epoch: 500, Current Loss: [63.90897512]\n",
            "Current Epoch: 510, Current Loss: [95.72137257]\n",
            "Current Epoch: 520, Current Loss: [71.63120918]\n",
            "Current Epoch: 530, Current Loss: [359.15430682]\n",
            "Current Epoch: 540, Current Loss: [95.42575579]\n",
            "Current Epoch: 550, Current Loss: [89.02536998]\n",
            "Current Epoch: 560, Current Loss: [37.03880001]\n",
            "Current Epoch: 570, Current Loss: [202.00249045]\n",
            "Current Epoch: 580, Current Loss: [90.39935399]\n",
            "Current Epoch: 590, Current Loss: [43.20778065]\n",
            "Current Epoch: 600, Current Loss: [78.55150837]\n",
            "Current Epoch: 610, Current Loss: [144.51849879]\n",
            "Current Epoch: 620, Current Loss: [107.32162094]\n",
            "Current Epoch: 630, Current Loss: [148.89492213]\n",
            "Current Epoch: 640, Current Loss: [208.8808808]\n",
            "Current Epoch: 650, Current Loss: [59.31379546]\n",
            "Current Epoch: 660, Current Loss: [156.10016163]\n",
            "Current Epoch: 670, Current Loss: [128.09620132]\n",
            "Current Epoch: 680, Current Loss: [63.07935917]\n",
            "Current Epoch: 690, Current Loss: [128.31483704]\n",
            "Current Epoch: 700, Current Loss: [143.28937152]\n",
            "Current Epoch: 710, Current Loss: [96.86935749]\n",
            "Current Epoch: 720, Current Loss: [75.83598517]\n",
            "Current Epoch: 730, Current Loss: [98.24605912]\n",
            "Current Epoch: 740, Current Loss: [98.83739423]\n",
            "Current Epoch: 750, Current Loss: [140.39268383]\n",
            "Current Epoch: 760, Current Loss: [60.72746008]\n",
            "Current Epoch: 770, Current Loss: [119.48568049]\n",
            "Current Epoch: 780, Current Loss: [164.61394831]\n",
            "Current Epoch: 790, Current Loss: [74.60364822]\n",
            "Current Epoch: 800, Current Loss: [141.66426947]\n",
            "Current Epoch: 810, Current Loss: [122.8800822]\n",
            "Current Epoch: 820, Current Loss: [144.96677948]\n"
          ]
        }
      ],
      "source": [
        "theta = np.zeros([9,1])\n",
        "num_epochs = 824\n",
        "learning_rate = 1e-3\n",
        "batch_size = 16\n",
        "ideal_theta, loss_history = mini_batch_gradient_descent(training_input, theta, mse, num_epochs, learning_rate, batch_size)"
      ]
    },
    {
      "cell_type": "code",
      "execution_count": null,
      "metadata": {
        "colab": {
          "base_uri": "https://localhost:8080/",
          "height": 312
        },
        "id": "i37y6mdtCcId",
        "outputId": "2f86e409-6fa3-436f-d9c2-7717f436e6f6"
      },
      "outputs": [
        {
          "data": {
            "text/plain": [
              "[<matplotlib.lines.Line2D at 0x7f81b4d941c0>]"
            ]
          },
          "execution_count": 83,
          "metadata": {},
          "output_type": "execute_result"
        },
        {
          "data": {
            "image/png": "[encoded data removed]",
            "text/plain": [
              "<Figure size 432x288 with 1 Axes>"
            ]
          },
          "metadata": {
            "needs_background": "light"
          },
          "output_type": "display_data"
        }
      ],
      "source": [
        "plt.xlabel(\"Number of Iterations\")\n",
        "plt.ylabel(\"Loss\")\n",
        "plt.title(\"Number of Iterations vs Loss\")\n",
        "plt.plot(np.arange(len(loss_history)),loss_history)"
      ]
    },
    {
      "cell_type": "code",
      "execution_count": null,
      "metadata": {
        "colab": {
          "base_uri": "https://localhost:8080/"
        },
        "id": "h2ELcG7UCcId",
        "outputId": "e9ad8a77-0f8d-4547-ffab-68b61115632a"
      },
      "outputs": [
        {
          "name": "stdout",
          "output_type": "stream",
          "text": [
            "Ideal Theta:  [[  6.07879241]\n",
            " [ 43.26487969]\n",
            " [ 22.06204162]\n",
            " [  5.76429367]\n",
            " [-13.86518582]\n",
            " [ 27.32287816]\n",
            " [  4.1240568 ]\n",
            " [ -2.16984977]\n",
            " [ 34.14470818]]\n"
          ]
        }
      ],
      "source": [
        "print(\"Ideal Theta: \", ideal_theta)"
      ]
    },
    {
      "cell_type": "code",
      "execution_count": null,
      "metadata": {
        "id": "RQJtrrTaCcId"
      },
      "outputs": [],
      "source": [
        "ideal_function = create_function(ideal_theta)\n",
        "output_pred = ideal_function(input_test_vector_normalized)"
      ]
    },
    {
      "cell_type": "code",
      "execution_count": null,
      "metadata": {
        "colab": {
          "base_uri": "https://localhost:8080/",
          "height": 206
        },
        "id": "9LNutvCTCcId",
        "outputId": "1d17cf7a-572b-4bf4-a0c1-f59cdf1b2df9"
      },
      "outputs": [
        {
          "data": {
            "text/html": [
              "\n",
              "  <div id=\"df-0fefb1ba-095f-4646-a58b-64c203164aac\">\n",
              "    <div class=\"colab-df-container\">\n",
              "      <div>\n",
              "<style scoped>\n",
              "    .dataframe tbody tr th:only-of-type {\n",
              "        vertical-align: middle;\n",
              "    }\n",
              "\n",
              "    .dataframe tbody tr th {\n",
              "        vertical-align: top;\n",
              "    }\n",
              "\n",
              "    .dataframe thead th {\n",
              "        text-align: right;\n",
              "    }\n",
              "</style>\n",
              "<table border=\"1\" class=\"dataframe\">\n",
              "  <thead>\n",
              "    <tr style=\"text-align: right;\">\n",
              "      <th></th>\n",
              "      <th>Actual value</th>\n",
              "      <th>Predicted value</th>\n",
              "    </tr>\n",
              "  </thead>\n",
              "  <tbody>\n",
              "    <tr>\n",
              "      <th>0</th>\n",
              "      <td>26.062193</td>\n",
              "      <td>37.938299</td>\n",
              "    </tr>\n",
              "    <tr>\n",
              "      <th>1</th>\n",
              "      <td>10.354551</td>\n",
              "      <td>19.698351</td>\n",
              "    </tr>\n",
              "    <tr>\n",
              "      <th>2</th>\n",
              "      <td>79.296635</td>\n",
              "      <td>59.199544</td>\n",
              "    </tr>\n",
              "    <tr>\n",
              "      <th>3</th>\n",
              "      <td>74.987410</td>\n",
              "      <td>43.620867</td>\n",
              "    </tr>\n",
              "    <tr>\n",
              "      <th>4</th>\n",
              "      <td>9.694722</td>\n",
              "      <td>26.320815</td>\n",
              "    </tr>\n",
              "  </tbody>\n",
              "</table>\n",
              "</div>\n",
              "      <button class=\"colab-df-convert\" onclick=\"convertToInteractive('df-0fefb1ba-095f-4646-a58b-64c203164aac')\"\n",
              "              title=\"Convert this dataframe to an interactive table.\"\n",
              "              style=\"display:none;\">\n",
              "        \n",
              "  <svg xmlns=\"http://www.w3.org/2000/svg\" height=\"24px\"viewBox=\"0 0 24 24\"\n",
              "       width=\"24px\">\n",
              "    <path d=\"M0 0h24v24H0V0z\" fill=\"none\"/>\n",
              "    <path d=\"M18.56 5.44l.94 2.06.94-2.06 2.06-.94-2.06-.94-.94-2.06-.94 2.06-2.06.94zm-11 1L8.5 8.5l.94-2.06 2.06-.94-2.06-.94L8.5 2.5l-.94 2.06-2.06.94zm10 10l.94 2.06.94-2.06 2.06-.94-2.06-.94-.94-2.06-.94 2.06-2.06.94z\"/><path d=\"M17.41 7.96l-1.37-1.37c-.4-.4-.92-.59-1.43-.59-.52 0-1.04.2-1.43.59L10.3 9.45l-7.72 7.72c-.78.78-.78 2.05 0 2.83L4 21.41c.39.39.9.59 1.41.59.51 0 1.02-.2 1.41-.59l7.78-7.78 2.81-2.81c.8-.78.8-2.07 0-2.86zM5.41 20L4 18.59l7.72-7.72 1.47 1.35L5.41 20z\"/>\n",
              "  </svg>\n",
              "      </button>\n",
              "      \n",
              "  <style>\n",
              "    .colab-df-container {\n",
              "      display:flex;\n",
              "      flex-wrap:wrap;\n",
              "      gap: 12px;\n",
              "    }\n",
              "\n",
              "    .colab-df-convert {\n",
              "      background-color: #E8F0FE;\n",
              "      border: none;\n",
              "      border-radius: 50%;\n",
              "      cursor: pointer;\n",
              "      display: none;\n",
              "      fill: #1967D2;\n",
              "      height: 32px;\n",
              "      padding: 0 0 0 0;\n",
              "      width: 32px;\n",
              "    }\n",
              "\n",
              "    .colab-df-convert:hover {\n",
              "      background-color: #E2EBFA;\n",
              "      box-shadow: 0px 1px 2px rgba(60, 64, 67, 0.3), 0px 1px 3px 1px rgba(60, 64, 67, 0.15);\n",
              "      fill: #174EA6;\n",
              "    }\n",
              "\n",
              "    [theme=dark] .colab-df-convert {\n",
              "      background-color: #3B4455;\n",
              "      fill: #D2E3FC;\n",
              "    }\n",
              "\n",
              "    [theme=dark] .colab-df-convert:hover {\n",
              "      background-color: #434B5C;\n",
              "      box-shadow: 0px 1px 3px 1px rgba(0, 0, 0, 0.15);\n",
              "      filter: drop-shadow(0px 1px 2px rgba(0, 0, 0, 0.3));\n",
              "      fill: #FFFFFF;\n",
              "    }\n",
              "  </style>\n",
              "\n",
              "      <script>\n",
              "        const buttonEl =\n",
              "          document.querySelector('#df-0fefb1ba-095f-4646-a58b-64c203164aac button.colab-df-convert');\n",
              "        buttonEl.style.display =\n",
              "          google.colab.kernel.accessAllowed ? 'block' : 'none';\n",
              "\n",
              "        async function convertToInteractive(key) {\n",
              "          const element = document.querySelector('#df-0fefb1ba-095f-4646-a58b-64c203164aac');\n",
              "          const dataTable =\n",
              "            await google.colab.kernel.invokeFunction('convertToInteractive',\n",
              "                                                     [key], {});\n",
              "          if (!dataTable) return;\n",
              "\n",
              "          const docLinkHtml = 'Like what you see? Visit the ' +\n",
              "            '<a target=\"_blank\" href=https://colab.research.google.com/notebooks/data_table.ipynb>data table notebook</a>'\n",
              "            + ' to learn more about interactive tables.';\n",
              "          element.innerHTML = '';\n",
              "          dataTable['output_type'] = 'display_data';\n",
              "          await google.colab.output.renderOutput(dataTable, element);\n",
              "          const docLink = document.createElement('div');\n",
              "          docLink.innerHTML = docLinkHtml;\n",
              "          element.appendChild(docLink);\n",
              "        }\n",
              "      </script>\n",
              "    </div>\n",
              "  </div>\n",
              "  "
            ],
            "text/plain": [
              "   Actual value  Predicted value\n",
              "0     26.062193        37.938299\n",
              "1     10.354551        19.698351\n",
              "2     79.296635        59.199544\n",
              "3     74.987410        43.620867\n",
              "4      9.694722        26.320815"
            ]
          },
          "execution_count": 86,
          "metadata": {},
          "output_type": "execute_result"
        }
      ],
      "source": [
        "#Actual value and the predicted value\n",
        "bgd_diff = pd.DataFrame({'Actual value': output_test_vector.flatten(), 'Predicted value': output_pred.flatten()}, index = [*range(0,206)])\n",
        "bgd_diff.head()"
      ]
    },
    {
      "cell_type": "code",
      "execution_count": null,
      "metadata": {
        "colab": {
          "base_uri": "https://localhost:8080/",
          "height": 283
        },
        "id": "4l1bRZqcCcId",
        "outputId": "dc67e6a4-2600-4f73-c8f1-00e83fa19209"
      },
      "outputs": [
        {
          "data": {
            "text/plain": [
              "<matplotlib.axes._subplots.AxesSubplot at 0x7f81b4c2be20>"
            ]
          },
          "execution_count": 87,
          "metadata": {},
          "output_type": "execute_result"
        },
        {
          "data": {
            "image/png": "[encoded data removed]",
            "text/plain": [
              "<Figure size 432x288 with 1 Axes>"
            ]
          },
          "metadata": {
            "needs_background": "light"
          },
          "output_type": "display_data"
        }
      ],
      "source": [
        "#Plot between Actual value and the predicted value\n",
        "sns.regplot(x=output_test_vector, y=output_pred, ci=None, color=\"b\")"
      ]
    },
    {
      "cell_type": "code",
      "execution_count": null,
      "metadata": {
        "colab": {
          "base_uri": "https://localhost:8080/"
        },
        "id": "smx0AzYvCcId",
        "outputId": "8fd587db-8a3a-4b37-96f8-59b5e8f5f328"
      },
      "outputs": [
        {
          "name": "stdout",
          "output_type": "stream",
          "text": [
            "R squared: 59.54\n",
            "Mean Absolute Error: 8.259756879208178\n",
            "Mean Square Error: 106.56294684162326\n",
            "Root Mean Square Error: 10.322933054206215\n"
          ]
        }
      ],
      "source": [
        "meanAbErr = metrics.mean_absolute_error(output_test_vector.flatten(), output_pred.flatten())\n",
        "meanSqErr = metrics.mean_squared_error(output_test_vector.flatten(), output_pred.flatten())\n",
        "rootMeanSqErr = np.sqrt(metrics.mean_squared_error(output_test_vector.flatten(), output_pred.flatten()))\n",
        "accuracy = metrics.r2_score(output_test_vector.flatten(), output_pred.flatten())\n",
        "\n",
        "print('R squared: {:.2f}'.format(accuracy*100))\n",
        "print('Mean Absolute Error:', meanAbErr)\n",
        "print('Mean Square Error:', meanSqErr)\n",
        "print('Root Mean Square Error:', rootMeanSqErr)"
      ]
    },
    {
      "cell_type": "markdown",
      "metadata": {
        "id": "fBA5WbIlFq5_"
      },
      "source": [
        "# Mini-Batch Gradient Descent - Pytorch Implementation"
      ]
    },
    {
      "cell_type": "code",
      "execution_count": null,
      "metadata": {
        "colab": {
          "base_uri": "https://localhost:8080/"
        },
        "id": "sPIBr_oTFxh4",
        "outputId": "5a2069e4-f7fc-49eb-87cc-e452f82f34bc"
      },
      "outputs": [
        {
          "name": "stdout",
          "output_type": "stream",
          "text": [
            "epoch: 823\tbatch: 50\tLoss =  48.594"
          ]
        }
      ],
      "source": [
        "net_batch = GradientDescent(n_feature=9, n_hidden=9, n_output=1)  \n",
        "optimizer_batch = torch.optim.SGD(net_batch.parameters(), lr=1e-3) \n",
        "\n",
        "\n",
        "batch_size = 16\n",
        "n_batches = int(len(input_train_tensor_normalized) / batch_size) \n",
        "\n",
        "for epoch in range(len(input_train_tensor_normalized)):\n",
        "    for batch in range(n_batches):\n",
        "      batch_X, batch_y = input_train_tensor_normalized[batch*batch_size:(batch+1)*batch_size,], output_train_tensor[batch*batch_size:(batch+1)*batch_size,]\n",
        "      prediction = net_batch(batch_X)\n",
        "      loss = criterion(prediction, batch_y)\n",
        "      loss_list.append(loss)\n",
        "      optimizer_batch.zero_grad()\n",
        "      loss.backward() \n",
        "      optimizer_batch.step() \n",
        "      print('\\repoch: {}\\tbatch: {}\\tLoss =  {:.3f}'.format(epoch, batch, loss), end=\"\")"
      ]
    },
    {
      "cell_type": "code",
      "execution_count": null,
      "metadata": {
        "colab": {
          "base_uri": "https://localhost:8080/",
          "height": 295
        },
        "id": "kXKODyuYLrSc",
        "outputId": "d6cb87cb-2762-4db7-dcb2-e7cc18bb1a07"
      },
      "outputs": [
        {
          "data": {
            "image/png": "[encoded data removed]",
            "text/plain": [
              "<Figure size 432x288 with 1 Axes>"
            ]
          },
          "metadata": {
            "needs_background": "light"
          },
          "output_type": "display_data"
        }
      ],
      "source": [
        "plt.xlabel(\"Number of Epochs\")\n",
        "plt.ylabel(\"Loss\")\n",
        "plt.title(\"Number of Epochs vs Loss\")\n",
        "with torch.no_grad():\n",
        "  plt.plot([*range(len(loss_list))],loss_list)"
      ]
    },
    {
      "cell_type": "code",
      "execution_count": null,
      "metadata": {
        "id": "c-Dx4PR8LrSd"
      },
      "outputs": [],
      "source": [
        "#Predict the output\n",
        "prediction = net_batch(input_test_tensor_normalized)   "
      ]
    },
    {
      "cell_type": "code",
      "execution_count": null,
      "metadata": {
        "colab": {
          "base_uri": "https://localhost:8080/",
          "height": 206
        },
        "id": "EJ-TbgLwLrSe",
        "outputId": "78e2e62a-0c8f-48c1-8160-fd2aea1e9ff3"
      },
      "outputs": [
        {
          "data": {
            "text/html": [
              "\n",
              "  <div id=\"df-5bb4747c-a5b3-482a-9f28-ae8f449af25f\">\n",
              "    <div class=\"colab-df-container\">\n",
              "      <div>\n",
              "<style scoped>\n",
              "    .dataframe tbody tr th:only-of-type {\n",
              "        vertical-align: middle;\n",
              "    }\n",
              "\n",
              "    .dataframe tbody tr th {\n",
              "        vertical-align: top;\n",
              "    }\n",
              "\n",
              "    .dataframe thead th {\n",
              "        text-align: right;\n",
              "    }\n",
              "</style>\n",
              "<table border=\"1\" class=\"dataframe\">\n",
              "  <thead>\n",
              "    <tr style=\"text-align: right;\">\n",
              "      <th></th>\n",
              "      <th>Actual value</th>\n",
              "      <th>Predicted value</th>\n",
              "    </tr>\n",
              "  </thead>\n",
              "  <tbody>\n",
              "    <tr>\n",
              "      <th>0</th>\n",
              "      <td>26.062193</td>\n",
              "      <td>30.091927</td>\n",
              "    </tr>\n",
              "    <tr>\n",
              "      <th>1</th>\n",
              "      <td>10.354551</td>\n",
              "      <td>5.007804</td>\n",
              "    </tr>\n",
              "    <tr>\n",
              "      <th>2</th>\n",
              "      <td>79.296635</td>\n",
              "      <td>77.850136</td>\n",
              "    </tr>\n",
              "    <tr>\n",
              "      <th>3</th>\n",
              "      <td>74.987410</td>\n",
              "      <td>58.061848</td>\n",
              "    </tr>\n",
              "    <tr>\n",
              "      <th>4</th>\n",
              "      <td>9.694722</td>\n",
              "      <td>11.828295</td>\n",
              "    </tr>\n",
              "  </tbody>\n",
              "</table>\n",
              "</div>\n",
              "      <button class=\"colab-df-convert\" onclick=\"convertToInteractive('df-5bb4747c-a5b3-482a-9f28-ae8f449af25f')\"\n",
              "              title=\"Convert this dataframe to an interactive table.\"\n",
              "              style=\"display:none;\">\n",
              "        \n",
              "  <svg xmlns=\"http://www.w3.org/2000/svg\" height=\"24px\"viewBox=\"0 0 24 24\"\n",
              "       width=\"24px\">\n",
              "    <path d=\"M0 0h24v24H0V0z\" fill=\"none\"/>\n",
              "    <path d=\"M18.56 5.44l.94 2.06.94-2.06 2.06-.94-2.06-.94-.94-2.06-.94 2.06-2.06.94zm-11 1L8.5 8.5l.94-2.06 2.06-.94-2.06-.94L8.5 2.5l-.94 2.06-2.06.94zm10 10l.94 2.06.94-2.06 2.06-.94-2.06-.94-.94-2.06-.94 2.06-2.06.94z\"/><path d=\"M17.41 7.96l-1.37-1.37c-.4-.4-.92-.59-1.43-.59-.52 0-1.04.2-1.43.59L10.3 9.45l-7.72 7.72c-.78.78-.78 2.05 0 2.83L4 21.41c.39.39.9.59 1.41.59.51 0 1.02-.2 1.41-.59l7.78-7.78 2.81-2.81c.8-.78.8-2.07 0-2.86zM5.41 20L4 18.59l7.72-7.72 1.47 1.35L5.41 20z\"/>\n",
              "  </svg>\n",
              "      </button>\n",
              "      \n",
              "  <style>\n",
              "    .colab-df-container {\n",
              "      display:flex;\n",
              "      flex-wrap:wrap;\n",
              "      gap: 12px;\n",
              "    }\n",
              "\n",
              "    .colab-df-convert {\n",
              "      background-color: #E8F0FE;\n",
              "      border: none;\n",
              "      border-radius: 50%;\n",
              "      cursor: pointer;\n",
              "      display: none;\n",
              "      fill: #1967D2;\n",
              "      height: 32px;\n",
              "      padding: 0 0 0 0;\n",
              "      width: 32px;\n",
              "    }\n",
              "\n",
              "    .colab-df-convert:hover {\n",
              "      background-color: #E2EBFA;\n",
              "      box-shadow: 0px 1px 2px rgba(60, 64, 67, 0.3), 0px 1px 3px 1px rgba(60, 64, 67, 0.15);\n",
              "      fill: #174EA6;\n",
              "    }\n",
              "\n",
              "    [theme=dark] .colab-df-convert {\n",
              "      background-color: #3B4455;\n",
              "      fill: #D2E3FC;\n",
              "    }\n",
              "\n",
              "    [theme=dark] .colab-df-convert:hover {\n",
              "      background-color: #434B5C;\n",
              "      box-shadow: 0px 1px 3px 1px rgba(0, 0, 0, 0.15);\n",
              "      filter: drop-shadow(0px 1px 2px rgba(0, 0, 0, 0.3));\n",
              "      fill: #FFFFFF;\n",
              "    }\n",
              "  </style>\n",
              "\n",
              "      <script>\n",
              "        const buttonEl =\n",
              "          document.querySelector('#df-5bb4747c-a5b3-482a-9f28-ae8f449af25f button.colab-df-convert');\n",
              "        buttonEl.style.display =\n",
              "          google.colab.kernel.accessAllowed ? 'block' : 'none';\n",
              "\n",
              "        async function convertToInteractive(key) {\n",
              "          const element = document.querySelector('#df-5bb4747c-a5b3-482a-9f28-ae8f449af25f');\n",
              "          const dataTable =\n",
              "            await google.colab.kernel.invokeFunction('convertToInteractive',\n",
              "                                                     [key], {});\n",
              "          if (!dataTable) return;\n",
              "\n",
              "          const docLinkHtml = 'Like what you see? Visit the ' +\n",
              "            '<a target=\"_blank\" href=https://colab.research.google.com/notebooks/data_table.ipynb>data table notebook</a>'\n",
              "            + ' to learn more about interactive tables.';\n",
              "          element.innerHTML = '';\n",
              "          dataTable['output_type'] = 'display_data';\n",
              "          await google.colab.output.renderOutput(dataTable, element);\n",
              "          const docLink = document.createElement('div');\n",
              "          docLink.innerHTML = docLinkHtml;\n",
              "          element.appendChild(docLink);\n",
              "        }\n",
              "      </script>\n",
              "    </div>\n",
              "  </div>\n",
              "  "
            ],
            "text/plain": [
              "   Actual value  Predicted value\n",
              "0     26.062193        30.091927\n",
              "1     10.354551         5.007804\n",
              "2     79.296635        77.850136\n",
              "3     74.987410        58.061848\n",
              "4      9.694722        11.828295"
            ]
          },
          "execution_count": 92,
          "metadata": {},
          "output_type": "execute_result"
        }
      ],
      "source": [
        "from torch.autograd import Variable\n",
        "prediction = Variable(prediction, requires_grad=True)\n",
        "prediction = prediction.detach().numpy()\n",
        "\n",
        "#Actual value and the predicted value\n",
        "bgd_diff = pd.DataFrame({'Actual value': output_test_vector.flatten(), 'Predicted value': prediction.flatten()}, index = [*range(0,206)])\n",
        "bgd_diff.head(5)"
      ]
    },
    {
      "cell_type": "code",
      "execution_count": null,
      "metadata": {
        "colab": {
          "base_uri": "https://localhost:8080/",
          "height": 282
        },
        "id": "kg0bfWOXLrSf",
        "outputId": "ca584e0d-5509-4324-8f32-cb77f963cf76"
      },
      "outputs": [
        {
          "data": {
            "text/plain": [
              "<matplotlib.axes._subplots.AxesSubplot at 0x7f81b57fcdf0>"
            ]
          },
          "execution_count": 93,
          "metadata": {},
          "output_type": "execute_result"
        },
        {
          "data": {
            "image/png": "[encoded data removed]",
            "text/plain": [
              "<Figure size 432x288 with 1 Axes>"
            ]
          },
          "metadata": {
            "needs_background": "light"
          },
          "output_type": "display_data"
        }
      ],
      "source": [
        "#Plot between Actual value and the predicted value\n",
        "sns.regplot(x=output_test_vector, y=prediction, ci=None, color=\"b\")"
      ]
    },
    {
      "cell_type": "code",
      "execution_count": null,
      "metadata": {
        "colab": {
          "base_uri": "https://localhost:8080/"
        },
        "id": "a6A-xbOULrSg",
        "outputId": "0c9af2c5-35a5-4096-f902-f2514850829f"
      },
      "outputs": [
        {
          "name": "stdout",
          "output_type": "stream",
          "text": [
            "R squared: 84.25\n",
            "Mean Absolute Error: 4.852310500017385\n",
            "Mean Square Error: 41.472361677298586\n",
            "Root Mean Square Error: 6.439903856215447\n"
          ]
        }
      ],
      "source": [
        "meanAbErr = metrics.mean_absolute_error(output_test_vector.flatten(), prediction.flatten())\n",
        "meanSqErr = metrics.mean_squared_error(output_test_vector.flatten(), prediction.flatten())\n",
        "rootMeanSqErr = np.sqrt(metrics.mean_squared_error(output_test_vector.flatten(), prediction.flatten()))\n",
        "accuracy = metrics.r2_score(output_test_vector.flatten(), prediction.flatten())\n",
        "\n",
        "print('R squared: {:.2f}'.format(accuracy*100))\n",
        "print('Mean Absolute Error:', meanAbErr)\n",
        "print('Mean Square Error:', meanSqErr)\n",
        "print('Root Mean Square Error:', rootMeanSqErr)"
      ]
    },
    {
      "cell_type": "markdown",
      "metadata": {
        "id": "KcU4qq6yLrSh"
      },
      "source": [
        "\n",
        "---\n",
        "\\\n",
        "**Metrics Comparison**\n",
        "\n",
        "                  Batch Gradient Descent with Nesterov Accelerated Gradient Descent   \n",
        "\n",
        "                                      Python Implementation               Pytroch Implementation\n",
        "    R squared                                59.55                                81.64\n",
        "    Mean Absolute Error                      8.25913                             5.25094\n",
        "    Mean Square Error                       106.540924                            48.35413\n",
        "    Root Mean Square Error                   10.321866                              6.95371   "
      ]
    },
    {
      "cell_type": "markdown",
      "metadata": {
        "id": "Gscsdjm1H-W8"
      },
      "source": [
        "# Gradient Descent with Momentum - Python Implementation"
      ]
    },
    {
      "cell_type": "code",
      "execution_count": null,
      "metadata": {
        "id": "PKgjCEbQPDMs"
      },
      "outputs": [],
      "source": [
        "def batch_gradient_descent_with_momentum(x, y, theta, criterion, number_of_iterations, learning_rate, gamma, print_execution_status = True):\n",
        "    loss_history=[] #Loss history tracker\n",
        "    gradient = np.zeros([9,1]) #Gradient output \n",
        "    vt = np.zeros(theta.shape[0]).reshape(-1,1) #Velocity\n",
        "\n",
        "    for i in range(number_of_iterations):\n",
        "        # predict and calculate loss\n",
        "        f = create_function(theta) # create the current function\n",
        "        y_predicted = f(x) # predict our entire x\n",
        "        loss = criterion(y,y_predicted) # calculate the error\n",
        "        loss_history.append(loss[0])\n",
        "\n",
        "        #perform optimization\n",
        "        for j in range(0, theta.shape[0]):\n",
        "          weight = compute_weights(x[:,j].reshape(-1, 1),y,y_predicted) #calculate weight for whole examples every iteration\n",
        "          gradient[j] = weight\n",
        "\n",
        "        vt = gamma * vt + learning_rate * gradient #Compute momentum\n",
        "        theta = theta - vt #adjust m and b\n",
        "\n",
        "        if i%1000==0 and print_execution_status:\n",
        "            print(\"Current Epoch: {}, Current Loss: {}\".format(i,loss[0]))\n",
        "   \n",
        "    return theta,loss_history"
      ]
    },
    {
      "cell_type": "code",
      "execution_count": null,
      "metadata": {
        "colab": {
          "base_uri": "https://localhost:8080/"
        },
        "id": "TsDwv-3NQKY4",
        "outputId": "39510b5c-1ae8-4267-cd65-cc39ca8aab58"
      },
      "outputs": [
        {
          "name": "stdout",
          "output_type": "stream",
          "text": [
            "Current Epoch: 0, Current Loss: [1585.52485081]\n",
            "Current Epoch: 1000, Current Loss: [114.07162818]\n",
            "Current Epoch: 2000, Current Loss: [111.27419879]\n",
            "Current Epoch: 3000, Current Loss: [110.68252629]\n",
            "Current Epoch: 4000, Current Loss: [110.54719166]\n",
            "Current Epoch: 5000, Current Loss: [110.51165765]\n",
            "Current Epoch: 6000, Current Loss: [110.49869101]\n",
            "Current Epoch: 7000, Current Loss: [110.4910458]\n",
            "Current Epoch: 8000, Current Loss: [110.48480649]\n",
            "Current Epoch: 9000, Current Loss: [110.47907164]\n",
            "Current Epoch: 10000, Current Loss: [110.4736274]\n",
            "Current Epoch: 11000, Current Loss: [110.46841758]\n",
            "Current Epoch: 12000, Current Loss: [110.46342248]\n",
            "Current Epoch: 13000, Current Loss: [110.45863103]\n",
            "Current Epoch: 14000, Current Loss: [110.45403442]\n"
          ]
        }
      ],
      "source": [
        "theta = np.zeros([9,1])\n",
        "num_epochs = 15000\n",
        "learning_rate = 0.01\n",
        "gamma = 0.9\n",
        "ideal_theta, loss_history = batch_gradient_descent_with_momentum(input_train_vector_normalized, output_train_vector, theta, mse, num_epochs, learning_rate, gamma)"
      ]
    },
    {
      "cell_type": "code",
      "execution_count": null,
      "metadata": {
        "colab": {
          "base_uri": "https://localhost:8080/",
          "height": 312
        },
        "id": "bvoZTUq2QKY4",
        "outputId": "b0d36764-ab01-418d-b23b-c6358c105236"
      },
      "outputs": [
        {
          "data": {
            "text/plain": [
              "[<matplotlib.lines.Line2D at 0x7f81b469a400>]"
            ]
          },
          "execution_count": 97,
          "metadata": {},
          "output_type": "execute_result"
        },
        {
          "data": {
            "image/png": "[encoded data removed]",
            "text/plain": [
              "<Figure size 432x288 with 1 Axes>"
            ]
          },
          "metadata": {
            "needs_background": "light"
          },
          "output_type": "display_data"
        }
      ],
      "source": [
        "plt.xlabel(\"Number of Epochs\")\n",
        "plt.ylabel(\"Loss\")\n",
        "plt.title(\"Number of Epochs vs Loss\")\n",
        "plt.plot(np.arange(num_epochs),loss_history)"
      ]
    },
    {
      "cell_type": "code",
      "execution_count": null,
      "metadata": {
        "colab": {
          "base_uri": "https://localhost:8080/"
        },
        "id": "mVHEe6B_QKY5",
        "outputId": "09bb196a-02a5-4ea4-fa41-fdfd479e8f77"
      },
      "outputs": [
        {
          "name": "stdout",
          "output_type": "stream",
          "text": [
            "Ideal Theta:  [[ -4.04793861]\n",
            " [ 60.50545295]\n",
            " [ 36.01910321]\n",
            " [ 16.29793847]\n",
            " [-45.01258377]\n",
            " [  9.0585871 ]\n",
            " [ 15.33585001]\n",
            " [ 12.34207143]\n",
            " [ 41.99193787]]\n"
          ]
        }
      ],
      "source": [
        "print(\"Ideal Theta: \", ideal_theta)"
      ]
    },
    {
      "cell_type": "code",
      "execution_count": null,
      "metadata": {
        "id": "EBzZkpTMQKY5"
      },
      "outputs": [],
      "source": [
        "ideal_function = create_function(ideal_theta)\n",
        "output_pred = ideal_function(input_test_vector_normalized)"
      ]
    },
    {
      "cell_type": "code",
      "execution_count": null,
      "metadata": {
        "colab": {
          "base_uri": "https://localhost:8080/",
          "height": 206
        },
        "id": "bV1ajIbHQKY5",
        "outputId": "9f2bdb56-e5bf-421b-bc84-799742732b70"
      },
      "outputs": [
        {
          "data": {
            "text/html": [
              "\n",
              "  <div id=\"df-8a4b78c2-993d-47d2-8807-af402cfda4c8\">\n",
              "    <div class=\"colab-df-container\">\n",
              "      <div>\n",
              "<style scoped>\n",
              "    .dataframe tbody tr th:only-of-type {\n",
              "        vertical-align: middle;\n",
              "    }\n",
              "\n",
              "    .dataframe tbody tr th {\n",
              "        vertical-align: top;\n",
              "    }\n",
              "\n",
              "    .dataframe thead th {\n",
              "        text-align: right;\n",
              "    }\n",
              "</style>\n",
              "<table border=\"1\" class=\"dataframe\">\n",
              "  <thead>\n",
              "    <tr style=\"text-align: right;\">\n",
              "      <th></th>\n",
              "      <th>Actual value</th>\n",
              "      <th>Predicted value</th>\n",
              "    </tr>\n",
              "  </thead>\n",
              "  <tbody>\n",
              "    <tr>\n",
              "      <th>0</th>\n",
              "      <td>26.062193</td>\n",
              "      <td>38.690776</td>\n",
              "    </tr>\n",
              "    <tr>\n",
              "      <th>1</th>\n",
              "      <td>10.354551</td>\n",
              "      <td>17.252668</td>\n",
              "    </tr>\n",
              "    <tr>\n",
              "      <th>2</th>\n",
              "      <td>79.296635</td>\n",
              "      <td>63.956210</td>\n",
              "    </tr>\n",
              "    <tr>\n",
              "      <th>3</th>\n",
              "      <td>74.987410</td>\n",
              "      <td>54.299510</td>\n",
              "    </tr>\n",
              "    <tr>\n",
              "      <th>4</th>\n",
              "      <td>9.694722</td>\n",
              "      <td>28.136931</td>\n",
              "    </tr>\n",
              "  </tbody>\n",
              "</table>\n",
              "</div>\n",
              "      <button class=\"colab-df-convert\" onclick=\"convertToInteractive('df-8a4b78c2-993d-47d2-8807-af402cfda4c8')\"\n",
              "              title=\"Convert this dataframe to an interactive table.\"\n",
              "              style=\"display:none;\">\n",
              "        \n",
              "  <svg xmlns=\"http://www.w3.org/2000/svg\" height=\"24px\"viewBox=\"0 0 24 24\"\n",
              "       width=\"24px\">\n",
              "    <path d=\"M0 0h24v24H0V0z\" fill=\"none\"/>\n",
              "    <path d=\"M18.56 5.44l.94 2.06.94-2.06 2.06-.94-2.06-.94-.94-2.06-.94 2.06-2.06.94zm-11 1L8.5 8.5l.94-2.06 2.06-.94-2.06-.94L8.5 2.5l-.94 2.06-2.06.94zm10 10l.94 2.06.94-2.06 2.06-.94-2.06-.94-.94-2.06-.94 2.06-2.06.94z\"/><path d=\"M17.41 7.96l-1.37-1.37c-.4-.4-.92-.59-1.43-.59-.52 0-1.04.2-1.43.59L10.3 9.45l-7.72 7.72c-.78.78-.78 2.05 0 2.83L4 21.41c.39.39.9.59 1.41.59.51 0 1.02-.2 1.41-.59l7.78-7.78 2.81-2.81c.8-.78.8-2.07 0-2.86zM5.41 20L4 18.59l7.72-7.72 1.47 1.35L5.41 20z\"/>\n",
              "  </svg>\n",
              "      </button>\n",
              "      \n",
              "  <style>\n",
              "    .colab-df-container {\n",
              "      display:flex;\n",
              "      flex-wrap:wrap;\n",
              "      gap: 12px;\n",
              "    }\n",
              "\n",
              "    .colab-df-convert {\n",
              "      background-color: #E8F0FE;\n",
              "      border: none;\n",
              "      border-radius: 50%;\n",
              "      cursor: pointer;\n",
              "      display: none;\n",
              "      fill: #1967D2;\n",
              "      height: 32px;\n",
              "      padding: 0 0 0 0;\n",
              "      width: 32px;\n",
              "    }\n",
              "\n",
              "    .colab-df-convert:hover {\n",
              "      background-color: #E2EBFA;\n",
              "      box-shadow: 0px 1px 2px rgba(60, 64, 67, 0.3), 0px 1px 3px 1px rgba(60, 64, 67, 0.15);\n",
              "      fill: #174EA6;\n",
              "    }\n",
              "\n",
              "    [theme=dark] .colab-df-convert {\n",
              "      background-color: #3B4455;\n",
              "      fill: #D2E3FC;\n",
              "    }\n",
              "\n",
              "    [theme=dark] .colab-df-convert:hover {\n",
              "      background-color: #434B5C;\n",
              "      box-shadow: 0px 1px 3px 1px rgba(0, 0, 0, 0.15);\n",
              "      filter: drop-shadow(0px 1px 2px rgba(0, 0, 0, 0.3));\n",
              "      fill: #FFFFFF;\n",
              "    }\n",
              "  </style>\n",
              "\n",
              "      <script>\n",
              "        const buttonEl =\n",
              "          document.querySelector('#df-8a4b78c2-993d-47d2-8807-af402cfda4c8 button.colab-df-convert');\n",
              "        buttonEl.style.display =\n",
              "          google.colab.kernel.accessAllowed ? 'block' : 'none';\n",
              "\n",
              "        async function convertToInteractive(key) {\n",
              "          const element = document.querySelector('#df-8a4b78c2-993d-47d2-8807-af402cfda4c8');\n",
              "          const dataTable =\n",
              "            await google.colab.kernel.invokeFunction('convertToInteractive',\n",
              "                                                     [key], {});\n",
              "          if (!dataTable) return;\n",
              "\n",
              "          const docLinkHtml = 'Like what you see? Visit the ' +\n",
              "            '<a target=\"_blank\" href=https://colab.research.google.com/notebooks/data_table.ipynb>data table notebook</a>'\n",
              "            + ' to learn more about interactive tables.';\n",
              "          element.innerHTML = '';\n",
              "          dataTable['output_type'] = 'display_data';\n",
              "          await google.colab.output.renderOutput(dataTable, element);\n",
              "          const docLink = document.createElement('div');\n",
              "          docLink.innerHTML = docLinkHtml;\n",
              "          element.appendChild(docLink);\n",
              "        }\n",
              "      </script>\n",
              "    </div>\n",
              "  </div>\n",
              "  "
            ],
            "text/plain": [
              "   Actual value  Predicted value\n",
              "0     26.062193        38.690776\n",
              "1     10.354551        17.252668\n",
              "2     79.296635        63.956210\n",
              "3     74.987410        54.299510\n",
              "4      9.694722        28.136931"
            ]
          },
          "execution_count": 100,
          "metadata": {},
          "output_type": "execute_result"
        }
      ],
      "source": [
        "#Actual value and the predicted value\n",
        "bgd_diff = pd.DataFrame({'Actual value': output_test_vector.flatten(), 'Predicted value': output_pred.flatten()}, index = [*range(0,206)])\n",
        "bgd_diff.head()"
      ]
    },
    {
      "cell_type": "code",
      "execution_count": null,
      "metadata": {
        "colab": {
          "base_uri": "https://localhost:8080/",
          "height": 282
        },
        "id": "I0i8pde1QKY5",
        "outputId": "c834be91-e8a5-4af5-8511-ee8c6c58a500"
      },
      "outputs": [
        {
          "data": {
            "text/plain": [
              "<matplotlib.axes._subplots.AxesSubplot at 0x7f81b4654280>"
            ]
          },
          "execution_count": 101,
          "metadata": {},
          "output_type": "execute_result"
        },
        {
          "data": {
            "image/png": "[encoded data removed]",
            "text/plain": [
              "<Figure size 432x288 with 1 Axes>"
            ]
          },
          "metadata": {
            "needs_background": "light"
          },
          "output_type": "display_data"
        }
      ],
      "source": [
        "#Plot between Actual value and the predicted value\n",
        "sns.regplot(x=output_test_vector, y=output_pred, ci=None, color=\"b\")"
      ]
    },
    {
      "cell_type": "code",
      "execution_count": null,
      "metadata": {
        "colab": {
          "base_uri": "https://localhost:8080/"
        },
        "id": "GbNGAv-DQKY5",
        "outputId": "20bb610e-a4a0-44bf-dce7-c7058dca8804"
      },
      "outputs": [
        {
          "name": "stdout",
          "output_type": "stream",
          "text": [
            "R squared: 61.75\n",
            "Mean Absolute Error: 8.066736109517011\n",
            "Mean Square Error: 100.75525151565948\n",
            "Root Mean Square Error: 10.037691543161678\n"
          ]
        }
      ],
      "source": [
        "meanAbErr = metrics.mean_absolute_error(output_test_vector.flatten(), output_pred.flatten())\n",
        "meanSqErr = metrics.mean_squared_error(output_test_vector.flatten(), output_pred.flatten())\n",
        "rootMeanSqErr = np.sqrt(metrics.mean_squared_error(output_test_vector.flatten(), output_pred.flatten()))\n",
        "accuracy = metrics.r2_score(output_test_vector.flatten(), output_pred.flatten())\n",
        "\n",
        "print('R squared: {:.2f}'.format(accuracy*100))\n",
        "print('Mean Absolute Error:', meanAbErr)\n",
        "print('Mean Square Error:', meanSqErr)\n",
        "print('Root Mean Square Error:', rootMeanSqErr)"
      ]
    },
    {
      "cell_type": "markdown",
      "metadata": {
        "id": "V3x5YW5uRUCK"
      },
      "source": [
        "# Gradient Descent with momentum - Pytorch Implementation"
      ]
    },
    {
      "cell_type": "code",
      "execution_count": null,
      "metadata": {
        "colab": {
          "base_uri": "https://localhost:8080/"
        },
        "id": "PgWtZmlcRvkQ",
        "outputId": "e00200b2-9ef3-4b9d-c7c8-d05adaaa5738"
      },
      "outputs": [
        {
          "name": "stdout",
          "output_type": "stream",
          "text": [
            "epoch: 499\tLoss =  113.214"
          ]
        }
      ],
      "source": [
        "net_all = GradientDescent(n_feature=9, n_hidden=9, n_output=1) \n",
        "optimizer_all = torch.optim.SGD(net_all.parameters(), lr=1e-6, momentum= 0.9)\n",
        "setRandomState()\n",
        "\n",
        "loss_list = []\n",
        "for t in range(500):\n",
        "    prediction = net_all(input_train_tensor)   \n",
        "    loss = criterion(prediction, output_train_tensor)\n",
        "    loss_list.append(loss)\n",
        "    optimizer_all.zero_grad()\n",
        "    loss.backward()\n",
        "    optimizer_all.step()\n",
        "    print('\\repoch: {}\\tLoss =  {:.3f}'.format(t, loss), end=\"\")"
      ]
    },
    {
      "cell_type": "code",
      "execution_count": null,
      "metadata": {
        "colab": {
          "base_uri": "https://localhost:8080/",
          "height": 295
        },
        "id": "_DC8K93mRvkS",
        "outputId": "d077566a-06df-4dd4-fdf6-27fdbf207f73"
      },
      "outputs": [
        {
          "data": {
            "image/png": "[encoded data removed]",
            "text/plain": [
              "<Figure size 432x288 with 1 Axes>"
            ]
          },
          "metadata": {
            "needs_background": "light"
          },
          "output_type": "display_data"
        }
      ],
      "source": [
        "plt.xlabel(\"Number of Epochs\")\n",
        "plt.ylabel(\"Loss\")\n",
        "plt.title(\"Number of Epochs vs Loss\")\n",
        "with torch.no_grad():\n",
        "  plt.plot([*range(500)],loss_list)"
      ]
    },
    {
      "cell_type": "code",
      "execution_count": null,
      "metadata": {
        "id": "gSNV43EHRvkU"
      },
      "outputs": [],
      "source": [
        "#Convert Numpy to Tensor\n",
        "input_test_tensor = torch.from_numpy(np.float32(input_test_vector))\n",
        "output_test_tensor = torch.from_numpy(np.float32(output_test_vector))\n",
        "\n",
        "#Predict the output\n",
        "prediction = net_all(input_test_tensor)   "
      ]
    },
    {
      "cell_type": "code",
      "execution_count": null,
      "metadata": {
        "colab": {
          "base_uri": "https://localhost:8080/",
          "height": 206
        },
        "id": "ls-SAD-rRvkU",
        "outputId": "ba31e384-4e76-4324-8827-65ec26e25f54"
      },
      "outputs": [
        {
          "data": {
            "text/html": [
              "\n",
              "  <div id=\"df-28e7f0ff-5d49-4aed-9b3d-7f21ba460a83\">\n",
              "    <div class=\"colab-df-container\">\n",
              "      <div>\n",
              "<style scoped>\n",
              "    .dataframe tbody tr th:only-of-type {\n",
              "        vertical-align: middle;\n",
              "    }\n",
              "\n",
              "    .dataframe tbody tr th {\n",
              "        vertical-align: top;\n",
              "    }\n",
              "\n",
              "    .dataframe thead th {\n",
              "        text-align: right;\n",
              "    }\n",
              "</style>\n",
              "<table border=\"1\" class=\"dataframe\">\n",
              "  <thead>\n",
              "    <tr style=\"text-align: right;\">\n",
              "      <th></th>\n",
              "      <th>Actual value</th>\n",
              "      <th>Predicted value</th>\n",
              "    </tr>\n",
              "  </thead>\n",
              "  <tbody>\n",
              "    <tr>\n",
              "      <th>0</th>\n",
              "      <td>26.062193</td>\n",
              "      <td>39.282955</td>\n",
              "    </tr>\n",
              "    <tr>\n",
              "      <th>1</th>\n",
              "      <td>10.354551</td>\n",
              "      <td>16.036671</td>\n",
              "    </tr>\n",
              "    <tr>\n",
              "      <th>2</th>\n",
              "      <td>79.296635</td>\n",
              "      <td>60.163086</td>\n",
              "    </tr>\n",
              "    <tr>\n",
              "      <th>3</th>\n",
              "      <td>74.987410</td>\n",
              "      <td>54.667103</td>\n",
              "    </tr>\n",
              "    <tr>\n",
              "      <th>4</th>\n",
              "      <td>9.694722</td>\n",
              "      <td>26.545706</td>\n",
              "    </tr>\n",
              "  </tbody>\n",
              "</table>\n",
              "</div>\n",
              "      <button class=\"colab-df-convert\" onclick=\"convertToInteractive('df-28e7f0ff-5d49-4aed-9b3d-7f21ba460a83')\"\n",
              "              title=\"Convert this dataframe to an interactive table.\"\n",
              "              style=\"display:none;\">\n",
              "        \n",
              "  <svg xmlns=\"http://www.w3.org/2000/svg\" height=\"24px\"viewBox=\"0 0 24 24\"\n",
              "       width=\"24px\">\n",
              "    <path d=\"M0 0h24v24H0V0z\" fill=\"none\"/>\n",
              "    <path d=\"M18.56 5.44l.94 2.06.94-2.06 2.06-.94-2.06-.94-.94-2.06-.94 2.06-2.06.94zm-11 1L8.5 8.5l.94-2.06 2.06-.94-2.06-.94L8.5 2.5l-.94 2.06-2.06.94zm10 10l.94 2.06.94-2.06 2.06-.94-2.06-.94-.94-2.06-.94 2.06-2.06.94z\"/><path d=\"M17.41 7.96l-1.37-1.37c-.4-.4-.92-.59-1.43-.59-.52 0-1.04.2-1.43.59L10.3 9.45l-7.72 7.72c-.78.78-.78 2.05 0 2.83L4 21.41c.39.39.9.59 1.41.59.51 0 1.02-.2 1.41-.59l7.78-7.78 2.81-2.81c.8-.78.8-2.07 0-2.86zM5.41 20L4 18.59l7.72-7.72 1.47 1.35L5.41 20z\"/>\n",
              "  </svg>\n",
              "      </button>\n",
              "      \n",
              "  <style>\n",
              "    .colab-df-container {\n",
              "      display:flex;\n",
              "      flex-wrap:wrap;\n",
              "      gap: 12px;\n",
              "    }\n",
              "\n",
              "    .colab-df-convert {\n",
              "      background-color: #E8F0FE;\n",
              "      border: none;\n",
              "      border-radius: 50%;\n",
              "      cursor: pointer;\n",
              "      display: none;\n",
              "      fill: #1967D2;\n",
              "      height: 32px;\n",
              "      padding: 0 0 0 0;\n",
              "      width: 32px;\n",
              "    }\n",
              "\n",
              "    .colab-df-convert:hover {\n",
              "      background-color: #E2EBFA;\n",
              "      box-shadow: 0px 1px 2px rgba(60, 64, 67, 0.3), 0px 1px 3px 1px rgba(60, 64, 67, 0.15);\n",
              "      fill: #174EA6;\n",
              "    }\n",
              "\n",
              "    [theme=dark] .colab-df-convert {\n",
              "      background-color: #3B4455;\n",
              "      fill: #D2E3FC;\n",
              "    }\n",
              "\n",
              "    [theme=dark] .colab-df-convert:hover {\n",
              "      background-color: #434B5C;\n",
              "      box-shadow: 0px 1px 3px 1px rgba(0, 0, 0, 0.15);\n",
              "      filter: drop-shadow(0px 1px 2px rgba(0, 0, 0, 0.3));\n",
              "      fill: #FFFFFF;\n",
              "    }\n",
              "  </style>\n",
              "\n",
              "      <script>\n",
              "        const buttonEl =\n",
              "          document.querySelector('#df-28e7f0ff-5d49-4aed-9b3d-7f21ba460a83 button.colab-df-convert');\n",
              "        buttonEl.style.display =\n",
              "          google.colab.kernel.accessAllowed ? 'block' : 'none';\n",
              "\n",
              "        async function convertToInteractive(key) {\n",
              "          const element = document.querySelector('#df-28e7f0ff-5d49-4aed-9b3d-7f21ba460a83');\n",
              "          const dataTable =\n",
              "            await google.colab.kernel.invokeFunction('convertToInteractive',\n",
              "                                                     [key], {});\n",
              "          if (!dataTable) return;\n",
              "\n",
              "          const docLinkHtml = 'Like what you see? Visit the ' +\n",
              "            '<a target=\"_blank\" href=https://colab.research.google.com/notebooks/data_table.ipynb>data table notebook</a>'\n",
              "            + ' to learn more about interactive tables.';\n",
              "          element.innerHTML = '';\n",
              "          dataTable['output_type'] = 'display_data';\n",
              "          await google.colab.output.renderOutput(dataTable, element);\n",
              "          const docLink = document.createElement('div');\n",
              "          docLink.innerHTML = docLinkHtml;\n",
              "          element.appendChild(docLink);\n",
              "        }\n",
              "      </script>\n",
              "    </div>\n",
              "  </div>\n",
              "  "
            ],
            "text/plain": [
              "   Actual value  Predicted value\n",
              "0     26.062193        39.282955\n",
              "1     10.354551        16.036671\n",
              "2     79.296635        60.163086\n",
              "3     74.987410        54.667103\n",
              "4      9.694722        26.545706"
            ]
          },
          "execution_count": 106,
          "metadata": {},
          "output_type": "execute_result"
        }
      ],
      "source": [
        "from torch.autograd import Variable\n",
        "prediction = Variable(prediction, requires_grad=True)\n",
        "prediction = prediction.detach().numpy()\n",
        "\n",
        "#Actual value and the predicted value\n",
        "bgd_diff = pd.DataFrame({'Actual value': output_test_vector.flatten(), 'Predicted value': prediction.flatten()}, index = [*range(0,206)])\n",
        "bgd_diff.head(5)"
      ]
    },
    {
      "cell_type": "code",
      "execution_count": null,
      "metadata": {
        "colab": {
          "base_uri": "https://localhost:8080/",
          "height": 282
        },
        "id": "jImcZRcoRvkV",
        "outputId": "0a717ad4-f1bd-40ef-d390-7b396acdfde4"
      },
      "outputs": [
        {
          "data": {
            "text/plain": [
              "<matplotlib.axes._subplots.AxesSubplot at 0x7f81b4c5a280>"
            ]
          },
          "execution_count": 107,
          "metadata": {},
          "output_type": "execute_result"
        },
        {
          "data": {
            "image/png": "[encoded data removed]",
            "text/plain": [
              "<Figure size 432x288 with 1 Axes>"
            ]
          },
          "metadata": {
            "needs_background": "light"
          },
          "output_type": "display_data"
        }
      ],
      "source": [
        "#Plot between Actual value and the predicted value\n",
        "sns.regplot(x=output_test_vector, y=prediction, ci=None, color=\"b\")"
      ]
    },
    {
      "cell_type": "code",
      "execution_count": null,
      "metadata": {
        "colab": {
          "base_uri": "https://localhost:8080/"
        },
        "id": "s3GyyiI1RvkW",
        "outputId": "c1983523-19fc-4230-9b72-3990570ebce2"
      },
      "outputs": [
        {
          "name": "stdout",
          "output_type": "stream",
          "text": [
            "R squared: 64.01\n",
            "Mean Absolute Error: 7.790794782856678\n",
            "Mean Square Error: 94.7794571923295\n",
            "Root Mean Square Error: 9.735474163713317\n"
          ]
        }
      ],
      "source": [
        "meanAbErr = metrics.mean_absolute_error(output_test_vector.flatten(), prediction.flatten())\n",
        "meanSqErr = metrics.mean_squared_error(output_test_vector.flatten(), prediction.flatten())\n",
        "rootMeanSqErr = np.sqrt(metrics.mean_squared_error(output_test_vector.flatten(), prediction.flatten()))\n",
        "accuracy = metrics.r2_score(output_test_vector.flatten(), prediction.flatten())\n",
        "\n",
        "print('R squared: {:.2f}'.format(accuracy*100))\n",
        "print('Mean Absolute Error:', meanAbErr)\n",
        "print('Mean Square Error:', meanSqErr)\n",
        "print('Root Mean Square Error:', rootMeanSqErr)"
      ]
    },
    {
      "cell_type": "markdown",
      "metadata": {
        "id": "Tt2042DwS5jy"
      },
      "source": [
        "---\n",
        "\\\n",
        "**Metrics Comparison**\n",
        "\n",
        "                                            Batch Gradient Descent with Momentum   \n",
        "\n",
        "                                      Python Implementation               Pytroch Implementation\n",
        "    R squared                                61.75                                74.56\n",
        "    Mean Absolute Error                      8.0657                              6.43919\n",
        "    Mean Square Error                      100.735822                            67.01061\n",
        "    Root Mean Square Error                  10.03672                             8.18600   "
      ]
    },
    {
      "cell_type": "markdown",
      "metadata": {
        "id": "2D1azcc0HaC-"
      },
      "source": [
        "# Nesterov Accelerated Gradient Descent - Python Implementation"
      ]
    },
    {
      "cell_type": "code",
      "execution_count": null,
      "metadata": {
        "id": "0SZwEmNfvNPK"
      },
      "outputs": [],
      "source": [
        "def batch_gradient_descent_with_nesterov(x, y, theta, criterion, number_of_iterations, learning_rate, gamma, print_execution_status = True):\n",
        "    loss_history=[] #Loss history tracker\n",
        "    gradient = np.zeros([9,1]) #Gradient output \n",
        "    vt = np.zeros(theta.shape[0]).reshape(-1,1) #Velocity\n",
        "\n",
        "    for i in range(number_of_iterations):\n",
        "        vt = gamma * vt + learning_rate * gradient #Compute momentum for t+1\n",
        "        theta = theta - vt #adjust m and b\n",
        "\n",
        "        # predict and calculate loss\n",
        "        f = create_function(theta) # create the current function\n",
        "        y_predicted = f(x) # predict our entire x\n",
        "        loss = criterion(y,y_predicted) # calculate the error\n",
        "        loss_history.append(loss[0])\n",
        "\n",
        "        #perform optimization\n",
        "        for j in range(0, theta.shape[0]):\n",
        "          weight = compute_weights(x[:,j].reshape(-1, 1),y,y_predicted) #calculate weight for whole examples every iteration\n",
        "          gradient[j] = weight\n",
        "\n",
        "        if i%1000==0 and print_execution_status:\n",
        "            print(\"Current Epoch: {}, Current Loss: {}\".format(i,loss[0]))\n",
        "   \n",
        "    return theta,loss_history"
      ]
    },
    {
      "cell_type": "code",
      "execution_count": null,
      "metadata": {
        "colab": {
          "base_uri": "https://localhost:8080/"
        },
        "id": "G4A7BXCsznmp",
        "outputId": "7e0ce45f-00eb-441a-eaac-ebdc8bc99067"
      },
      "outputs": [
        {
          "name": "stdout",
          "output_type": "stream",
          "text": [
            "Current Epoch: 0, Current Loss: [1585.52485081]\n",
            "Current Epoch: 1000, Current Loss: [148.37865343]\n",
            "Current Epoch: 2000, Current Loss: [126.60362646]\n",
            "Current Epoch: 3000, Current Loss: [120.48592029]\n",
            "Current Epoch: 4000, Current Loss: [117.80215619]\n",
            "Current Epoch: 5000, Current Loss: [116.15808619]\n",
            "Current Epoch: 6000, Current Loss: [114.97358105]\n",
            "Current Epoch: 7000, Current Loss: [114.06541803]\n",
            "Current Epoch: 8000, Current Loss: [113.35288618]\n",
            "Current Epoch: 9000, Current Loss: [112.78852615]\n",
            "Current Epoch: 10000, Current Loss: [112.33942339]\n",
            "Current Epoch: 11000, Current Loss: [111.98100833]\n",
            "Current Epoch: 12000, Current Loss: [111.69436312]\n",
            "Current Epoch: 13000, Current Loss: [111.46471564]\n",
            "Current Epoch: 14000, Current Loss: [111.28044659]\n"
          ]
        }
      ],
      "source": [
        "theta = np.zeros([9,1])\n",
        "num_epochs = 15000\n",
        "learning_rate = 0.01\n",
        "gamma = 0.3\n",
        "ideal_theta, loss_history = batch_gradient_descent_with_nesterov(input_train_vector_normalized, output_train_vector, theta, mse, num_epochs, learning_rate, gamma)"
      ]
    },
    {
      "cell_type": "code",
      "execution_count": null,
      "metadata": {
        "colab": {
          "base_uri": "https://localhost:8080/",
          "height": 312
        },
        "id": "1YvFiC0eznnI",
        "outputId": "fac7fa80-614d-413b-d2b8-c5f7bae7c9c8"
      },
      "outputs": [
        {
          "data": {
            "text/plain": [
              "[<matplotlib.lines.Line2D at 0x7f81b4d70be0>]"
            ]
          },
          "execution_count": 111,
          "metadata": {},
          "output_type": "execute_result"
        },
        {
          "data": {
            "image/png": "[encoded data removed]",
            "text/plain": [
              "<Figure size 432x288 with 1 Axes>"
            ]
          },
          "metadata": {
            "needs_background": "light"
          },
          "output_type": "display_data"
        }
      ],
      "source": [
        "plt.xlabel(\"Number of Epochs\")\n",
        "plt.ylabel(\"Loss\")\n",
        "plt.title(\"Number of Epochs vs Loss\")\n",
        "plt.plot(np.arange(num_epochs),loss_history)"
      ]
    },
    {
      "cell_type": "code",
      "execution_count": null,
      "metadata": {
        "colab": {
          "base_uri": "https://localhost:8080/"
        },
        "id": "tV0Z-sE-znnI",
        "outputId": "d4bcf237-6cd0-4fd7-a563-536ffd0227bc"
      },
      "outputs": [
        {
          "name": "stdout",
          "output_type": "stream",
          "text": [
            "Ideal Theta:  [[  4.0711848 ]\n",
            " [ 55.80771692]\n",
            " [ 32.10973961]\n",
            " [ 13.478981  ]\n",
            " [-38.84135686]\n",
            " [ 14.23671529]\n",
            " [ 11.58089506]\n",
            " [  4.24577189]\n",
            " [ 40.96421758]]\n"
          ]
        }
      ],
      "source": [
        "print(\"Ideal Theta: \", ideal_theta)"
      ]
    },
    {
      "cell_type": "code",
      "execution_count": null,
      "metadata": {
        "id": "SqLhetHQznnJ"
      },
      "outputs": [],
      "source": [
        "ideal_function = create_function(ideal_theta)\n",
        "output_pred = ideal_function(input_test_vector_normalized)"
      ]
    },
    {
      "cell_type": "code",
      "execution_count": null,
      "metadata": {
        "colab": {
          "base_uri": "https://localhost:8080/",
          "height": 206
        },
        "id": "97P1-w39znnK",
        "outputId": "2795d227-1b53-4bfb-c466-18aab59b7197"
      },
      "outputs": [
        {
          "data": {
            "text/html": [
              "\n",
              "  <div id=\"df-a7721837-b525-4c74-b183-7f5fa3da5d2f\">\n",
              "    <div class=\"colab-df-container\">\n",
              "      <div>\n",
              "<style scoped>\n",
              "    .dataframe tbody tr th:only-of-type {\n",
              "        vertical-align: middle;\n",
              "    }\n",
              "\n",
              "    .dataframe tbody tr th {\n",
              "        vertical-align: top;\n",
              "    }\n",
              "\n",
              "    .dataframe thead th {\n",
              "        text-align: right;\n",
              "    }\n",
              "</style>\n",
              "<table border=\"1\" class=\"dataframe\">\n",
              "  <thead>\n",
              "    <tr style=\"text-align: right;\">\n",
              "      <th></th>\n",
              "      <th>Actual value</th>\n",
              "      <th>Predicted value</th>\n",
              "    </tr>\n",
              "  </thead>\n",
              "  <tbody>\n",
              "    <tr>\n",
              "      <th>0</th>\n",
              "      <td>26.062193</td>\n",
              "      <td>38.726465</td>\n",
              "    </tr>\n",
              "    <tr>\n",
              "      <th>1</th>\n",
              "      <td>10.354551</td>\n",
              "      <td>17.399450</td>\n",
              "    </tr>\n",
              "    <tr>\n",
              "      <th>2</th>\n",
              "      <td>79.296635</td>\n",
              "      <td>63.022160</td>\n",
              "    </tr>\n",
              "    <tr>\n",
              "      <th>3</th>\n",
              "      <td>74.987410</td>\n",
              "      <td>51.173437</td>\n",
              "    </tr>\n",
              "    <tr>\n",
              "      <th>4</th>\n",
              "      <td>9.694722</td>\n",
              "      <td>27.293563</td>\n",
              "    </tr>\n",
              "  </tbody>\n",
              "</table>\n",
              "</div>\n",
              "      <button class=\"colab-df-convert\" onclick=\"convertToInteractive('df-a7721837-b525-4c74-b183-7f5fa3da5d2f')\"\n",
              "              title=\"Convert this dataframe to an interactive table.\"\n",
              "              style=\"display:none;\">\n",
              "        \n",
              "  <svg xmlns=\"http://www.w3.org/2000/svg\" height=\"24px\"viewBox=\"0 0 24 24\"\n",
              "       width=\"24px\">\n",
              "    <path d=\"M0 0h24v24H0V0z\" fill=\"none\"/>\n",
              "    <path d=\"M18.56 5.44l.94 2.06.94-2.06 2.06-.94-2.06-.94-.94-2.06-.94 2.06-2.06.94zm-11 1L8.5 8.5l.94-2.06 2.06-.94-2.06-.94L8.5 2.5l-.94 2.06-2.06.94zm10 10l.94 2.06.94-2.06 2.06-.94-2.06-.94-.94-2.06-.94 2.06-2.06.94z\"/><path d=\"M17.41 7.96l-1.37-1.37c-.4-.4-.92-.59-1.43-.59-.52 0-1.04.2-1.43.59L10.3 9.45l-7.72 7.72c-.78.78-.78 2.05 0 2.83L4 21.41c.39.39.9.59 1.41.59.51 0 1.02-.2 1.41-.59l7.78-7.78 2.81-2.81c.8-.78.8-2.07 0-2.86zM5.41 20L4 18.59l7.72-7.72 1.47 1.35L5.41 20z\"/>\n",
              "  </svg>\n",
              "      </button>\n",
              "      \n",
              "  <style>\n",
              "    .colab-df-container {\n",
              "      display:flex;\n",
              "      flex-wrap:wrap;\n",
              "      gap: 12px;\n",
              "    }\n",
              "\n",
              "    .colab-df-convert {\n",
              "      background-color: #E8F0FE;\n",
              "      border: none;\n",
              "      border-radius: 50%;\n",
              "      cursor: pointer;\n",
              "      display: none;\n",
              "      fill: #1967D2;\n",
              "      height: 32px;\n",
              "      padding: 0 0 0 0;\n",
              "      width: 32px;\n",
              "    }\n",
              "\n",
              "    .colab-df-convert:hover {\n",
              "      background-color: #E2EBFA;\n",
              "      box-shadow: 0px 1px 2px rgba(60, 64, 67, 0.3), 0px 1px 3px 1px rgba(60, 64, 67, 0.15);\n",
              "      fill: #174EA6;\n",
              "    }\n",
              "\n",
              "    [theme=dark] .colab-df-convert {\n",
              "      background-color: #3B4455;\n",
              "      fill: #D2E3FC;\n",
              "    }\n",
              "\n",
              "    [theme=dark] .colab-df-convert:hover {\n",
              "      background-color: #434B5C;\n",
              "      box-shadow: 0px 1px 3px 1px rgba(0, 0, 0, 0.15);\n",
              "      filter: drop-shadow(0px 1px 2px rgba(0, 0, 0, 0.3));\n",
              "      fill: #FFFFFF;\n",
              "    }\n",
              "  </style>\n",
              "\n",
              "      <script>\n",
              "        const buttonEl =\n",
              "          document.querySelector('#df-a7721837-b525-4c74-b183-7f5fa3da5d2f button.colab-df-convert');\n",
              "        buttonEl.style.display =\n",
              "          google.colab.kernel.accessAllowed ? 'block' : 'none';\n",
              "\n",
              "        async function convertToInteractive(key) {\n",
              "          const element = document.querySelector('#df-a7721837-b525-4c74-b183-7f5fa3da5d2f');\n",
              "          const dataTable =\n",
              "            await google.colab.kernel.invokeFunction('convertToInteractive',\n",
              "                                                     [key], {});\n",
              "          if (!dataTable) return;\n",
              "\n",
              "          const docLinkHtml = 'Like what you see? Visit the ' +\n",
              "            '<a target=\"_blank\" href=https://colab.research.google.com/notebooks/data_table.ipynb>data table notebook</a>'\n",
              "            + ' to learn more about interactive tables.';\n",
              "          element.innerHTML = '';\n",
              "          dataTable['output_type'] = 'display_data';\n",
              "          await google.colab.output.renderOutput(dataTable, element);\n",
              "          const docLink = document.createElement('div');\n",
              "          docLink.innerHTML = docLinkHtml;\n",
              "          element.appendChild(docLink);\n",
              "        }\n",
              "      </script>\n",
              "    </div>\n",
              "  </div>\n",
              "  "
            ],
            "text/plain": [
              "   Actual value  Predicted value\n",
              "0     26.062193        38.726465\n",
              "1     10.354551        17.399450\n",
              "2     79.296635        63.022160\n",
              "3     74.987410        51.173437\n",
              "4      9.694722        27.293563"
            ]
          },
          "execution_count": 114,
          "metadata": {},
          "output_type": "execute_result"
        }
      ],
      "source": [
        "#Actual value and the predicted value\n",
        "bgd_diff = pd.DataFrame({'Actual value': output_test_vector.flatten(), 'Predicted value': output_pred.flatten()}, index = [*range(0,206)])\n",
        "bgd_diff.head()"
      ]
    },
    {
      "cell_type": "code",
      "execution_count": null,
      "metadata": {
        "colab": {
          "base_uri": "https://localhost:8080/",
          "height": 282
        },
        "id": "sW1FAGIwznnL",
        "outputId": "9ae112dc-f733-4a0b-9e4a-e878378e199b"
      },
      "outputs": [
        {
          "data": {
            "text/plain": [
              "<matplotlib.axes._subplots.AxesSubplot at 0x7f81b5816ac0>"
            ]
          },
          "execution_count": 115,
          "metadata": {},
          "output_type": "execute_result"
        },
        {
          "data": {
            "image/png": "[encoded data removed]",
            "text/plain": [
              "<Figure size 432x288 with 1 Axes>"
            ]
          },
          "metadata": {
            "needs_background": "light"
          },
          "output_type": "display_data"
        }
      ],
      "source": [
        "#Plot between Actual value and the predicted value\n",
        "sns.regplot(x=output_test_vector, y=output_pred, ci=None, color=\"b\")"
      ]
    },
    {
      "cell_type": "code",
      "execution_count": null,
      "metadata": {
        "colab": {
          "base_uri": "https://localhost:8080/"
        },
        "id": "ws2E5JvIznnL",
        "outputId": "5a7daa88-e3ed-4f47-ac71-f544095b284d"
      },
      "outputs": [
        {
          "name": "stdout",
          "output_type": "stream",
          "text": [
            "R squared: 61.91\n",
            "Mean Absolute Error: 8.024365307146908\n",
            "Mean Square Error: 100.33194656297898\n",
            "Root Mean Square Error: 10.016583577396986\n"
          ]
        }
      ],
      "source": [
        "meanAbErr = metrics.mean_absolute_error(output_test_vector.flatten(), output_pred.flatten())\n",
        "meanSqErr = metrics.mean_squared_error(output_test_vector.flatten(), output_pred.flatten())\n",
        "rootMeanSqErr = np.sqrt(metrics.mean_squared_error(output_test_vector.flatten(), output_pred.flatten()))\n",
        "accuracy = metrics.r2_score(output_test_vector.flatten(), output_pred.flatten())\n",
        "\n",
        "print('R squared: {:.2f}'.format(accuracy*100))\n",
        "print('Mean Absolute Error:', meanAbErr)\n",
        "print('Mean Square Error:', meanSqErr)\n",
        "print('Root Mean Square Error:', rootMeanSqErr)"
      ]
    },
    {
      "cell_type": "markdown",
      "metadata": {
        "id": "Wu6hPyIq2CKI"
      },
      "source": [
        "---"
      ]
    },
    {
      "cell_type": "markdown",
      "metadata": {
        "id": "gxwQ34FSI-Yq"
      },
      "source": [
        "# Nesterov Accelerated Gradient Descent - Pytorch Implementation"
      ]
    },
    {
      "cell_type": "code",
      "execution_count": null,
      "metadata": {
        "colab": {
          "base_uri": "https://localhost:8080/"
        },
        "id": "sBt3hxW82CKP",
        "outputId": "d27b9435-f966-43cd-a91b-300ccdc18c7a"
      },
      "outputs": [
        {
          "name": "stdout",
          "output_type": "stream",
          "text": [
            "epoch: 499\tLoss =  115.731"
          ]
        }
      ],
      "source": [
        "net_all = GradientDescent(n_feature=9, n_hidden=9, n_output=1) \n",
        "optimizer_all = torch.optim.SGD(net_all.parameters(), lr=1e-6, momentum= 0.9, nesterov= True)\n",
        "setRandomState()\n",
        "\n",
        "loss_list = []\n",
        "for t in range(500):\n",
        "    prediction = net_all(input_train_tensor)   \n",
        "    loss = criterion(prediction, output_train_tensor)\n",
        "    loss_list.append(loss)\n",
        "    optimizer_all.zero_grad()\n",
        "    loss.backward()\n",
        "    optimizer_all.step()\n",
        "    print('\\repoch: {}\\tLoss =  {:.3f}'.format(t, loss), end=\"\")"
      ]
    },
    {
      "cell_type": "code",
      "execution_count": null,
      "metadata": {
        "colab": {
          "base_uri": "https://localhost:8080/",
          "height": 295
        },
        "id": "FIJv8H-P2CKP",
        "outputId": "8e7273e1-b5c3-4db0-f62b-4f8938739029"
      },
      "outputs": [
        {
          "data": {
            "image/png": "[encoded data removed]",
            "text/plain": [
              "<Figure size 432x288 with 1 Axes>"
            ]
          },
          "metadata": {
            "needs_background": "light"
          },
          "output_type": "display_data"
        }
      ],
      "source": [
        "plt.xlabel(\"Number of Epochs\")\n",
        "plt.ylabel(\"Loss\")\n",
        "plt.title(\"Number of Epochs vs Loss\")\n",
        "with torch.no_grad():\n",
        "  plt.plot([*range(500)],loss_list)"
      ]
    },
    {
      "cell_type": "code",
      "execution_count": null,
      "metadata": {
        "id": "vuvBLhez2CKP"
      },
      "outputs": [],
      "source": [
        "#Convert Numpy to Tensor\n",
        "input_test_tensor = torch.from_numpy(np.float32(input_test_vector))\n",
        "output_test_tensor = torch.from_numpy(np.float32(output_test_vector))\n",
        "\n",
        "#Predict the output\n",
        "prediction = net_all(input_test_tensor)   "
      ]
    },
    {
      "cell_type": "code",
      "execution_count": null,
      "metadata": {
        "colab": {
          "base_uri": "https://localhost:8080/",
          "height": 206
        },
        "id": "uCuzT6TD2CKP",
        "outputId": "cb21c84d-fe8b-4585-967f-d88169098744"
      },
      "outputs": [
        {
          "data": {
            "text/html": [
              "\n",
              "  <div id=\"df-2063bb44-8ed9-411d-ab2e-43bab5f69992\">\n",
              "    <div class=\"colab-df-container\">\n",
              "      <div>\n",
              "<style scoped>\n",
              "    .dataframe tbody tr th:only-of-type {\n",
              "        vertical-align: middle;\n",
              "    }\n",
              "\n",
              "    .dataframe tbody tr th {\n",
              "        vertical-align: top;\n",
              "    }\n",
              "\n",
              "    .dataframe thead th {\n",
              "        text-align: right;\n",
              "    }\n",
              "</style>\n",
              "<table border=\"1\" class=\"dataframe\">\n",
              "  <thead>\n",
              "    <tr style=\"text-align: right;\">\n",
              "      <th></th>\n",
              "      <th>Actual value</th>\n",
              "      <th>Predicted value</th>\n",
              "    </tr>\n",
              "  </thead>\n",
              "  <tbody>\n",
              "    <tr>\n",
              "      <th>0</th>\n",
              "      <td>26.062193</td>\n",
              "      <td>40.343460</td>\n",
              "    </tr>\n",
              "    <tr>\n",
              "      <th>1</th>\n",
              "      <td>10.354551</td>\n",
              "      <td>16.882790</td>\n",
              "    </tr>\n",
              "    <tr>\n",
              "      <th>2</th>\n",
              "      <td>79.296635</td>\n",
              "      <td>58.335411</td>\n",
              "    </tr>\n",
              "    <tr>\n",
              "      <th>3</th>\n",
              "      <td>74.987410</td>\n",
              "      <td>55.890305</td>\n",
              "    </tr>\n",
              "    <tr>\n",
              "      <th>4</th>\n",
              "      <td>9.694722</td>\n",
              "      <td>26.754524</td>\n",
              "    </tr>\n",
              "  </tbody>\n",
              "</table>\n",
              "</div>\n",
              "      <button class=\"colab-df-convert\" onclick=\"convertToInteractive('df-2063bb44-8ed9-411d-ab2e-43bab5f69992')\"\n",
              "              title=\"Convert this dataframe to an interactive table.\"\n",
              "              style=\"display:none;\">\n",
              "        \n",
              "  <svg xmlns=\"http://www.w3.org/2000/svg\" height=\"24px\"viewBox=\"0 0 24 24\"\n",
              "       width=\"24px\">\n",
              "    <path d=\"M0 0h24v24H0V0z\" fill=\"none\"/>\n",
              "    <path d=\"M18.56 5.44l.94 2.06.94-2.06 2.06-.94-2.06-.94-.94-2.06-.94 2.06-2.06.94zm-11 1L8.5 8.5l.94-2.06 2.06-.94-2.06-.94L8.5 2.5l-.94 2.06-2.06.94zm10 10l.94 2.06.94-2.06 2.06-.94-2.06-.94-.94-2.06-.94 2.06-2.06.94z\"/><path d=\"M17.41 7.96l-1.37-1.37c-.4-.4-.92-.59-1.43-.59-.52 0-1.04.2-1.43.59L10.3 9.45l-7.72 7.72c-.78.78-.78 2.05 0 2.83L4 21.41c.39.39.9.59 1.41.59.51 0 1.02-.2 1.41-.59l7.78-7.78 2.81-2.81c.8-.78.8-2.07 0-2.86zM5.41 20L4 18.59l7.72-7.72 1.47 1.35L5.41 20z\"/>\n",
              "  </svg>\n",
              "      </button>\n",
              "      \n",
              "  <style>\n",
              "    .colab-df-container {\n",
              "      display:flex;\n",
              "      flex-wrap:wrap;\n",
              "      gap: 12px;\n",
              "    }\n",
              "\n",
              "    .colab-df-convert {\n",
              "      background-color: #E8F0FE;\n",
              "      border: none;\n",
              "      border-radius: 50%;\n",
              "      cursor: pointer;\n",
              "      display: none;\n",
              "      fill: #1967D2;\n",
              "      height: 32px;\n",
              "      padding: 0 0 0 0;\n",
              "      width: 32px;\n",
              "    }\n",
              "\n",
              "    .colab-df-convert:hover {\n",
              "      background-color: #E2EBFA;\n",
              "      box-shadow: 0px 1px 2px rgba(60, 64, 67, 0.3), 0px 1px 3px 1px rgba(60, 64, 67, 0.15);\n",
              "      fill: #174EA6;\n",
              "    }\n",
              "\n",
              "    [theme=dark] .colab-df-convert {\n",
              "      background-color: #3B4455;\n",
              "      fill: #D2E3FC;\n",
              "    }\n",
              "\n",
              "    [theme=dark] .colab-df-convert:hover {\n",
              "      background-color: #434B5C;\n",
              "      box-shadow: 0px 1px 3px 1px rgba(0, 0, 0, 0.15);\n",
              "      filter: drop-shadow(0px 1px 2px rgba(0, 0, 0, 0.3));\n",
              "      fill: #FFFFFF;\n",
              "    }\n",
              "  </style>\n",
              "\n",
              "      <script>\n",
              "        const buttonEl =\n",
              "          document.querySelector('#df-2063bb44-8ed9-411d-ab2e-43bab5f69992 button.colab-df-convert');\n",
              "        buttonEl.style.display =\n",
              "          google.colab.kernel.accessAllowed ? 'block' : 'none';\n",
              "\n",
              "        async function convertToInteractive(key) {\n",
              "          const element = document.querySelector('#df-2063bb44-8ed9-411d-ab2e-43bab5f69992');\n",
              "          const dataTable =\n",
              "            await google.colab.kernel.invokeFunction('convertToInteractive',\n",
              "                                                     [key], {});\n",
              "          if (!dataTable) return;\n",
              "\n",
              "          const docLinkHtml = 'Like what you see? Visit the ' +\n",
              "            '<a target=\"_blank\" href=https://colab.research.google.com/notebooks/data_table.ipynb>data table notebook</a>'\n",
              "            + ' to learn more about interactive tables.';\n",
              "          element.innerHTML = '';\n",
              "          dataTable['output_type'] = 'display_data';\n",
              "          await google.colab.output.renderOutput(dataTable, element);\n",
              "          const docLink = document.createElement('div');\n",
              "          docLink.innerHTML = docLinkHtml;\n",
              "          element.appendChild(docLink);\n",
              "        }\n",
              "      </script>\n",
              "    </div>\n",
              "  </div>\n",
              "  "
            ],
            "text/plain": [
              "   Actual value  Predicted value\n",
              "0     26.062193        40.343460\n",
              "1     10.354551        16.882790\n",
              "2     79.296635        58.335411\n",
              "3     74.987410        55.890305\n",
              "4      9.694722        26.754524"
            ]
          },
          "execution_count": 120,
          "metadata": {},
          "output_type": "execute_result"
        }
      ],
      "source": [
        "from torch.autograd import Variable\n",
        "prediction = Variable(prediction, requires_grad=True)\n",
        "prediction = prediction.detach().numpy()\n",
        "\n",
        "#Actual value and the predicted value\n",
        "bgd_diff = pd.DataFrame({'Actual value': output_test_vector.flatten(), 'Predicted value': prediction.flatten()}, index = [*range(0,206)])\n",
        "bgd_diff.head(5)"
      ]
    },
    {
      "cell_type": "code",
      "execution_count": null,
      "metadata": {
        "colab": {
          "base_uri": "https://localhost:8080/",
          "height": 282
        },
        "id": "beNltB_52CKQ",
        "outputId": "ab62684c-5647-489b-9d48-bf39dd8484b4"
      },
      "outputs": [
        {
          "data": {
            "text/plain": [
              "<matplotlib.axes._subplots.AxesSubplot at 0x7f81b4d5a7f0>"
            ]
          },
          "execution_count": 121,
          "metadata": {},
          "output_type": "execute_result"
        },
        {
          "data": {
            "image/png": "[encoded data removed]",
            "text/plain": [
              "<Figure size 432x288 with 1 Axes>"
            ]
          },
          "metadata": {
            "needs_background": "light"
          },
          "output_type": "display_data"
        }
      ],
      "source": [
        "#Plot between Actual value and the predicted value\n",
        "sns.regplot(x=output_test_vector, y=prediction, ci=None, color=\"b\")"
      ]
    },
    {
      "cell_type": "code",
      "execution_count": null,
      "metadata": {
        "colab": {
          "base_uri": "https://localhost:8080/"
        },
        "id": "Fmdm-IvJ2CKQ",
        "outputId": "4d7ae688-9a0c-45e3-aad7-0d711fee71b8"
      },
      "outputs": [
        {
          "name": "stdout",
          "output_type": "stream",
          "text": [
            "R squared: 63.77\n",
            "Mean Absolute Error: 7.75161412483936\n",
            "Mean Square Error: 95.42379854658344\n",
            "Root Mean Square Error: 9.768510559270714\n"
          ]
        }
      ],
      "source": [
        "meanAbErr = metrics.mean_absolute_error(output_test_vector.flatten(), prediction.flatten())\n",
        "meanSqErr = metrics.mean_squared_error(output_test_vector.flatten(), prediction.flatten())\n",
        "rootMeanSqErr = np.sqrt(metrics.mean_squared_error(output_test_vector.flatten(), prediction.flatten()))\n",
        "accuracy = metrics.r2_score(output_test_vector.flatten(), prediction.flatten())\n",
        "\n",
        "print('R squared: {:.2f}'.format(accuracy*100))\n",
        "print('Mean Absolute Error:', meanAbErr)\n",
        "print('Mean Square Error:', meanSqErr)\n",
        "print('Root Mean Square Error:', rootMeanSqErr)"
      ]
    },
    {
      "cell_type": "markdown",
      "metadata": {
        "id": "v6HjPdM72CKQ"
      },
      "source": [
        "\n",
        "---\n",
        "\\\n",
        "**Metrics Comparison**\n",
        "\n",
        "                  Batch Gradient Descent with Nesterov Accelerated Gradient Descent   \n",
        "\n",
        "                                      Python Implementation               Pytroch Implementation\n",
        "    R squared                                61.91                                63.74\n",
        "    Mean Absolute Error                      8.023451                              7.74914\n",
        "    Mean Square Error                       100.31144                            95.50514\n",
        "    Root Mean Square Error                   10.0115                               9.77267   "
      ]
    },
    {
      "cell_type": "code",
      "execution_count": null,
      "metadata": {
        "id": "6RSORJebMC4W"
      },
      "outputs": [],
      "source": []
    }
  ],
  "metadata": {
    "colab": {
      "collapsed_sections": [
        "A0TuCrHsIrZo",
        "oa4g0VEYLDxT",
        "6gwupXPNIany",
        "1nFjV7ptm6tJ",
        "HpaV7mxlIL0K",
        "fBA5WbIlFq5_",
        "Gscsdjm1H-W8",
        "V3x5YW5uRUCK",
        "2D1azcc0HaC-",
        "gxwQ34FSI-Yq"
      ],
      "provenance": []
    },
    "gpuClass": "standard",
    "kernelspec": {
      "display_name": "Python 3",
      "language": "python",
      "name": "python3"
    },
    "language_info": {
      "name": "python",
      "version": "3.9.9"
    },
    "vscode": {
      "interpreter": {
        "hash": "1b2444869f9f16f4ddf6d26b4b251196ffb18a07c9660a811a167e6985a40c24"
      }
    }
  },
  "nbformat": 4,
  "nbformat_minor": 0
}
