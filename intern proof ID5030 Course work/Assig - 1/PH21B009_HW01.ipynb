{
 "cells": [
  {
   "cell_type": "code",
   "execution_count": 1,
   "id": "0eaeacfb",
   "metadata": {
    "ExecuteTime": {
     "end_time": "2023-01-20T15:18:47.010477Z",
     "start_time": "2023-01-20T15:18:45.100951Z"
    }
   },
   "outputs": [],
   "source": [
    "# common imports\n",
    "import pandas as pd\n",
    "import numpy as np\n",
    "\n",
    "# data visualization imports\n",
    "import matplotlib.pyplot as plt\n",
    "import seaborn as sns"
   ]
  },
  {
   "cell_type": "code",
   "execution_count": 2,
   "id": "fb56e918",
   "metadata": {
    "ExecuteTime": {
     "end_time": "2023-01-20T15:19:59.463275Z",
     "start_time": "2023-01-20T15:19:59.439262Z"
    }
   },
   "outputs": [],
   "source": [
    "# sklearn imports\n",
    "from sklearn.model_selection import train_test_split\n",
    "from sklearn.linear_model import LinearRegression\n",
    "from sklearn.metrics import r2_score"
   ]
  },
  {
   "cell_type": "code",
   "execution_count": 3,
   "id": "a1a9591e",
   "metadata": {
    "ExecuteTime": {
     "end_time": "2023-01-20T15:20:02.686106Z",
     "start_time": "2023-01-20T15:20:02.606148Z"
    }
   },
   "outputs": [
    {
     "data": {
      "text/html": [
       "<div>\n",
       "<style scoped>\n",
       "    .dataframe tbody tr th:only-of-type {\n",
       "        vertical-align: middle;\n",
       "    }\n",
       "\n",
       "    .dataframe tbody tr th {\n",
       "        vertical-align: top;\n",
       "    }\n",
       "\n",
       "    .dataframe thead th {\n",
       "        text-align: right;\n",
       "    }\n",
       "</style>\n",
       "<table border=\"1\" class=\"dataframe\">\n",
       "  <thead>\n",
       "    <tr style=\"text-align: right;\">\n",
       "      <th></th>\n",
       "      <th>Cement (component 1)(kg in a m^3 mixture)</th>\n",
       "      <th>Blast Furnace Slag (component 2)(kg in a m^3 mixture)</th>\n",
       "      <th>Fly Ash (component 3)(kg in a m^3 mixture)</th>\n",
       "      <th>Water  (component 4)(kg in a m^3 mixture)</th>\n",
       "      <th>Superplasticizer (component 5)(kg in a m^3 mixture)</th>\n",
       "      <th>Coarse Aggregate  (component 6)(kg in a m^3 mixture)</th>\n",
       "      <th>Fine Aggregate (component 7)(kg in a m^3 mixture)</th>\n",
       "      <th>Age (day)</th>\n",
       "      <th>Concrete compressive strength(MPa, megapascals)</th>\n",
       "    </tr>\n",
       "  </thead>\n",
       "  <tbody>\n",
       "    <tr>\n",
       "      <th>0</th>\n",
       "      <td>540.0</td>\n",
       "      <td>0.0</td>\n",
       "      <td>0.0</td>\n",
       "      <td>162.0</td>\n",
       "      <td>2.5</td>\n",
       "      <td>1040.0</td>\n",
       "      <td>676.0</td>\n",
       "      <td>28</td>\n",
       "      <td>79.986111</td>\n",
       "    </tr>\n",
       "    <tr>\n",
       "      <th>1</th>\n",
       "      <td>540.0</td>\n",
       "      <td>0.0</td>\n",
       "      <td>0.0</td>\n",
       "      <td>162.0</td>\n",
       "      <td>2.5</td>\n",
       "      <td>1055.0</td>\n",
       "      <td>676.0</td>\n",
       "      <td>28</td>\n",
       "      <td>61.887366</td>\n",
       "    </tr>\n",
       "    <tr>\n",
       "      <th>2</th>\n",
       "      <td>332.5</td>\n",
       "      <td>142.5</td>\n",
       "      <td>0.0</td>\n",
       "      <td>228.0</td>\n",
       "      <td>0.0</td>\n",
       "      <td>932.0</td>\n",
       "      <td>594.0</td>\n",
       "      <td>270</td>\n",
       "      <td>40.269535</td>\n",
       "    </tr>\n",
       "    <tr>\n",
       "      <th>3</th>\n",
       "      <td>332.5</td>\n",
       "      <td>142.5</td>\n",
       "      <td>0.0</td>\n",
       "      <td>228.0</td>\n",
       "      <td>0.0</td>\n",
       "      <td>932.0</td>\n",
       "      <td>594.0</td>\n",
       "      <td>365</td>\n",
       "      <td>41.052780</td>\n",
       "    </tr>\n",
       "  </tbody>\n",
       "</table>\n",
       "</div>"
      ],
      "text/plain": [
       "   Cement (component 1)(kg in a m^3 mixture)  \\\n",
       "0                                      540.0   \n",
       "1                                      540.0   \n",
       "2                                      332.5   \n",
       "3                                      332.5   \n",
       "\n",
       "   Blast Furnace Slag (component 2)(kg in a m^3 mixture)  \\\n",
       "0                                                0.0       \n",
       "1                                                0.0       \n",
       "2                                              142.5       \n",
       "3                                              142.5       \n",
       "\n",
       "   Fly Ash (component 3)(kg in a m^3 mixture)  \\\n",
       "0                                         0.0   \n",
       "1                                         0.0   \n",
       "2                                         0.0   \n",
       "3                                         0.0   \n",
       "\n",
       "   Water  (component 4)(kg in a m^3 mixture)  \\\n",
       "0                                      162.0   \n",
       "1                                      162.0   \n",
       "2                                      228.0   \n",
       "3                                      228.0   \n",
       "\n",
       "   Superplasticizer (component 5)(kg in a m^3 mixture)  \\\n",
       "0                                                2.5     \n",
       "1                                                2.5     \n",
       "2                                                0.0     \n",
       "3                                                0.0     \n",
       "\n",
       "   Coarse Aggregate  (component 6)(kg in a m^3 mixture)  \\\n",
       "0                                             1040.0      \n",
       "1                                             1055.0      \n",
       "2                                              932.0      \n",
       "3                                              932.0      \n",
       "\n",
       "   Fine Aggregate (component 7)(kg in a m^3 mixture)  Age (day)  \\\n",
       "0                                              676.0         28   \n",
       "1                                              676.0         28   \n",
       "2                                              594.0        270   \n",
       "3                                              594.0        365   \n",
       "\n",
       "   Concrete compressive strength(MPa, megapascals)   \n",
       "0                                         79.986111  \n",
       "1                                         61.887366  \n",
       "2                                         40.269535  \n",
       "3                                         41.052780  "
      ]
     },
     "execution_count": 3,
     "metadata": {},
     "output_type": "execute_result"
    }
   ],
   "source": [
    "data = pd.read_excel('./Concrete_Data.xls')\n",
    "\n",
    "# to have a look into the data\n",
    "data.head(4)"
   ]
  },
  {
   "cell_type": "code",
   "execution_count": 4,
   "id": "9218370f",
   "metadata": {},
   "outputs": [
    {
     "data": {
      "text/html": [
       "<div>\n",
       "<style scoped>\n",
       "    .dataframe tbody tr th:only-of-type {\n",
       "        vertical-align: middle;\n",
       "    }\n",
       "\n",
       "    .dataframe tbody tr th {\n",
       "        vertical-align: top;\n",
       "    }\n",
       "\n",
       "    .dataframe thead th {\n",
       "        text-align: right;\n",
       "    }\n",
       "</style>\n",
       "<table border=\"1\" class=\"dataframe\">\n",
       "  <thead>\n",
       "    <tr style=\"text-align: right;\">\n",
       "      <th></th>\n",
       "      <th>cement</th>\n",
       "      <th>blast furnace slag</th>\n",
       "      <th>fly ash</th>\n",
       "      <th>water</th>\n",
       "      <th>superplasticizer</th>\n",
       "      <th>coarse aggregate</th>\n",
       "      <th>fine aggregate</th>\n",
       "      <th>age</th>\n",
       "      <th>concrete compressive strength</th>\n",
       "    </tr>\n",
       "  </thead>\n",
       "  <tbody>\n",
       "    <tr>\n",
       "      <th>0</th>\n",
       "      <td>kg in a m^3 mixture</td>\n",
       "      <td>kg in a m^3 mixture</td>\n",
       "      <td>kg in a m^3 mixture</td>\n",
       "      <td>kg in a m^3 mixture</td>\n",
       "      <td>kg in a m^3 mixture</td>\n",
       "      <td>kg in a m^3 mixture</td>\n",
       "      <td>kg in a m^3 mixture</td>\n",
       "      <td>day</td>\n",
       "      <td>mpa, megapascals)</td>\n",
       "    </tr>\n",
       "  </tbody>\n",
       "</table>\n",
       "</div>"
      ],
      "text/plain": [
       "               cement   blast furnace slag              fly ash   \\\n",
       "0  kg in a m^3 mixture  kg in a m^3 mixture  kg in a m^3 mixture   \n",
       "\n",
       "               water      superplasticizer    coarse aggregate    \\\n",
       "0  kg in a m^3 mixture  kg in a m^3 mixture  kg in a m^3 mixture   \n",
       "\n",
       "       fine aggregate  age  concrete compressive strength  \n",
       "0  kg in a m^3 mixture  day             mpa, megapascals)  "
      ]
     },
     "metadata": {},
     "output_type": "display_data"
    }
   ],
   "source": [
    "# As our data has lengthy column names, we will change our column names\n",
    "\n",
    "# column mapper to be passed in the .rename() method to change column names\n",
    "column_mapper = {col : col.split('(')[0].lower() for col in data.columns }\n",
    "\n",
    "# units is for units of each column\n",
    "units = { col.split('(')[0] : [col.split('(')[-1][:-1]] for col in data.columns.str.lower() }\n",
    "\n",
    "# Creating a df for units\n",
    "units_df = pd.DataFrame(units)\n",
    "display(units_df)\n",
    "\n",
    "train_df  = data.rename(column_mapper, axis=1, inplace=False)"
   ]
  },
  {
   "cell_type": "code",
   "execution_count": 5,
   "id": "456a9577",
   "metadata": {},
   "outputs": [
    {
     "name": "stdout",
     "output_type": "stream",
     "text": [
      "<class 'pandas.core.frame.DataFrame'>\n",
      "RangeIndex: 1030 entries, 0 to 1029\n",
      "Data columns (total 9 columns):\n",
      " #   Column                         Non-Null Count  Dtype  \n",
      "---  ------                         --------------  -----  \n",
      " 0   cement                         1030 non-null   float64\n",
      " 1   blast furnace slag             1030 non-null   float64\n",
      " 2   fly ash                        1030 non-null   float64\n",
      " 3   water                          1030 non-null   float64\n",
      " 4   superplasticizer               1030 non-null   float64\n",
      " 5   coarse aggregate               1030 non-null   float64\n",
      " 6   fine aggregate                 1030 non-null   float64\n",
      " 7   age                            1030 non-null   int64  \n",
      " 8   concrete compressive strength  1030 non-null   float64\n",
      "dtypes: float64(8), int64(1)\n",
      "memory usage: 72.5 KB\n"
     ]
    },
    {
     "data": {
      "text/html": [
       "<div>\n",
       "<style scoped>\n",
       "    .dataframe tbody tr th:only-of-type {\n",
       "        vertical-align: middle;\n",
       "    }\n",
       "\n",
       "    .dataframe tbody tr th {\n",
       "        vertical-align: top;\n",
       "    }\n",
       "\n",
       "    .dataframe thead th {\n",
       "        text-align: right;\n",
       "    }\n",
       "</style>\n",
       "<table border=\"1\" class=\"dataframe\">\n",
       "  <thead>\n",
       "    <tr style=\"text-align: right;\">\n",
       "      <th></th>\n",
       "      <th>cement</th>\n",
       "      <th>blast furnace slag</th>\n",
       "      <th>fly ash</th>\n",
       "      <th>water</th>\n",
       "      <th>superplasticizer</th>\n",
       "      <th>coarse aggregate</th>\n",
       "      <th>fine aggregate</th>\n",
       "      <th>age</th>\n",
       "      <th>concrete compressive strength</th>\n",
       "    </tr>\n",
       "  </thead>\n",
       "  <tbody>\n",
       "    <tr>\n",
       "      <th>0</th>\n",
       "      <td>540.0</td>\n",
       "      <td>0.0</td>\n",
       "      <td>0.0</td>\n",
       "      <td>162.0</td>\n",
       "      <td>2.5</td>\n",
       "      <td>1040.0</td>\n",
       "      <td>676.0</td>\n",
       "      <td>28</td>\n",
       "      <td>79.986111</td>\n",
       "    </tr>\n",
       "    <tr>\n",
       "      <th>1</th>\n",
       "      <td>540.0</td>\n",
       "      <td>0.0</td>\n",
       "      <td>0.0</td>\n",
       "      <td>162.0</td>\n",
       "      <td>2.5</td>\n",
       "      <td>1055.0</td>\n",
       "      <td>676.0</td>\n",
       "      <td>28</td>\n",
       "      <td>61.887366</td>\n",
       "    </tr>\n",
       "  </tbody>\n",
       "</table>\n",
       "</div>"
      ],
      "text/plain": [
       "   cement   blast furnace slag   fly ash   water    superplasticizer   \\\n",
       "0    540.0                  0.0       0.0    162.0                2.5   \n",
       "1    540.0                  0.0       0.0    162.0                2.5   \n",
       "\n",
       "   coarse aggregate    fine aggregate   age   concrete compressive strength  \n",
       "0              1040.0            676.0    28                      79.986111  \n",
       "1              1055.0            676.0    28                      61.887366  "
      ]
     },
     "execution_count": 5,
     "metadata": {},
     "output_type": "execute_result"
    }
   ],
   "source": [
    "train_df.info()\n",
    "train_df.head(2)"
   ]
  },
  {
   "attachments": {},
   "cell_type": "markdown",
   "id": "ba313eaa",
   "metadata": {},
   "source": [
    "## 1 and 2  \n",
    "***Now we need to split our data into val and train parts and train our linear Regression***\n",
    "\n",
    "***here : val data == test data***"
   ]
  },
  {
   "cell_type": "code",
   "execution_count": 15,
   "id": "153266db",
   "metadata": {},
   "outputs": [
    {
     "name": "stdout",
     "output_type": "stream",
     "text": [
      " R2 score of model in train set is : 62.092 \n",
      " R2 score of model in validation set is : 59.502 \n",
      "\n",
      " MSE in train data is : 107.153 \n",
      " MSE in validation data is : 108.592 \n"
     ]
    }
   ],
   "source": [
    "train, val, y_train, y_val = train_test_split( train_df.drop(['concrete compressive strength'],axis=1),\n",
    "                                               train_df['concrete compressive strength'], \n",
    "                                               test_size = 0.3,\n",
    "                                               shuffle = True, # We can change here as 'Fasle' to not shuffle the data \n",
    "                                               random_state= 193,\n",
    "                                               )\n",
    "# Now training our Model\n",
    "model = LinearRegression()\n",
    "model.fit(train,y_train)\n",
    "\n",
    "# getting out prediction for train and val set\n",
    "prediction_val = model.predict(val)\n",
    "prediction_train = model.predict(train)\n",
    "\n",
    "# printing the R2 scores\n",
    "print(f\" R2 score of model in train set is : {r2_score(y_train,prediction_train)*100:.3f} \")\n",
    "print(f\" R2 score of model in validation set is : {r2_score(y_val,prediction_val)*100:.3f} \\n\")\n",
    "\n",
    "# Printing the MSE values\n",
    "print(f\" MSE in train data is : {np.mean((y_train-prediction_train)**2):.3f} \")\n",
    "print(f\" MSE in validation data is : {np.mean((y_val-prediction_val)**2):.3f} \")\n"
   ]
  },
  {
   "attachments": {},
   "cell_type": "markdown",
   "id": "696056ee",
   "metadata": {},
   "source": [
    "## 3"
   ]
  },
  {
   "cell_type": "code",
   "execution_count": 19,
   "id": "c8b96eac",
   "metadata": {},
   "outputs": [
    {
     "data": {
      "text/html": [
       "<div>\n",
       "<style scoped>\n",
       "    .dataframe tbody tr th:only-of-type {\n",
       "        vertical-align: middle;\n",
       "    }\n",
       "\n",
       "    .dataframe tbody tr th {\n",
       "        vertical-align: top;\n",
       "    }\n",
       "\n",
       "    .dataframe thead th {\n",
       "        text-align: right;\n",
       "    }\n",
       "</style>\n",
       "<table border=\"1\" class=\"dataframe\">\n",
       "  <thead>\n",
       "    <tr style=\"text-align: right;\">\n",
       "      <th></th>\n",
       "      <th>predicted</th>\n",
       "      <th>true_val</th>\n",
       "    </tr>\n",
       "  </thead>\n",
       "  <tbody>\n",
       "    <tr>\n",
       "      <th>558</th>\n",
       "      <td>34.057499</td>\n",
       "      <td>19.765208</td>\n",
       "    </tr>\n",
       "    <tr>\n",
       "      <th>645</th>\n",
       "      <td>33.484284</td>\n",
       "      <td>19.539060</td>\n",
       "    </tr>\n",
       "  </tbody>\n",
       "</table>\n",
       "</div>"
      ],
      "text/plain": [
       "     predicted   true_val\n",
       "558  34.057499  19.765208\n",
       "645  33.484284  19.539060"
      ]
     },
     "metadata": {},
     "output_type": "display_data"
    },
    {
     "data": {
      "text/plain": [
       "' Remove the comments below to save the output as csv file '"
      ]
     },
     "execution_count": 19,
     "metadata": {},
     "output_type": "execute_result"
    }
   ],
   "source": [
    "# creating the submission.csv here\n",
    "prediction_df = pd.DataFrame({'predicted':prediction_val, 'true_val':y_val} )\n",
    "display(prediction_df.head(2))\n",
    "\n",
    "''' Remove the comments below to save the output as csv file '''\n",
    "# prediction_df.to_csv('submission.csv',index=True)"
   ]
  },
  {
   "cell_type": "code",
   "execution_count": 20,
   "id": "85b6bc32",
   "metadata": {},
   "outputs": [
    {
     "data": {
      "text/html": [
       "<div>\n",
       "<style scoped>\n",
       "    .dataframe tbody tr th:only-of-type {\n",
       "        vertical-align: middle;\n",
       "    }\n",
       "\n",
       "    .dataframe tbody tr th {\n",
       "        vertical-align: top;\n",
       "    }\n",
       "\n",
       "    .dataframe thead th {\n",
       "        text-align: right;\n",
       "    }\n",
       "</style>\n",
       "<table border=\"1\" class=\"dataframe\">\n",
       "  <thead>\n",
       "    <tr style=\"text-align: right;\">\n",
       "      <th></th>\n",
       "      <th>predicted</th>\n",
       "      <th>true_val</th>\n",
       "    </tr>\n",
       "  </thead>\n",
       "  <tbody>\n",
       "    <tr>\n",
       "      <th>617</th>\n",
       "      <td>12.213842</td>\n",
       "      <td>9.307926</td>\n",
       "    </tr>\n",
       "    <tr>\n",
       "      <th>389</th>\n",
       "      <td>41.669494</td>\n",
       "      <td>44.133359</td>\n",
       "    </tr>\n",
       "    <tr>\n",
       "      <th>578</th>\n",
       "      <td>35.621516</td>\n",
       "      <td>17.200358</td>\n",
       "    </tr>\n",
       "    <tr>\n",
       "      <th>951</th>\n",
       "      <td>23.740926</td>\n",
       "      <td>19.009543</td>\n",
       "    </tr>\n",
       "    <tr>\n",
       "      <th>6</th>\n",
       "      <td>69.940406</td>\n",
       "      <td>43.698299</td>\n",
       "    </tr>\n",
       "  </tbody>\n",
       "</table>\n",
       "</div>"
      ],
      "text/plain": [
       "     predicted   true_val\n",
       "617  12.213842   9.307926\n",
       "389  41.669494  44.133359\n",
       "578  35.621516  17.200358\n",
       "951  23.740926  19.009543\n",
       "6    69.940406  43.698299"
      ]
     },
     "execution_count": 20,
     "metadata": {},
     "output_type": "execute_result"
    }
   ],
   "source": [
    "prediction_df.sample(5)"
   ]
  },
  {
   "attachments": {},
   "cell_type": "markdown",
   "id": "c460426b",
   "metadata": {},
   "source": [
    "## 4"
   ]
  },
  {
   "cell_type": "code",
   "execution_count": 21,
   "id": "b933b428",
   "metadata": {},
   "outputs": [
    {
     "name": "stdout",
     "output_type": "stream",
     "text": [
      " R2 score of model in train set is : 62.092 \n",
      " R2 score of model in validation set is : 59.502 \n",
      "\n",
      " MSE in train data is : 107.153 \n",
      " MSE in validation data is : 108.592 \n"
     ]
    }
   ],
   "source": [
    "# A:\n",
    "\n",
    "# printing the R2 scores\n",
    "print(f\" R2 score of model in train set is : {r2_score(y_train,prediction_train)*100:.3f} \")\n",
    "print(f\" R2 score of model in validation set is : {r2_score(y_val,prediction_val)*100:.3f} \\n\")\n",
    "\n",
    "# Printing the MSE values\n",
    "print(f\" MSE in train data is : {np.mean((y_train-prediction_train)**2):.3f} \")\n",
    "print(f\" MSE in validation data is : {np.mean((y_val-prediction_val)**2):.3f} \")"
   ]
  },
  {
   "cell_type": "code",
   "execution_count": 22,
   "id": "c914c935",
   "metadata": {},
   "outputs": [
    {
     "data": {
      "image/png": "[encoded data removed]",
      "text/plain": [
       "<Figure size 1080x576 with 2 Axes>"
      ]
     },
     "metadata": {
      "needs_background": "light"
     },
     "output_type": "display_data"
    }
   ],
   "source": [
    "# B:\n",
    "# Plotting the Values\n",
    "\n",
    "fig = plt.figure( figsize=(15,8) )\n",
    "\n",
    "# making the subplot - 1\n",
    "plt.subplot(1,2,1)\n",
    "plt.scatter(prediction_train, y_train.tolist(), color='red', )\n",
    "\n",
    "plt.xlabel('y_true',size = 15, color='green')\n",
    "plt.ylabel('y_pred',size = 15, color='green')\n",
    "plt.title('train predicted vs true ')\n",
    "\n",
    "# making the subplot - 2\n",
    "plt.subplot(1,2,2)\n",
    "plt.scatter(prediction_val, y_val.tolist())\n",
    "\n",
    "plt.xlabel('y_true',size = 15, color='green')\n",
    "plt.ylabel('y_pred',size = 15, color='green')\n",
    "plt.title('validation predicted vs true ')\n",
    "\n",
    "#plt.legend(loc='best')\n",
    "plt.show()"
   ]
  },
  {
   "cell_type": "code",
   "execution_count": null,
   "id": "e987d017",
   "metadata": {},
   "outputs": [],
   "source": []
  }
 ],
 "metadata": {
  "kernelspec": {
   "display_name": "Python 3",
   "language": "python",
   "name": "python3"
  },
  "language_info": {
   "codemirror_mode": {
    "name": "ipython",
    "version": 3
   },
   "file_extension": ".py",
   "mimetype": "text/x-python",
   "name": "python",
   "nbconvert_exporter": "python",
   "pygments_lexer": "ipython3",
   "version": "3.10.4 (tags/v3.10.4:9d38120, Mar 23 2022, 23:13:41) [MSC v.1929 64 bit (AMD64)]"
  },
  "vscode": {
   "interpreter": {
    "hash": "369f2c481f4da34e4445cda3fffd2e751bd1c4d706f27375911949ba6bb62e1c"
   }
  }
 },
 "nbformat": 4,
 "nbformat_minor": 5
}
